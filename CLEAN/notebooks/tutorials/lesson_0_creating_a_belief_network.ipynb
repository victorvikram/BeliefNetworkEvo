{
 "cells": [
  {
   "cell_type": "markdown",
   "metadata": {},
   "source": [
    "# Hello (Preliminaries 🐈😺😹)\n",
    "In this Notebook we walk through the creation of a belief network from the raw GSS dataset.\n",
    "\n",
    "As a preliminary, make sure you actally have the raw dataset. It should be located and named as follows: \n",
    "\n",
    ">CLEAN\\datasets\\raw_data\\gss7222_r4.sas7bdat \n",
    "\n",
    "Okay. Now, first we need to import all the functions we will need."
   ]
  },
  {
   "cell_type": "code",
   "execution_count": 1,
   "metadata": {},
   "outputs": [],
   "source": [
    "# Load the autoreload extension\n",
    "%load_ext autoreload\n",
    "\n",
    "# Set autoreload mode to 2\n",
    "%autoreload 2"
   ]
  },
  {
   "cell_type": "code",
   "execution_count": 2,
   "metadata": {},
   "outputs": [],
   "source": [
    "# Add parent directory to Python path\n",
    "import os\n",
    "import sys\n",
    "project_root = os.path.dirname(os.path.dirname(os.path.abspath(\"..\")))\n",
    "if project_root not in sys.path:\n",
    "    sys.path.append(project_root)\n",
    "\n",
    "# 1. Read in the raw dataset and cache it. \n",
    "#    Note: when we import the dataset, we automatically discard all variables that we're not interested. Edit the function if there are variables you'd like to keep.\n",
    "from CLEAN.datasets.import_gss import import_dataset\n",
    "\n",
    "# 2. Clean the raw dataset and derive special variables we are interested in. \n",
    "#    This involves: \n",
    "#                       a) normalising variables between -1 and 1 and derive special variables.\n",
    "#                       b) derriving new variables from existing ones.\n",
    "from CLEAN.datasets.clean_raw_data import clean_datasets\n",
    "\n",
    "# 3. Calculate the belief network.\n",
    "#    This involves calculating the correlation matrix of the filtered dataset.\n",
    "from CLEAN.source_code.generators.corr_make_network import calculate_correlation_matrix, CorrelationMethod, EdgeSuppressionMethod\n",
    "\n",
    "# 4. Visualize the belief network.\n",
    "#    This involves visualizing the belief network in a graph.\n",
    "from CLEAN.source_code.visualizers.network_visualizer import generate_html_visualization\n"
   ]
  },
  {
   "cell_type": "markdown",
   "metadata": {},
   "source": [
    "### Importing the raw dataset 😺\n",
    "First we will run a script that filters the dataset down to only the variables we are interested in. \n",
    "\n",
    "Feel free to look at the code in `import_gss.py` to see which variables are included. But keep in mind that if you want to add in more variables, you'll need to manually normalise it in clean_raw_data.py."
   ]
  },
  {
   "cell_type": "code",
   "execution_count": 3,
   "metadata": {},
   "outputs": [
    {
     "name": "stdout",
     "output_type": "stream",
     "text": [
      "Loading from cache...\n",
      "Done! ✨\n"
     ]
    }
   ],
   "source": [
    "df, _ = import_dataset()"
   ]
  },
  {
   "cell_type": "markdown",
   "metadata": {},
   "source": [
    "### Cleaning the raw dataset 😺\n",
    "Next we will run a script that cleans the dataset and derives special variables. \n",
    "\n",
    "This will normalise all the variables between -1 and 1, and derive some special variables like \"VOTELAST_DEMREP\" (this tells you which major party the respondent voted for in the previous election).\n",
    "\n",
    "Some variables \n"
   ]
  },
  {
   "cell_type": "code",
   "execution_count": 4,
   "metadata": {},
   "outputs": [
    {
     "name": "stdout",
     "output_type": "stream",
     "text": [
      "Loading from cache...\n",
      "Done! ✨\n"
     ]
    }
   ],
   "source": [
    "cleaned_df = clean_datasets()\n",
    "\n",
    "# This warning is annoying. Will fix later."
   ]
  },
  {
   "cell_type": "markdown",
   "metadata": {},
   "source": [
    "### Calculating the belief network 😺\n",
    "\n",
    "Now we will run a script that calculates the belief network. This will calculate the correlation matrix of the dataset, and then use that to create a belief network.\n",
    "\n",
    "Here we can specify the years of interest, further filther the variables of interest, specify the method of correlation, whether we want partial correlations, and how we want to suppress edges.\n"
   ]
  },
  {
   "cell_type": "code",
   "execution_count": 63,
   "metadata": {},
   "outputs": [],
   "source": [
    "corr_matrix = calculate_correlation_matrix(\n",
    "    cleaned_df, \n",
    "    years_of_interest=[2000, 2001, 2002, 2003],\n",
    "    method=CorrelationMethod.PEARSON, \n",
    "    partial=True, \n",
    "    edge_suppression=EdgeSuppressionMethod.REGULARIZATION,\n",
    "    suppression_params={'regularization': 0.2})"
   ]
  },
  {
   "cell_type": "code",
   "execution_count": 64,
   "metadata": {},
   "outputs": [
    {
     "name": "stdout",
     "output_type": "stream",
     "text": [
      "Network visualization has been saved to c:\\Users\\timbo\\Github\\BeliefNetworkEvo\\CLEAN\\notebooks\\tutorials\\delete_this_file.html\n"
     ]
    }
   ],
   "source": [
    "# Create and save network visualization for the final time period        # Create network data\n",
    "generate_html_visualization(\n",
    "    corr_matrix,\n",
    "    highlight_nodes=['POLVIEWS'],\n",
    "    output_path='delete_this_file.html'\n",
    ")"
   ]
  },
  {
   "cell_type": "markdown",
   "metadata": {},
   "source": [
    "### Basic analysis\n",
    "\n",
    "We can look at some basic stuff, like a triad count and a balanced/unbalanced triad count."
   ]
  },
  {
   "cell_type": "code",
   "execution_count": null,
   "metadata": {},
   "outputs": [
    {
     "name": "stdout",
     "output_type": "stream",
     "text": [
      "371\n",
      "[('CONLABOR', 'CONEDUC', 'CONFED'), ('CONLABOR', 'CONEDUC', 'CONLEGIS'), ('CONLABOR', 'CONPRESS', 'CONLEGIS'), ('CONLABOR', 'CONFED', 'CONLEGIS'), ('NATARMS', 'HELPBLK', 'WRKWAYUP'), ('NATARMS', 'HELPBLK', 'PRESLAST_DEMREP'), ('NATARMS', 'WRKWAYUP', 'PRESLAST_DEMREP'), ('COLATH', 'SPKCOM', 'SPKATH'), ('COLATH', 'SPKCOM', 'HOMOSEX'), ('COLATH', 'SPKCOM', 'COLCOM'), ('COLATH', 'SPKATH', 'LIBATH'), ('COLATH', 'SPKATH', 'PORNLAW'), ('COLATH', 'COLRAC', 'COLMIL'), ('COLATH', 'LIBATH', 'HOMOSEX'), ('COLATH', 'LIBATH', 'PORNLAW'), ('COLATH', 'HOMOSEX', 'PORNLAW'), ('COLATH', 'HOMOSEX', 'COLHOMO'), ('COLATH', 'COLCOM', 'COLMIL'), ('COLATH', 'COLMIL', 'COLHOMO'), ('NATEDUC', 'NATSOC', 'NATCHLD'), ('NATEDUC', 'NATSOC', 'NATHEAL'), ('NATEDUC', 'NATDRUG', 'NATCHLD'), ('NATEDUC', 'NATENVIR', 'NATHEAL'), ('NATEDUC', 'NATCHLD', 'NATHEAL'), ('ABHLTH', 'ABRAPE', 'SEXEDUC'), ('ABHLTH', 'ABRAPE', 'SUICIDE1'), ('ABHLTH', 'ABRAPE', 'ABDEFECT'), ('ABHLTH', 'SEXEDUC', 'ABDEFECT'), ('ABHLTH', 'SUICIDE1', 'ABDEFECT'), ('LIBMIL', 'LIBCOM', 'LIBRAC'), ('LIBMIL', 'LIBCOM', 'LIBATH'), ('LIBMIL', 'LIBCOM', 'PRAYER'), ('LIBMIL', 'LIBCOM', 'LIBHOMO'), ('LIBMIL', 'LIBCOM', 'COLCOM'), ('LIBMIL', 'LIBRAC', 'LIBATH'), ('LIBMIL', 'LIBRAC', 'LIBHOMO'), ('LIBMIL', 'SPKMIL', 'COLMIL'), ('LIBMIL', 'LIBATH', 'LIBHOMO'), ('LIBMIL', 'PRAYER', 'COLMIL'), ('LIBMIL', 'COLCOM', 'COLMIL'), ('TEENSEX', 'PREMARSX', 'HOMOSEX'), ('TEENSEX', 'PREMARSX', 'XMARSEX'), ('TEENSEX', 'PREMARSX', 'PORNLAW'), ('TEENSEX', 'PREMARSX', 'POLVIEWS'), ('TEENSEX', 'PREMARSX', 'GRASS'), ('TEENSEX', 'HOMOSEX', 'XMARSEX'), ('TEENSEX', 'HOMOSEX', 'PORNLAW'), ('TEENSEX', 'HOMOSEX', 'POLVIEWS'), ('TEENSEX', 'HOMOSEX', 'GRASS'), ('TEENSEX', 'HOMOSEX', 'RELIG_None'), ('TEENSEX', 'PORNLAW', 'GRASS'), ('TEENSEX', 'POLVIEWS', 'GRASS'), ('CONMEDIC', 'CONSCI', 'CONBUS'), ('CONMEDIC', 'CONSCI', 'CONFINAN'), ('CONMEDIC', 'CONSCI', 'CONJUDGE'), ('CONMEDIC', 'CONSCI', 'CONLEGIS'), ('CONMEDIC', 'CONEDUC', 'CONLEGIS'), ('CONMEDIC', 'CONBUS', 'CONFINAN'), ('CONMEDIC', 'CONBUS', 'CONJUDGE'), ('CONMEDIC', 'CONBUS', 'CONLEGIS'), ('CONMEDIC', 'CONFINAN', 'CONJUDGE'), ('CONMEDIC', 'CONFINAN', 'CONARMY'), ('CONMEDIC', 'CONFINAN', 'CONLEGIS'), ('CONMEDIC', 'CONJUDGE', 'CONARMY'), ('CONMEDIC', 'CONJUDGE', 'CONLEGIS'), ('CONMEDIC', 'CONARMY', 'CONLEGIS'), ('CONCLERG', 'CONEDUC', 'CONLEGIS'), ('CONCLERG', 'CONBUS', 'CONLEGIS'), ('CONCLERG', 'HOMOSEX', 'ABNOMORE'), ('CONCLERG', 'HOMOSEX', 'RELIG_None'), ('SPKCOM', 'SPKHOMO', 'OBEY'), ('SPKCOM', 'SPKHOMO', 'FEFAM'), ('SPKCOM', 'SPKHOMO', 'SPKATH'), ('SPKCOM', 'SPKHOMO', 'SPKMIL'), ('SPKCOM', 'SPKHOMO', 'HOMOSEX'), ('SPKCOM', 'OBEY', 'FEFAM'), ('SPKCOM', 'OBEY', 'SUICIDE1'), ('SPKCOM', 'OBEY', 'HOMOSEX'), ('SPKCOM', 'OBEY', 'PRAYER'), ('SPKCOM', 'SPKRAC', 'SPKATH'), ('SPKCOM', 'SPKRAC', 'SPKMIL'), ('SPKCOM', 'LIBCOM', 'SUICIDE1'), ('SPKCOM', 'LIBCOM', 'HOMOSEX'), ('SPKCOM', 'LIBCOM', 'PRAYER'), ('SPKCOM', 'LIBCOM', 'COLCOM'), ('SPKCOM', 'FEFAM', 'HOMOSEX'), ('SPKCOM', 'SPKATH', 'SPKMIL'), ('SPKCOM', 'SPKATH', 'SUICIDE1'), ('SPKCOM', 'SPKMIL', 'HOMOSEX'), ('SPKCOM', 'SUICIDE1', 'HOMOSEX'), ('SPKCOM', 'HOMOSEX', 'PRAYER'), ('CONSCI', 'CONBUS', 'CONFINAN'), ('CONSCI', 'CONBUS', 'CONJUDGE'), ('CONSCI', 'CONBUS', 'CONLEGIS'), ('CONSCI', 'CONFINAN', 'CONJUDGE'), ('CONSCI', 'CONFINAN', 'CONLEGIS'), ('CONSCI', 'CONJUDGE', 'CONLEGIS'), ('HELPBLK', 'WRKWAYUP', 'AFFRMACT'), ('HELPBLK', 'WRKWAYUP', 'CAPPUN'), ('HELPBLK', 'WRKWAYUP', 'RACDIF1'), ('HELPBLK', 'WRKWAYUP', 'RACDIF3'), ('HELPBLK', 'WRKWAYUP', 'PRESLAST_DEMREP'), ('HELPBLK', 'NATFARE', 'AFFRMACT'), ('HELPBLK', 'NATFARE', 'HELPNOT'), ('HELPBLK', 'NATFARE', 'HELPPOOR'), ('HELPBLK', 'NATFARE', 'PRESLAST_DEMREP'), ('HELPBLK', 'AFFRMACT', 'RACDIF1'), ('HELPBLK', 'AFFRMACT', 'PRESLAST_DEMREP'), ('HELPBLK', 'EQWLTH', 'PARTYID'), ('HELPBLK', 'EQWLTH', 'HELPNOT'), ('HELPBLK', 'EQWLTH', 'HELPPOOR'), ('HELPBLK', 'EQWLTH', 'PRESLAST_DEMREP'), ('HELPBLK', 'PARTYID', 'HELPNOT'), ('HELPBLK', 'PARTYID', 'HELPPOOR'), ('HELPBLK', 'PARTYID', 'PRESLAST_DEMREP'), ('HELPBLK', 'CAPPUN', 'PRESLAST_DEMREP'), ('HELPBLK', 'RACDIF1', 'RACDIF3'), ('HELPBLK', 'RACDIF1', 'PRESLAST_DEMREP'), ('HELPBLK', 'HELPNOT', 'HELPPOOR'), ('HELPBLK', 'HELPNOT', 'PRESLAST_DEMREP'), ('HELPBLK', 'HELPPOOR', 'PRESLAST_DEMREP'), ('ABRAPE', 'ABANY', 'ABPOOR'), ('ABRAPE', 'ABANY', 'ABSINGLE'), ('ABRAPE', 'ABANY', 'SUICIDE1'), ('ABRAPE', 'ABANY', 'PREMARSX'), ('ABRAPE', 'ABANY', 'ABNOMORE'), ('ABRAPE', 'ABANY', 'LETDIE1'), ('ABRAPE', 'ABANY', 'ABDEFECT'), ('ABRAPE', 'ABPOOR', 'ABSINGLE'), ('ABRAPE', 'ABPOOR', 'ABNOMORE'), ('ABRAPE', 'ABPOOR', 'LETDIE1'), ('ABRAPE', 'ABPOOR', 'ABDEFECT'), ('ABRAPE', 'ABSINGLE', 'SUICIDE1'), ('ABRAPE', 'ABSINGLE', 'PREMARSX'), ('ABRAPE', 'ABSINGLE', 'ABNOMORE'), ('ABRAPE', 'ABSINGLE', 'LETDIE1'), ('ABRAPE', 'ABSINGLE', 'ABDEFECT'), ('ABRAPE', 'SEXEDUC', 'PREMARSX'), ('ABRAPE', 'SEXEDUC', 'LETDIE1'), ('ABRAPE', 'SEXEDUC', 'ABDEFECT'), ('ABRAPE', 'SUICIDE1', 'PREMARSX'), ('ABRAPE', 'SUICIDE1', 'ABNOMORE'), ('ABRAPE', 'SUICIDE1', 'LETDIE1'), ('ABRAPE', 'SUICIDE1', 'ABDEFECT'), ('ABRAPE', 'PREMARSX', 'LETDIE1'), ('ABRAPE', 'PREMARSX', 'ABDEFECT'), ('ABRAPE', 'ABNOMORE', 'ABDEFECT'), ('ABRAPE', 'LETDIE1', 'ABDEFECT'), ('SPKHOMO', 'OBEY', 'FEFAM'), ('SPKHOMO', 'OBEY', 'HOMOSEX'), ('SPKHOMO', 'OBEY', 'LIBHOMO'), ('SPKHOMO', 'OBEY', 'COLHOMO'), ('SPKHOMO', 'FEFAM', 'PREMARSX'), ('SPKHOMO', 'FEFAM', 'HOMOSEX'), ('SPKHOMO', 'FEFAM', 'LIBHOMO'), ('SPKHOMO', 'FEFAM', 'PORNLAW'), ('SPKHOMO', 'FEFAM', 'COLHOMO'), ('SPKHOMO', 'SPKATH', 'SPKMIL'), ('SPKHOMO', 'SPKATH', 'PORNLAW'), ('SPKHOMO', 'SPKMIL', 'HOMOSEX'), ('SPKHOMO', 'SPKMIL', 'PORNLAW'), ('SPKHOMO', 'PREMARSX', 'HOMOSEX'), ('SPKHOMO', 'PREMARSX', 'PORNLAW'), ('SPKHOMO', 'PREMARSX', 'COLHOMO'), ('SPKHOMO', 'HOMOSEX', 'LIBHOMO'), ('SPKHOMO', 'HOMOSEX', 'PORNLAW'), ('SPKHOMO', 'HOMOSEX', 'COLHOMO'), ('SPKHOMO', 'LIBHOMO', 'COLHOMO'), ('OBEY', 'FEFAM', 'HOMOSEX'), ('OBEY', 'FEFAM', 'LIBHOMO'), ('OBEY', 'FEFAM', 'COLHOMO'), ('OBEY', 'SUICIDE1', 'LIBATH'), ('OBEY', 'SUICIDE1', 'HOMOSEX'), ('OBEY', 'SUICIDE1', 'LIBHOMO'), ('OBEY', 'LIBATH', 'HOMOSEX'), ('OBEY', 'LIBATH', 'LIBHOMO'), ('OBEY', 'HOMOSEX', 'PRAYER'), ('OBEY', 'HOMOSEX', 'LIBHOMO'), ('OBEY', 'HOMOSEX', 'SPANKING'), ('OBEY', 'HOMOSEX', 'COLHOMO'), ('OBEY', 'LIBHOMO', 'THNKSELF'), ('OBEY', 'LIBHOMO', 'COLHOMO'), ('CONEDUC', 'CONFED', 'CONLEGIS'), ('ABANY', 'ABPOOR', 'ABSINGLE'), ('ABANY', 'ABPOOR', 'SUICIDE2'), ('ABANY', 'ABPOOR', 'HOMOSEX'), ('ABANY', 'ABPOOR', 'ABNOMORE'), ('ABANY', 'ABPOOR', 'PORNLAW'), ('ABANY', 'ABPOOR', 'POLVIEWS'), ('ABANY', 'ABPOOR', 'LETDIE1'), ('ABANY', 'ABPOOR', 'ABDEFECT'), ('ABANY', 'ABSINGLE', 'SUICIDE2'), ('ABANY', 'ABSINGLE', 'SUICIDE1'), ('ABANY', 'ABSINGLE', 'PREMARSX'), ('ABANY', 'ABSINGLE', 'HOMOSEX'), ('ABANY', 'ABSINGLE', 'PRAYER'), ('ABANY', 'ABSINGLE', 'ABNOMORE'), ('ABANY', 'ABSINGLE', 'LETDIE1'), ('ABANY', 'ABSINGLE', 'ABDEFECT'), ('ABANY', 'SUICIDE2', 'SUICIDE1'), ('ABANY', 'SUICIDE2', 'ABNOMORE'), ('ABANY', 'SUICIDE1', 'PREMARSX'), ('ABANY', 'SUICIDE1', 'HOMOSEX'), ('ABANY', 'SUICIDE1', 'ABNOMORE'), ('ABANY', 'SUICIDE1', 'LETDIE1'), ('ABANY', 'SUICIDE1', 'ABDEFECT'), ('ABANY', 'PREMARSX', 'HOMOSEX'), ('ABANY', 'PREMARSX', 'PORNLAW'), ('ABANY', 'PREMARSX', 'POLVIEWS'), ('ABANY', 'PREMARSX', 'LETDIE1'), ('ABANY', 'PREMARSX', 'ABDEFECT'), ('ABANY', 'HOMOSEX', 'PRAYER'), ('ABANY', 'HOMOSEX', 'ABNOMORE'), ('ABANY', 'HOMOSEX', 'PORNLAW'), ('ABANY', 'HOMOSEX', 'POLVIEWS'), ('ABANY', 'PRAYER', 'ABNOMORE'), ('ABANY', 'ABNOMORE', 'PORNLAW'), ('ABANY', 'ABNOMORE', 'ABDEFECT'), ('ABANY', 'PORNLAW', 'LETDIE1'), ('ABANY', 'POLVIEWS', 'LETDIE1'), ('ABANY', 'LETDIE1', 'ABDEFECT'), ('ABPOOR', 'ABSINGLE', 'SUICIDE2'), ('ABPOOR', 'ABSINGLE', 'HOMOSEX'), ('ABPOOR', 'ABSINGLE', 'ABNOMORE'), ('ABPOOR', 'ABSINGLE', 'LETDIE1'), ('ABPOOR', 'ABSINGLE', 'ABDEFECT'), ('ABPOOR', 'SUICIDE2', 'ABNOMORE'), ('ABPOOR', 'HOMOSEX', 'ABNOMORE'), ('ABPOOR', 'HOMOSEX', 'PORNLAW'), ('ABPOOR', 'HOMOSEX', 'POLVIEWS'), ('ABPOOR', 'ABNOMORE', 'PORNLAW'), ('ABPOOR', 'ABNOMORE', 'ABDEFECT'), ('ABPOOR', 'PORNLAW', 'LETDIE1'), ('ABPOOR', 'POLVIEWS', 'LETDIE1'), ('ABPOOR', 'LETDIE1', 'ABDEFECT'), ('NATCITY', 'NATCRIME', 'NATDRUG'), ('NATCITY', 'NATDRUG', 'NATCHLD'), ('RACDIF4', 'WRKWAYUP', 'RACDIF1'), ('RACDIF4', 'WRKWAYUP', 'RACDIF3'), ('RACDIF4', 'RACDIF1', 'RACDIF3'), ('CONBUS', 'CONFINAN', 'CONJUDGE'), ('CONBUS', 'CONFINAN', 'CONLEGIS'), ('CONBUS', 'CONJUDGE', 'CONLEGIS'), ('NATSOC', 'EQWLTH', 'NATCHLD'), ('NATSOC', 'NATCHLD', 'NATHEAL'), ('TRUST', 'HELPFUL', 'FAIR'), ('SPKRAC', 'LIBRAC', 'COLRAC'), ('SPKRAC', 'SPKATH', 'SPKMIL'), ('LIBCOM', 'LIBRAC', 'LIBATH'), ('LIBCOM', 'LIBRAC', 'LIBHOMO'), ('LIBCOM', 'SUICIDE1', 'LIBATH'), ('LIBCOM', 'SUICIDE1', 'HOMOSEX'), ('LIBCOM', 'SUICIDE1', 'LIBHOMO'), ('LIBCOM', 'LIBATH', 'HOMOSEX'), ('LIBCOM', 'LIBATH', 'LIBHOMO'), ('LIBCOM', 'HOMOSEX', 'PRAYER'), ('LIBCOM', 'HOMOSEX', 'LIBHOMO'), ('LIBCOM', 'LIBHOMO', 'THNKSELF'), ('FEPRESCH', 'FEFAM', 'FECHLD'), ('WRKWAYUP', 'AFFRMACT', 'RACDIF1'), ('WRKWAYUP', 'AFFRMACT', 'PRESLAST_DEMREP'), ('WRKWAYUP', 'CAPPUN', 'PRESLAST_DEMREP'), ('WRKWAYUP', 'RACDIF1', 'RACDIF3'), ('WRKWAYUP', 'RACDIF1', 'PRESLAST_DEMREP'), ('FEFAM', 'SEXEDUC', 'PREMARSX'), ('FEFAM', 'PREMARSX', 'HOMOSEX'), ('FEFAM', 'PREMARSX', 'PORNLAW'), ('FEFAM', 'PREMARSX', 'COLHOMO'), ('FEFAM', 'HOMOSEX', 'LIBHOMO'), ('FEFAM', 'HOMOSEX', 'PORNLAW'), ('FEFAM', 'HOMOSEX', 'COLHOMO'), ('FEFAM', 'LIBHOMO', 'COLHOMO'), ('POLATTAK', 'POLESCAP', 'POLHITOK'), ('ABSINGLE', 'SUICIDE2', 'SUICIDE1'), ('ABSINGLE', 'SUICIDE2', 'ABNOMORE'), ('ABSINGLE', 'SUICIDE1', 'PREMARSX'), ('ABSINGLE', 'SUICIDE1', 'HOMOSEX'), ('ABSINGLE', 'SUICIDE1', 'ABNOMORE'), ('ABSINGLE', 'SUICIDE1', 'LETDIE1'), ('ABSINGLE', 'SUICIDE1', 'GRASS'), ('ABSINGLE', 'SUICIDE1', 'ABDEFECT'), ('ABSINGLE', 'PREMARSX', 'HOMOSEX'), ('ABSINGLE', 'PREMARSX', 'LETDIE1'), ('ABSINGLE', 'PREMARSX', 'GRASS'), ('ABSINGLE', 'PREMARSX', 'ABDEFECT'), ('ABSINGLE', 'HOMOSEX', 'PRAYER'), ('ABSINGLE', 'HOMOSEX', 'ABNOMORE'), ('ABSINGLE', 'HOMOSEX', 'GRASS'), ('ABSINGLE', 'PRAYER', 'ABNOMORE'), ('ABSINGLE', 'ABNOMORE', 'GRASS'), ('ABSINGLE', 'ABNOMORE', 'ABDEFECT'), ('ABSINGLE', 'LETDIE1', 'GRASS'), ('ABSINGLE', 'LETDIE1', 'ABDEFECT'), ('LIBRAC', 'LIBATH', 'LIBHOMO'), ('SPKATH', 'SPKMIL', 'PORNLAW'), ('SPKATH', 'SUICIDE1', 'LIBATH'), ('SPKATH', 'LIBATH', 'PORNLAW'), ('SPKMIL', 'HOMOSEX', 'PORNLAW'), ('SUICIDE2', 'SUICIDE1', 'ABNOMORE'), ('SEXEDUC', 'PREMARSX', 'LETDIE1'), ('SEXEDUC', 'PREMARSX', 'ABDEFECT'), ('SEXEDUC', 'LETDIE1', 'ABDEFECT'), ('SUICIDE1', 'PREMARSX', 'HOMOSEX'), ('SUICIDE1', 'PREMARSX', 'LETDIE1'), ('SUICIDE1', 'PREMARSX', 'GRASS'), ('SUICIDE1', 'PREMARSX', 'ABDEFECT'), ('SUICIDE1', 'LIBATH', 'HOMOSEX'), ('SUICIDE1', 'LIBATH', 'LIBHOMO'), ('SUICIDE1', 'HOMOSEX', 'LIBHOMO'), ('SUICIDE1', 'HOMOSEX', 'ABNOMORE'), ('SUICIDE1', 'HOMOSEX', 'GRASS'), ('SUICIDE1', 'ABNOMORE', 'GRASS'), ('SUICIDE1', 'ABNOMORE', 'ABDEFECT'), ('SUICIDE1', 'LETDIE1', 'GRASS'), ('SUICIDE1', 'LETDIE1', 'ABDEFECT'), ('PREMARSX', 'HOMOSEX', 'XMARSEX'), ('PREMARSX', 'HOMOSEX', 'PORNLAW'), ('PREMARSX', 'HOMOSEX', 'POLVIEWS'), ('PREMARSX', 'HOMOSEX', 'GRASS'), ('PREMARSX', 'HOMOSEX', 'COLHOMO'), ('PREMARSX', 'HOMOSEX', 'RELIG_Protestant'), ('PREMARSX', 'DIVLAW', 'POLVIEWS'), ('PREMARSX', 'PORNLAW', 'LETDIE1'), ('PREMARSX', 'PORNLAW', 'GRASS'), ('PREMARSX', 'POLVIEWS', 'LETDIE1'), ('PREMARSX', 'POLVIEWS', 'GRASS'), ('PREMARSX', 'LETDIE1', 'GRASS'), ('PREMARSX', 'LETDIE1', 'ABDEFECT'), ('LIBATH', 'HOMOSEX', 'LIBHOMO'), ('LIBATH', 'HOMOSEX', 'PORNLAW'), ('NATFARE', 'AFFRMACT', 'PRESLAST_DEMREP'), ('NATFARE', 'HELPNOT', 'HELPPOOR'), ('NATFARE', 'HELPNOT', 'PRESLAST_DEMREP'), ('NATFARE', 'NATCHLD', 'PRESLAST_DEMREP'), ('NATFARE', 'HELPPOOR', 'PRESLAST_DEMREP'), ('AFFRMACT', 'RACDIF1', 'PRESLAST_DEMREP'), ('HOMOSEX', 'PRAYER', 'ABNOMORE'), ('HOMOSEX', 'LIBHOMO', 'COLHOMO'), ('HOMOSEX', 'ABNOMORE', 'PORNLAW'), ('HOMOSEX', 'ABNOMORE', 'GRASS'), ('HOMOSEX', 'PORNLAW', 'GRASS'), ('HOMOSEX', 'POLVIEWS', 'GRASS'), ('HOMOSEX', 'RELIG_Protestant', 'RELIG_None'), ('CONFINAN', 'CONJUDGE', 'CONARMY'), ('CONFINAN', 'CONJUDGE', 'CONLEGIS'), ('CONFINAN', 'CONARMY', 'CONLEGIS'), ('EQWLTH', 'PARTYID', 'POLVIEWS'), ('EQWLTH', 'PARTYID', 'HELPNOT'), ('EQWLTH', 'PARTYID', 'HELPPOOR'), ('EQWLTH', 'PARTYID', 'PRESLAST_DEMREP'), ('EQWLTH', 'POLVIEWS', 'PRESLAST_DEMREP'), ('EQWLTH', 'HELPNOT', 'HELPPOOR'), ('EQWLTH', 'HELPNOT', 'PRESLAST_DEMREP'), ('EQWLTH', 'NATCHLD', 'PRESLAST_DEMREP'), ('EQWLTH', 'HELPPOOR', 'PRESLAST_DEMREP'), ('PARTYID', 'POLVIEWS', 'PRESLAST_DEMREP'), ('PARTYID', 'HELPNOT', 'HELPPOOR'), ('PARTYID', 'HELPNOT', 'PRESLAST_DEMREP'), ('PARTYID', 'HELPPOOR', 'PRESLAST_DEMREP'), ('CONPRESS', 'CONTV', 'CONLEGIS'), ('CONFED', 'CONJUDGE', 'CONARMY'), ('CONFED', 'CONJUDGE', 'CONLEGIS'), ('CONFED', 'CONARMY', 'CONLEGIS'), ('CONJUDGE', 'CONARMY', 'CONLEGIS'), ('ABNOMORE', 'PORNLAW', 'GRASS'), ('PORNLAW', 'LETDIE1', 'GRASS'), ('POLVIEWS', 'LETDIE1', 'GRASS'), ('POLVIEWS', 'NATENVIR', 'PRESLAST_DEMREP'), ('NATENVIR', 'NATHEAL', 'PRESLAST_DEMREP'), ('HELPNOT', 'HELPPOOR', 'PRESLAST_DEMREP'), ('NATCHLD', 'NATHEAL', 'PRESLAST_DEMREP')]\n",
      "5\n",
      "[('OBEY', 'THNKSELF', 'HELPOTH'), ('OBEY', 'THNKSELF', 'WORKHARD'), ('OBEY', 'HELPOTH', 'WORKHARD'), ('THNKSELF', 'HELPOTH', 'WORKHARD'), ('RELIG_Protestant', 'RELIG_Catholic', 'RELIG_None')]\n",
      "[np.float64(0.5259052527806573), np.float64(0.4778912766243847), np.float64(0.27713196081227237), np.float64(0.21857956938701945), np.float64(0.8323839216601373)]\n"
     ]
    }
   ],
   "source": [
    "from CLEAN.source_code.analyzers.triad_analyzer import count_triads\n",
    "\n",
    "dict_triads = count_triads(corr_matrix, return_names=True, return_sums=True)\n",
    "\n",
    "print(dict_triads['positive_triads'])\n",
    "print(dict_triads['positive_triad_nodes'])\n",
    "\n",
    "print(dict_triads['negative_triads'])\n",
    "print(dict_triads['negative_triad_nodes'])\n",
    "print(dict_triads['negative_triad_sums'])"
   ]
  },
  {
   "cell_type": "markdown",
   "metadata": {},
   "source": [
    "We can also look at degree distribution. "
   ]
  },
  {
   "cell_type": "code",
   "execution_count": 67,
   "metadata": {},
   "outputs": [
    {
     "data": {
      "application/vnd.plotly.v1+json": {
       "config": {
        "plotlyServerURL": "https://plot.ly"
       },
       "data": [
        {
         "hovertemplate": "Degree=%{x}<br>Count of Nodes=%{y}<extra></extra>",
         "legendgroup": "",
         "marker": {
          "color": "#636efa",
          "symbol": "circle"
         },
         "mode": "markers",
         "name": "",
         "orientation": "v",
         "showlegend": false,
         "type": "scatter",
         "x": [
          0,
          1,
          2,
          3,
          4,
          5,
          6,
          7,
          8,
          9,
          10,
          11,
          12,
          13,
          14,
          16,
          17,
          18,
          27
         ],
         "xaxis": "x",
         "y": [
          15,
          10,
          15,
          5,
          10,
          10,
          11,
          7,
          6,
          4,
          5,
          2,
          7,
          2,
          2,
          1,
          1,
          1,
          1
         ],
         "yaxis": "y"
        }
       ],
       "layout": {
        "legend": {
         "tracegroupgap": 0
        },
        "template": {
         "data": {
          "bar": [
           {
            "error_x": {
             "color": "#2a3f5f"
            },
            "error_y": {
             "color": "#2a3f5f"
            },
            "marker": {
             "line": {
              "color": "#E5ECF6",
              "width": 0.5
             },
             "pattern": {
              "fillmode": "overlay",
              "size": 10,
              "solidity": 0.2
             }
            },
            "type": "bar"
           }
          ],
          "barpolar": [
           {
            "marker": {
             "line": {
              "color": "#E5ECF6",
              "width": 0.5
             },
             "pattern": {
              "fillmode": "overlay",
              "size": 10,
              "solidity": 0.2
             }
            },
            "type": "barpolar"
           }
          ],
          "carpet": [
           {
            "aaxis": {
             "endlinecolor": "#2a3f5f",
             "gridcolor": "white",
             "linecolor": "white",
             "minorgridcolor": "white",
             "startlinecolor": "#2a3f5f"
            },
            "baxis": {
             "endlinecolor": "#2a3f5f",
             "gridcolor": "white",
             "linecolor": "white",
             "minorgridcolor": "white",
             "startlinecolor": "#2a3f5f"
            },
            "type": "carpet"
           }
          ],
          "choropleth": [
           {
            "colorbar": {
             "outlinewidth": 0,
             "ticks": ""
            },
            "type": "choropleth"
           }
          ],
          "contour": [
           {
            "colorbar": {
             "outlinewidth": 0,
             "ticks": ""
            },
            "colorscale": [
             [
              0,
              "#0d0887"
             ],
             [
              0.1111111111111111,
              "#46039f"
             ],
             [
              0.2222222222222222,
              "#7201a8"
             ],
             [
              0.3333333333333333,
              "#9c179e"
             ],
             [
              0.4444444444444444,
              "#bd3786"
             ],
             [
              0.5555555555555556,
              "#d8576b"
             ],
             [
              0.6666666666666666,
              "#ed7953"
             ],
             [
              0.7777777777777778,
              "#fb9f3a"
             ],
             [
              0.8888888888888888,
              "#fdca26"
             ],
             [
              1,
              "#f0f921"
             ]
            ],
            "type": "contour"
           }
          ],
          "contourcarpet": [
           {
            "colorbar": {
             "outlinewidth": 0,
             "ticks": ""
            },
            "type": "contourcarpet"
           }
          ],
          "heatmap": [
           {
            "colorbar": {
             "outlinewidth": 0,
             "ticks": ""
            },
            "colorscale": [
             [
              0,
              "#0d0887"
             ],
             [
              0.1111111111111111,
              "#46039f"
             ],
             [
              0.2222222222222222,
              "#7201a8"
             ],
             [
              0.3333333333333333,
              "#9c179e"
             ],
             [
              0.4444444444444444,
              "#bd3786"
             ],
             [
              0.5555555555555556,
              "#d8576b"
             ],
             [
              0.6666666666666666,
              "#ed7953"
             ],
             [
              0.7777777777777778,
              "#fb9f3a"
             ],
             [
              0.8888888888888888,
              "#fdca26"
             ],
             [
              1,
              "#f0f921"
             ]
            ],
            "type": "heatmap"
           }
          ],
          "heatmapgl": [
           {
            "colorbar": {
             "outlinewidth": 0,
             "ticks": ""
            },
            "colorscale": [
             [
              0,
              "#0d0887"
             ],
             [
              0.1111111111111111,
              "#46039f"
             ],
             [
              0.2222222222222222,
              "#7201a8"
             ],
             [
              0.3333333333333333,
              "#9c179e"
             ],
             [
              0.4444444444444444,
              "#bd3786"
             ],
             [
              0.5555555555555556,
              "#d8576b"
             ],
             [
              0.6666666666666666,
              "#ed7953"
             ],
             [
              0.7777777777777778,
              "#fb9f3a"
             ],
             [
              0.8888888888888888,
              "#fdca26"
             ],
             [
              1,
              "#f0f921"
             ]
            ],
            "type": "heatmapgl"
           }
          ],
          "histogram": [
           {
            "marker": {
             "pattern": {
              "fillmode": "overlay",
              "size": 10,
              "solidity": 0.2
             }
            },
            "type": "histogram"
           }
          ],
          "histogram2d": [
           {
            "colorbar": {
             "outlinewidth": 0,
             "ticks": ""
            },
            "colorscale": [
             [
              0,
              "#0d0887"
             ],
             [
              0.1111111111111111,
              "#46039f"
             ],
             [
              0.2222222222222222,
              "#7201a8"
             ],
             [
              0.3333333333333333,
              "#9c179e"
             ],
             [
              0.4444444444444444,
              "#bd3786"
             ],
             [
              0.5555555555555556,
              "#d8576b"
             ],
             [
              0.6666666666666666,
              "#ed7953"
             ],
             [
              0.7777777777777778,
              "#fb9f3a"
             ],
             [
              0.8888888888888888,
              "#fdca26"
             ],
             [
              1,
              "#f0f921"
             ]
            ],
            "type": "histogram2d"
           }
          ],
          "histogram2dcontour": [
           {
            "colorbar": {
             "outlinewidth": 0,
             "ticks": ""
            },
            "colorscale": [
             [
              0,
              "#0d0887"
             ],
             [
              0.1111111111111111,
              "#46039f"
             ],
             [
              0.2222222222222222,
              "#7201a8"
             ],
             [
              0.3333333333333333,
              "#9c179e"
             ],
             [
              0.4444444444444444,
              "#bd3786"
             ],
             [
              0.5555555555555556,
              "#d8576b"
             ],
             [
              0.6666666666666666,
              "#ed7953"
             ],
             [
              0.7777777777777778,
              "#fb9f3a"
             ],
             [
              0.8888888888888888,
              "#fdca26"
             ],
             [
              1,
              "#f0f921"
             ]
            ],
            "type": "histogram2dcontour"
           }
          ],
          "mesh3d": [
           {
            "colorbar": {
             "outlinewidth": 0,
             "ticks": ""
            },
            "type": "mesh3d"
           }
          ],
          "parcoords": [
           {
            "line": {
             "colorbar": {
              "outlinewidth": 0,
              "ticks": ""
             }
            },
            "type": "parcoords"
           }
          ],
          "pie": [
           {
            "automargin": true,
            "type": "pie"
           }
          ],
          "scatter": [
           {
            "fillpattern": {
             "fillmode": "overlay",
             "size": 10,
             "solidity": 0.2
            },
            "type": "scatter"
           }
          ],
          "scatter3d": [
           {
            "line": {
             "colorbar": {
              "outlinewidth": 0,
              "ticks": ""
             }
            },
            "marker": {
             "colorbar": {
              "outlinewidth": 0,
              "ticks": ""
             }
            },
            "type": "scatter3d"
           }
          ],
          "scattercarpet": [
           {
            "marker": {
             "colorbar": {
              "outlinewidth": 0,
              "ticks": ""
             }
            },
            "type": "scattercarpet"
           }
          ],
          "scattergeo": [
           {
            "marker": {
             "colorbar": {
              "outlinewidth": 0,
              "ticks": ""
             }
            },
            "type": "scattergeo"
           }
          ],
          "scattergl": [
           {
            "marker": {
             "colorbar": {
              "outlinewidth": 0,
              "ticks": ""
             }
            },
            "type": "scattergl"
           }
          ],
          "scattermapbox": [
           {
            "marker": {
             "colorbar": {
              "outlinewidth": 0,
              "ticks": ""
             }
            },
            "type": "scattermapbox"
           }
          ],
          "scatterpolar": [
           {
            "marker": {
             "colorbar": {
              "outlinewidth": 0,
              "ticks": ""
             }
            },
            "type": "scatterpolar"
           }
          ],
          "scatterpolargl": [
           {
            "marker": {
             "colorbar": {
              "outlinewidth": 0,
              "ticks": ""
             }
            },
            "type": "scatterpolargl"
           }
          ],
          "scatterternary": [
           {
            "marker": {
             "colorbar": {
              "outlinewidth": 0,
              "ticks": ""
             }
            },
            "type": "scatterternary"
           }
          ],
          "surface": [
           {
            "colorbar": {
             "outlinewidth": 0,
             "ticks": ""
            },
            "colorscale": [
             [
              0,
              "#0d0887"
             ],
             [
              0.1111111111111111,
              "#46039f"
             ],
             [
              0.2222222222222222,
              "#7201a8"
             ],
             [
              0.3333333333333333,
              "#9c179e"
             ],
             [
              0.4444444444444444,
              "#bd3786"
             ],
             [
              0.5555555555555556,
              "#d8576b"
             ],
             [
              0.6666666666666666,
              "#ed7953"
             ],
             [
              0.7777777777777778,
              "#fb9f3a"
             ],
             [
              0.8888888888888888,
              "#fdca26"
             ],
             [
              1,
              "#f0f921"
             ]
            ],
            "type": "surface"
           }
          ],
          "table": [
           {
            "cells": {
             "fill": {
              "color": "#EBF0F8"
             },
             "line": {
              "color": "white"
             }
            },
            "header": {
             "fill": {
              "color": "#C8D4E3"
             },
             "line": {
              "color": "white"
             }
            },
            "type": "table"
           }
          ]
         },
         "layout": {
          "annotationdefaults": {
           "arrowcolor": "#2a3f5f",
           "arrowhead": 0,
           "arrowwidth": 1
          },
          "autotypenumbers": "strict",
          "coloraxis": {
           "colorbar": {
            "outlinewidth": 0,
            "ticks": ""
           }
          },
          "colorscale": {
           "diverging": [
            [
             0,
             "#8e0152"
            ],
            [
             0.1,
             "#c51b7d"
            ],
            [
             0.2,
             "#de77ae"
            ],
            [
             0.3,
             "#f1b6da"
            ],
            [
             0.4,
             "#fde0ef"
            ],
            [
             0.5,
             "#f7f7f7"
            ],
            [
             0.6,
             "#e6f5d0"
            ],
            [
             0.7,
             "#b8e186"
            ],
            [
             0.8,
             "#7fbc41"
            ],
            [
             0.9,
             "#4d9221"
            ],
            [
             1,
             "#276419"
            ]
           ],
           "sequential": [
            [
             0,
             "#0d0887"
            ],
            [
             0.1111111111111111,
             "#46039f"
            ],
            [
             0.2222222222222222,
             "#7201a8"
            ],
            [
             0.3333333333333333,
             "#9c179e"
            ],
            [
             0.4444444444444444,
             "#bd3786"
            ],
            [
             0.5555555555555556,
             "#d8576b"
            ],
            [
             0.6666666666666666,
             "#ed7953"
            ],
            [
             0.7777777777777778,
             "#fb9f3a"
            ],
            [
             0.8888888888888888,
             "#fdca26"
            ],
            [
             1,
             "#f0f921"
            ]
           ],
           "sequentialminus": [
            [
             0,
             "#0d0887"
            ],
            [
             0.1111111111111111,
             "#46039f"
            ],
            [
             0.2222222222222222,
             "#7201a8"
            ],
            [
             0.3333333333333333,
             "#9c179e"
            ],
            [
             0.4444444444444444,
             "#bd3786"
            ],
            [
             0.5555555555555556,
             "#d8576b"
            ],
            [
             0.6666666666666666,
             "#ed7953"
            ],
            [
             0.7777777777777778,
             "#fb9f3a"
            ],
            [
             0.8888888888888888,
             "#fdca26"
            ],
            [
             1,
             "#f0f921"
            ]
           ]
          },
          "colorway": [
           "#636efa",
           "#EF553B",
           "#00cc96",
           "#ab63fa",
           "#FFA15A",
           "#19d3f3",
           "#FF6692",
           "#B6E880",
           "#FF97FF",
           "#FECB52"
          ],
          "font": {
           "color": "#2a3f5f"
          },
          "geo": {
           "bgcolor": "white",
           "lakecolor": "white",
           "landcolor": "#E5ECF6",
           "showlakes": true,
           "showland": true,
           "subunitcolor": "white"
          },
          "hoverlabel": {
           "align": "left"
          },
          "hovermode": "closest",
          "mapbox": {
           "style": "light"
          },
          "paper_bgcolor": "white",
          "plot_bgcolor": "#E5ECF6",
          "polar": {
           "angularaxis": {
            "gridcolor": "white",
            "linecolor": "white",
            "ticks": ""
           },
           "bgcolor": "#E5ECF6",
           "radialaxis": {
            "gridcolor": "white",
            "linecolor": "white",
            "ticks": ""
           }
          },
          "scene": {
           "xaxis": {
            "backgroundcolor": "#E5ECF6",
            "gridcolor": "white",
            "gridwidth": 2,
            "linecolor": "white",
            "showbackground": true,
            "ticks": "",
            "zerolinecolor": "white"
           },
           "yaxis": {
            "backgroundcolor": "#E5ECF6",
            "gridcolor": "white",
            "gridwidth": 2,
            "linecolor": "white",
            "showbackground": true,
            "ticks": "",
            "zerolinecolor": "white"
           },
           "zaxis": {
            "backgroundcolor": "#E5ECF6",
            "gridcolor": "white",
            "gridwidth": 2,
            "linecolor": "white",
            "showbackground": true,
            "ticks": "",
            "zerolinecolor": "white"
           }
          },
          "shapedefaults": {
           "line": {
            "color": "#2a3f5f"
           }
          },
          "ternary": {
           "aaxis": {
            "gridcolor": "white",
            "linecolor": "white",
            "ticks": ""
           },
           "baxis": {
            "gridcolor": "white",
            "linecolor": "white",
            "ticks": ""
           },
           "bgcolor": "#E5ECF6",
           "caxis": {
            "gridcolor": "white",
            "linecolor": "white",
            "ticks": ""
           }
          },
          "title": {
           "x": 0.05
          },
          "xaxis": {
           "automargin": true,
           "gridcolor": "white",
           "linecolor": "white",
           "ticks": "",
           "title": {
            "standoff": 15
           },
           "zerolinecolor": "white",
           "zerolinewidth": 2
          },
          "yaxis": {
           "automargin": true,
           "gridcolor": "white",
           "linecolor": "white",
           "ticks": "",
           "title": {
            "standoff": 15
           },
           "zerolinecolor": "white",
           "zerolinewidth": 2
          }
         }
        },
        "title": {
         "text": "Correlation Matrix Degree Distribution"
        },
        "xaxis": {
         "anchor": "y",
         "domain": [
          0,
          1
         ],
         "title": {
          "text": "Degree"
         }
        },
        "yaxis": {
         "anchor": "x",
         "domain": [
          0,
          1
         ],
         "title": {
          "text": "Count of Nodes"
         }
        }
       }
      }
     },
     "metadata": {},
     "output_type": "display_data"
    }
   ],
   "source": [
    "from CLEAN.source_code.analyzers.degree_distribution import plot_degree_distribution\n",
    "\n",
    "plot_degree_distribution(corr_matrix, threshold=0)"
   ]
  }
 ],
 "metadata": {
  "kernelspec": {
   "display_name": "pythons_beliefs",
   "language": "python",
   "name": "python3"
  },
  "language_info": {
   "codemirror_mode": {
    "name": "ipython",
    "version": 3
   },
   "file_extension": ".py",
   "mimetype": "text/x-python",
   "name": "python",
   "nbconvert_exporter": "python",
   "pygments_lexer": "ipython3",
   "version": "3.9.21"
  }
 },
 "nbformat": 4,
 "nbformat_minor": 2
}
