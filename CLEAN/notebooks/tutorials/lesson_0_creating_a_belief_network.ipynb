{
 "cells": [
  {
   "cell_type": "markdown",
   "metadata": {},
   "source": [
    "# Hello (Preliminaries 🐈😺😹)\n",
    "In this Notebook we walk through the creation of a belief network from the raw GSS dataset.\n",
    "\n",
    "As a preliminary, make sure you actally have the raw dataset. It should be located and named as follows: \n",
    "\n",
    ">CLEAN\\datasets\\raw_data\\gss7222_r4.sas7bdat \n",
    "\n",
    "Okay. Now, first we need to import all the functions we will need."
   ]
  },
  {
   "cell_type": "code",
   "execution_count": 19,
   "metadata": {},
   "outputs": [
    {
     "name": "stdout",
     "output_type": "stream",
     "text": [
      "The autoreload extension is already loaded. To reload it, use:\n",
      "  %reload_ext autoreload\n"
     ]
    }
   ],
   "source": [
    "# Load the autoreload extension\n",
    "%load_ext autoreload\n",
    "\n",
    "# Set autoreload mode to 2\n",
    "%autoreload 2"
   ]
  },
  {
   "cell_type": "code",
   "execution_count": 20,
   "metadata": {},
   "outputs": [],
   "source": [
    "# Add parent directory to Python path\n",
    "import os\n",
    "import sys\n",
    "source_folder  = os.path.join(\"..\", \"..\", \"source_code\")\n",
    "\n",
    "if source_folder not in sys.path:\n",
    "    sys.path.append(source_folder)\n",
    "\n",
    "# 1. Read in the raw dataset and cache it. \n",
    "#    Note: when we import the dataset, we automatically discard all variables that we're not interested. Edit the function if there are variables you'd like to keep.\n",
    "from loaders.import_gss import import_dataset\n",
    "\n",
    "# 2. Clean the raw dataset and derive special variables we are interested in. \n",
    "#    This involves: \n",
    "#                       a) normalising variables between -1 and 1 and derive special variables.\n",
    "#                       b) derriving new variables from existing ones.\n",
    "from loaders.clean_raw_data import clean_datasets\n",
    "\n",
    "# 3. Calculate the belief network.\n",
    "#    This involves calculating the correlation matrix of the filtered dataset.\n",
    "from generators.corr_make_network import calculate_correlation_matrix\n",
    "from generators.corr_make_network import CorrelationMethod, EdgeSuppressionMethod\n",
    "\n",
    "# 4. Visualize the belief network.\n",
    "#    This involves visualizing the belief network in a graph.\n",
    "from visualizers.network_visualizer import generate_html_visualization\n",
    "from visualizers.temporal_network_visualizer import (\n",
    "    generate_temporal_html_visualization,\n",
    "    test_temporal_correlation_matrix\n",
    ")\n"
   ]
  },
  {
   "cell_type": "markdown",
   "metadata": {},
   "source": [
    "### Importing the raw dataset 😺\n",
    "First we will run a script that filters the dataset down to only the variables we are interested in. \n",
    "\n",
    "Feel free to look at the code in `import_gss.py` to see which variables are included. But keep in mind that if you want to add in more variables, you'll need to manually normalise it in clean_raw_data.py."
   ]
  },
  {
   "cell_type": "code",
   "execution_count": 44,
   "metadata": {},
   "outputs": [
    {
     "name": "stdout",
     "output_type": "stream",
     "text": [
      "Loading dataset from from cache...\n",
      "Done! ✨\n"
     ]
    }
   ],
   "source": [
    "df, _ = import_dataset()"
   ]
  },
  {
   "cell_type": "markdown",
   "metadata": {},
   "source": [
    "### Cleaning the raw dataset 😺\n",
    "Next we will run a script that cleans the dataset and derives special variables. \n",
    "\n",
    "This will normalise all the variables between -1 and 1, and derive some special variables like \"VOTELAST_DEMREP\" (this tells you which major party the respondent voted for in the previous election).\n",
    "\n",
    "Some variables \n"
   ]
  },
  {
   "cell_type": "code",
   "execution_count": 45,
   "metadata": {},
   "outputs": [
    {
     "name": "stdout",
     "output_type": "stream",
     "text": [
      "Loading dataset from from cache...\n",
      "Done! ✨\n"
     ]
    }
   ],
   "source": [
    "cleaned_df = clean_datasets()"
   ]
  },
  {
   "cell_type": "markdown",
   "metadata": {},
   "source": [
    "### Calculating the belief network 😺\n",
    "\n",
    "Now we will run a script that calculates the belief network. This will calculate the correlation matrix of the dataset, and then use that to create a belief network.\n",
    "\n",
    "Here we can specify the years of interest, further filther the variables of interest, specify the method of correlation, whether we want partial correlations, and how we want to suppress edges.\n"
   ]
  },
  {
   "cell_type": "code",
   "execution_count": null,
   "metadata": {},
   "outputs": [
    {
     "name": "stdout",
     "output_type": "stream",
     "text": [
      "['PARTYID', 'NATEDUC', 'HOMOSEX', 'NATROAD', 'PORNLAW', 'POLABUSE', 'ABHLTH', 'FEPRESCH', 'HELPOTH', 'NATAID', 'XMARSEX', 'SPANKING', 'POPULAR', 'SPKCOM', 'FEFAM', 'NATCITY', 'CONEDUC', 'LIBHOMO', 'DIVLAW', 'COLMIL', 'WORKHARD', 'COLATH', 'NATCHLD', 'SUICIDE2', 'NATFARE', 'FEPOL', 'NATARMS', 'GETAHEAD', 'CONSCI', 'POLMURDR', 'ABANY', 'CONPRESS', 'NATSCI', 'RACDIF3', 'CONMEDIC', 'TEENSEX', 'NATHEAL', 'HELPBLK', 'LETDIE1', 'COLHOMO', 'NATSPAC', 'NATENVIR', 'RACDIF2', 'CONARMY', 'CONCLERG', 'NATDRUG', 'CONLABOR', 'POLESCAP', 'PRAYER', 'OBEY', 'SPKHOMO', 'POLATTAK', 'HELPNOT', 'HELPPOOR', 'POSTLIFE', 'POLVIEWS', 'SEXEDUC', 'ABRAPE', 'CONBUS', 'ABDEFECT', 'POLHITOK', 'CONFINAN', 'CAPPUN', 'LIBATH', 'CONLEGIS', 'ABNOMORE', 'FECHLD', 'SPKMIL', 'CONJUDGE', 'TRUST', 'RACDIF4', 'LIBRAC', 'FAIR', 'AFFRMACT', 'PREMARSX', 'ABPOOR', 'SUICIDE1', 'NATMASS', 'COURTS', 'CONFED', 'CONTV', 'NATPARK', 'LIBMIL', 'NATCRIME', 'COLCOM', 'GUNLAW', 'NATSOC', 'THNKSELF', 'SPKRAC', 'RACDIF1', 'GRASS', 'LIBCOM', 'HELPFUL', 'EQWLTH', 'SPKATH', 'ABSINGLE', 'WRKWAYUP', 'COLRAC', 'PRESLAST_DEMREP', 'PRESLAST_NONCONFORM', 'WOULDVOTELAST_NONCONFORM', 'DIDVOTELAST', 'RELIG_Protestant', 'RELIG_Catholic', 'RELIG_Jewish', 'RELIG_None', 'RELIG_Other', 'RELIG_Buddhism', 'RELIG_Hinduism', 'RELIG_Other_eastern_religions', 'RELIG_Muslim', 'RELIG_Orthodox_christian', 'RELIG_Christian', 'RELIG_Native_american', 'RELIG_Inter_nondenominational']\n"
     ]
    }
   ],
   "source": [
    "corr_matrix = calculate_correlation_matrix(\n",
    "    cleaned_df, \n",
    "    years_of_interest=[2000, 2001, 2002, 2003],\n",
    "    method=CorrelationMethod.PEARSON, \n",
    "    partial=True, \n",
    "    edge_suppression=EdgeSuppressionMethod.REGULARIZATION,\n",
    "    suppression_params={'regularization': 0.2})\n",
    "\n",
    "# Print the variable names\n",
    "# Get the variable names from the correlation matrix\n",
    "variable_names = corr_matrix.columns.tolist()\n",
    "print(variable_names)"
   ]
  },
  {
   "cell_type": "code",
   "execution_count": 42,
   "metadata": {},
   "outputs": [
    {
     "data": {
      "text/html": [
       "<div>\n",
       "<style scoped>\n",
       "    .dataframe tbody tr th:only-of-type {\n",
       "        vertical-align: middle;\n",
       "    }\n",
       "\n",
       "    .dataframe tbody tr th {\n",
       "        vertical-align: top;\n",
       "    }\n",
       "\n",
       "    .dataframe thead th {\n",
       "        text-align: right;\n",
       "    }\n",
       "</style>\n",
       "<table border=\"1\" class=\"dataframe\">\n",
       "  <thead>\n",
       "    <tr style=\"text-align: right;\">\n",
       "      <th></th>\n",
       "      <th>RACDIF3</th>\n",
       "      <th>COLATH</th>\n",
       "      <th>SPKRAC</th>\n",
       "      <th>ABPOOR</th>\n",
       "      <th>LIBRAC</th>\n",
       "      <th>PREMARSX</th>\n",
       "      <th>CONJUDGE</th>\n",
       "      <th>RACDIF1</th>\n",
       "      <th>NATARMS</th>\n",
       "      <th>FAIR</th>\n",
       "      <th>...</th>\n",
       "      <th>RELIG_None</th>\n",
       "      <th>RELIG_Other</th>\n",
       "      <th>RELIG_Buddhism</th>\n",
       "      <th>RELIG_Hinduism</th>\n",
       "      <th>RELIG_Other_eastern_religions</th>\n",
       "      <th>RELIG_Muslim</th>\n",
       "      <th>RELIG_Orthodox_christian</th>\n",
       "      <th>RELIG_Christian</th>\n",
       "      <th>RELIG_Native_american</th>\n",
       "      <th>RELIG_Inter_nondenominational</th>\n",
       "    </tr>\n",
       "  </thead>\n",
       "  <tbody>\n",
       "    <tr>\n",
       "      <th>RACDIF3</th>\n",
       "      <td>0.0</td>\n",
       "      <td>0.0</td>\n",
       "      <td>0.000000</td>\n",
       "      <td>0.0</td>\n",
       "      <td>0.000000</td>\n",
       "      <td>-0.0</td>\n",
       "      <td>0.0</td>\n",
       "      <td>0.044531</td>\n",
       "      <td>-0.00000</td>\n",
       "      <td>-0.0</td>\n",
       "      <td>...</td>\n",
       "      <td>0.0</td>\n",
       "      <td>0.0</td>\n",
       "      <td>0.0</td>\n",
       "      <td>0.0</td>\n",
       "      <td>0.0</td>\n",
       "      <td>0.0</td>\n",
       "      <td>-0.0</td>\n",
       "      <td>-0.0</td>\n",
       "      <td>-0.0</td>\n",
       "      <td>0.0</td>\n",
       "    </tr>\n",
       "    <tr>\n",
       "      <th>COLATH</th>\n",
       "      <td>0.0</td>\n",
       "      <td>0.0</td>\n",
       "      <td>0.000000</td>\n",
       "      <td>0.0</td>\n",
       "      <td>-0.000000</td>\n",
       "      <td>-0.0</td>\n",
       "      <td>0.0</td>\n",
       "      <td>-0.000000</td>\n",
       "      <td>-0.00000</td>\n",
       "      <td>-0.0</td>\n",
       "      <td>...</td>\n",
       "      <td>0.0</td>\n",
       "      <td>0.0</td>\n",
       "      <td>0.0</td>\n",
       "      <td>0.0</td>\n",
       "      <td>0.0</td>\n",
       "      <td>-0.0</td>\n",
       "      <td>-0.0</td>\n",
       "      <td>0.0</td>\n",
       "      <td>-0.0</td>\n",
       "      <td>0.0</td>\n",
       "    </tr>\n",
       "    <tr>\n",
       "      <th>SPKRAC</th>\n",
       "      <td>0.0</td>\n",
       "      <td>0.0</td>\n",
       "      <td>0.000000</td>\n",
       "      <td>0.0</td>\n",
       "      <td>-0.148121</td>\n",
       "      <td>-0.0</td>\n",
       "      <td>0.0</td>\n",
       "      <td>-0.000000</td>\n",
       "      <td>-0.00000</td>\n",
       "      <td>-0.0</td>\n",
       "      <td>...</td>\n",
       "      <td>0.0</td>\n",
       "      <td>0.0</td>\n",
       "      <td>0.0</td>\n",
       "      <td>-0.0</td>\n",
       "      <td>0.0</td>\n",
       "      <td>-0.0</td>\n",
       "      <td>-0.0</td>\n",
       "      <td>-0.0</td>\n",
       "      <td>-0.0</td>\n",
       "      <td>0.0</td>\n",
       "    </tr>\n",
       "    <tr>\n",
       "      <th>ABPOOR</th>\n",
       "      <td>0.0</td>\n",
       "      <td>0.0</td>\n",
       "      <td>0.000000</td>\n",
       "      <td>0.0</td>\n",
       "      <td>-0.000000</td>\n",
       "      <td>-0.0</td>\n",
       "      <td>0.0</td>\n",
       "      <td>0.000000</td>\n",
       "      <td>-0.00698</td>\n",
       "      <td>-0.0</td>\n",
       "      <td>...</td>\n",
       "      <td>0.0</td>\n",
       "      <td>0.0</td>\n",
       "      <td>0.0</td>\n",
       "      <td>0.0</td>\n",
       "      <td>0.0</td>\n",
       "      <td>-0.0</td>\n",
       "      <td>0.0</td>\n",
       "      <td>-0.0</td>\n",
       "      <td>0.0</td>\n",
       "      <td>0.0</td>\n",
       "    </tr>\n",
       "    <tr>\n",
       "      <th>LIBRAC</th>\n",
       "      <td>0.0</td>\n",
       "      <td>-0.0</td>\n",
       "      <td>-0.148121</td>\n",
       "      <td>-0.0</td>\n",
       "      <td>0.000000</td>\n",
       "      <td>0.0</td>\n",
       "      <td>-0.0</td>\n",
       "      <td>0.000000</td>\n",
       "      <td>0.00000</td>\n",
       "      <td>0.0</td>\n",
       "      <td>...</td>\n",
       "      <td>-0.0</td>\n",
       "      <td>-0.0</td>\n",
       "      <td>-0.0</td>\n",
       "      <td>-0.0</td>\n",
       "      <td>-0.0</td>\n",
       "      <td>0.0</td>\n",
       "      <td>0.0</td>\n",
       "      <td>0.0</td>\n",
       "      <td>0.0</td>\n",
       "      <td>-0.0</td>\n",
       "    </tr>\n",
       "    <tr>\n",
       "      <th>...</th>\n",
       "      <td>...</td>\n",
       "      <td>...</td>\n",
       "      <td>...</td>\n",
       "      <td>...</td>\n",
       "      <td>...</td>\n",
       "      <td>...</td>\n",
       "      <td>...</td>\n",
       "      <td>...</td>\n",
       "      <td>...</td>\n",
       "      <td>...</td>\n",
       "      <td>...</td>\n",
       "      <td>...</td>\n",
       "      <td>...</td>\n",
       "      <td>...</td>\n",
       "      <td>...</td>\n",
       "      <td>...</td>\n",
       "      <td>...</td>\n",
       "      <td>...</td>\n",
       "      <td>...</td>\n",
       "      <td>...</td>\n",
       "      <td>...</td>\n",
       "    </tr>\n",
       "    <tr>\n",
       "      <th>RELIG_Muslim</th>\n",
       "      <td>0.0</td>\n",
       "      <td>-0.0</td>\n",
       "      <td>-0.000000</td>\n",
       "      <td>-0.0</td>\n",
       "      <td>0.000000</td>\n",
       "      <td>0.0</td>\n",
       "      <td>0.0</td>\n",
       "      <td>-0.000000</td>\n",
       "      <td>-0.00000</td>\n",
       "      <td>0.0</td>\n",
       "      <td>...</td>\n",
       "      <td>-0.0</td>\n",
       "      <td>-0.0</td>\n",
       "      <td>-0.0</td>\n",
       "      <td>-0.0</td>\n",
       "      <td>-0.0</td>\n",
       "      <td>0.0</td>\n",
       "      <td>-0.0</td>\n",
       "      <td>-0.0</td>\n",
       "      <td>-0.0</td>\n",
       "      <td>-0.0</td>\n",
       "    </tr>\n",
       "    <tr>\n",
       "      <th>RELIG_Orthodox_christian</th>\n",
       "      <td>-0.0</td>\n",
       "      <td>-0.0</td>\n",
       "      <td>-0.000000</td>\n",
       "      <td>0.0</td>\n",
       "      <td>0.000000</td>\n",
       "      <td>0.0</td>\n",
       "      <td>0.0</td>\n",
       "      <td>-0.000000</td>\n",
       "      <td>-0.00000</td>\n",
       "      <td>-0.0</td>\n",
       "      <td>...</td>\n",
       "      <td>-0.0</td>\n",
       "      <td>-0.0</td>\n",
       "      <td>-0.0</td>\n",
       "      <td>-0.0</td>\n",
       "      <td>-0.0</td>\n",
       "      <td>-0.0</td>\n",
       "      <td>0.0</td>\n",
       "      <td>-0.0</td>\n",
       "      <td>-0.0</td>\n",
       "      <td>-0.0</td>\n",
       "    </tr>\n",
       "    <tr>\n",
       "      <th>RELIG_Christian</th>\n",
       "      <td>-0.0</td>\n",
       "      <td>0.0</td>\n",
       "      <td>-0.000000</td>\n",
       "      <td>-0.0</td>\n",
       "      <td>0.000000</td>\n",
       "      <td>0.0</td>\n",
       "      <td>-0.0</td>\n",
       "      <td>-0.000000</td>\n",
       "      <td>0.00000</td>\n",
       "      <td>0.0</td>\n",
       "      <td>...</td>\n",
       "      <td>-0.0</td>\n",
       "      <td>-0.0</td>\n",
       "      <td>-0.0</td>\n",
       "      <td>-0.0</td>\n",
       "      <td>-0.0</td>\n",
       "      <td>-0.0</td>\n",
       "      <td>-0.0</td>\n",
       "      <td>0.0</td>\n",
       "      <td>-0.0</td>\n",
       "      <td>-0.0</td>\n",
       "    </tr>\n",
       "    <tr>\n",
       "      <th>RELIG_Native_american</th>\n",
       "      <td>-0.0</td>\n",
       "      <td>-0.0</td>\n",
       "      <td>-0.000000</td>\n",
       "      <td>0.0</td>\n",
       "      <td>0.000000</td>\n",
       "      <td>0.0</td>\n",
       "      <td>0.0</td>\n",
       "      <td>0.000000</td>\n",
       "      <td>-0.00000</td>\n",
       "      <td>0.0</td>\n",
       "      <td>...</td>\n",
       "      <td>-0.0</td>\n",
       "      <td>-0.0</td>\n",
       "      <td>-0.0</td>\n",
       "      <td>-0.0</td>\n",
       "      <td>-0.0</td>\n",
       "      <td>-0.0</td>\n",
       "      <td>-0.0</td>\n",
       "      <td>-0.0</td>\n",
       "      <td>0.0</td>\n",
       "      <td>-0.0</td>\n",
       "    </tr>\n",
       "    <tr>\n",
       "      <th>RELIG_Inter_nondenominational</th>\n",
       "      <td>0.0</td>\n",
       "      <td>0.0</td>\n",
       "      <td>0.000000</td>\n",
       "      <td>0.0</td>\n",
       "      <td>-0.000000</td>\n",
       "      <td>-0.0</td>\n",
       "      <td>-0.0</td>\n",
       "      <td>0.000000</td>\n",
       "      <td>-0.00000</td>\n",
       "      <td>-0.0</td>\n",
       "      <td>...</td>\n",
       "      <td>-0.0</td>\n",
       "      <td>-0.0</td>\n",
       "      <td>-0.0</td>\n",
       "      <td>-0.0</td>\n",
       "      <td>-0.0</td>\n",
       "      <td>-0.0</td>\n",
       "      <td>-0.0</td>\n",
       "      <td>-0.0</td>\n",
       "      <td>-0.0</td>\n",
       "      <td>0.0</td>\n",
       "    </tr>\n",
       "  </tbody>\n",
       "</table>\n",
       "<p>121 rows × 121 columns</p>\n",
       "</div>"
      ],
      "text/plain": [
       "                               RACDIF3  COLATH    SPKRAC  ABPOOR    LIBRAC  \\\n",
       "RACDIF3                            0.0     0.0  0.000000     0.0  0.000000   \n",
       "COLATH                             0.0     0.0  0.000000     0.0 -0.000000   \n",
       "SPKRAC                             0.0     0.0  0.000000     0.0 -0.148121   \n",
       "ABPOOR                             0.0     0.0  0.000000     0.0 -0.000000   \n",
       "LIBRAC                             0.0    -0.0 -0.148121    -0.0  0.000000   \n",
       "...                                ...     ...       ...     ...       ...   \n",
       "RELIG_Muslim                       0.0    -0.0 -0.000000    -0.0  0.000000   \n",
       "RELIG_Orthodox_christian          -0.0    -0.0 -0.000000     0.0  0.000000   \n",
       "RELIG_Christian                   -0.0     0.0 -0.000000    -0.0  0.000000   \n",
       "RELIG_Native_american             -0.0    -0.0 -0.000000     0.0  0.000000   \n",
       "RELIG_Inter_nondenominational      0.0     0.0  0.000000     0.0 -0.000000   \n",
       "\n",
       "                               PREMARSX  CONJUDGE   RACDIF1  NATARMS  FAIR  \\\n",
       "RACDIF3                            -0.0       0.0  0.044531 -0.00000  -0.0   \n",
       "COLATH                             -0.0       0.0 -0.000000 -0.00000  -0.0   \n",
       "SPKRAC                             -0.0       0.0 -0.000000 -0.00000  -0.0   \n",
       "ABPOOR                             -0.0       0.0  0.000000 -0.00698  -0.0   \n",
       "LIBRAC                              0.0      -0.0  0.000000  0.00000   0.0   \n",
       "...                                 ...       ...       ...      ...   ...   \n",
       "RELIG_Muslim                        0.0       0.0 -0.000000 -0.00000   0.0   \n",
       "RELIG_Orthodox_christian            0.0       0.0 -0.000000 -0.00000  -0.0   \n",
       "RELIG_Christian                     0.0      -0.0 -0.000000  0.00000   0.0   \n",
       "RELIG_Native_american               0.0       0.0  0.000000 -0.00000   0.0   \n",
       "RELIG_Inter_nondenominational      -0.0      -0.0  0.000000 -0.00000  -0.0   \n",
       "\n",
       "                               ...  RELIG_None  RELIG_Other  RELIG_Buddhism  \\\n",
       "RACDIF3                        ...         0.0          0.0             0.0   \n",
       "COLATH                         ...         0.0          0.0             0.0   \n",
       "SPKRAC                         ...         0.0          0.0             0.0   \n",
       "ABPOOR                         ...         0.0          0.0             0.0   \n",
       "LIBRAC                         ...        -0.0         -0.0            -0.0   \n",
       "...                            ...         ...          ...             ...   \n",
       "RELIG_Muslim                   ...        -0.0         -0.0            -0.0   \n",
       "RELIG_Orthodox_christian       ...        -0.0         -0.0            -0.0   \n",
       "RELIG_Christian                ...        -0.0         -0.0            -0.0   \n",
       "RELIG_Native_american          ...        -0.0         -0.0            -0.0   \n",
       "RELIG_Inter_nondenominational  ...        -0.0         -0.0            -0.0   \n",
       "\n",
       "                               RELIG_Hinduism  RELIG_Other_eastern_religions  \\\n",
       "RACDIF3                                   0.0                            0.0   \n",
       "COLATH                                    0.0                            0.0   \n",
       "SPKRAC                                   -0.0                            0.0   \n",
       "ABPOOR                                    0.0                            0.0   \n",
       "LIBRAC                                   -0.0                           -0.0   \n",
       "...                                       ...                            ...   \n",
       "RELIG_Muslim                             -0.0                           -0.0   \n",
       "RELIG_Orthodox_christian                 -0.0                           -0.0   \n",
       "RELIG_Christian                          -0.0                           -0.0   \n",
       "RELIG_Native_american                    -0.0                           -0.0   \n",
       "RELIG_Inter_nondenominational            -0.0                           -0.0   \n",
       "\n",
       "                               RELIG_Muslim  RELIG_Orthodox_christian  \\\n",
       "RACDIF3                                 0.0                      -0.0   \n",
       "COLATH                                 -0.0                      -0.0   \n",
       "SPKRAC                                 -0.0                      -0.0   \n",
       "ABPOOR                                 -0.0                       0.0   \n",
       "LIBRAC                                  0.0                       0.0   \n",
       "...                                     ...                       ...   \n",
       "RELIG_Muslim                            0.0                      -0.0   \n",
       "RELIG_Orthodox_christian               -0.0                       0.0   \n",
       "RELIG_Christian                        -0.0                      -0.0   \n",
       "RELIG_Native_american                  -0.0                      -0.0   \n",
       "RELIG_Inter_nondenominational          -0.0                      -0.0   \n",
       "\n",
       "                               RELIG_Christian  RELIG_Native_american  \\\n",
       "RACDIF3                                   -0.0                   -0.0   \n",
       "COLATH                                     0.0                   -0.0   \n",
       "SPKRAC                                    -0.0                   -0.0   \n",
       "ABPOOR                                    -0.0                    0.0   \n",
       "LIBRAC                                     0.0                    0.0   \n",
       "...                                        ...                    ...   \n",
       "RELIG_Muslim                              -0.0                   -0.0   \n",
       "RELIG_Orthodox_christian                  -0.0                   -0.0   \n",
       "RELIG_Christian                            0.0                   -0.0   \n",
       "RELIG_Native_american                     -0.0                    0.0   \n",
       "RELIG_Inter_nondenominational             -0.0                   -0.0   \n",
       "\n",
       "                               RELIG_Inter_nondenominational  \n",
       "RACDIF3                                                  0.0  \n",
       "COLATH                                                   0.0  \n",
       "SPKRAC                                                   0.0  \n",
       "ABPOOR                                                   0.0  \n",
       "LIBRAC                                                  -0.0  \n",
       "...                                                      ...  \n",
       "RELIG_Muslim                                            -0.0  \n",
       "RELIG_Orthodox_christian                                -0.0  \n",
       "RELIG_Christian                                         -0.0  \n",
       "RELIG_Native_american                                   -0.0  \n",
       "RELIG_Inter_nondenominational                            0.0  \n",
       "\n",
       "[121 rows x 121 columns]"
      ]
     },
     "execution_count": 42,
     "metadata": {},
     "output_type": "execute_result"
    }
   ],
   "source": [
    "corr_matrix"
   ]
  },
  {
   "cell_type": "markdown",
   "metadata": {},
   "source": [
    "### Plotting the belief network\n",
    "With the following code, we can plot a single correlation matrix (generate_html_visualization), or we can plot an interactive temporal network ()"
   ]
  },
  {
   "cell_type": "code",
   "execution_count": 6,
   "metadata": {},
   "outputs": [
    {
     "name": "stdout",
     "output_type": "stream",
     "text": [
      "Network visualization has been saved to c:\\Users\\timbo\\Github\\BeliefNetworkEvo\\CLEAN\\notebooks\\tutorials\\delete_this_file.html\n",
      "Is this shit on\n",
      "Temporal network visualization has been saved to delete_this_temporal_network.html\n"
     ]
    }
   ],
   "source": [
    "generate_html_visualization(\n",
    "    corr_matrix, \n",
    "    output_path = 'delete_this_file.html',\n",
    "    highlight_nodes = ['POLVIEWS'])\n",
    "\n",
    "\n",
    "corr_mat_dict = generate_temporal_html_visualization(\n",
    "    cleaned_df,\n",
    "    nodes_to_highlight=['POLVIEWS'],\n",
    "    time_window_length=4,\n",
    "    start_year=1972,  # Changed from default\n",
    "    end_year=2020,    # Changed from default\n",
    "    step_size=2,\n",
    "    method=CorrelationMethod.PEARSON,\n",
    "    partial=True,\n",
    "    edge_suppression=EdgeSuppressionMethod.REGULARIZATION,\n",
    "    suppression_params={'regularization': 0.2},\n",
    "    output_path='delete_this_temporal_network.html'\n",
    ")\n"
   ]
  },
  {
   "cell_type": "markdown",
   "metadata": {},
   "source": [
    "### Basic analysis\n",
    "\n",
    "We can look at some basic stuff, like a triad count and a balanced/unbalanced triad count."
   ]
  },
  {
   "cell_type": "code",
   "execution_count": 7,
   "metadata": {},
   "outputs": [
    {
     "name": "stdout",
     "output_type": "stream",
     "text": [
      "377\n",
      "5\n",
      "[('HELPOTH', 'WORKHARD', 'OBEY'), ('HELPOTH', 'WORKHARD', 'THNKSELF'), ('HELPOTH', 'OBEY', 'THNKSELF'), ('WORKHARD', 'OBEY', 'THNKSELF'), ('RELIG_Protestant', 'RELIG_Catholic', 'RELIG_None')]\n"
     ]
    }
   ],
   "source": [
    "from CLEAN.source_code.analyzers.triad_analyzer import count_triads\n",
    "\n",
    "dict_triads = count_triads(corr_matrix, return_names=True, return_sums=True)\n",
    "\n",
    "print(dict_triads['positive_triads'])\n",
    "#print(dict_triads['positive_triad_nodes'])\n",
    "\n",
    "print(dict_triads['negative_triads'])\n",
    "print(dict_triads['negative_triad_nodes'])\n",
    "#print(dict_triads['negative_triad_sums'])"
   ]
  },
  {
   "cell_type": "markdown",
   "metadata": {},
   "source": [
    "We can also look at degree distribution. "
   ]
  },
  {
   "cell_type": "code",
   "execution_count": 8,
   "metadata": {},
   "outputs": [
    {
     "data": {
      "application/vnd.plotly.v1+json": {
       "config": {
        "plotlyServerURL": "https://plot.ly"
       },
       "data": [
        {
         "hovertemplate": "Degree=%{x}<br>Count of Nodes=%{y}<extra></extra>",
         "legendgroup": "",
         "marker": {
          "color": "#636efa",
          "symbol": "circle"
         },
         "mode": "markers",
         "name": "",
         "orientation": "v",
         "showlegend": false,
         "type": "scatter",
         "x": [
          0,
          1,
          2,
          3,
          4,
          5,
          6,
          7,
          8,
          9,
          10,
          11,
          12,
          13,
          14,
          16,
          17,
          18,
          28
         ],
         "xaxis": "x",
         "y": [
          15,
          10,
          15,
          5,
          10,
          10,
          11,
          7,
          6,
          4,
          4,
          3,
          7,
          2,
          2,
          1,
          1,
          1,
          1
         ],
         "yaxis": "y"
        }
       ],
       "layout": {
        "legend": {
         "tracegroupgap": 0
        },
        "template": {
         "data": {
          "bar": [
           {
            "error_x": {
             "color": "#2a3f5f"
            },
            "error_y": {
             "color": "#2a3f5f"
            },
            "marker": {
             "line": {
              "color": "#E5ECF6",
              "width": 0.5
             },
             "pattern": {
              "fillmode": "overlay",
              "size": 10,
              "solidity": 0.2
             }
            },
            "type": "bar"
           }
          ],
          "barpolar": [
           {
            "marker": {
             "line": {
              "color": "#E5ECF6",
              "width": 0.5
             },
             "pattern": {
              "fillmode": "overlay",
              "size": 10,
              "solidity": 0.2
             }
            },
            "type": "barpolar"
           }
          ],
          "carpet": [
           {
            "aaxis": {
             "endlinecolor": "#2a3f5f",
             "gridcolor": "white",
             "linecolor": "white",
             "minorgridcolor": "white",
             "startlinecolor": "#2a3f5f"
            },
            "baxis": {
             "endlinecolor": "#2a3f5f",
             "gridcolor": "white",
             "linecolor": "white",
             "minorgridcolor": "white",
             "startlinecolor": "#2a3f5f"
            },
            "type": "carpet"
           }
          ],
          "choropleth": [
           {
            "colorbar": {
             "outlinewidth": 0,
             "ticks": ""
            },
            "type": "choropleth"
           }
          ],
          "contour": [
           {
            "colorbar": {
             "outlinewidth": 0,
             "ticks": ""
            },
            "colorscale": [
             [
              0,
              "#0d0887"
             ],
             [
              0.1111111111111111,
              "#46039f"
             ],
             [
              0.2222222222222222,
              "#7201a8"
             ],
             [
              0.3333333333333333,
              "#9c179e"
             ],
             [
              0.4444444444444444,
              "#bd3786"
             ],
             [
              0.5555555555555556,
              "#d8576b"
             ],
             [
              0.6666666666666666,
              "#ed7953"
             ],
             [
              0.7777777777777778,
              "#fb9f3a"
             ],
             [
              0.8888888888888888,
              "#fdca26"
             ],
             [
              1,
              "#f0f921"
             ]
            ],
            "type": "contour"
           }
          ],
          "contourcarpet": [
           {
            "colorbar": {
             "outlinewidth": 0,
             "ticks": ""
            },
            "type": "contourcarpet"
           }
          ],
          "heatmap": [
           {
            "colorbar": {
             "outlinewidth": 0,
             "ticks": ""
            },
            "colorscale": [
             [
              0,
              "#0d0887"
             ],
             [
              0.1111111111111111,
              "#46039f"
             ],
             [
              0.2222222222222222,
              "#7201a8"
             ],
             [
              0.3333333333333333,
              "#9c179e"
             ],
             [
              0.4444444444444444,
              "#bd3786"
             ],
             [
              0.5555555555555556,
              "#d8576b"
             ],
             [
              0.6666666666666666,
              "#ed7953"
             ],
             [
              0.7777777777777778,
              "#fb9f3a"
             ],
             [
              0.8888888888888888,
              "#fdca26"
             ],
             [
              1,
              "#f0f921"
             ]
            ],
            "type": "heatmap"
           }
          ],
          "heatmapgl": [
           {
            "colorbar": {
             "outlinewidth": 0,
             "ticks": ""
            },
            "colorscale": [
             [
              0,
              "#0d0887"
             ],
             [
              0.1111111111111111,
              "#46039f"
             ],
             [
              0.2222222222222222,
              "#7201a8"
             ],
             [
              0.3333333333333333,
              "#9c179e"
             ],
             [
              0.4444444444444444,
              "#bd3786"
             ],
             [
              0.5555555555555556,
              "#d8576b"
             ],
             [
              0.6666666666666666,
              "#ed7953"
             ],
             [
              0.7777777777777778,
              "#fb9f3a"
             ],
             [
              0.8888888888888888,
              "#fdca26"
             ],
             [
              1,
              "#f0f921"
             ]
            ],
            "type": "heatmapgl"
           }
          ],
          "histogram": [
           {
            "marker": {
             "pattern": {
              "fillmode": "overlay",
              "size": 10,
              "solidity": 0.2
             }
            },
            "type": "histogram"
           }
          ],
          "histogram2d": [
           {
            "colorbar": {
             "outlinewidth": 0,
             "ticks": ""
            },
            "colorscale": [
             [
              0,
              "#0d0887"
             ],
             [
              0.1111111111111111,
              "#46039f"
             ],
             [
              0.2222222222222222,
              "#7201a8"
             ],
             [
              0.3333333333333333,
              "#9c179e"
             ],
             [
              0.4444444444444444,
              "#bd3786"
             ],
             [
              0.5555555555555556,
              "#d8576b"
             ],
             [
              0.6666666666666666,
              "#ed7953"
             ],
             [
              0.7777777777777778,
              "#fb9f3a"
             ],
             [
              0.8888888888888888,
              "#fdca26"
             ],
             [
              1,
              "#f0f921"
             ]
            ],
            "type": "histogram2d"
           }
          ],
          "histogram2dcontour": [
           {
            "colorbar": {
             "outlinewidth": 0,
             "ticks": ""
            },
            "colorscale": [
             [
              0,
              "#0d0887"
             ],
             [
              0.1111111111111111,
              "#46039f"
             ],
             [
              0.2222222222222222,
              "#7201a8"
             ],
             [
              0.3333333333333333,
              "#9c179e"
             ],
             [
              0.4444444444444444,
              "#bd3786"
             ],
             [
              0.5555555555555556,
              "#d8576b"
             ],
             [
              0.6666666666666666,
              "#ed7953"
             ],
             [
              0.7777777777777778,
              "#fb9f3a"
             ],
             [
              0.8888888888888888,
              "#fdca26"
             ],
             [
              1,
              "#f0f921"
             ]
            ],
            "type": "histogram2dcontour"
           }
          ],
          "mesh3d": [
           {
            "colorbar": {
             "outlinewidth": 0,
             "ticks": ""
            },
            "type": "mesh3d"
           }
          ],
          "parcoords": [
           {
            "line": {
             "colorbar": {
              "outlinewidth": 0,
              "ticks": ""
             }
            },
            "type": "parcoords"
           }
          ],
          "pie": [
           {
            "automargin": true,
            "type": "pie"
           }
          ],
          "scatter": [
           {
            "fillpattern": {
             "fillmode": "overlay",
             "size": 10,
             "solidity": 0.2
            },
            "type": "scatter"
           }
          ],
          "scatter3d": [
           {
            "line": {
             "colorbar": {
              "outlinewidth": 0,
              "ticks": ""
             }
            },
            "marker": {
             "colorbar": {
              "outlinewidth": 0,
              "ticks": ""
             }
            },
            "type": "scatter3d"
           }
          ],
          "scattercarpet": [
           {
            "marker": {
             "colorbar": {
              "outlinewidth": 0,
              "ticks": ""
             }
            },
            "type": "scattercarpet"
           }
          ],
          "scattergeo": [
           {
            "marker": {
             "colorbar": {
              "outlinewidth": 0,
              "ticks": ""
             }
            },
            "type": "scattergeo"
           }
          ],
          "scattergl": [
           {
            "marker": {
             "colorbar": {
              "outlinewidth": 0,
              "ticks": ""
             }
            },
            "type": "scattergl"
           }
          ],
          "scattermapbox": [
           {
            "marker": {
             "colorbar": {
              "outlinewidth": 0,
              "ticks": ""
             }
            },
            "type": "scattermapbox"
           }
          ],
          "scatterpolar": [
           {
            "marker": {
             "colorbar": {
              "outlinewidth": 0,
              "ticks": ""
             }
            },
            "type": "scatterpolar"
           }
          ],
          "scatterpolargl": [
           {
            "marker": {
             "colorbar": {
              "outlinewidth": 0,
              "ticks": ""
             }
            },
            "type": "scatterpolargl"
           }
          ],
          "scatterternary": [
           {
            "marker": {
             "colorbar": {
              "outlinewidth": 0,
              "ticks": ""
             }
            },
            "type": "scatterternary"
           }
          ],
          "surface": [
           {
            "colorbar": {
             "outlinewidth": 0,
             "ticks": ""
            },
            "colorscale": [
             [
              0,
              "#0d0887"
             ],
             [
              0.1111111111111111,
              "#46039f"
             ],
             [
              0.2222222222222222,
              "#7201a8"
             ],
             [
              0.3333333333333333,
              "#9c179e"
             ],
             [
              0.4444444444444444,
              "#bd3786"
             ],
             [
              0.5555555555555556,
              "#d8576b"
             ],
             [
              0.6666666666666666,
              "#ed7953"
             ],
             [
              0.7777777777777778,
              "#fb9f3a"
             ],
             [
              0.8888888888888888,
              "#fdca26"
             ],
             [
              1,
              "#f0f921"
             ]
            ],
            "type": "surface"
           }
          ],
          "table": [
           {
            "cells": {
             "fill": {
              "color": "#EBF0F8"
             },
             "line": {
              "color": "white"
             }
            },
            "header": {
             "fill": {
              "color": "#C8D4E3"
             },
             "line": {
              "color": "white"
             }
            },
            "type": "table"
           }
          ]
         },
         "layout": {
          "annotationdefaults": {
           "arrowcolor": "#2a3f5f",
           "arrowhead": 0,
           "arrowwidth": 1
          },
          "autotypenumbers": "strict",
          "coloraxis": {
           "colorbar": {
            "outlinewidth": 0,
            "ticks": ""
           }
          },
          "colorscale": {
           "diverging": [
            [
             0,
             "#8e0152"
            ],
            [
             0.1,
             "#c51b7d"
            ],
            [
             0.2,
             "#de77ae"
            ],
            [
             0.3,
             "#f1b6da"
            ],
            [
             0.4,
             "#fde0ef"
            ],
            [
             0.5,
             "#f7f7f7"
            ],
            [
             0.6,
             "#e6f5d0"
            ],
            [
             0.7,
             "#b8e186"
            ],
            [
             0.8,
             "#7fbc41"
            ],
            [
             0.9,
             "#4d9221"
            ],
            [
             1,
             "#276419"
            ]
           ],
           "sequential": [
            [
             0,
             "#0d0887"
            ],
            [
             0.1111111111111111,
             "#46039f"
            ],
            [
             0.2222222222222222,
             "#7201a8"
            ],
            [
             0.3333333333333333,
             "#9c179e"
            ],
            [
             0.4444444444444444,
             "#bd3786"
            ],
            [
             0.5555555555555556,
             "#d8576b"
            ],
            [
             0.6666666666666666,
             "#ed7953"
            ],
            [
             0.7777777777777778,
             "#fb9f3a"
            ],
            [
             0.8888888888888888,
             "#fdca26"
            ],
            [
             1,
             "#f0f921"
            ]
           ],
           "sequentialminus": [
            [
             0,
             "#0d0887"
            ],
            [
             0.1111111111111111,
             "#46039f"
            ],
            [
             0.2222222222222222,
             "#7201a8"
            ],
            [
             0.3333333333333333,
             "#9c179e"
            ],
            [
             0.4444444444444444,
             "#bd3786"
            ],
            [
             0.5555555555555556,
             "#d8576b"
            ],
            [
             0.6666666666666666,
             "#ed7953"
            ],
            [
             0.7777777777777778,
             "#fb9f3a"
            ],
            [
             0.8888888888888888,
             "#fdca26"
            ],
            [
             1,
             "#f0f921"
            ]
           ]
          },
          "colorway": [
           "#636efa",
           "#EF553B",
           "#00cc96",
           "#ab63fa",
           "#FFA15A",
           "#19d3f3",
           "#FF6692",
           "#B6E880",
           "#FF97FF",
           "#FECB52"
          ],
          "font": {
           "color": "#2a3f5f"
          },
          "geo": {
           "bgcolor": "white",
           "lakecolor": "white",
           "landcolor": "#E5ECF6",
           "showlakes": true,
           "showland": true,
           "subunitcolor": "white"
          },
          "hoverlabel": {
           "align": "left"
          },
          "hovermode": "closest",
          "mapbox": {
           "style": "light"
          },
          "paper_bgcolor": "white",
          "plot_bgcolor": "#E5ECF6",
          "polar": {
           "angularaxis": {
            "gridcolor": "white",
            "linecolor": "white",
            "ticks": ""
           },
           "bgcolor": "#E5ECF6",
           "radialaxis": {
            "gridcolor": "white",
            "linecolor": "white",
            "ticks": ""
           }
          },
          "scene": {
           "xaxis": {
            "backgroundcolor": "#E5ECF6",
            "gridcolor": "white",
            "gridwidth": 2,
            "linecolor": "white",
            "showbackground": true,
            "ticks": "",
            "zerolinecolor": "white"
           },
           "yaxis": {
            "backgroundcolor": "#E5ECF6",
            "gridcolor": "white",
            "gridwidth": 2,
            "linecolor": "white",
            "showbackground": true,
            "ticks": "",
            "zerolinecolor": "white"
           },
           "zaxis": {
            "backgroundcolor": "#E5ECF6",
            "gridcolor": "white",
            "gridwidth": 2,
            "linecolor": "white",
            "showbackground": true,
            "ticks": "",
            "zerolinecolor": "white"
           }
          },
          "shapedefaults": {
           "line": {
            "color": "#2a3f5f"
           }
          },
          "ternary": {
           "aaxis": {
            "gridcolor": "white",
            "linecolor": "white",
            "ticks": ""
           },
           "baxis": {
            "gridcolor": "white",
            "linecolor": "white",
            "ticks": ""
           },
           "bgcolor": "#E5ECF6",
           "caxis": {
            "gridcolor": "white",
            "linecolor": "white",
            "ticks": ""
           }
          },
          "title": {
           "x": 0.05
          },
          "xaxis": {
           "automargin": true,
           "gridcolor": "white",
           "linecolor": "white",
           "ticks": "",
           "title": {
            "standoff": 15
           },
           "zerolinecolor": "white",
           "zerolinewidth": 2
          },
          "yaxis": {
           "automargin": true,
           "gridcolor": "white",
           "linecolor": "white",
           "ticks": "",
           "title": {
            "standoff": 15
           },
           "zerolinecolor": "white",
           "zerolinewidth": 2
          }
         }
        },
        "title": {
         "text": "Correlation Matrix Degree Distribution"
        },
        "xaxis": {
         "anchor": "y",
         "domain": [
          0,
          1
         ],
         "title": {
          "text": "Degree"
         }
        },
        "yaxis": {
         "anchor": "x",
         "domain": [
          0,
          1
         ],
         "title": {
          "text": "Count of Nodes"
         }
        }
       }
      }
     },
     "metadata": {},
     "output_type": "display_data"
    }
   ],
   "source": [
    "from CLEAN.source_code.analyzers.degree_distribution import plot_degree_distribution\n",
    "\n",
    "plot_degree_distribution(corr_matrix, threshold=0, log_scale=False)"
   ]
  }
 ],
 "metadata": {
  "kernelspec": {
   "display_name": "Python 3",
   "language": "python",
   "name": "python3"
  },
  "language_info": {
   "codemirror_mode": {
    "name": "ipython",
    "version": 3
   },
   "file_extension": ".py",
   "mimetype": "text/x-python",
   "name": "python",
   "nbconvert_exporter": "python",
   "pygments_lexer": "ipython3",
   "version": "3.9.21"
  }
 },
 "nbformat": 4,
 "nbformat_minor": 2
}
