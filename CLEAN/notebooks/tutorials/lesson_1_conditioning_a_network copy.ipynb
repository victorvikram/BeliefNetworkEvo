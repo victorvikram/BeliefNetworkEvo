{
 "cells": [
  {
   "cell_type": "code",
   "execution_count": 19,
   "metadata": {},
   "outputs": [],
   "source": [
    "# Lesson 1 - Conditioning a Beleif Network\n",
    "\n",
    "# (I'm not gonna make markdown cells this time because they fuck up cursor!!!!)\n",
    "\n",
    "########################################################\n",
    "\n",
    "# In this lesson, we will learn how to condition a network on a variable.\n",
    "\n",
    "# In plain English, this means we will generate the belief network of all people who hold a certain belief (or lack thereof).\n",
    "\n",
    "# The archetypical example from our discussions is to generate the belief network of self-proclaimed liberals and compare it to the belief network of self-proclaimed conservatives. \n",
    "\n",
    "# This amounts to conditioning the network on the variables 'POLVIEWS' with liberals being those <0 and conservatives being those >0.\n",
    "\n",
    "# First, we import and clean the data."
   ]
  },
  {
   "cell_type": "code",
   "execution_count": 1,
   "metadata": {},
   "outputs": [],
   "source": [
    "from datasets.import_gss import import_dataset\n",
    "from datasets.clean_raw_data import clean_datasets\n",
    "from source_code.generators.corr_make_network import calculate_correlation_matrix, CorrelationMethod, EdgeSuppressionMethod\n",
    "from source_code.generators.corr_make_conditioned_network import calculate_conditioned_correlation_matrix\n",
    "from source_code.visualizers.network_visualizer import generate_html_visualization\n",
    "from source_code.analyzers.graph_similarity import graph_similarity"
   ]
  },
  {
   "cell_type": "code",
   "execution_count": 5,
   "metadata": {},
   "outputs": [
    {
     "name": "stdout",
     "output_type": "stream",
     "text": [
      "Loading dataset from from cache...\n",
      "Done! ✨\n",
      "Loading dataset from from cache...\n",
      "Done! ✨\n"
     ]
    }
   ],
   "source": [
    "df, _ = import_dataset()\n",
    "cleaned_df = clean_datasets()"
   ]
  },
  {
   "cell_type": "code",
   "execution_count": 6,
   "metadata": {},
   "outputs": [
    {
     "name": "stdout",
     "output_type": "stream",
     "text": [
      "\n",
      "==================================================\n",
      "CONDITIONING INFORMATION\n",
      "==================================================\n",
      "Conditioning variable: POLVIEWS\n",
      "Condition: less_than_zero\n",
      "Filtered samples count: 17604 of 72390 (24.3%)\n",
      "--------------------------------------------------\n",
      "\n",
      "==================================================\n",
      "CORRELATION NETWORK STATISTICS\n",
      "==================================================\n",
      "Variables filtered out (metadata): 3\n",
      "Variables included in analysis: 133\n",
      "Total number of samples: 1734\n",
      "--------------------------------------------------\n",
      "Variables removed due to NaN correlations: 16\n",
      "Remaining variables after NaN filtering: 117\n",
      "Removed variables (first 10): NATDRUGY, MARHOMO, NATFAREY, NATHEALY, NATARMSY, NATCITYY, NATAIDY, NATSPACY, NATCRIMY, NATEDUCY...\n",
      "--------------------------------------------------\n",
      "Sample size statistics for correlations:\n",
      "  Mean: 7106.1\n",
      "  Min: 823\n",
      "  Max: 17604\n",
      "==================================================\n"
     ]
    }
   ],
   "source": [
    "## Next.. selecting a variable to condition on 🐈\n",
    "\n",
    "#Now we can choose a variable to condition on. \n",
    "\n",
    "# To do this, we simply refer to the corr_make_conditioned_network.py file and make use of the function calculate_conditioned_correlation_matrix().\n",
    "\n",
    "# This function accecpts the usual paramets (as in calculate_correlation_matrix()) plus some extra ones: \n",
    "\n",
    "# 1. variable_to_condition  (string telling us which variable to condition on)\n",
    "# 2. condition  (string telling us what condition to apply to the variable - either 'equal_to', 'less_than_zero', 'greater_than_zero')\n",
    "# 3. value (the value of the variable to condition on - only used if condition is 'equal_to')\n",
    "# 4. return_df (boolean) - whether to return (filtered dataframe, conditioned correlation matrix) or just the conditioned correlation matrix\n",
    "\n",
    "#To understand what less_than_zero and greater_than_zero actually correspond to, simply control-F the variable name in clean_raw_data.py and search up the variable in the [GSS data explorer](https://gssdataexplorer.norc.org/variables/vfilter).\n",
    "\n",
    "var_to_condition = 'POLVIEWS'\n",
    "years_of_interest = [2018, 2020, 2022]\n",
    "\n",
    "conditioned_corr_matrix = calculate_conditioned_correlation_matrix(\n",
    "    cleaned_df, \n",
    "    years_of_interest=years_of_interest,\n",
    "    method=CorrelationMethod.PEARSON,\n",
    "    partial=True,\n",
    "    edge_suppression=EdgeSuppressionMethod.REGULARIZATION,\n",
    "    suppression_params={'regularization': 0.18},\n",
    "\n",
    "    variable_to_condition=var_to_condition, \n",
    "    condition='less_than_zero',\n",
    "\n",
    "    verbose=True\n",
    ")\n",
    "\n"
   ]
  },
  {
   "cell_type": "code",
   "execution_count": 4,
   "metadata": {},
   "outputs": [
    {
     "name": "stdout",
     "output_type": "stream",
     "text": [
      "                 FAIR  NATMASS  POLHITOK   COLHOMO  POLVIEWS  ABHLTH  \\\n",
      "FAIR              0.0     -0.0 -0.000000 -0.000000       0.0    -0.0   \n",
      "NATMASS          -0.0      0.0 -0.000000  0.000000      -0.0     0.0   \n",
      "POLHITOK         -0.0     -0.0  0.000000  0.018933       0.0     0.0   \n",
      "COLHOMO          -0.0      0.0  0.018933  0.000000      -0.0     0.0   \n",
      "POLVIEWS          0.0     -0.0  0.000000 -0.000000       0.0     0.0   \n",
      "...               ...      ...       ...       ...       ...     ...   \n",
      "RELIG_Other      -0.0      0.0  0.000000  0.000000      -0.0     0.0   \n",
      "RELIG_Buddhism   -0.0      0.0 -0.000000  0.000000      -0.0     0.0   \n",
      "RELIG_Hinduism   -0.0      0.0 -0.000000 -0.000000       0.0     0.0   \n",
      "RELIG_Muslim      0.0      0.0 -0.000000  0.000000       0.0     0.0   \n",
      "RELIG_Christian   0.0     -0.0  0.000000  0.000000       0.0     0.0   \n",
      "\n",
      "                 SUICIDE2  NATDRUGY  DIVLAW  CONFED  ...  DIDVOTELAST  \\\n",
      "FAIR                 -0.0 -0.000000    -0.0     0.0  ...    -0.000000   \n",
      "NATMASS               0.0  0.020773     0.0     0.0  ...     0.030527   \n",
      "POLHITOK              0.0 -0.000000     0.0    -0.0  ...     0.000000   \n",
      "COLHOMO               0.0  0.000000     0.0    -0.0  ...     0.000000   \n",
      "POLVIEWS             -0.0 -0.000000    -0.0     0.0  ...    -0.000000   \n",
      "...                   ...       ...     ...     ...  ...          ...   \n",
      "RELIG_Other           0.0  0.000000     0.0    -0.0  ...    -0.000000   \n",
      "RELIG_Buddhism        0.0  0.000000     0.0    -0.0  ...     0.000000   \n",
      "RELIG_Hinduism        0.0 -0.000000    -0.0     0.0  ...    -0.000000   \n",
      "RELIG_Muslim         -0.0 -0.000000     0.0     0.0  ...    -0.000000   \n",
      "RELIG_Christian       0.0  0.000000    -0.0     0.0  ...    -0.000000   \n",
      "\n",
      "                 RELIG_Protestant  RELIG_Catholic  RELIG_Jewish  RELIG_None  \\\n",
      "FAIR                          0.0             0.0          -0.0        -0.0   \n",
      "NATMASS                      -0.0            -0.0           0.0         0.0   \n",
      "POLHITOK                     -0.0            -0.0           0.0         0.0   \n",
      "COLHOMO                      -0.0            -0.0           0.0         0.0   \n",
      "POLVIEWS                      0.0             0.0          -0.0        -0.0   \n",
      "...                           ...             ...           ...         ...   \n",
      "RELIG_Other                  -0.0            -0.0          -0.0        -0.0   \n",
      "RELIG_Buddhism               -0.0            -0.0          -0.0        -0.0   \n",
      "RELIG_Hinduism               -0.0            -0.0          -0.0        -0.0   \n",
      "RELIG_Muslim                 -0.0            -0.0          -0.0        -0.0   \n",
      "RELIG_Christian              -0.0            -0.0          -0.0        -0.0   \n",
      "\n",
      "                 RELIG_Other  RELIG_Buddhism  RELIG_Hinduism  RELIG_Muslim  \\\n",
      "FAIR                    -0.0            -0.0            -0.0           0.0   \n",
      "NATMASS                  0.0             0.0             0.0           0.0   \n",
      "POLHITOK                 0.0            -0.0            -0.0          -0.0   \n",
      "COLHOMO                  0.0             0.0            -0.0           0.0   \n",
      "POLVIEWS                -0.0            -0.0             0.0           0.0   \n",
      "...                      ...             ...             ...           ...   \n",
      "RELIG_Other              0.0            -0.0            -0.0          -0.0   \n",
      "RELIG_Buddhism          -0.0             0.0            -0.0          -0.0   \n",
      "RELIG_Hinduism          -0.0            -0.0             0.0          -0.0   \n",
      "RELIG_Muslim            -0.0            -0.0            -0.0           0.0   \n",
      "RELIG_Christian         -0.0            -0.0            -0.0          -0.0   \n",
      "\n",
      "                 RELIG_Christian  \n",
      "FAIR                         0.0  \n",
      "NATMASS                     -0.0  \n",
      "POLHITOK                     0.0  \n",
      "COLHOMO                      0.0  \n",
      "POLVIEWS                     0.0  \n",
      "...                          ...  \n",
      "RELIG_Other                 -0.0  \n",
      "RELIG_Buddhism              -0.0  \n",
      "RELIG_Hinduism              -0.0  \n",
      "RELIG_Muslim                -0.0  \n",
      "RELIG_Christian              0.0  \n",
      "\n",
      "[117 rows x 117 columns]\n",
      "Network visualization has been saved to c:\\Users\\timbo\\Github\\BeliefNetworkEvo\\CLEAN\\notebooks\\tutorials\\delete_this_file.html\n"
     ]
    }
   ],
   "source": [
    "\n",
    "# We can now plot this network and see what it looks like. \n",
    "\n",
    "# You are looking at the network of liberal-leaning individuals: the ideas that they associate with each other.\n",
    "\n",
    "generate_html_visualization(\n",
    "    conditioned_corr_matrix,\n",
    "    output_path='delete_this_file.html'\n",
    ")"
   ]
  },
  {
   "cell_type": "code",
   "execution_count": 1,
   "metadata": {},
   "outputs": [
    {
     "ename": "NameError",
     "evalue": "name 'calculate_conditioned_correlation_matrix' is not defined",
     "output_type": "error",
     "traceback": [
      "\u001b[1;31m---------------------------------------------------------------------------\u001b[0m",
      "\u001b[1;31mNameError\u001b[0m                                 Traceback (most recent call last)",
      "Cell \u001b[1;32mIn[1], line 19\u001b[0m\n\u001b[0;32m     15\u001b[0m var_to_condition \u001b[38;5;241m=\u001b[39m \u001b[38;5;124m'\u001b[39m\u001b[38;5;124mPOLVIEWS\u001b[39m\u001b[38;5;124m'\u001b[39m\n\u001b[0;32m     16\u001b[0m years_of_interest \u001b[38;5;241m=\u001b[39m [\u001b[38;5;241m1998\u001b[39m, \u001b[38;5;241m2000\u001b[39m, \u001b[38;5;241m2002\u001b[39m, \u001b[38;5;241m2004\u001b[39m]\n\u001b[1;32m---> 19\u001b[0m liberal_corr_matrix \u001b[38;5;241m=\u001b[39m \u001b[43mcalculate_conditioned_correlation_matrix\u001b[49m(\n\u001b[0;32m     20\u001b[0m     cleaned_df, \n\u001b[0;32m     21\u001b[0m     years_of_interest\u001b[38;5;241m=\u001b[39myears_of_interest,\n\u001b[0;32m     22\u001b[0m     method\u001b[38;5;241m=\u001b[39mCorrelationMethod\u001b[38;5;241m.\u001b[39mPEARSON,   \n\u001b[0;32m     23\u001b[0m     partial\u001b[38;5;241m=\u001b[39m\u001b[38;5;28;01mTrue\u001b[39;00m,\n\u001b[0;32m     24\u001b[0m     edge_suppression\u001b[38;5;241m=\u001b[39mEdgeSuppressionMethod\u001b[38;5;241m.\u001b[39mREGULARIZATION,\n\u001b[0;32m     25\u001b[0m     suppression_params\u001b[38;5;241m=\u001b[39m{\u001b[38;5;124m'\u001b[39m\u001b[38;5;124mregularization\u001b[39m\u001b[38;5;124m'\u001b[39m: \u001b[38;5;241m0.18\u001b[39m},\n\u001b[0;32m     26\u001b[0m \n\u001b[0;32m     27\u001b[0m     variable_to_condition\u001b[38;5;241m=\u001b[39mvar_to_condition, \n\u001b[0;32m     28\u001b[0m     condition\u001b[38;5;241m=\u001b[39m\u001b[38;5;124m'\u001b[39m\u001b[38;5;124mless_than_zero\u001b[39m\u001b[38;5;124m'\u001b[39m,\n\u001b[0;32m     29\u001b[0m \n\u001b[0;32m     30\u001b[0m     return_sample_sizes\u001b[38;5;241m=\u001b[39m\u001b[38;5;28;01mTrue\u001b[39;00m\n\u001b[0;32m     31\u001b[0m )\n\u001b[0;32m     36\u001b[0m conservative_corr_matrix \u001b[38;5;241m=\u001b[39m calculate_conditioned_correlation_matrix(\n\u001b[0;32m     37\u001b[0m     cleaned_df, \n\u001b[0;32m     38\u001b[0m     years_of_interest\u001b[38;5;241m=\u001b[39myears_of_interest,\n\u001b[1;32m   (...)\u001b[0m\n\u001b[0;32m     47\u001b[0m     return_sample_sizes\u001b[38;5;241m=\u001b[39m\u001b[38;5;28;01mTrue\u001b[39;00m\n\u001b[0;32m     48\u001b[0m )\n\u001b[0;32m     50\u001b[0m \u001b[38;5;66;03m# Now we can call the graph_similarity function to calculate the graph edit distance between the two networks.\u001b[39;00m\n\u001b[0;32m     51\u001b[0m \n\u001b[0;32m     52\u001b[0m \u001b[38;5;66;03m# The threshold parameter simply determines the correlation strength that is sufficient to be considered an edge (0 means all edges are considered and 1 means no edges are considered).\u001b[39;00m\n\u001b[1;32m   (...)\u001b[0m\n\u001b[0;32m     55\u001b[0m \n\u001b[0;32m     56\u001b[0m \u001b[38;5;66;03m# If the similarity score is, say, 250, then 250 edge insertions/deletions are needed to transform one network into the other.\u001b[39;00m\n",
      "\u001b[1;31mNameError\u001b[0m: name 'calculate_conditioned_correlation_matrix' is not defined"
     ]
    }
   ],
   "source": [
    "## Further analysis (graph edit distance) 😹\n",
    "\n",
    "# We can do some basic analysis now.\n",
    "\n",
    "# A natural question is: how different are the networks of liberals and conservatives?\n",
    "\n",
    "# To answer this question, we can calculate some sort of graph distance metric the network of liberals and the network of conservatives.\n",
    "\n",
    "# In this case, we will use the so-called Graph Edit Distance -- the number of edits (deletions, insertions) needed to transform one network into the other.\n",
    "\n",
    "########################################################\n",
    "\n",
    "#First, we'll calculate the two networks.\n",
    "\n",
    "var_to_condition = 'POLVIEWS'\n",
    "years_of_interest = [1998, 2000, 2002, 2004]\n",
    "\n",
    "\n",
    "liberal_corr_matrix = calculate_conditioned_correlation_matrix(\n",
    "    cleaned_df, \n",
    "    years_of_interest=years_of_interest,\n",
    "    method=CorrelationMethod.PEARSON,   \n",
    "    partial=True,\n",
    "    edge_suppression=EdgeSuppressionMethod.REGULARIZATION,\n",
    "    suppression_params={'regularization': 0.18},\n",
    "\n",
    "    variable_to_condition=var_to_condition, \n",
    "    condition='less_than_zero',\n",
    "\n",
    "    return_sample_sizes=True\n",
    ")\n",
    "\n",
    "\n",
    "\n",
    "\n",
    "conservative_corr_matrix = calculate_conditioned_correlation_matrix(\n",
    "    cleaned_df, \n",
    "    years_of_interest=years_of_interest,\n",
    "    method=CorrelationMethod.PEARSON,\n",
    "    partial=True,\n",
    "    edge_suppression=EdgeSuppressionMethod.REGULARIZATION,\n",
    "    suppression_params={'regularization': 0.18},\n",
    "\n",
    "    variable_to_condition=var_to_condition, \n",
    "    condition='greater_than_zero',\n",
    "\n",
    "    return_sample_sizes=True\n",
    ")\n",
    "\n",
    "# Now we can call the graph_similarity function to calculate the graph edit distance between the two networks.\n",
    "\n",
    "# The threshold parameter simply determines the correlation strength that is sufficient to be considered an edge (0 means all edges are considered and 1 means no edges are considered).\n",
    "\n",
    "# If the similarity score is 0, the networks are identical.\n",
    "\n",
    "# If the similarity score is, say, 250, then 250 edge insertions/deletions are needed to transform one network into the other.\n",
    "\n",
    "if liberal_corr_matrix is not None and conservative_corr_matrix is not None:\n",
    "    graph_edit_distance = graph_similarity(liberal_corr_matrix, conservative_corr_matrix, \n",
    "                                        similarity_method=\"graph_edit_distance\",\n",
    "                                        edge_threshold=0.01\n",
    "                                        )\n",
    "    print(graph_edit_distance)"
   ]
  },
  {
   "cell_type": "code",
   "execution_count": null,
   "metadata": {},
   "outputs": [
    {
     "name": "stdout",
     "output_type": "stream",
     "text": [
      "Difference:\n",
      "\n",
      "              ABANY  ABDEFECT  ABHLTH  ABNOMORE  ABPOOR\n",
      "POLABUSE  0.000000       0.0     0.0       0.0     0.0\n",
      "POLMURDR  0.000000       0.0     0.0       0.0     0.0\n",
      "CONCLERG  0.035218       0.0     0.0       0.0     0.0\n",
      "SPKMIL    0.000000       0.0     0.0       0.0     0.0\n",
      "HELPPOOR  0.000000       0.0     0.0       0.0     0.0\n",
      "\n",
      "Top 5 largest absolute values (upper triangle only):\n",
      "\n",
      " PRESLAST_DEMREP      WOULDVOTELAST_NONCONFORM    0.188711\n",
      "RELIG_Catholic       RELIG_Protestant            0.188631\n",
      "PRESLAST_NONCONFORM  WOULDVOTELAST_NONCONFORM    0.157105\n",
      "AFFRMACT             WRKWAYUP                    0.148075\n",
      "HOMOSEX              PRAYER                      0.138932\n",
      "dtype: float64\n"
     ]
    }
   ],
   "source": [
    "import numpy as np\n",
    "\n",
    "# In this section, we're comparing the correlation networks between liberal and conservative \n",
    "# respondents to identify key differences in their belief structures. This analysis helps us \n",
    "# understand how political ideology influences the relationships between different attitudes\n",
    "# and opinions.\n",
    "#\n",
    "# We'll perform the following steps:\n",
    "# 1. Align the correlation matrices to ensure direct comparability\n",
    "# 2. Calculate the absolute differences between corresponding correlations\n",
    "# 3. Identify the variable pairs with the largest differences between networks\n",
    "# 4. Visualize and interpret these differences to understand ideological divides\n",
    "\n",
    "# Align the matrices to ensure they have identical structure for comparison\n",
    "# First, align the columns of both matrices\n",
    "liberal_corr_matrix = liberal_corr_matrix.reindex(conservative_corr_matrix.columns)\n",
    "conservative_corr_matrix = conservative_corr_matrix.reindex(liberal_corr_matrix.columns)\n",
    "\n",
    "# Then, align the rows of both matrices\n",
    "liberal_corr_matrix = liberal_corr_matrix.reindex(conservative_corr_matrix.index)\n",
    "conservative_corr_matrix = conservative_corr_matrix.reindex(liberal_corr_matrix.index)\n",
    "\n",
    "# Calculate the absolute difference between the two correlation matrices\n",
    "# This shows how much the correlation strengths differ between liberal and conservative networks\n",
    "difference = abs(liberal_corr_matrix - conservative_corr_matrix)\n",
    "\n",
    "# Replace NaN values with 0 in the difference matrix\n",
    "# This handles cases where a correlation exists in one network but not the other\n",
    "difference = difference.where(~difference.isna(), 0)\n",
    "\n",
    "# Display a preview of the difference matrix (top-left 5×5 section)\n",
    "# This gives us a quick look at some of the differences between networks\n",
    "print(\"Difference:\")\n",
    "print(\"\\n\", difference.iloc[:5, :5])\n",
    "\n",
    "# Find the variable pairs with the largest differences between networks\n",
    "print(\"\\nTop 5 largest absolute values (upper triangle only):\")\n",
    "\n",
    "# Create a mask for the upper triangle of the matrix (k=1 excludes the diagonal)\n",
    "# Since correlation matrices are symmetric, we only need to examine half\n",
    "mask = np.triu(np.ones(difference.shape), k=1).astype(bool)\n",
    "\n",
    "# Apply the mask to get only the upper triangle values\n",
    "difference_upper = difference.where(mask)\n",
    "\n",
    "# Convert to a Series, remove NaN values, and find the top 5 largest differences\n",
    "# These represent the relationships that differ most between liberal and conservative networks\n",
    "difference_flat = difference_upper.abs().stack().dropna()\n",
    "print(\"\\n\", difference_flat.sort_values(ascending=False).head(5))"
   ]
  },
  {
   "cell_type": "code",
   "execution_count": 63,
   "metadata": {},
   "outputs": [
    {
     "name": "stdout",
     "output_type": "stream",
     "text": [
      "\n",
      "Edge strengths for AFFRMACT-WRKWAYUP:\n",
      "Liberal network: -0.173209\n",
      "Conservative network: -0.025133\n",
      "\n",
      "Edge strengths for PRAYER-HOMOSEX:\n",
      "Liberal network: -0.156688\n",
      "Conservative network: -0.017731\n"
     ]
    }
   ],
   "source": [
    "# The third and fourth biggest differences are:\n",
    "# AFFRMACT, WRKWAYUP 0.148075\n",
    "# PRAYER, HOMOSEX 0.138957\n",
    "# Print the strengths of these two edges in the networks\n",
    "print(\"\\nEdge strengths for AFFRMACT-WRKWAYUP:\")\n",
    "print(f\"Liberal network: {liberal_corr_matrix.loc['AFFRMACT', 'WRKWAYUP']:.6f}\")\n",
    "print(f\"Conservative network: {conservative_corr_matrix.loc['AFFRMACT', 'WRKWAYUP']:.6f}\")\n",
    "\n",
    "print(\"\\nEdge strengths for PRAYER-HOMOSEX:\")\n",
    "print(f\"Liberal network: {liberal_corr_matrix.loc['PRAYER', 'HOMOSEX']:.6f}\")\n",
    "print(f\"Conservative network: {conservative_corr_matrix.loc['PRAYER', 'HOMOSEX']:.6f}\")"
   ]
  },
  {
   "cell_type": "code",
   "execution_count": 18,
   "metadata": {},
   "outputs": [
    {
     "name": "stdout",
     "output_type": "stream",
     "text": [
      "PRESLAST_DEMREP --- WOULDVOTELAST_NONCONFORM, is 0.188711 in the liberal network and 0.000000 in the conservative network.\n",
      "WOULDVOTELAST_NONCONFORM --- PRESLAST_DEMREP, is 0.188711 in the liberal network and 0.000000 in the conservative network.\n",
      "PARTYID --- WOULDVOTELAST_DEMREP, is 0.213058 in the conservative network and nan in the liberal network.\n",
      "PRESLAST_DEMREP --- WOULDVOTELAST_DEMREP, is 0.289686 in the conservative network and nan in the liberal network.\n",
      "WOULDVOTELAST_DEMREP --- PARTYID, is 0.213058 in the conservative network and nan in the liberal network.\n",
      "WOULDVOTELAST_DEMREP --- PRESLAST_DEMREP, is 0.289686 in the conservative network and nan in the liberal network.\n",
      "NATDRUG --- NATCRIME, is 0.215521 in the conservative network and nan in the liberal network.\n",
      "NATCRIME --- NATDRUG, is 0.215521 in the conservative network and nan in the liberal network.\n"
     ]
    }
   ],
   "source": [
    "# We can also identify edges that are present in one network but not the other.\n",
    "# First ensure the two matrices have the same column and row order\n",
    "liberal_corr_matrix = liberal_corr_matrix.reindex(conservative_corr_matrix.columns)\n",
    "conservative_corr_matrix = conservative_corr_matrix.reindex(liberal_corr_matrix.columns)\n",
    "liberal_corr_matrix = liberal_corr_matrix.reindex(conservative_corr_matrix.index)\n",
    "conservative_corr_matrix = conservative_corr_matrix.reindex(liberal_corr_matrix.index)\n",
    "\n",
    "threshold = 0.18\n",
    "\n",
    "variables_list = liberal_corr_matrix.columns.tolist()\n",
    "\n",
    "for variable in variables_list:\n",
    "    for other_variable in variables_list:\n",
    "        if variable != other_variable:\n",
    "            if liberal_corr_matrix.loc[variable, other_variable] > threshold and (conservative_corr_matrix.loc[variable, other_variable] == 0 or np.isnan(conservative_corr_matrix.loc[variable, other_variable])):\n",
    "                print(f\"{variable} --- {other_variable}, is {liberal_corr_matrix.loc[variable, other_variable]:.6f} in the liberal network and {conservative_corr_matrix.loc[variable, other_variable]:.6f} in the conservative network.\")\n",
    "\n",
    "for variable in variables_list:\n",
    "    for other_variable in variables_list:\n",
    "        if variable != other_variable:\n",
    "            if conservative_corr_matrix.loc[variable, other_variable] > threshold and (liberal_corr_matrix.loc[variable, other_variable] == 0 or np.isnan(liberal_corr_matrix.loc[variable, other_variable])):\n",
    "                print(f\"{variable} --- {other_variable}, is {conservative_corr_matrix.loc[variable, other_variable]:.6f} in the conservative network and {liberal_corr_matrix.loc[variable, other_variable]:.6f} in the liberal network.\")\n"
   ]
  },
  {
   "cell_type": "code",
   "execution_count": 47,
   "metadata": {},
   "outputs": [
    {
     "name": "stdout",
     "output_type": "stream",
     "text": [
      "Top 5 central nodes in Liberal network:\n",
      "         Strength  Betweenness  Eigenvector\n",
      "NATHEAL       0.0     0.057298     0.201287\n",
      "NATCITY       0.0     0.057298     0.201287\n",
      "NATSCI        0.0     0.057298     0.201287\n",
      "NATFARE       0.0     0.057298     0.201287\n",
      "NATDRUG       0.0     0.057298     0.201287\n",
      "\n",
      "Top 5 central nodes in Conservative network:\n",
      "          Strength  Betweenness  Eigenvector\n",
      "LETDIE1   0.738909     0.018882     0.143223\n",
      "FECHLD    0.436149     0.018882     0.143223\n",
      "LIBATH    0.699512     0.018882     0.143223\n",
      "POSTLIFE  0.000000     0.018882     0.143223\n",
      "HELPBLK   0.466559     0.018882     0.143223\n",
      "\n",
      "Top 5 largest differences in Betweenness Centrality:\n",
      "          Liberal  Conservative  Absolute_Difference\n",
      "NATAID   0.057298      0.000000             0.057298\n",
      "NATSCI   0.057298      0.000000             0.057298\n",
      "NATCITY  0.057298      0.000008             0.057289\n",
      "NATDRUG  0.057298      0.000017             0.057281\n",
      "NATHEAL  0.057298      0.000033             0.057265\n",
      "\n",
      "Top 5 largest differences in Eigenvector Centrality:\n",
      "          Liberal  Conservative  Absolute_Difference\n",
      "NATAID   0.201287      0.055552             0.145734\n",
      "NATSCI   0.201287      0.055735             0.145552\n",
      "NATCITY  0.201287      0.057437             0.143850\n",
      "NATDRUG  0.201287      0.058118             0.143168\n",
      "NATHEAL  0.201287      0.061047             0.140239\n",
      "\n",
      "Top 5 largest differences in Node Strength:\n",
      "          Liberal  Conservative  Absolute_Difference\n",
      "NATEDUC  0.000000      1.651290             1.651290\n",
      "NATCHLD  0.124272      1.578015             1.453743\n",
      "NATRACE  0.000000      1.427613             1.427613\n",
      "EQWLTH   0.302714      1.706107             1.403393\n",
      "PARTYID  0.426534      1.637683             1.211150\n"
     ]
    }
   ],
   "source": [
    "# let's now calculate the node-level centralities of both networks\n",
    "\n",
    "import networkx as nx\n",
    "import pandas as pd\n",
    "import numpy as np\n",
    "\n",
    "# Convert correlation matrices to networkx graphs\n",
    "# Assuming liberal_corr and conservative_corr are your correlation matrices\n",
    "def create_graph(corr_matrix):\n",
    "    G = nx.from_numpy_array(np.abs(corr_matrix.values))\n",
    "    G = nx.relabel_nodes(G, {i: name for i, name in enumerate(corr_matrix.columns)})\n",
    "    return G\n",
    "\n",
    "# Create graphs\n",
    "liberal_graph = create_graph(liberal_corr_matrix)\n",
    "conservative_graph = create_graph(conservative_corr_matrix)\n",
    "\n",
    "# Calculate centrality measures for both networks\n",
    "def calculate_centralities(G, network_name):\n",
    "    # Calculate all centrality measures\n",
    "    betweenness_cent = nx.betweenness_centrality(G)\n",
    "    eigenvector_cent = nx.eigenvector_centrality(G, max_iter=1000)\n",
    "    \n",
    "    # Calculate absolute summed edge strength (weighted degree)\n",
    "    strength = {node: sum(abs(data.get('weight', 0)) if not np.isnan(data.get('weight', 0)) else 0 \n",
    "                for _, _, data in G.edges(node, data=True))\n",
    "                for node in G.nodes()}\n",
    "    \n",
    "    # Combine all measures into a DataFrame\n",
    "    centralities = pd.DataFrame({\n",
    "        'Strength': strength,\n",
    "        'Betweenness': betweenness_cent,\n",
    "        'Eigenvector': eigenvector_cent\n",
    "    })\n",
    "    \n",
    "    return centralities\n",
    "\n",
    "# Get centrality measures for both networks\n",
    "liberal_centralities = calculate_centralities(liberal_graph, \"Liberal\")\n",
    "conservative_centralities = calculate_centralities(conservative_graph, \"Conservative\")\n",
    "\n",
    "# Display top 5 nodes by eigenvector centrality for each network\n",
    "print(\"Top 5 central nodes in Liberal network:\")\n",
    "print(liberal_centralities.sort_values('Betweenness', ascending=False).head(5))\n",
    "\n",
    "print(\"\\nTop 5 central nodes in Conservative network:\")\n",
    "print(conservative_centralities.sort_values('Betweenness', ascending=False).head(5))\n",
    "\n",
    "# Calculate differences in each centrality type between networks\n",
    "\n",
    "# Calculate the differences in betweenness centrality between networks\n",
    "betweenness_diff = pd.DataFrame({\n",
    "    'Liberal': liberal_centralities['Betweenness'],\n",
    "    'Conservative': conservative_centralities['Betweenness']\n",
    "})\n",
    "betweenness_diff['Absolute_Difference'] = abs(betweenness_diff['Liberal'] - betweenness_diff['Conservative'])\n",
    "\n",
    "# Display the top 5 nodes with largest differences in betweenness centrality\n",
    "print(\"\\nTop 5 largest differences in Betweenness Centrality:\")\n",
    "top_diff = betweenness_diff.sort_values('Absolute_Difference', ascending=False).head(5)\n",
    "print(top_diff)\n",
    "\n",
    "# Calculate the differences in eigenvector centrality between networks\n",
    "eigenvector_diff = pd.DataFrame({\n",
    "    'Liberal': liberal_centralities['Eigenvector'],\n",
    "    'Conservative': conservative_centralities['Eigenvector']\n",
    "})\n",
    "eigenvector_diff['Absolute_Difference'] = abs(eigenvector_diff['Liberal'] - eigenvector_diff['Conservative'])\n",
    "\n",
    "# Display the top 5 nodes with largest differences in eigenvector centrality\n",
    "print(\"\\nTop 5 largest differences in Eigenvector Centrality:\")\n",
    "top_eigenvector_diff = eigenvector_diff.sort_values('Absolute_Difference', ascending=False).head(5)\n",
    "print(top_eigenvector_diff)\n",
    "\n",
    "# Calculate the differences in strength (weighted degree) between networks\n",
    "strength_diff = pd.DataFrame({\n",
    "    'Liberal': liberal_centralities['Strength'],\n",
    "    'Conservative': conservative_centralities['Strength']\n",
    "})\n",
    "strength_diff['Absolute_Difference'] = abs(strength_diff['Liberal'] - strength_diff['Conservative'])\n",
    "\n",
    "# Display the top 5 nodes with largest differences in strength\n",
    "print(\"\\nTop 5 largest differences in Node Strength:\")\n",
    "top_strength_diff = strength_diff.sort_values('Absolute_Difference', ascending=False).head(5)\n",
    "print(top_strength_diff)\n",
    "\n"
   ]
  },
  {
   "cell_type": "code",
   "execution_count": null,
   "metadata": {},
   "outputs": [
    {
     "name": "stdout",
     "output_type": "stream",
     "text": [
      "Network visualization has been saved to c:\\Users\\timbo\\Github\\BeliefNetworkEvo\\CLEAN\\notebooks\\tutorials\\delete_this_file_Liberal.html\n",
      "Network visualization has been saved to c:\\Users\\timbo\\Github\\BeliefNetworkEvo\\CLEAN\\notebooks\\tutorials\\delete_this_file_Conservative.html\n"
     ]
    }
   ],
   "source": [
    "generate_html_visualization(\n",
    "    liberal_corr_matrix,\n",
    "    highlight_nodes=['POLVIEWS', 'HOMOSEX'],\n",
    "    output_path='delete_this_file_Liberal.html'\n",
    ")\n",
    "generate_html_visualization(\n",
    "    conservative_corr_matrix,\n",
    "    highlight_nodes=['POLVIEWS', 'HOMOSEX'],\n",
    "    output_path='delete_this_file_Conservative.html'\n",
    ")"
   ]
  },
  {
   "cell_type": "code",
   "execution_count": 18,
   "metadata": {},
   "outputs": [
    {
     "data": {
      "application/vnd.plotly.v1+json": {
       "config": {
        "plotlyServerURL": "https://plot.ly"
       },
       "data": [
        {
         "hovertemplate": "Threshold Strength=%{x}<br>Graph Edit Distance=%{y}<extra></extra>",
         "legendgroup": "",
         "line": {
          "color": "#636efa",
          "dash": "solid"
         },
         "marker": {
          "symbol": "circle"
         },
         "mode": "lines",
         "name": "",
         "orientation": "v",
         "showlegend": false,
         "type": "scatter",
         "x": [
          0,
          0.0015037593984962407,
          0.0030075187969924814,
          0.004511278195488722,
          0.006015037593984963,
          0.0075187969924812035,
          0.009022556390977444,
          0.010526315789473686,
          0.012030075187969926,
          0.013533834586466165,
          0.015037593984962407,
          0.01654135338345865,
          0.01804511278195489,
          0.019548872180451128,
          0.02105263157894737,
          0.02255639097744361,
          0.02406015037593985,
          0.02556390977443609,
          0.02706766917293233,
          0.028571428571428574,
          0.030075187969924814,
          0.031578947368421054,
          0.0330827067669173,
          0.03458646616541353,
          0.03609022556390978,
          0.03759398496240602,
          0.039097744360902256,
          0.0406015037593985,
          0.04210526315789474,
          0.04360902255639098,
          0.04511278195488722,
          0.04661654135338346,
          0.0481203007518797,
          0.049624060150375945,
          0.05112781954887218,
          0.052631578947368425,
          0.05413533834586466,
          0.055639097744360905,
          0.05714285714285715,
          0.058646616541353384,
          0.06015037593984963,
          0.06165413533834587,
          0.06315789473684211,
          0.06466165413533835,
          0.0661654135338346,
          0.06766917293233084,
          0.06917293233082707,
          0.07067669172932331,
          0.07218045112781955,
          0.0736842105263158,
          0.07518796992481204,
          0.07669172932330827,
          0.07819548872180451,
          0.07969924812030076,
          0.081203007518797,
          0.08270676691729324,
          0.08421052631578949,
          0.08571428571428572,
          0.08721804511278196,
          0.0887218045112782,
          0.09022556390977444,
          0.09172932330827069,
          0.09323308270676692,
          0.09473684210526316,
          0.0962406015037594,
          0.09774436090225565,
          0.09924812030075189,
          0.10075187969924812,
          0.10225563909774436,
          0.1037593984962406,
          0.10526315789473685,
          0.1067669172932331,
          0.10827067669172932,
          0.10977443609022557,
          0.11127819548872181,
          0.11278195488721805,
          0.1142857142857143,
          0.11578947368421054,
          0.11729323308270677,
          0.11879699248120301,
          0.12030075187969926,
          0.1218045112781955,
          0.12330827067669174,
          0.12481203007518797,
          0.12631578947368421,
          0.12781954887218047,
          0.1293233082706767,
          0.13082706766917293,
          0.1323308270676692,
          0.13383458646616542,
          0.13533834586466167,
          0.1368421052631579,
          0.13834586466165413,
          0.1398496240601504,
          0.14135338345864662,
          0.14285714285714288,
          0.1443609022556391,
          0.14586466165413534,
          0.1473684210526316,
          0.14887218045112782,
          0.15037593984962408,
          0.1518796992481203,
          0.15338345864661654,
          0.1548872180451128,
          0.15639097744360902,
          0.15789473684210528,
          0.1593984962406015,
          0.16090225563909774,
          0.162406015037594,
          0.16390977443609023,
          0.16541353383458648,
          0.16691729323308271,
          0.16842105263157897,
          0.1699248120300752,
          0.17142857142857143,
          0.1729323308270677,
          0.17443609022556392,
          0.17593984962406017,
          0.1774436090225564,
          0.17894736842105263,
          0.1804511278195489,
          0.18195488721804512,
          0.18345864661654138,
          0.1849624060150376,
          0.18646616541353384,
          0.1879699248120301,
          0.18947368421052632,
          0.19097744360902258,
          0.1924812030075188,
          0.19398496240601504,
          0.1954887218045113,
          0.19699248120300752,
          0.19849624060150378,
          0.2,
          0.20150375939849624,
          0.2030075187969925,
          0.20451127819548873,
          0.20601503759398498,
          0.2075187969924812,
          0.20902255639097744,
          0.2105263157894737,
          0.21203007518796993,
          0.2135338345864662,
          0.21503759398496242,
          0.21654135338345865,
          0.2180451127819549,
          0.21954887218045113,
          0.2210526315789474,
          0.22255639097744362,
          0.22406015037593988,
          0.2255639097744361,
          0.22706766917293233,
          0.2285714285714286,
          0.23007518796992482,
          0.23157894736842108,
          0.2330827067669173,
          0.23458646616541354,
          0.2360902255639098,
          0.23759398496240602,
          0.23909774436090228,
          0.2406015037593985,
          0.24210526315789474,
          0.243609022556391,
          0.24511278195488723,
          0.24661654135338348,
          0.2481203007518797,
          0.24962406015037594,
          0.2511278195488722,
          0.25263157894736843,
          0.25413533834586466,
          0.25563909774436094,
          0.2571428571428572,
          0.2586466165413534,
          0.26015037593984963,
          0.26165413533834586,
          0.26315789473684215,
          0.2646616541353384,
          0.2661654135338346,
          0.26766917293233083,
          0.26917293233082706,
          0.27067669172932335,
          0.2721804511278196,
          0.2736842105263158,
          0.27518796992481204,
          0.27669172932330827,
          0.27819548872180455,
          0.2796992481203008,
          0.281203007518797,
          0.28270676691729324,
          0.28421052631578947,
          0.28571428571428575,
          0.287218045112782,
          0.2887218045112782,
          0.29022556390977444,
          0.29172932330827067,
          0.29323308270676696,
          0.2947368421052632,
          0.2962406015037594,
          0.29774436090225564,
          0.2992481203007519,
          0.30075187969924816,
          0.3022556390977444,
          0.3037593984962406,
          0.30526315789473685,
          0.3067669172932331,
          0.30827067669172936,
          0.3097744360902256,
          0.3112781954887218,
          0.31278195488721805,
          0.3142857142857143,
          0.31578947368421056,
          0.3172932330827068,
          0.318796992481203,
          0.32030075187969925,
          0.3218045112781955,
          0.32330827067669177,
          0.324812030075188,
          0.3263157894736842,
          0.32781954887218046,
          0.3293233082706767,
          0.33082706766917297,
          0.3323308270676692,
          0.33383458646616543,
          0.33533834586466166,
          0.33684210526315794,
          0.33834586466165417,
          0.3398496240601504,
          0.34135338345864663,
          0.34285714285714286,
          0.34436090225563915,
          0.3458646616541354,
          0.3473684210526316,
          0.34887218045112783,
          0.35037593984962406,
          0.35187969924812035,
          0.3533834586466166,
          0.3548872180451128,
          0.35639097744360904,
          0.35789473684210527,
          0.35939849624060155,
          0.3609022556390978,
          0.362406015037594,
          0.36390977443609024,
          0.36541353383458647,
          0.36691729323308275,
          0.368421052631579,
          0.3699248120300752,
          0.37142857142857144,
          0.37293233082706767,
          0.37443609022556396,
          0.3759398496240602,
          0.3774436090225564,
          0.37894736842105264,
          0.3804511278195489,
          0.38195488721804516,
          0.3834586466165414,
          0.3849624060150376,
          0.38646616541353385,
          0.3879699248120301,
          0.38947368421052636,
          0.3909774436090226,
          0.3924812030075188,
          0.39398496240601505,
          0.3954887218045113,
          0.39699248120300756,
          0.3984962406015038,
          0.4,
          0.40150375939849625,
          0.4030075187969925,
          0.40451127819548877,
          0.406015037593985,
          0.4075187969924812,
          0.40902255639097745,
          0.4105263157894737,
          0.41203007518796997,
          0.4135338345864662,
          0.4150375939849624,
          0.41654135338345866,
          0.4180451127819549,
          0.41954887218045117,
          0.4210526315789474,
          0.42255639097744363,
          0.42406015037593986,
          0.4255639097744361,
          0.4270676691729324,
          0.4285714285714286,
          0.43007518796992483,
          0.43157894736842106,
          0.4330827067669173,
          0.4345864661654136,
          0.4360902255639098,
          0.43759398496240604,
          0.43909774436090226,
          0.44060150375939855,
          0.4421052631578948,
          0.443609022556391,
          0.44511278195488724,
          0.44661654135338347,
          0.44812030075187975,
          0.449624060150376,
          0.4511278195488722,
          0.45263157894736844,
          0.45413533834586467,
          0.45563909774436095,
          0.4571428571428572,
          0.4586466165413534,
          0.46015037593984964,
          0.4616541353383459,
          0.46315789473684216,
          0.4646616541353384,
          0.4661654135338346,
          0.46766917293233085,
          0.4691729323308271,
          0.47067669172932336,
          0.4721804511278196,
          0.4736842105263158,
          0.47518796992481205,
          0.4766917293233083,
          0.47819548872180456,
          0.4796992481203008,
          0.481203007518797,
          0.48270676691729325,
          0.4842105263157895,
          0.48571428571428577,
          0.487218045112782,
          0.4887218045112782,
          0.49022556390977445,
          0.4917293233082707,
          0.49323308270676697,
          0.4947368421052632,
          0.4962406015037594,
          0.49774436090225566,
          0.4992481203007519,
          0.5007518796992482,
          0.5022556390977444,
          0.5037593984962406,
          0.5052631578947369,
          0.5067669172932331,
          0.5082706766917293,
          0.5097744360902255,
          0.5112781954887219,
          0.5127819548872181,
          0.5142857142857143,
          0.5157894736842106,
          0.5172932330827068,
          0.518796992481203,
          0.5203007518796993,
          0.5218045112781955,
          0.5233082706766917,
          0.524812030075188,
          0.5263157894736843,
          0.5278195488721805,
          0.5293233082706768,
          0.530827067669173,
          0.5323308270676692,
          0.5338345864661654,
          0.5353383458646617,
          0.5368421052631579,
          0.5383458646616541,
          0.5398496240601504,
          0.5413533834586467,
          0.5428571428571429,
          0.5443609022556392,
          0.5458646616541354,
          0.5473684210526316,
          0.5488721804511278,
          0.5503759398496241,
          0.5518796992481203,
          0.5533834586466165,
          0.5548872180451128,
          0.5563909774436091,
          0.5578947368421053,
          0.5593984962406016,
          0.5609022556390978,
          0.562406015037594,
          0.5639097744360902,
          0.5654135338345865,
          0.5669172932330827,
          0.5684210526315789,
          0.5699248120300752,
          0.5714285714285715,
          0.5729323308270677,
          0.574436090225564,
          0.5759398496240602,
          0.5774436090225564,
          0.5789473684210527,
          0.5804511278195489,
          0.5819548872180451,
          0.5834586466165413,
          0.5849624060150377,
          0.5864661654135339,
          0.5879699248120301,
          0.5894736842105264,
          0.5909774436090226,
          0.5924812030075188,
          0.5939849624060151,
          0.5954887218045113,
          0.5969924812030075,
          0.5984962406015037,
          0.6000000000000001,
          0.6015037593984963,
          0.6030075187969925,
          0.6045112781954888,
          0.606015037593985,
          0.6075187969924812,
          0.6090225563909775,
          0.6105263157894737,
          0.6120300751879699,
          0.6135338345864662,
          0.6150375939849625,
          0.6165413533834587,
          0.618045112781955,
          0.6195488721804512,
          0.6210526315789474,
          0.6225563909774436,
          0.6240601503759399,
          0.6255639097744361,
          0.6270676691729323,
          0.6285714285714286,
          0.6300751879699249,
          0.6315789473684211,
          0.6330827067669174,
          0.6345864661654136,
          0.6360902255639098,
          0.637593984962406,
          0.6390977443609023,
          0.6406015037593985,
          0.6421052631578947,
          0.643609022556391,
          0.6451127819548873,
          0.6466165413533835,
          0.6481203007518798,
          0.649624060150376,
          0.6511278195488722,
          0.6526315789473685,
          0.6541353383458647,
          0.6556390977443609,
          0.6571428571428571,
          0.6586466165413534,
          0.6601503759398497,
          0.6616541353383459,
          0.6631578947368422,
          0.6646616541353384,
          0.6661654135338346,
          0.6676691729323309,
          0.6691729323308271,
          0.6706766917293233,
          0.6721804511278195,
          0.6736842105263159,
          0.6751879699248121,
          0.6766917293233083,
          0.6781954887218046,
          0.6796992481203008,
          0.681203007518797,
          0.6827067669172933,
          0.6842105263157895,
          0.6857142857142857,
          0.687218045112782,
          0.6887218045112783,
          0.6902255639097745,
          0.6917293233082707,
          0.693233082706767,
          0.6947368421052632,
          0.6962406015037594,
          0.6977443609022557,
          0.6992481203007519,
          0.7007518796992481,
          0.7022556390977444,
          0.7037593984962407,
          0.7052631578947369,
          0.7067669172932332,
          0.7082706766917294,
          0.7097744360902256,
          0.7112781954887218,
          0.7127819548872181,
          0.7142857142857143,
          0.7157894736842105,
          0.7172932330827068,
          0.7187969924812031,
          0.7203007518796993,
          0.7218045112781956,
          0.7233082706766918,
          0.724812030075188,
          0.7263157894736842,
          0.7278195488721805,
          0.7293233082706767,
          0.7308270676691729,
          0.7323308270676692,
          0.7338345864661655,
          0.7353383458646617,
          0.736842105263158,
          0.7383458646616542,
          0.7398496240601504,
          0.7413533834586467,
          0.7428571428571429,
          0.7443609022556391,
          0.7458646616541353,
          0.7473684210526316,
          0.7488721804511279,
          0.7503759398496241,
          0.7518796992481204,
          0.7533834586466166,
          0.7548872180451128,
          0.7563909774436091,
          0.7578947368421053,
          0.7593984962406015,
          0.7609022556390977,
          0.762406015037594,
          0.7639097744360903,
          0.7654135338345865,
          0.7669172932330828,
          0.768421052631579,
          0.7699248120300752,
          0.7714285714285715,
          0.7729323308270677,
          0.7744360902255639,
          0.7759398496240602,
          0.7774436090225565,
          0.7789473684210527,
          0.780451127819549,
          0.7819548872180452,
          0.7834586466165414,
          0.7849624060150376,
          0.7864661654135339,
          0.7879699248120301,
          0.7894736842105263,
          0.7909774436090226,
          0.7924812030075189,
          0.7939849624060151,
          0.7954887218045114,
          0.7969924812030076,
          0.7984962406015038,
          0.8,
          0.8015037593984963,
          0.8030075187969925,
          0.8045112781954887,
          0.806015037593985,
          0.8075187969924813,
          0.8090225563909775,
          0.8105263157894738,
          0.81203007518797,
          0.8135338345864662,
          0.8150375939849624,
          0.8165413533834587,
          0.8180451127819549,
          0.8195488721804511,
          0.8210526315789474,
          0.8225563909774437,
          0.8240601503759399,
          0.8255639097744362,
          0.8270676691729324,
          0.8285714285714286,
          0.8300751879699249,
          0.8315789473684211,
          0.8330827067669173,
          0.8345864661654135,
          0.8360902255639098,
          0.8375939849624061,
          0.8390977443609023,
          0.8406015037593986,
          0.8421052631578948,
          0.843609022556391,
          0.8451127819548873,
          0.8466165413533835,
          0.8481203007518797,
          0.849624060150376,
          0.8511278195488722,
          0.8526315789473685,
          0.8541353383458647,
          0.855639097744361,
          0.8571428571428572,
          0.8586466165413534,
          0.8601503759398497,
          0.8616541353383459,
          0.8631578947368421,
          0.8646616541353384,
          0.8661654135338346,
          0.8676691729323309,
          0.8691729323308272,
          0.8706766917293234,
          0.8721804511278196,
          0.8736842105263158,
          0.8751879699248121,
          0.8766917293233083,
          0.8781954887218045,
          0.8796992481203008,
          0.8812030075187971,
          0.8827067669172933,
          0.8842105263157896,
          0.8857142857142858,
          0.887218045112782,
          0.8887218045112782,
          0.8902255639097745,
          0.8917293233082707,
          0.8932330827067669,
          0.8947368421052632,
          0.8962406015037595,
          0.8977443609022557,
          0.899248120300752,
          0.9007518796992482,
          0.9022556390977444,
          0.9037593984962407,
          0.9052631578947369,
          0.9067669172932331,
          0.9082706766917293,
          0.9097744360902256,
          0.9112781954887219,
          0.9127819548872181,
          0.9142857142857144,
          0.9157894736842106,
          0.9172932330827068,
          0.9187969924812031,
          0.9203007518796993,
          0.9218045112781955,
          0.9233082706766917,
          0.924812030075188,
          0.9263157894736843,
          0.9278195488721805,
          0.9293233082706768,
          0.930827067669173,
          0.9323308270676692,
          0.9338345864661655,
          0.9353383458646617,
          0.9368421052631579,
          0.9383458646616541,
          0.9398496240601504,
          0.9413533834586467,
          0.942857142857143,
          0.9443609022556392,
          0.9458646616541354,
          0.9473684210526316,
          0.9488721804511279,
          0.9503759398496241,
          0.9518796992481203,
          0.9533834586466166,
          0.9548872180451128,
          0.9563909774436091,
          0.9578947368421054,
          0.9593984962406016,
          0.9609022556390978,
          0.962406015037594,
          0.9639097744360903,
          0.9654135338345865,
          0.9669172932330827,
          0.968421052631579,
          0.9699248120300753,
          0.9714285714285715,
          0.9729323308270678,
          0.974436090225564,
          0.9759398496240602,
          0.9774436090225564,
          0.9789473684210527,
          0.9804511278195489,
          0.9819548872180451,
          0.9834586466165414,
          0.9849624060150377,
          0.9864661654135339,
          0.9879699248120302,
          0.9894736842105264,
          0.9909774436090226,
          0.9924812030075189,
          0.9939849624060151,
          0.9954887218045113,
          0.9969924812030075,
          0.9984962406015038,
          1
         ],
         "xaxis": "x",
         "y": [
          0.08520213577421816,
          0.06819221967963386,
          0.06498855835240275,
          0.0623951182303585,
          0.059344012204424104,
          0.057055682684973304,
          0.05598779557589626,
          0.05415713196033562,
          0.05156369183829138,
          0.0509534706331045,
          0.04851258581235698,
          0.04698703279938978,
          0.04546147978642258,
          0.0440884820747521,
          0.042105263157894736,
          0.04057971014492753,
          0.039816933638443935,
          0.03813882532418002,
          0.03737604881769641,
          0.036613272311212815,
          0.035697940503432495,
          0.03417238749046529,
          0.03279938977879481,
          0.031731502669717776,
          0.030358504958047292,
          0.028985507246376812,
          0.028070175438596492,
          0.02761250953470633,
          0.02761250953470633,
          0.02669717772692601,
          0.02608695652173913,
          0.02578184591914569,
          0.02471395881006865,
          0.02395118230358505,
          0.022425629290617848,
          0.02166285278413425,
          0.021205186880244087,
          0.020594965675057208,
          0.019832189168573607,
          0.019221967963386728,
          0.01815408085430969,
          0.016933638443935927,
          0.016475972540045767,
          0.016475972540045767,
          0.016170861937452326,
          0.015102974828375287,
          0.014645308924485127,
          0.014645308924485127,
          0.014645308924485127,
          0.014340198321891685,
          0.014035087719298246,
          0.013729977116704805,
          0.012814645308924484,
          0.012509534706331045,
          0.012051868802440885,
          0.012051868802440885,
          0.012051868802440885,
          0.011594202898550725,
          0.011289092295957285,
          0.010526315789473684,
          0.010373760488176963,
          0.010221205186880244,
          0.009458428680396643,
          0.008848207475209764,
          0.008543096872616323,
          0.008390541571319604,
          0.008848207475209764,
          0.008390541571319604,
          0.007475209763539283,
          0.007170099160945843,
          0.007170099160945843,
          0.007170099160945843,
          0.007170099160945843,
          0.006712433257055683,
          0.0062547673531655225,
          0.0062547673531655225,
          0.005949656750572082,
          0.006102212051868803,
          0.005644546147978643,
          0.005797101449275362,
          0.005949656750572082,
          0.005949656750572082,
          0.005949656750572082,
          0.006102212051868803,
          0.005949656750572082,
          0.005797101449275362,
          0.005797101449275362,
          0.005644546147978643,
          0.005491990846681922,
          0.005644546147978643,
          0.005644546147978643,
          0.005491990846681922,
          0.005339435545385202,
          0.005339435545385202,
          0.005034324942791762,
          0.005034324942791762,
          0.005034324942791762,
          0.004881769641495042,
          0.004729214340198322,
          0.004881769641495042,
          0.004881769641495042,
          0.004729214340198322,
          0.0042715484363081615,
          0.004118993135011442,
          0.0038138825324180014,
          0.0033562166285278413,
          0.0036613272311212816,
          0.0038138825324180014,
          0.0035087719298245615,
          0.0033562166285278413,
          0.0033562166285278413,
          0.003203661327231121,
          0.003203661327231121,
          0.0030511060259344014,
          0.002745995423340961,
          0.002593440122044241,
          0.002745995423340961,
          0.002745995423340961,
          0.003203661327231121,
          0.0030511060259344014,
          0.002898550724637681,
          0.002898550724637681,
          0.002593440122044241,
          0.002440884820747521,
          0.002288329519450801,
          0.001983218916857361,
          0.0021357742181540807,
          0.0021357742181540807,
          0.0021357742181540807,
          0.0021357742181540807,
          0.0018306636155606408,
          0.001983218916857361,
          0.0018306636155606408,
          0.001983218916857361,
          0.0018306636155606408,
          0.0018306636155606408,
          0.0018306636155606408,
          0.0016781083142639206,
          0.0016781083142639206,
          0.0016781083142639206,
          0.0016781083142639206,
          0.0016781083142639206,
          0.0018306636155606408,
          0.001983218916857361,
          0.001983218916857361,
          0.001983218916857361,
          0.002288329519450801,
          0.001983218916857361,
          0.001983218916857361,
          0.0018306636155606408,
          0.0015255530129672007,
          0.0015255530129672007,
          0.0015255530129672007,
          0.0013729977116704805,
          0.0013729977116704805,
          0.0013729977116704805,
          0.0013729977116704805,
          0.0013729977116704805,
          0.0012204424103737605,
          0.0010678871090770404,
          0.0010678871090770404,
          0.0010678871090770404,
          0.0009153318077803204,
          0.0009153318077803204,
          0.0009153318077803204,
          0.0007627765064836003,
          0.0007627765064836003,
          0.0007627765064836003,
          0.0006102212051868803,
          0.0006102212051868803,
          0.0004576659038901602,
          0.0006102212051868803,
          0.0006102212051868803,
          0.0007627765064836003,
          0.0007627765064836003,
          0.0007627765064836003,
          0.0007627765064836003,
          0.0007627765064836003,
          0.0007627765064836003,
          0.0007627765064836003,
          0.0007627765064836003,
          0.0009153318077803204,
          0.0013729977116704805,
          0.0013729977116704805,
          0.0012204424103737605,
          0.0012204424103737605,
          0.0012204424103737605,
          0.0012204424103737605,
          0.0012204424103737605,
          0.0013729977116704805,
          0.0013729977116704805,
          0.0013729977116704805,
          0.0013729977116704805,
          0.0013729977116704805,
          0.0013729977116704805,
          0.0010678871090770404,
          0.0009153318077803204,
          0.0007627765064836003,
          0.0006102212051868803,
          0.0006102212051868803,
          0.0006102212051868803,
          0.0006102212051868803,
          0.00030511060259344014,
          0.0004576659038901602,
          0.0004576659038901602,
          0.0006102212051868803,
          0.0006102212051868803,
          0.0006102212051868803,
          0.0006102212051868803,
          0.0006102212051868803,
          0.0006102212051868803,
          0.0006102212051868803,
          0.0006102212051868803,
          0.0006102212051868803,
          0.0006102212051868803,
          0.0004576659038901602,
          0.0004576659038901602,
          0.0004576659038901602,
          0.0004576659038901602,
          0.0004576659038901602,
          0.00030511060259344014,
          0.00030511060259344014,
          0.00030511060259344014,
          0.00030511060259344014,
          0.00030511060259344014,
          0.00015255530129672007,
          0.00015255530129672007,
          0.00015255530129672007,
          0.00015255530129672007,
          0.00015255530129672007,
          0,
          0,
          0,
          0,
          0,
          0,
          0.00015255530129672007,
          0.00015255530129672007,
          0.00015255530129672007,
          0.00015255530129672007,
          0.00015255530129672007,
          0.00015255530129672007,
          0.00015255530129672007,
          0.00015255530129672007,
          0.00015255530129672007,
          0.00015255530129672007,
          0.00015255530129672007,
          0.00015255530129672007,
          0.00015255530129672007,
          0.00015255530129672007,
          0.00015255530129672007,
          0.00015255530129672007,
          0.00015255530129672007,
          0.00015255530129672007,
          0.00015255530129672007,
          0.00015255530129672007,
          0.00015255530129672007,
          0.00015255530129672007,
          0.00015255530129672007,
          0.00015255530129672007,
          0,
          0,
          0,
          0,
          0.00015255530129672007,
          0.00015255530129672007,
          0.00015255530129672007,
          0.00015255530129672007,
          0.00015255530129672007,
          0.00015255530129672007,
          0.00015255530129672007,
          0.00015255530129672007,
          0.00015255530129672007,
          0.00015255530129672007,
          0.00015255530129672007,
          0.00015255530129672007,
          0.00015255530129672007,
          0.00015255530129672007,
          0.00015255530129672007,
          0.00015255530129672007,
          0.00015255530129672007,
          0.00015255530129672007,
          0.00015255530129672007,
          0.00015255530129672007,
          0.00015255530129672007,
          0.00015255530129672007,
          0.00015255530129672007,
          0.00015255530129672007,
          0.00015255530129672007,
          0.00015255530129672007,
          0.00015255530129672007,
          0.00015255530129672007,
          0.00015255530129672007,
          0.00015255530129672007,
          0.00015255530129672007,
          0.00015255530129672007,
          0.00015255530129672007,
          0.00015255530129672007,
          0.00030511060259344014,
          0.00030511060259344014,
          0.00030511060259344014,
          0.00030511060259344014,
          0.00030511060259344014,
          0.00015255530129672007,
          0.00015255530129672007,
          0.00015255530129672007,
          0,
          0,
          0,
          0,
          0,
          0,
          0,
          0,
          0,
          0,
          0,
          0,
          0,
          0,
          0,
          0,
          0,
          0,
          0,
          0,
          0,
          0,
          0,
          0,
          0,
          0,
          0,
          0,
          0,
          0,
          0,
          0,
          0,
          0,
          0,
          0,
          0,
          0,
          0,
          0,
          0,
          0,
          0,
          0,
          0,
          0,
          0,
          0,
          0,
          0,
          0,
          0,
          0,
          0,
          0,
          0,
          0,
          0,
          0,
          0,
          0,
          0,
          0,
          0,
          0,
          0,
          0,
          0,
          0,
          0,
          0,
          0,
          0,
          0,
          0,
          0,
          0,
          0,
          0,
          0,
          0,
          0,
          0,
          0,
          0,
          0,
          0,
          0,
          0,
          0,
          0,
          0,
          0,
          0,
          0,
          0,
          0,
          0,
          0,
          0,
          0,
          0,
          0,
          0,
          0,
          0,
          0,
          0,
          0,
          0,
          0,
          0,
          0,
          0,
          0,
          0,
          0,
          0,
          0,
          0,
          0,
          0,
          0,
          0,
          0,
          0,
          0,
          0,
          0,
          0,
          0,
          0,
          0,
          0,
          0,
          0,
          0,
          0,
          0,
          0,
          0,
          0,
          0,
          0,
          0,
          0,
          0,
          0,
          0,
          0,
          0,
          0,
          0,
          0,
          0,
          0,
          0,
          0,
          0,
          0,
          0,
          0,
          0,
          0,
          0,
          0,
          0,
          0,
          0,
          0,
          0,
          0,
          0,
          0,
          0,
          0,
          0,
          0,
          0,
          0,
          0,
          0,
          0,
          0,
          0,
          0,
          0,
          0,
          0,
          0,
          0,
          0,
          0,
          0,
          0,
          0,
          0,
          0,
          0,
          0,
          0,
          0,
          0,
          0,
          0,
          0,
          0,
          0,
          0,
          0,
          0,
          0,
          0,
          0,
          0,
          0,
          0,
          0,
          0,
          0,
          0,
          0,
          0,
          0,
          0,
          0,
          0,
          0,
          0,
          0,
          0,
          0,
          0,
          0,
          0,
          0,
          0,
          0,
          0,
          0,
          0,
          0,
          0,
          0,
          0,
          0,
          0,
          0,
          0,
          0,
          0,
          0,
          0,
          0,
          0,
          0,
          0,
          0,
          0,
          0,
          0,
          0,
          0,
          0,
          0,
          0,
          0,
          0,
          0,
          0,
          0,
          0,
          0,
          0,
          0,
          0,
          0,
          0,
          0,
          0,
          0,
          0,
          0,
          0,
          0,
          0,
          0,
          0,
          0,
          0,
          0,
          0,
          0,
          0,
          0,
          0,
          0,
          0,
          0,
          0,
          0,
          0,
          0,
          0,
          0,
          0,
          0,
          0,
          0,
          0,
          0,
          0,
          0,
          0,
          0,
          0,
          0,
          0,
          0,
          0,
          0,
          0,
          0,
          0,
          0,
          0,
          0,
          0,
          0,
          0,
          0,
          0,
          0,
          0,
          0,
          0,
          0,
          0,
          0,
          0,
          0,
          0,
          0,
          0,
          0,
          0,
          0,
          0,
          0,
          0,
          0,
          0,
          0,
          0,
          0,
          0,
          0,
          0,
          0,
          0
         ],
         "yaxis": "y"
        }
       ],
       "layout": {
        "legend": {
         "tracegroupgap": 0
        },
        "shapes": [
         {
          "line": {
           "color": "red",
           "dash": "dash"
          },
          "type": "line",
          "x0": 0,
          "x1": 1,
          "xref": "x domain",
          "y0": 0,
          "y1": 0,
          "yref": "y"
         }
        ],
        "template": {
         "data": {
          "bar": [
           {
            "error_x": {
             "color": "#2a3f5f"
            },
            "error_y": {
             "color": "#2a3f5f"
            },
            "marker": {
             "line": {
              "color": "#E5ECF6",
              "width": 0.5
             },
             "pattern": {
              "fillmode": "overlay",
              "size": 10,
              "solidity": 0.2
             }
            },
            "type": "bar"
           }
          ],
          "barpolar": [
           {
            "marker": {
             "line": {
              "color": "#E5ECF6",
              "width": 0.5
             },
             "pattern": {
              "fillmode": "overlay",
              "size": 10,
              "solidity": 0.2
             }
            },
            "type": "barpolar"
           }
          ],
          "carpet": [
           {
            "aaxis": {
             "endlinecolor": "#2a3f5f",
             "gridcolor": "white",
             "linecolor": "white",
             "minorgridcolor": "white",
             "startlinecolor": "#2a3f5f"
            },
            "baxis": {
             "endlinecolor": "#2a3f5f",
             "gridcolor": "white",
             "linecolor": "white",
             "minorgridcolor": "white",
             "startlinecolor": "#2a3f5f"
            },
            "type": "carpet"
           }
          ],
          "choropleth": [
           {
            "colorbar": {
             "outlinewidth": 0,
             "ticks": ""
            },
            "type": "choropleth"
           }
          ],
          "contour": [
           {
            "colorbar": {
             "outlinewidth": 0,
             "ticks": ""
            },
            "colorscale": [
             [
              0,
              "#0d0887"
             ],
             [
              0.1111111111111111,
              "#46039f"
             ],
             [
              0.2222222222222222,
              "#7201a8"
             ],
             [
              0.3333333333333333,
              "#9c179e"
             ],
             [
              0.4444444444444444,
              "#bd3786"
             ],
             [
              0.5555555555555556,
              "#d8576b"
             ],
             [
              0.6666666666666666,
              "#ed7953"
             ],
             [
              0.7777777777777778,
              "#fb9f3a"
             ],
             [
              0.8888888888888888,
              "#fdca26"
             ],
             [
              1,
              "#f0f921"
             ]
            ],
            "type": "contour"
           }
          ],
          "contourcarpet": [
           {
            "colorbar": {
             "outlinewidth": 0,
             "ticks": ""
            },
            "type": "contourcarpet"
           }
          ],
          "heatmap": [
           {
            "colorbar": {
             "outlinewidth": 0,
             "ticks": ""
            },
            "colorscale": [
             [
              0,
              "#0d0887"
             ],
             [
              0.1111111111111111,
              "#46039f"
             ],
             [
              0.2222222222222222,
              "#7201a8"
             ],
             [
              0.3333333333333333,
              "#9c179e"
             ],
             [
              0.4444444444444444,
              "#bd3786"
             ],
             [
              0.5555555555555556,
              "#d8576b"
             ],
             [
              0.6666666666666666,
              "#ed7953"
             ],
             [
              0.7777777777777778,
              "#fb9f3a"
             ],
             [
              0.8888888888888888,
              "#fdca26"
             ],
             [
              1,
              "#f0f921"
             ]
            ],
            "type": "heatmap"
           }
          ],
          "heatmapgl": [
           {
            "colorbar": {
             "outlinewidth": 0,
             "ticks": ""
            },
            "colorscale": [
             [
              0,
              "#0d0887"
             ],
             [
              0.1111111111111111,
              "#46039f"
             ],
             [
              0.2222222222222222,
              "#7201a8"
             ],
             [
              0.3333333333333333,
              "#9c179e"
             ],
             [
              0.4444444444444444,
              "#bd3786"
             ],
             [
              0.5555555555555556,
              "#d8576b"
             ],
             [
              0.6666666666666666,
              "#ed7953"
             ],
             [
              0.7777777777777778,
              "#fb9f3a"
             ],
             [
              0.8888888888888888,
              "#fdca26"
             ],
             [
              1,
              "#f0f921"
             ]
            ],
            "type": "heatmapgl"
           }
          ],
          "histogram": [
           {
            "marker": {
             "pattern": {
              "fillmode": "overlay",
              "size": 10,
              "solidity": 0.2
             }
            },
            "type": "histogram"
           }
          ],
          "histogram2d": [
           {
            "colorbar": {
             "outlinewidth": 0,
             "ticks": ""
            },
            "colorscale": [
             [
              0,
              "#0d0887"
             ],
             [
              0.1111111111111111,
              "#46039f"
             ],
             [
              0.2222222222222222,
              "#7201a8"
             ],
             [
              0.3333333333333333,
              "#9c179e"
             ],
             [
              0.4444444444444444,
              "#bd3786"
             ],
             [
              0.5555555555555556,
              "#d8576b"
             ],
             [
              0.6666666666666666,
              "#ed7953"
             ],
             [
              0.7777777777777778,
              "#fb9f3a"
             ],
             [
              0.8888888888888888,
              "#fdca26"
             ],
             [
              1,
              "#f0f921"
             ]
            ],
            "type": "histogram2d"
           }
          ],
          "histogram2dcontour": [
           {
            "colorbar": {
             "outlinewidth": 0,
             "ticks": ""
            },
            "colorscale": [
             [
              0,
              "#0d0887"
             ],
             [
              0.1111111111111111,
              "#46039f"
             ],
             [
              0.2222222222222222,
              "#7201a8"
             ],
             [
              0.3333333333333333,
              "#9c179e"
             ],
             [
              0.4444444444444444,
              "#bd3786"
             ],
             [
              0.5555555555555556,
              "#d8576b"
             ],
             [
              0.6666666666666666,
              "#ed7953"
             ],
             [
              0.7777777777777778,
              "#fb9f3a"
             ],
             [
              0.8888888888888888,
              "#fdca26"
             ],
             [
              1,
              "#f0f921"
             ]
            ],
            "type": "histogram2dcontour"
           }
          ],
          "mesh3d": [
           {
            "colorbar": {
             "outlinewidth": 0,
             "ticks": ""
            },
            "type": "mesh3d"
           }
          ],
          "parcoords": [
           {
            "line": {
             "colorbar": {
              "outlinewidth": 0,
              "ticks": ""
             }
            },
            "type": "parcoords"
           }
          ],
          "pie": [
           {
            "automargin": true,
            "type": "pie"
           }
          ],
          "scatter": [
           {
            "fillpattern": {
             "fillmode": "overlay",
             "size": 10,
             "solidity": 0.2
            },
            "type": "scatter"
           }
          ],
          "scatter3d": [
           {
            "line": {
             "colorbar": {
              "outlinewidth": 0,
              "ticks": ""
             }
            },
            "marker": {
             "colorbar": {
              "outlinewidth": 0,
              "ticks": ""
             }
            },
            "type": "scatter3d"
           }
          ],
          "scattercarpet": [
           {
            "marker": {
             "colorbar": {
              "outlinewidth": 0,
              "ticks": ""
             }
            },
            "type": "scattercarpet"
           }
          ],
          "scattergeo": [
           {
            "marker": {
             "colorbar": {
              "outlinewidth": 0,
              "ticks": ""
             }
            },
            "type": "scattergeo"
           }
          ],
          "scattergl": [
           {
            "marker": {
             "colorbar": {
              "outlinewidth": 0,
              "ticks": ""
             }
            },
            "type": "scattergl"
           }
          ],
          "scattermapbox": [
           {
            "marker": {
             "colorbar": {
              "outlinewidth": 0,
              "ticks": ""
             }
            },
            "type": "scattermapbox"
           }
          ],
          "scatterpolar": [
           {
            "marker": {
             "colorbar": {
              "outlinewidth": 0,
              "ticks": ""
             }
            },
            "type": "scatterpolar"
           }
          ],
          "scatterpolargl": [
           {
            "marker": {
             "colorbar": {
              "outlinewidth": 0,
              "ticks": ""
             }
            },
            "type": "scatterpolargl"
           }
          ],
          "scatterternary": [
           {
            "marker": {
             "colorbar": {
              "outlinewidth": 0,
              "ticks": ""
             }
            },
            "type": "scatterternary"
           }
          ],
          "surface": [
           {
            "colorbar": {
             "outlinewidth": 0,
             "ticks": ""
            },
            "colorscale": [
             [
              0,
              "#0d0887"
             ],
             [
              0.1111111111111111,
              "#46039f"
             ],
             [
              0.2222222222222222,
              "#7201a8"
             ],
             [
              0.3333333333333333,
              "#9c179e"
             ],
             [
              0.4444444444444444,
              "#bd3786"
             ],
             [
              0.5555555555555556,
              "#d8576b"
             ],
             [
              0.6666666666666666,
              "#ed7953"
             ],
             [
              0.7777777777777778,
              "#fb9f3a"
             ],
             [
              0.8888888888888888,
              "#fdca26"
             ],
             [
              1,
              "#f0f921"
             ]
            ],
            "type": "surface"
           }
          ],
          "table": [
           {
            "cells": {
             "fill": {
              "color": "#EBF0F8"
             },
             "line": {
              "color": "white"
             }
            },
            "header": {
             "fill": {
              "color": "#C8D4E3"
             },
             "line": {
              "color": "white"
             }
            },
            "type": "table"
           }
          ]
         },
         "layout": {
          "annotationdefaults": {
           "arrowcolor": "#2a3f5f",
           "arrowhead": 0,
           "arrowwidth": 1
          },
          "autotypenumbers": "strict",
          "coloraxis": {
           "colorbar": {
            "outlinewidth": 0,
            "ticks": ""
           }
          },
          "colorscale": {
           "diverging": [
            [
             0,
             "#8e0152"
            ],
            [
             0.1,
             "#c51b7d"
            ],
            [
             0.2,
             "#de77ae"
            ],
            [
             0.3,
             "#f1b6da"
            ],
            [
             0.4,
             "#fde0ef"
            ],
            [
             0.5,
             "#f7f7f7"
            ],
            [
             0.6,
             "#e6f5d0"
            ],
            [
             0.7,
             "#b8e186"
            ],
            [
             0.8,
             "#7fbc41"
            ],
            [
             0.9,
             "#4d9221"
            ],
            [
             1,
             "#276419"
            ]
           ],
           "sequential": [
            [
             0,
             "#0d0887"
            ],
            [
             0.1111111111111111,
             "#46039f"
            ],
            [
             0.2222222222222222,
             "#7201a8"
            ],
            [
             0.3333333333333333,
             "#9c179e"
            ],
            [
             0.4444444444444444,
             "#bd3786"
            ],
            [
             0.5555555555555556,
             "#d8576b"
            ],
            [
             0.6666666666666666,
             "#ed7953"
            ],
            [
             0.7777777777777778,
             "#fb9f3a"
            ],
            [
             0.8888888888888888,
             "#fdca26"
            ],
            [
             1,
             "#f0f921"
            ]
           ],
           "sequentialminus": [
            [
             0,
             "#0d0887"
            ],
            [
             0.1111111111111111,
             "#46039f"
            ],
            [
             0.2222222222222222,
             "#7201a8"
            ],
            [
             0.3333333333333333,
             "#9c179e"
            ],
            [
             0.4444444444444444,
             "#bd3786"
            ],
            [
             0.5555555555555556,
             "#d8576b"
            ],
            [
             0.6666666666666666,
             "#ed7953"
            ],
            [
             0.7777777777777778,
             "#fb9f3a"
            ],
            [
             0.8888888888888888,
             "#fdca26"
            ],
            [
             1,
             "#f0f921"
            ]
           ]
          },
          "colorway": [
           "#636efa",
           "#EF553B",
           "#00cc96",
           "#ab63fa",
           "#FFA15A",
           "#19d3f3",
           "#FF6692",
           "#B6E880",
           "#FF97FF",
           "#FECB52"
          ],
          "font": {
           "color": "#2a3f5f"
          },
          "geo": {
           "bgcolor": "white",
           "lakecolor": "white",
           "landcolor": "#E5ECF6",
           "showlakes": true,
           "showland": true,
           "subunitcolor": "white"
          },
          "hoverlabel": {
           "align": "left"
          },
          "hovermode": "closest",
          "mapbox": {
           "style": "light"
          },
          "paper_bgcolor": "white",
          "plot_bgcolor": "#E5ECF6",
          "polar": {
           "angularaxis": {
            "gridcolor": "white",
            "linecolor": "white",
            "ticks": ""
           },
           "bgcolor": "#E5ECF6",
           "radialaxis": {
            "gridcolor": "white",
            "linecolor": "white",
            "ticks": ""
           }
          },
          "scene": {
           "xaxis": {
            "backgroundcolor": "#E5ECF6",
            "gridcolor": "white",
            "gridwidth": 2,
            "linecolor": "white",
            "showbackground": true,
            "ticks": "",
            "zerolinecolor": "white"
           },
           "yaxis": {
            "backgroundcolor": "#E5ECF6",
            "gridcolor": "white",
            "gridwidth": 2,
            "linecolor": "white",
            "showbackground": true,
            "ticks": "",
            "zerolinecolor": "white"
           },
           "zaxis": {
            "backgroundcolor": "#E5ECF6",
            "gridcolor": "white",
            "gridwidth": 2,
            "linecolor": "white",
            "showbackground": true,
            "ticks": "",
            "zerolinecolor": "white"
           }
          },
          "shapedefaults": {
           "line": {
            "color": "#2a3f5f"
           }
          },
          "ternary": {
           "aaxis": {
            "gridcolor": "white",
            "linecolor": "white",
            "ticks": ""
           },
           "baxis": {
            "gridcolor": "white",
            "linecolor": "white",
            "ticks": ""
           },
           "bgcolor": "#E5ECF6",
           "caxis": {
            "gridcolor": "white",
            "linecolor": "white",
            "ticks": ""
           }
          },
          "title": {
           "x": 0.05
          },
          "xaxis": {
           "automargin": true,
           "gridcolor": "white",
           "linecolor": "white",
           "ticks": "",
           "title": {
            "standoff": 15
           },
           "zerolinecolor": "white",
           "zerolinewidth": 2
          },
          "yaxis": {
           "automargin": true,
           "gridcolor": "white",
           "linecolor": "white",
           "ticks": "",
           "title": {
            "standoff": 15
           },
           "zerolinecolor": "white",
           "zerolinewidth": 2
          }
         }
        },
        "title": {
         "text": "Graph Edit Distance as a Function of Threshold Strength"
        },
        "xaxis": {
         "anchor": "y",
         "domain": [
          0,
          1
         ],
         "range": [
          0,
          1
         ],
         "title": {
          "text": "Threshold Strength"
         }
        },
        "yaxis": {
         "anchor": "x",
         "domain": [
          0,
          1
         ],
         "range": [
          0,
          0.08520213577421816
         ],
         "title": {
          "text": "Graph Edit Distance"
         }
        }
       }
      }
     },
     "metadata": {},
     "output_type": "display_data"
    }
   ],
   "source": [
    "# For the values I used (threshold=0.1), the similarity score is 70, meaning 70 edge insertions/deletions are needed to transform one network into the other.\n",
    "\n",
    "# A simple thing we can plot to understand how the threshold affects the similarity score is to plot the similarity score as a function of the threshold.\n",
    "\n",
    "import numpy as np\n",
    "import plotly.express as px\n",
    "\n",
    "# Define thresholds and calculate graph edit distances\n",
    "thresholds = np.linspace(0, 1, 666)\n",
    "graph_edit_distances = [graph_similarity(liberal_corr_matrix, conservative_corr_matrix, \n",
    "                                         similarity_method=\"graph_edit_distance\",\n",
    "                                         edge_threshold=threshold).score \n",
    "                        for threshold in thresholds]\n",
    "normalised_graph_edit_distances = [graph_similarity(liberal_corr_matrix, conservative_corr_matrix, \n",
    "                                         similarity_method=\"graph_edit_distance\",\n",
    "                                         edge_threshold=threshold).normalized_score \n",
    "                        for threshold in thresholds]\n",
    "\n",
    "\n",
    "# Plotting with plotly\n",
    "fig = px.line(x=thresholds, y=normalised_graph_edit_distances, title='Graph Edit Distance as a Function of Threshold Strength',\n",
    "              labels={'x': 'Threshold Strength', 'y': 'Graph Edit Distance'})\n",
    "fig.update_layout(xaxis_range=[0, 1], yaxis_range=[min(normalised_graph_edit_distances), max(normalised_graph_edit_distances)])\n",
    "fig.add_hline(y=0, line_dash=\"dash\", line_color=\"red\")\n",
    "fig.show()\n",
    "\n"
   ]
  },
  {
   "cell_type": "code",
   "execution_count": null,
   "metadata": {},
   "outputs": [],
   "source": [
    "########################################################\n",
    "\n",
    "## Further analysis - the graph edit distance of ALL variable conditionings\n",
    "## WITH ERROR HANDLING for convergence errors\n",
    "\n",
    "# It would also be good to put this into context of the whole network. \n",
    "# Let's see the graph edge distances when we condition on all the other variables...\n",
    "# This version includes error handling for convergence errors\n",
    "\n",
    "# Define the years we want to analyze\n",
    "years_of_interest = [2010, 2012, 2014, 2016, 2018]\n",
    "\n",
    "# Define the list of variables we want to condition on\n",
    "# This is a comprehensive list of variables from the GSS dataset\n",
    "variable_list = ['PARTYID', 'NATEDUC', 'HOMOSEX', 'NATROAD', 'PORNLAW', 'POLABUSE', 'ABHLTH', 'FEPRESCH', 'HELPOTH', 'NATAID', \n",
    "                 'XMARSEX', 'SPANKING', 'POPULAR', 'SPKCOM', 'FEFAM', 'NATCITY', 'CONEDUC', 'LIBHOMO', 'DIVLAW', 'COLMIL', \n",
    "                 'WORKHARD', 'COLATH', 'NATCHLD', 'SUICIDE2', 'NATFARE', 'FEPOL', 'NATARMS', 'GETAHEAD', 'CONSCI', 'POLMURDR', \n",
    "                 'ABANY', 'CONPRESS', 'NATSCI', 'RACDIF3', 'CONMEDIC', 'TEENSEX', 'NATHEAL', 'HELPBLK', 'LETDIE1', 'COLHOMO', \n",
    "                 'NATSPAC', 'NATENVIR', 'RACDIF2', 'CONARMY', 'CONCLERG', 'NATDRUG', 'CONLABOR', 'POLESCAP', 'PRAYER', 'OBEY', \n",
    "                 'SPKHOMO', 'POLATTAK', 'HELPNOT', 'HELPPOOR', 'POSTLIFE', 'POLVIEWS', 'SEXEDUC', 'ABRAPE', 'CONBUS', 'ABDEFECT', \n",
    "                 'POLHITOK', 'CONFINAN', 'CAPPUN', 'LIBATH', 'CONLEGIS', 'ABNOMORE', 'FECHLD', 'SPKMIL', 'CONJUDGE', 'TRUST', \n",
    "                 'RACDIF4', 'LIBRAC', 'FAIR', 'AFFRMACT', 'PREMARSX', 'ABPOOR', 'SUICIDE1', 'NATMASS', 'COURTS', 'CONFED', \n",
    "                 'CONTV', 'NATPARK', 'LIBMIL', 'NATCRIME', 'COLCOM', 'GUNLAW', 'NATSOC', 'THNKSELF', 'SPKRAC', 'RACDIF1', \n",
    "                 'GRASS', 'LIBCOM', 'HELPFUL', 'EQWLTH', 'SPKATH', 'ABSINGLE', 'WRKWAYUP', 'COLRAC', 'PRESLAST_DEMREP', \n",
    "                 'PRESLAST_NONCONFORM', 'WOULDVOTELAST_NONCONFORM', 'DIDVOTELAST', 'RELIG_Protestant', 'RELIG_Catholic', \n",
    "                 'RELIG_Jewish', 'RELIG_None', 'RELIG_Other', 'RELIG_Buddhism', 'RELIG_Hinduism', 'RELIG_Other_eastern_religions', \n",
    "                 'RELIG_Muslim', 'RELIG_Orthodox_christian', 'RELIG_Christian', 'RELIG_Native_american', 'RELIG_Inter_nondenominational']\n",
    "\n",
    "# Dictionary to store the graph edit distance results for each variable\n",
    "ged_results = {}\n",
    "\n",
    "# List to track variables that had to be skipped due to convergence errors\n",
    "skipped_variables = []\n",
    "\n",
    "# Set threshold GED calculation -- determines the cuttoff for considering an edge in the count\n",
    "threshold = 0.001\n",
    "\n",
    "# Import tqdm to create a progress bar in the notebook\n",
    "from tqdm.notebook import tqdm\n",
    "\n",
    "# Iterate through each variable in the list with a progress bar\n",
    "for var in tqdm(variable_list, desc=\"Processing variables\"): \n",
    "    # Calculate correlation matrix conditioned on negative values of the variable\n",
    "    # This creates a network of how variables correlate when the conditioned variable is below zero\n",
    "    conditioned_corr_matrix_neg = calculate_conditioned_correlation_matrix(\n",
    "        cleaned_df, \n",
    "        years_of_interest=years_of_interest,\n",
    "        method=CorrelationMethod.PEARSON,  # Using Pearson correlation\n",
    "        partial=True,  # Using partial correlations to control for other variables\n",
    "        edge_suppression=EdgeSuppressionMethod.REGULARIZATION,  # Using regularization to reduce noise\n",
    "        suppression_params={'regularization': 0.18},  # Regularization strength\n",
    "        variable_to_condition=var,  # The variable we're conditioning on\n",
    "        condition='less_than_zero'  # Condition on negative values\n",
    "    )\n",
    "    \n",
    "    # Calculate correlation matrix conditioned on positive values of the variable\n",
    "    # This creates a network of how variables correlate when the conditioned variable is above zero\n",
    "    conditioned_corr_matrix_pos = calculate_conditioned_correlation_matrix(\n",
    "        cleaned_df, \n",
    "        years_of_interest=years_of_interest,\n",
    "        method=CorrelationMethod.PEARSON,\n",
    "        partial=True,\n",
    "        edge_suppression=EdgeSuppressionMethod.REGULARIZATION,\n",
    "        suppression_params={'regularization': 0.18},\n",
    "        variable_to_condition=var,\n",
    "        condition='greater_than_zero'  # Condition on positive values\n",
    "    )\n",
    "    \n",
    "    # Check if the negative condition matrix was successfully calculated\n",
    "    # If not, skip this variable and continue to the next one\n",
    "    if conditioned_corr_matrix_neg is None:\n",
    "        # Add to the list of skipped variables\n",
    "        skipped_variables.append(var)\n",
    "        continue\n",
    "        \n",
    "    # Check if the positive condition matrix was successfully calculated\n",
    "    if conditioned_corr_matrix_pos is None:\n",
    "        # Add to the list of skipped variables\n",
    "        skipped_variables.append(var)\n",
    "        continue\n",
    "    \n",
    "    # If both matrices are valid, calculate the graph edit distance between them\n",
    "    # This measures how different the networks are when conditioned on positive vs negative values\n",
    "    ged_result = graph_similarity(\n",
    "        conditioned_corr_matrix_neg,\n",
    "        conditioned_corr_matrix_pos,\n",
    "        similarity_method=\"graph_edit_distance\",\n",
    "        edge_threshold=threshold  # Only consider correlations above this threshold\n",
    "    )\n",
    "    \n",
    "    # Store the normalized score if the calculation was successful\n",
    "    if ged_result is not None:\n",
    "        ged_results[var] = ged_result.normalized_score\n",
    "    else:\n",
    "        # If calculation failed, add to skipped variables\n",
    "        skipped_variables.append(var)\n",
    "\n"
   ]
  },
  {
   "cell_type": "code",
   "execution_count": 13,
   "metadata": {},
   "outputs": [
    {
     "name": "stdout",
     "output_type": "stream",
     "text": [
      "\n",
      "Skipped 17 out of 115 variables\n",
      "\n",
      "Successfully calculated GED for 98 out of 115 variables\n",
      "\n",
      "Skipped variables: ['NATEDUC', 'PORNLAW', 'POPULAR', 'NATDRUG', 'NATPARK', 'NATCRIME', 'PRESLAST_NONCONFORM', 'RELIG_Jewish', 'RELIG_Other', 'RELIG_Buddhism', 'RELIG_Hinduism', 'RELIG_Other_eastern_religions', 'RELIG_Muslim', 'RELIG_Orthodox_christian', 'RELIG_Christian', 'RELIG_Native_american', 'RELIG_Inter_nondenominational']\n"
     ]
    }
   ],
   "source": [
    "# Print summary statistics about the analysis\n",
    "print(f\"\\nSkipped {len(skipped_variables)} out of {len(variable_list)} variables\")\n",
    "print(f\"\\nSuccessfully calculated GED for {len(ged_results)} out of {len(variable_list)} variables\")\n",
    "print(f\"\\nSkipped variables: {skipped_variables}\")\n"
   ]
  },
  {
   "cell_type": "code",
   "execution_count": 14,
   "metadata": {},
   "outputs": [
    {
     "name": "stdout",
     "output_type": "stream",
     "text": [
      "{'PARTYID': np.float64(0.050137741046831955), 'HOMOSEX': np.float64(0.03966498103666245), 'NATROAD': np.float64(0.0530812324929972), 'POLABUSE': np.float64(0.05711068211068211), 'ABHLTH': np.float64(0.053267326732673266), 'FEPRESCH': np.float64(0.041328236980410896), 'HELPOTH': np.float64(0.045428072218986607), 'NATAID': np.float64(0.07689075630252101), 'XMARSEX': np.float64(0.06131479140328698), 'SPANKING': np.float64(0.049689440993788817), 'SPKCOM': np.float64(0.03881188118811881), 'FEFAM': np.float64(0.051600573339703776), 'NATCITY': np.float64(0.06582633053221289), 'CONEDUC': np.float64(0.05425742574257426), 'LIBHOMO': np.float64(0.043275418275418275), 'DIVLAW': np.float64(0.04053724053724054), 'COLMIL': np.float64(0.042149292149292146), 'WORKHARD': np.float64(0.0489225393127548), 'COLATH': np.float64(0.034653465346534656), 'NATCHLD': np.float64(0.059072225484439224), 'SUICIDE2': np.float64(0.06568986568986569), 'NATFARE': np.float64(0.06523287281014101), 'FEPOL': np.float64(0.053387691710347504), 'NATARMS': np.float64(0.05854341736694678), 'GETAHEAD': np.float64(0.0546975546975547), 'CONSCI': np.float64(0.06059405940594059), 'POLMURDR': np.float64(0.04971042471042471), 'ABANY': np.float64(0.03128712871287129), 'CONPRESS': np.float64(0.06888888888888889), 'NATSCI': np.float64(0.050980392156862744), 'RACDIF3': np.float64(0.04566544566544566), 'CONMEDIC': np.float64(0.05662805662805663), 'TEENSEX': np.float64(0.05016722408026756), 'NATHEAL': np.float64(0.06246498599439776), 'HELPBLK': np.float64(0.0632886818093574), 'LETDIE1': np.float64(0.05103785103785104), 'COLHOMO': np.float64(0.04514851485148515), 'NATSPAC': np.float64(0.061764705882352944), 'NATENVIR': np.float64(0.0757703081232493), 'RACDIF2': np.float64(0.05901766647252961), 'CONARMY': np.float64(0.06099009900990099), 'CONCLERG': np.float64(0.056467181467181465), 'CONLABOR': np.float64(0.06282828282828283), 'POLESCAP': np.float64(0.03643564356435643), 'PRAYER': np.float64(0.04835164835164835), 'OBEY': np.float64(0.04377370417193426), 'SPKHOMO': np.float64(0.0502970297029703), 'POLATTAK': np.float64(0.04732673267326733), 'HELPNOT': np.float64(0.059892541087231355), 'HELPPOOR': np.float64(0.05998835177635411), 'POSTLIFE': np.float64(0.05742806811509102), 'POLVIEWS': np.float64(0.06361323155216285), 'SEXEDUC': np.float64(0.07081807081807082), 'ABRAPE': np.float64(0.040792079207920794), 'CONBUS': np.float64(0.06396039603960396), 'ABDEFECT': np.float64(0.04504504504504504), 'POLHITOK': np.float64(0.045346534653465345), 'CONFINAN': np.float64(0.05267326732673267), 'CAPPUN': np.float64(0.04481792717086835), 'LIBATH': np.float64(0.03821782178217822), 'CONLEGIS': np.float64(0.06118811881188119), 'ABNOMORE': np.float64(0.04054054054054054), 'FECHLD': np.float64(0.037505972288580984), 'SPKMIL': np.float64(0.04062244062244062), 'CONJUDGE': np.float64(0.04950495049504951), 'TRUST': np.float64(0.044158415841584156), 'RACDIF4': np.float64(0.04737484737484737), 'LIBRAC': np.float64(0.035247524752475244), 'FAIR': np.float64(0.04217821782178218), 'AFFRMACT': np.float64(0.06282847587195413), 'PREMARSX': np.float64(0.05183459522422831), 'ABPOOR': np.float64(0.0407014157014157), 'SUICIDE1': np.float64(0.04713064713064713), 'NATMASS': np.float64(0.061303581914268934), 'COURTS': np.float64(0.05028011204481793), 'CONFED': np.float64(0.06545454545454546), 'CONTV': np.float64(0.0598019801980198), 'LIBMIL': np.float64(0.03782178217821782), 'COLCOM': np.float64(0.03963963963963964), 'GUNLAW': np.float64(0.039405940594059406), 'NATSOC': np.float64(0.0642814549791294), 'THNKSELF': np.float64(0.04519595448798989), 'SPKRAC': np.float64(0.03603960396039604), 'RACDIF1': np.float64(0.0485958485958486), 'GRASS': np.float64(0.043758043758043756), 'LIBCOM': np.float64(0.043275418275418275), 'HELPFUL': np.float64(0.037227722772277226), 'EQWLTH': np.float64(0.053775965831877305), 'SPKATH': np.float64(0.04118811881188119), 'ABSINGLE': np.float64(0.032673267326732675), 'WRKWAYUP': np.float64(0.06521739130434782), 'COLRAC': np.float64(0.04456241956241956), 'PRESLAST_DEMREP': np.float64(0.05084745762711865), 'WOULDVOTELAST_NONCONFORM': np.float64(0.04099666811531218), 'DIDVOTELAST': np.float64(0.0546218487394958), 'RELIG_Protestant': np.float64(0.03725490196078431), 'RELIG_Catholic': np.float64(0.042717086834733894), 'RELIG_None': np.float64(0.04159663865546218)}\n"
     ]
    },
    {
     "data": {
      "application/vnd.plotly.v1+json": {
       "config": {
        "plotlyServerURL": "https://plot.ly"
       },
       "data": [
        {
         "alignmentgroup": "True",
         "hovertemplate": "Graph Edit Distance=%{x}<br>Variable=%{y}<extra></extra>",
         "legendgroup": "",
         "marker": {
          "color": "#636efa",
          "pattern": {
           "shape": ""
          }
         },
         "name": "",
         "offsetgroup": "",
         "orientation": "h",
         "showlegend": false,
         "textposition": "auto",
         "type": "bar",
         "x": [
          0.07689075630252101,
          0.0757703081232493,
          0.07081807081807082,
          0.06888888888888889,
          0.06582633053221289,
          0.06568986568986569,
          0.06545454545454546,
          0.06523287281014101,
          0.06521739130434782,
          0.0642814549791294,
          0.06396039603960396,
          0.06361323155216285,
          0.0632886818093574,
          0.06282847587195413,
          0.06282828282828283,
          0.06246498599439776,
          0.061764705882352944,
          0.06131479140328698,
          0.061303581914268934,
          0.06118811881188119,
          0.06099009900990099,
          0.06059405940594059,
          0.05998835177635411,
          0.059892541087231355,
          0.0598019801980198,
          0.059072225484439224,
          0.05901766647252961,
          0.05854341736694678,
          0.05742806811509102,
          0.05711068211068211,
          0.05662805662805663,
          0.056467181467181465,
          0.0546975546975547,
          0.0546218487394958,
          0.05425742574257426,
          0.053775965831877305,
          0.053387691710347504,
          0.053267326732673266,
          0.0530812324929972,
          0.05267326732673267,
          0.05183459522422831,
          0.051600573339703776,
          0.05103785103785104,
          0.050980392156862744,
          0.05084745762711865,
          0.0502970297029703,
          0.05028011204481793,
          0.05016722408026756,
          0.050137741046831955,
          0.04971042471042471,
          0.049689440993788817,
          0.04950495049504951,
          0.0489225393127548,
          0.0485958485958486,
          0.04835164835164835,
          0.04737484737484737,
          0.04732673267326733,
          0.04713064713064713,
          0.04566544566544566,
          0.045428072218986607,
          0.045346534653465345,
          0.04519595448798989,
          0.04514851485148515,
          0.04504504504504504,
          0.04481792717086835,
          0.04456241956241956,
          0.044158415841584156,
          0.04377370417193426,
          0.043758043758043756,
          0.043275418275418275,
          0.043275418275418275,
          0.042717086834733894,
          0.04217821782178218,
          0.042149292149292146,
          0.04159663865546218,
          0.041328236980410896,
          0.04118811881188119,
          0.04099666811531218,
          0.040792079207920794,
          0.0407014157014157,
          0.04062244062244062,
          0.04054054054054054,
          0.04053724053724054,
          0.03966498103666245,
          0.03963963963963964,
          0.039405940594059406,
          0.03881188118811881,
          0.03821782178217822,
          0.03782178217821782,
          0.037505972288580984,
          0.03725490196078431,
          0.037227722772277226,
          0.03643564356435643,
          0.03603960396039604,
          0.035247524752475244,
          0.034653465346534656,
          0.032673267326732675,
          0.03128712871287129
         ],
         "xaxis": "x",
         "y": [
          "NATAID",
          "NATENVIR",
          "SEXEDUC",
          "CONPRESS",
          "NATCITY",
          "SUICIDE2",
          "CONFED",
          "NATFARE",
          "WRKWAYUP",
          "NATSOC",
          "CONBUS",
          "POLVIEWS",
          "HELPBLK",
          "AFFRMACT",
          "CONLABOR",
          "NATHEAL",
          "NATSPAC",
          "XMARSEX",
          "NATMASS",
          "CONLEGIS",
          "CONARMY",
          "CONSCI",
          "HELPPOOR",
          "HELPNOT",
          "CONTV",
          "NATCHLD",
          "RACDIF2",
          "NATARMS",
          "POSTLIFE",
          "POLABUSE",
          "CONMEDIC",
          "CONCLERG",
          "GETAHEAD",
          "DIDVOTELAST",
          "CONEDUC",
          "EQWLTH",
          "FEPOL",
          "ABHLTH",
          "NATROAD",
          "CONFINAN",
          "PREMARSX",
          "FEFAM",
          "LETDIE1",
          "NATSCI",
          "PRESLAST_DEMREP",
          "SPKHOMO",
          "COURTS",
          "TEENSEX",
          "PARTYID",
          "POLMURDR",
          "SPANKING",
          "CONJUDGE",
          "WORKHARD",
          "RACDIF1",
          "PRAYER",
          "RACDIF4",
          "POLATTAK",
          "SUICIDE1",
          "RACDIF3",
          "HELPOTH",
          "POLHITOK",
          "THNKSELF",
          "COLHOMO",
          "ABDEFECT",
          "CAPPUN",
          "COLRAC",
          "TRUST",
          "OBEY",
          "GRASS",
          "LIBCOM",
          "LIBHOMO",
          "RELIG_Catholic",
          "FAIR",
          "COLMIL",
          "RELIG_None",
          "FEPRESCH",
          "SPKATH",
          "WOULDVOTELAST_NONCONFORM",
          "ABRAPE",
          "ABPOOR",
          "SPKMIL",
          "ABNOMORE",
          "DIVLAW",
          "HOMOSEX",
          "COLCOM",
          "GUNLAW",
          "SPKCOM",
          "LIBATH",
          "LIBMIL",
          "FECHLD",
          "RELIG_Protestant",
          "HELPFUL",
          "POLESCAP",
          "SPKRAC",
          "LIBRAC",
          "COLATH",
          "ABSINGLE",
          "ABANY"
         ],
         "yaxis": "y"
        }
       ],
       "layout": {
        "barmode": "relative",
        "height": 1000,
        "legend": {
         "tracegroupgap": 0
        },
        "template": {
         "data": {
          "bar": [
           {
            "error_x": {
             "color": "#2a3f5f"
            },
            "error_y": {
             "color": "#2a3f5f"
            },
            "marker": {
             "line": {
              "color": "#E5ECF6",
              "width": 0.5
             },
             "pattern": {
              "fillmode": "overlay",
              "size": 10,
              "solidity": 0.2
             }
            },
            "type": "bar"
           }
          ],
          "barpolar": [
           {
            "marker": {
             "line": {
              "color": "#E5ECF6",
              "width": 0.5
             },
             "pattern": {
              "fillmode": "overlay",
              "size": 10,
              "solidity": 0.2
             }
            },
            "type": "barpolar"
           }
          ],
          "carpet": [
           {
            "aaxis": {
             "endlinecolor": "#2a3f5f",
             "gridcolor": "white",
             "linecolor": "white",
             "minorgridcolor": "white",
             "startlinecolor": "#2a3f5f"
            },
            "baxis": {
             "endlinecolor": "#2a3f5f",
             "gridcolor": "white",
             "linecolor": "white",
             "minorgridcolor": "white",
             "startlinecolor": "#2a3f5f"
            },
            "type": "carpet"
           }
          ],
          "choropleth": [
           {
            "colorbar": {
             "outlinewidth": 0,
             "ticks": ""
            },
            "type": "choropleth"
           }
          ],
          "contour": [
           {
            "colorbar": {
             "outlinewidth": 0,
             "ticks": ""
            },
            "colorscale": [
             [
              0,
              "#0d0887"
             ],
             [
              0.1111111111111111,
              "#46039f"
             ],
             [
              0.2222222222222222,
              "#7201a8"
             ],
             [
              0.3333333333333333,
              "#9c179e"
             ],
             [
              0.4444444444444444,
              "#bd3786"
             ],
             [
              0.5555555555555556,
              "#d8576b"
             ],
             [
              0.6666666666666666,
              "#ed7953"
             ],
             [
              0.7777777777777778,
              "#fb9f3a"
             ],
             [
              0.8888888888888888,
              "#fdca26"
             ],
             [
              1,
              "#f0f921"
             ]
            ],
            "type": "contour"
           }
          ],
          "contourcarpet": [
           {
            "colorbar": {
             "outlinewidth": 0,
             "ticks": ""
            },
            "type": "contourcarpet"
           }
          ],
          "heatmap": [
           {
            "colorbar": {
             "outlinewidth": 0,
             "ticks": ""
            },
            "colorscale": [
             [
              0,
              "#0d0887"
             ],
             [
              0.1111111111111111,
              "#46039f"
             ],
             [
              0.2222222222222222,
              "#7201a8"
             ],
             [
              0.3333333333333333,
              "#9c179e"
             ],
             [
              0.4444444444444444,
              "#bd3786"
             ],
             [
              0.5555555555555556,
              "#d8576b"
             ],
             [
              0.6666666666666666,
              "#ed7953"
             ],
             [
              0.7777777777777778,
              "#fb9f3a"
             ],
             [
              0.8888888888888888,
              "#fdca26"
             ],
             [
              1,
              "#f0f921"
             ]
            ],
            "type": "heatmap"
           }
          ],
          "heatmapgl": [
           {
            "colorbar": {
             "outlinewidth": 0,
             "ticks": ""
            },
            "colorscale": [
             [
              0,
              "#0d0887"
             ],
             [
              0.1111111111111111,
              "#46039f"
             ],
             [
              0.2222222222222222,
              "#7201a8"
             ],
             [
              0.3333333333333333,
              "#9c179e"
             ],
             [
              0.4444444444444444,
              "#bd3786"
             ],
             [
              0.5555555555555556,
              "#d8576b"
             ],
             [
              0.6666666666666666,
              "#ed7953"
             ],
             [
              0.7777777777777778,
              "#fb9f3a"
             ],
             [
              0.8888888888888888,
              "#fdca26"
             ],
             [
              1,
              "#f0f921"
             ]
            ],
            "type": "heatmapgl"
           }
          ],
          "histogram": [
           {
            "marker": {
             "pattern": {
              "fillmode": "overlay",
              "size": 10,
              "solidity": 0.2
             }
            },
            "type": "histogram"
           }
          ],
          "histogram2d": [
           {
            "colorbar": {
             "outlinewidth": 0,
             "ticks": ""
            },
            "colorscale": [
             [
              0,
              "#0d0887"
             ],
             [
              0.1111111111111111,
              "#46039f"
             ],
             [
              0.2222222222222222,
              "#7201a8"
             ],
             [
              0.3333333333333333,
              "#9c179e"
             ],
             [
              0.4444444444444444,
              "#bd3786"
             ],
             [
              0.5555555555555556,
              "#d8576b"
             ],
             [
              0.6666666666666666,
              "#ed7953"
             ],
             [
              0.7777777777777778,
              "#fb9f3a"
             ],
             [
              0.8888888888888888,
              "#fdca26"
             ],
             [
              1,
              "#f0f921"
             ]
            ],
            "type": "histogram2d"
           }
          ],
          "histogram2dcontour": [
           {
            "colorbar": {
             "outlinewidth": 0,
             "ticks": ""
            },
            "colorscale": [
             [
              0,
              "#0d0887"
             ],
             [
              0.1111111111111111,
              "#46039f"
             ],
             [
              0.2222222222222222,
              "#7201a8"
             ],
             [
              0.3333333333333333,
              "#9c179e"
             ],
             [
              0.4444444444444444,
              "#bd3786"
             ],
             [
              0.5555555555555556,
              "#d8576b"
             ],
             [
              0.6666666666666666,
              "#ed7953"
             ],
             [
              0.7777777777777778,
              "#fb9f3a"
             ],
             [
              0.8888888888888888,
              "#fdca26"
             ],
             [
              1,
              "#f0f921"
             ]
            ],
            "type": "histogram2dcontour"
           }
          ],
          "mesh3d": [
           {
            "colorbar": {
             "outlinewidth": 0,
             "ticks": ""
            },
            "type": "mesh3d"
           }
          ],
          "parcoords": [
           {
            "line": {
             "colorbar": {
              "outlinewidth": 0,
              "ticks": ""
             }
            },
            "type": "parcoords"
           }
          ],
          "pie": [
           {
            "automargin": true,
            "type": "pie"
           }
          ],
          "scatter": [
           {
            "fillpattern": {
             "fillmode": "overlay",
             "size": 10,
             "solidity": 0.2
            },
            "type": "scatter"
           }
          ],
          "scatter3d": [
           {
            "line": {
             "colorbar": {
              "outlinewidth": 0,
              "ticks": ""
             }
            },
            "marker": {
             "colorbar": {
              "outlinewidth": 0,
              "ticks": ""
             }
            },
            "type": "scatter3d"
           }
          ],
          "scattercarpet": [
           {
            "marker": {
             "colorbar": {
              "outlinewidth": 0,
              "ticks": ""
             }
            },
            "type": "scattercarpet"
           }
          ],
          "scattergeo": [
           {
            "marker": {
             "colorbar": {
              "outlinewidth": 0,
              "ticks": ""
             }
            },
            "type": "scattergeo"
           }
          ],
          "scattergl": [
           {
            "marker": {
             "colorbar": {
              "outlinewidth": 0,
              "ticks": ""
             }
            },
            "type": "scattergl"
           }
          ],
          "scattermapbox": [
           {
            "marker": {
             "colorbar": {
              "outlinewidth": 0,
              "ticks": ""
             }
            },
            "type": "scattermapbox"
           }
          ],
          "scatterpolar": [
           {
            "marker": {
             "colorbar": {
              "outlinewidth": 0,
              "ticks": ""
             }
            },
            "type": "scatterpolar"
           }
          ],
          "scatterpolargl": [
           {
            "marker": {
             "colorbar": {
              "outlinewidth": 0,
              "ticks": ""
             }
            },
            "type": "scatterpolargl"
           }
          ],
          "scatterternary": [
           {
            "marker": {
             "colorbar": {
              "outlinewidth": 0,
              "ticks": ""
             }
            },
            "type": "scatterternary"
           }
          ],
          "surface": [
           {
            "colorbar": {
             "outlinewidth": 0,
             "ticks": ""
            },
            "colorscale": [
             [
              0,
              "#0d0887"
             ],
             [
              0.1111111111111111,
              "#46039f"
             ],
             [
              0.2222222222222222,
              "#7201a8"
             ],
             [
              0.3333333333333333,
              "#9c179e"
             ],
             [
              0.4444444444444444,
              "#bd3786"
             ],
             [
              0.5555555555555556,
              "#d8576b"
             ],
             [
              0.6666666666666666,
              "#ed7953"
             ],
             [
              0.7777777777777778,
              "#fb9f3a"
             ],
             [
              0.8888888888888888,
              "#fdca26"
             ],
             [
              1,
              "#f0f921"
             ]
            ],
            "type": "surface"
           }
          ],
          "table": [
           {
            "cells": {
             "fill": {
              "color": "#EBF0F8"
             },
             "line": {
              "color": "white"
             }
            },
            "header": {
             "fill": {
              "color": "#C8D4E3"
             },
             "line": {
              "color": "white"
             }
            },
            "type": "table"
           }
          ]
         },
         "layout": {
          "annotationdefaults": {
           "arrowcolor": "#2a3f5f",
           "arrowhead": 0,
           "arrowwidth": 1
          },
          "autotypenumbers": "strict",
          "coloraxis": {
           "colorbar": {
            "outlinewidth": 0,
            "ticks": ""
           }
          },
          "colorscale": {
           "diverging": [
            [
             0,
             "#8e0152"
            ],
            [
             0.1,
             "#c51b7d"
            ],
            [
             0.2,
             "#de77ae"
            ],
            [
             0.3,
             "#f1b6da"
            ],
            [
             0.4,
             "#fde0ef"
            ],
            [
             0.5,
             "#f7f7f7"
            ],
            [
             0.6,
             "#e6f5d0"
            ],
            [
             0.7,
             "#b8e186"
            ],
            [
             0.8,
             "#7fbc41"
            ],
            [
             0.9,
             "#4d9221"
            ],
            [
             1,
             "#276419"
            ]
           ],
           "sequential": [
            [
             0,
             "#0d0887"
            ],
            [
             0.1111111111111111,
             "#46039f"
            ],
            [
             0.2222222222222222,
             "#7201a8"
            ],
            [
             0.3333333333333333,
             "#9c179e"
            ],
            [
             0.4444444444444444,
             "#bd3786"
            ],
            [
             0.5555555555555556,
             "#d8576b"
            ],
            [
             0.6666666666666666,
             "#ed7953"
            ],
            [
             0.7777777777777778,
             "#fb9f3a"
            ],
            [
             0.8888888888888888,
             "#fdca26"
            ],
            [
             1,
             "#f0f921"
            ]
           ],
           "sequentialminus": [
            [
             0,
             "#0d0887"
            ],
            [
             0.1111111111111111,
             "#46039f"
            ],
            [
             0.2222222222222222,
             "#7201a8"
            ],
            [
             0.3333333333333333,
             "#9c179e"
            ],
            [
             0.4444444444444444,
             "#bd3786"
            ],
            [
             0.5555555555555556,
             "#d8576b"
            ],
            [
             0.6666666666666666,
             "#ed7953"
            ],
            [
             0.7777777777777778,
             "#fb9f3a"
            ],
            [
             0.8888888888888888,
             "#fdca26"
            ],
            [
             1,
             "#f0f921"
            ]
           ]
          },
          "colorway": [
           "#636efa",
           "#EF553B",
           "#00cc96",
           "#ab63fa",
           "#FFA15A",
           "#19d3f3",
           "#FF6692",
           "#B6E880",
           "#FF97FF",
           "#FECB52"
          ],
          "font": {
           "color": "#2a3f5f"
          },
          "geo": {
           "bgcolor": "white",
           "lakecolor": "white",
           "landcolor": "#E5ECF6",
           "showlakes": true,
           "showland": true,
           "subunitcolor": "white"
          },
          "hoverlabel": {
           "align": "left"
          },
          "hovermode": "closest",
          "mapbox": {
           "style": "light"
          },
          "paper_bgcolor": "white",
          "plot_bgcolor": "#E5ECF6",
          "polar": {
           "angularaxis": {
            "gridcolor": "white",
            "linecolor": "white",
            "ticks": ""
           },
           "bgcolor": "#E5ECF6",
           "radialaxis": {
            "gridcolor": "white",
            "linecolor": "white",
            "ticks": ""
           }
          },
          "scene": {
           "xaxis": {
            "backgroundcolor": "#E5ECF6",
            "gridcolor": "white",
            "gridwidth": 2,
            "linecolor": "white",
            "showbackground": true,
            "ticks": "",
            "zerolinecolor": "white"
           },
           "yaxis": {
            "backgroundcolor": "#E5ECF6",
            "gridcolor": "white",
            "gridwidth": 2,
            "linecolor": "white",
            "showbackground": true,
            "ticks": "",
            "zerolinecolor": "white"
           },
           "zaxis": {
            "backgroundcolor": "#E5ECF6",
            "gridcolor": "white",
            "gridwidth": 2,
            "linecolor": "white",
            "showbackground": true,
            "ticks": "",
            "zerolinecolor": "white"
           }
          },
          "shapedefaults": {
           "line": {
            "color": "#2a3f5f"
           }
          },
          "ternary": {
           "aaxis": {
            "gridcolor": "white",
            "linecolor": "white",
            "ticks": ""
           },
           "baxis": {
            "gridcolor": "white",
            "linecolor": "white",
            "ticks": ""
           },
           "bgcolor": "#E5ECF6",
           "caxis": {
            "gridcolor": "white",
            "linecolor": "white",
            "ticks": ""
           }
          },
          "title": {
           "x": 0.05
          },
          "xaxis": {
           "automargin": true,
           "gridcolor": "white",
           "linecolor": "white",
           "ticks": "",
           "title": {
            "standoff": 15
           },
           "zerolinecolor": "white",
           "zerolinewidth": 2
          },
          "yaxis": {
           "automargin": true,
           "gridcolor": "white",
           "linecolor": "white",
           "ticks": "",
           "title": {
            "standoff": 15
           },
           "zerolinecolor": "white",
           "zerolinewidth": 2
          }
         }
        },
        "title": {
         "text": "Graph Edit Distance by Variable"
        },
        "xaxis": {
         "anchor": "y",
         "domain": [
          0,
          1
         ],
         "title": {
          "text": "Graph Edit Distance"
         }
        },
        "yaxis": {
         "anchor": "x",
         "domain": [
          0,
          1
         ],
         "tickangle": -45,
         "title": {
          "text": "Variable"
         }
        }
       }
      }
     },
     "metadata": {},
     "output_type": "display_data"
    }
   ],
   "source": [
    "# Now we can plot the results.\n",
    "import plotly.express as px\n",
    "import pandas as pd\n",
    "\n",
    "print(ged_results)\n",
    "\n",
    "# Create a DataFrame for plotting\n",
    "ged_df = pd.DataFrame({\n",
    "    'Variable': list(ged_results.keys()),\n",
    "    'Graph Edit Distance': list(ged_results.values())\n",
    "})\n",
    "\n",
    "# Sort by GED in descending order\n",
    "ged_df = ged_df.sort_values(by='Graph Edit Distance', ascending=False)\n",
    "\n",
    "# Create a bar plot with increased height\n",
    "fig = px.bar(ged_df, \n",
    "             x='Normalised Graph Edit Distance', \n",
    "             y='Variable', \n",
    "             orientation='h',\n",
    "             title='Graph Edit Distance by Variable',\n",
    "             height=1000)  # Increase height to accommodate all labels\n",
    "\n",
    "# Update the y-axis text angle\n",
    "fig.update_yaxes(tickangle=-45)  # Angle the labels 45 degrees\n",
    "\n",
    "# Show the plot\n",
    "fig.show()"
   ]
  },
  {
   "cell_type": "code",
   "execution_count": null,
   "metadata": {},
   "outputs": [],
   "source": [
    "# Make a GED time series for all the variables\n",
    "\n",
    "start_year = 1972\n",
    "end_year = 2018\n",
    "window_size = 4\n",
    "step_size = 2\n",
    "threshold = 0.001 # The GED threshold\n",
    "# Create an empty DataFrame for plotting. It should have columns containing the following:\n",
    "# List of years in the window\n",
    "# The variable that is being conditioned on\n",
    "# The GED between the two conditioned networks\n",
    "\n",
    "import pandas as pd\n",
    "from tqdm.notebook import tqdm\n",
    "ged_df = pd.DataFrame({\n",
    "    'Years': [],\n",
    "    'Variable': [],\n",
    "    'GED': []\n",
    "})\n",
    "\n",
    "\n",
    "variable_list = ['PARTYID', 'NATEDUC', 'HOMOSEX', 'NATROAD', 'PORNLAW', 'POLABUSE', 'ABHLTH', 'FEPRESCH', 'HELPOTH', 'NATAID', \n",
    "                 'XMARSEX', 'SPANKING', 'POPULAR', 'SPKCOM', 'FEFAM', 'NATCITY', 'CONEDUC', 'LIBHOMO', 'DIVLAW', 'COLMIL', \n",
    "                 'WORKHARD', 'COLATH', 'NATCHLD', 'SUICIDE2', 'NATFARE', 'FEPOL', 'NATARMS', 'GETAHEAD', 'CONSCI', 'POLMURDR', \n",
    "                 'ABANY', 'CONPRESS', 'NATSCI', 'RACDIF3', 'CONMEDIC', 'TEENSEX', 'NATHEAL', 'HELPBLK', 'LETDIE1', 'COLHOMO', \n",
    "                 'NATSPAC', 'NATENVIR', 'RACDIF2', 'CONARMY', 'CONCLERG', 'NATDRUG', 'CONLABOR', 'POLESCAP', 'PRAYER', 'OBEY', \n",
    "                 'SPKHOMO', 'POLATTAK', 'HELPNOT', 'HELPPOOR', 'POSTLIFE', 'POLVIEWS', 'SEXEDUC', 'ABRAPE', 'CONBUS', 'ABDEFECT', \n",
    "                 'POLHITOK', 'CONFINAN', 'CAPPUN', 'LIBATH', 'CONLEGIS', 'ABNOMORE', 'FECHLD', 'SPKMIL', 'CONJUDGE', 'TRUST', \n",
    "                 'RACDIF4', 'LIBRAC', 'FAIR', 'AFFRMACT', 'PREMARSX', 'ABPOOR', 'SUICIDE1', 'NATMASS', 'COURTS', 'CONFED', \n",
    "                 'CONTV', 'NATPARK', 'LIBMIL', 'NATCRIME', 'COLCOM', 'GUNLAW', 'NATSOC', 'THNKSELF', 'SPKRAC', 'RACDIF1', \n",
    "                 'GRASS', 'LIBCOM', 'HELPFUL', 'EQWLTH', 'SPKATH', 'ABSINGLE', 'WRKWAYUP', 'COLRAC', 'PRESLAST_DEMREP', \n",
    "                 'PRESLAST_NONCONFORM', 'WOULDVOTELAST_NONCONFORM', 'DIDVOTELAST', 'RELIG_Protestant', 'RELIG_Catholic', \n",
    "                 'RELIG_Jewish', 'RELIG_None', 'RELIG_Other', 'RELIG_Buddhism', 'RELIG_Hinduism', 'RELIG_Other_eastern_religions', \n",
    "                 'RELIG_Muslim', 'RELIG_Orthodox_christian', 'RELIG_Christian', 'RELIG_Native_american', 'RELIG_Inter_nondenominational']\n",
    "\n",
    "for year in tqdm(range(start_year, end_year + 1, step_size), desc=\"Processing years\"):\n",
    "    \n",
    "    years_list = list(range(year, year + window_size))\n",
    "    \n",
    "    skipped_variables = []\n",
    "\n",
    "    for var in tqdm(variable_list, desc=f\"Processing variables for {year}\", leave=False):\n",
    "        \n",
    "        # Optional print statements\n",
    "        #print(f\"Calculating GED for {var} in years {years_list}\")\n",
    "        \n",
    "        # Calculate negative condition\n",
    "        conditioned_corr_matrix_neg = calculate_conditioned_correlation_matrix(\n",
    "            cleaned_df, \n",
    "            years_of_interest=years_list,\n",
    "            method=CorrelationMethod.PEARSON,\n",
    "            partial=True,\n",
    "            edge_suppression=EdgeSuppressionMethod.REGULARIZATION,\n",
    "            suppression_params={'regularization': 0.18},\n",
    "            variable_to_condition=var,\n",
    "            condition='less_than_zero'\n",
    "        )\n",
    "        \n",
    "        # Calculate positive condition\n",
    "        conditioned_corr_matrix_pos = calculate_conditioned_correlation_matrix(\n",
    "            cleaned_df, \n",
    "            years_of_interest=years_list,\n",
    "            method=CorrelationMethod.PEARSON,\n",
    "            partial=True,\n",
    "            edge_suppression=EdgeSuppressionMethod.REGULARIZATION,\n",
    "            suppression_params={'regularization': 0.18},\n",
    "            variable_to_condition=var,\n",
    "            condition='greater_than_zero'\n",
    "        )\n",
    "        \n",
    "        skip_ged_calc = False\n",
    "        # Check if both matrices were successfully calculated\n",
    "        if conditioned_corr_matrix_neg is None:\n",
    "            #tqdm.write(f\"  Negative condition for '{var}' could not be calculated (not enough datapoints; precision error): Correlation matrix is None\")\n",
    "            skipped_variables.append(var)\n",
    "            ged_result = None\n",
    "            skip_ged_calc = True\n",
    "            \n",
    "        if conditioned_corr_matrix_pos is None:\n",
    "            #tqdm.write(f\"  Positive condition for '{var}' could not be calculated (not enough datapoints; precision error): Correlation matrix is None\")\n",
    "            skipped_variables.append(var)\n",
    "            ged_result = None\n",
    "            skip_ged_calc = True\n",
    "        \n",
    "        # Calculate GED if both matrices are valid\n",
    "        if not skip_ged_calc:\n",
    "            ged_result = graph_similarity(\n",
    "                conditioned_corr_matrix_neg,\n",
    "                conditioned_corr_matrix_pos,\n",
    "                similarity_method=\"graph_edit_distance\",\n",
    "                edge_threshold=threshold\n",
    "            )   \n",
    "            ged =  ged_result.normalized_score\n",
    "\n",
    "        # Add years_list, var, and ged to ged_df\n",
    "        ged_df = pd.concat([ged_df, pd.DataFrame({\n",
    "            'Years': [years_list],\n",
    "            'Variable': [var], \n",
    "            'GED': [ged]\n",
    "        })], ignore_index=True)\n",
    "\n"
   ]
  },
  {
   "cell_type": "code",
   "execution_count": 18,
   "metadata": {},
   "outputs": [
    {
     "name": "stdout",
     "output_type": "stream",
     "text": [
      "                         Years  Variable       GED\n",
      "368   [1978, 1979, 1980, 1981]  SUICIDE2  0.157218\n",
      "138   [1974, 1975, 1976, 1977]  SUICIDE2  0.132867\n",
      "9     [1972, 1973, 1974, 1975]    NATAID  0.131187\n",
      "1771  [2002, 2003, 2004, 2005]  CONLABOR  0.129838\n",
      "1772  [2002, 2003, 2004, 2005]  POLESCAP  0.129838\n",
      "['PARTYID' 'NATEDUC' 'HOMOSEX' 'NATROAD' 'PORNLAW' 'POLABUSE' 'ABHLTH'\n",
      " 'FEPRESCH' 'HELPOTH' 'NATAID' 'XMARSEX' 'SPANKING' 'POPULAR' 'SPKCOM'\n",
      " 'FEFAM' 'NATCITY' 'CONEDUC' 'LIBHOMO' 'DIVLAW' 'COLMIL' 'WORKHARD'\n",
      " 'COLATH' 'NATCHLD' 'SUICIDE2' 'NATFARE' 'FEPOL' 'NATARMS' 'GETAHEAD'\n",
      " 'CONSCI' 'POLMURDR' 'ABANY' 'CONPRESS' 'NATSCI' 'RACDIF3' 'CONMEDIC'\n",
      " 'TEENSEX' 'NATHEAL' 'HELPBLK' 'LETDIE1' 'COLHOMO' 'NATSPAC' 'NATENVIR'\n",
      " 'RACDIF2' 'CONARMY' 'CONCLERG' 'NATDRUG' 'CONLABOR' 'POLESCAP' 'PRAYER'\n",
      " 'OBEY' 'SPKHOMO' 'POLATTAK' 'HELPNOT' 'HELPPOOR' 'POSTLIFE' 'POLVIEWS'\n",
      " 'SEXEDUC' 'ABRAPE' 'CONBUS' 'ABDEFECT' 'POLHITOK' 'CONFINAN' 'CAPPUN'\n",
      " 'LIBATH' 'CONLEGIS' 'ABNOMORE' 'FECHLD' 'SPKMIL' 'CONJUDGE' 'TRUST'\n",
      " 'RACDIF4' 'LIBRAC' 'FAIR' 'AFFRMACT' 'PREMARSX' 'ABPOOR' 'SUICIDE1'\n",
      " 'NATMASS' 'COURTS' 'CONFED' 'CONTV' 'NATPARK' 'LIBMIL' 'NATCRIME'\n",
      " 'COLCOM' 'GUNLAW' 'NATSOC' 'THNKSELF' 'SPKRAC' 'RACDIF1' 'GRASS' 'LIBCOM'\n",
      " 'HELPFUL' 'EQWLTH' 'SPKATH' 'ABSINGLE' 'WRKWAYUP' 'COLRAC'\n",
      " 'PRESLAST_DEMREP' 'PRESLAST_NONCONFORM' 'WOULDVOTELAST_NONCONFORM'\n",
      " 'DIDVOTELAST' 'RELIG_Protestant' 'RELIG_Catholic' 'RELIG_Jewish'\n",
      " 'RELIG_None' 'RELIG_Other' 'RELIG_Buddhism' 'RELIG_Hinduism'\n",
      " 'RELIG_Other_eastern_religions' 'RELIG_Muslim' 'RELIG_Orthodox_christian'\n",
      " 'RELIG_Christian' 'RELIG_Native_american' 'RELIG_Inter_nondenominational']\n"
     ]
    },
    {
     "data": {
      "application/vnd.plotly.v1+json": {
       "config": {
        "plotlyServerURL": "https://plot.ly"
       },
       "data": [
        {
         "hovertemplate": "Variable=PARTYID<br>Year=%{x}<br>GED=%{y}<extra></extra>",
         "legendgroup": "PARTYID",
         "line": {
          "color": "#636efa",
          "dash": "solid"
         },
         "marker": {
          "symbol": "circle"
         },
         "mode": "lines",
         "name": "PARTYID",
         "showlegend": true,
         "type": "scattergl",
         "x": [
          1972,
          1974,
          1976,
          1978,
          1980,
          1982,
          1984,
          1986,
          1988,
          1990,
          1992,
          1994,
          1996,
          1998,
          2000,
          2002,
          2004,
          2006,
          2008,
          2010,
          2012,
          2014,
          2016,
          2018
         ],
         "xaxis": "x",
         "y": [
          0.06964006259780908,
          0.044790652385589096,
          0.0441358024691358,
          0.06126331811263318,
          0.0576592082616179,
          0.050793650793650794,
          0.04853426519122501,
          0.04707996406109614,
          0.04743935309973046,
          0.052564102564102565,
          0.051490037030506086,
          0.05003734129947722,
          0.042486231313926044,
          0.04851258581235698,
          0.04872563718140929,
          0.0568215892053973,
          0.05502248875562219,
          0.05244670542635659,
          0.05601879036993541,
          0.06129994036970781,
          0.062456627342123525,
          0.057714550080962296,
          0.05909090909090909,
          0.07808199333623063
         ],
         "yaxis": "y"
        },
        {
         "hovertemplate": "Variable=NATEDUC<br>Year=%{x}<br>GED=%{y}<extra></extra>",
         "legendgroup": "NATEDUC",
         "line": {
          "color": "#EF553B",
          "dash": "solid"
         },
         "marker": {
          "symbol": "circle"
         },
         "mode": "lines",
         "name": "NATEDUC",
         "showlegend": true,
         "type": "scattergl",
         "x": [
          1972,
          1974,
          1976,
          1978,
          1980,
          1982,
          1984,
          1986,
          1988,
          1990,
          1992,
          1994,
          1996,
          1998,
          2000,
          2002,
          2004,
          2006,
          2008,
          2010,
          2012,
          2014,
          2016,
          2018
         ],
         "xaxis": "x",
         "y": [
          0.096579476861167,
          0.044790652385589096,
          0.08227848101265822,
          0.0892018779342723,
          0.08433734939759036,
          0.050793650793650794,
          0.04853426519122501,
          0.04707996406109614,
          0.04743935309973046,
          0.052564102564102565,
          0.051490037030506086,
          0.05003734129947722,
          0.042486231313926044,
          0.04851258581235698,
          0.04872563718140929,
          0.0568215892053973,
          0.05502248875562219,
          0.05244670542635659,
          0.05601879036993541,
          0.06129994036970781,
          0.062456627342123525,
          0.057714550080962296,
          0.05909090909090909,
          0.07808199333623063
         ],
         "yaxis": "y"
        },
        {
         "hovertemplate": "Variable=HOMOSEX<br>Year=%{x}<br>GED=%{y}<extra></extra>",
         "legendgroup": "HOMOSEX",
         "line": {
          "color": "#00cc96",
          "dash": "solid"
         },
         "marker": {
          "symbol": "circle"
         },
         "mode": "lines",
         "name": "HOMOSEX",
         "showlegend": true,
         "type": "scattergl",
         "x": [
          1972,
          1974,
          1976,
          1978,
          1980,
          1982,
          1984,
          1986,
          1988,
          1990,
          1992,
          1994,
          1996,
          1998,
          2000,
          2002,
          2004,
          2006,
          2008,
          2010,
          2012,
          2014,
          2016,
          2018
         ],
         "xaxis": "x",
         "y": [
          0.06298076923076923,
          0.05939629990262902,
          0.05777345017851347,
          0.0639269406392694,
          0.04491228070175438,
          0.053776079929473995,
          0.04780564263322884,
          0.04800817160367722,
          0.04743935309973046,
          0.060073260073260075,
          0.0491847099705961,
          0.03529411764705882,
          0.03509081290777641,
          0.034960193838698514,
          0.040313549832026875,
          0.05755879059350504,
          0.044612943043554926,
          0.043202668890742285,
          0.04686868686868687,
          0.05019305019305019,
          0.046592894583576,
          0.0452339351582217,
          0.04712871287128713,
          0.05668934240362812
         ],
         "yaxis": "y"
        },
        {
         "hovertemplate": "Variable=NATROAD<br>Year=%{x}<br>GED=%{y}<extra></extra>",
         "legendgroup": "NATROAD",
         "line": {
          "color": "#ab63fa",
          "dash": "solid"
         },
         "marker": {
          "symbol": "circle"
         },
         "mode": "lines",
         "name": "NATROAD",
         "showlegend": true,
         "type": "scattergl",
         "x": [
          1972,
          1974,
          1976,
          1978,
          1980,
          1982,
          1984,
          1986,
          1988,
          1990,
          1992,
          1994,
          1996,
          1998,
          2000,
          2002,
          2004,
          2006,
          2008,
          2010,
          2012,
          2014,
          2016,
          2018
         ],
         "xaxis": "x",
         "y": [
          0.06298076923076923,
          0.05939629990262902,
          0.05777345017851347,
          0.0639269406392694,
          0.04491228070175438,
          0.053776079929473995,
          0.09069306930693069,
          0.04800817160367722,
          0.04743935309973046,
          0.060073260073260075,
          0.0491847099705961,
          0.03529411764705882,
          0.03509081290777641,
          0.034960193838698514,
          0.040313549832026875,
          0.05755879059350504,
          0.044612943043554926,
          0.043202668890742285,
          0.04686868686868687,
          0.05019305019305019,
          0.046592894583576,
          0.0452339351582217,
          0.04712871287128713,
          0.05668934240362812
         ],
         "yaxis": "y"
        },
        {
         "hovertemplate": "Variable=PORNLAW<br>Year=%{x}<br>GED=%{y}<extra></extra>",
         "legendgroup": "PORNLAW",
         "line": {
          "color": "#FFA15A",
          "dash": "solid"
         },
         "marker": {
          "symbol": "circle"
         },
         "mode": "lines",
         "name": "PORNLAW",
         "showlegend": true,
         "type": "scattergl",
         "x": [
          1972,
          1974,
          1976,
          1978,
          1980,
          1982,
          1984,
          1986,
          1988,
          1990,
          1992,
          1994,
          1996,
          1998,
          2000,
          2002,
          2004,
          2006,
          2008,
          2010,
          2012,
          2014,
          2016,
          2018
         ],
         "xaxis": "x",
         "y": [
          0.1076388888888889,
          0.0925553319919517,
          0.0927536231884058,
          0.10954616588419405,
          0.10837245696400626,
          0.053776079929473995,
          0.09069306930693069,
          0.04800817160367722,
          0.04743935309973046,
          0.060073260073260075,
          0.0491847099705961,
          0.03529411764705882,
          0.03509081290777641,
          0.034960193838698514,
          0.040313549832026875,
          0.05755879059350504,
          0.044612943043554926,
          0.043202668890742285,
          0.04686868686868687,
          0.05019305019305019,
          0.046592894583576,
          0.0452339351582217,
          0.04712871287128713,
          0.05668934240362812
         ],
         "yaxis": "y"
        },
        {
         "hovertemplate": "Variable=POLABUSE<br>Year=%{x}<br>GED=%{y}<extra></extra>",
         "legendgroup": "POLABUSE",
         "line": {
          "color": "#19d3f3",
          "dash": "solid"
         },
         "marker": {
          "symbol": "circle"
         },
         "mode": "lines",
         "name": "POLABUSE",
         "showlegend": true,
         "type": "scattergl",
         "x": [
          1972,
          1974,
          1976,
          1978,
          1980,
          1982,
          1984,
          1986,
          1988,
          1990,
          1992,
          1994,
          1996,
          1998,
          2000,
          2002,
          2004,
          2006,
          2008,
          2010,
          2012,
          2014,
          2016,
          2018
         ],
         "xaxis": "x",
         "y": [
          0.07291666666666667,
          0.05070422535211268,
          0.049899396378269616,
          0.06729264475743349,
          0.061815336463223784,
          0.083089905874716,
          0.06255012028869286,
          0.056687565308254965,
          0.04743935309973046,
          0.060073260073260075,
          0.09630642954856361,
          0.03529411764705882,
          0.03509081290777641,
          0.034960193838698514,
          0.040313549832026875,
          0.05755879059350504,
          0.044612943043554926,
          0.043202668890742285,
          0.04686868686868687,
          0.05019305019305019,
          0.046592894583576,
          0.07534807534807535,
          0.04712871287128713,
          0.05668934240362812
         ],
         "yaxis": "y"
        },
        {
         "hovertemplate": "Variable=ABHLTH<br>Year=%{x}<br>GED=%{y}<extra></extra>",
         "legendgroup": "ABHLTH",
         "line": {
          "color": "#FF6692",
          "dash": "solid"
         },
         "marker": {
          "symbol": "circle"
         },
         "mode": "lines",
         "name": "ABHLTH",
         "showlegend": true,
         "type": "scattergl",
         "x": [
          1972,
          1974,
          1976,
          1978,
          1980,
          1982,
          1984,
          1986,
          1988,
          1990,
          1992,
          1994,
          1996,
          1998,
          2000,
          2002,
          2004,
          2006,
          2008,
          2010,
          2012,
          2014,
          2016,
          2018
         ],
         "xaxis": "x",
         "y": [
          0.09698189134808853,
          0.06626706626706627,
          0.07974683544303797,
          0.08215962441314555,
          0.07170143990596532,
          0.083089905874716,
          0.06228281208233093,
          0.06896551724137931,
          0.04743935309973046,
          0.060073260073260075,
          0.09630642954856361,
          0.03529411764705882,
          0.06820175438596492,
          0.034960193838698514,
          0.040313549832026875,
          0.05755879059350504,
          0.044612943043554926,
          0.043202668890742285,
          0.04686868686868687,
          0.05019305019305019,
          0.046592894583576,
          0.07306930693069306,
          0.04712871287128713,
          0.05668934240362812
         ],
         "yaxis": "y"
        },
        {
         "hovertemplate": "Variable=FEPRESCH<br>Year=%{x}<br>GED=%{y}<extra></extra>",
         "legendgroup": "FEPRESCH",
         "line": {
          "color": "#B6E880",
          "dash": "solid"
         },
         "marker": {
          "symbol": "circle"
         },
         "mode": "lines",
         "name": "FEPRESCH",
         "showlegend": true,
         "type": "scattergl",
         "x": [
          1972,
          1974,
          1976,
          1978,
          1980,
          1982,
          1984,
          1986,
          1988,
          1990,
          1992,
          1994,
          1996,
          1998,
          2000,
          2002,
          2004,
          2006,
          2008,
          2010,
          2012,
          2014,
          2016,
          2018
         ],
         "xaxis": "x",
         "y": [
          0.09698189134808853,
          0.058747160012982795,
          0.058747160012982795,
          0.08215962441314555,
          0.07170143990596532,
          0.07246376811594203,
          0.0518326545723806,
          0.039873417721518985,
          0.036075949367088606,
          0.042843232716650435,
          0.05462962962962963,
          0.049477221807318894,
          0.050778050778050775,
          0.04493207941483804,
          0.04803133374561946,
          0.06707070707070707,
          0.05543071161048689,
          0.059244126659857,
          0.0616729088639201,
          0.060805860805860805,
          0.06717142302465541,
          0.064065230052417,
          0.07105416423995341,
          0.07916241062308478
         ],
         "yaxis": "y"
        },
        {
         "hovertemplate": "Variable=HELPOTH<br>Year=%{x}<br>GED=%{y}<extra></extra>",
         "legendgroup": "HELPOTH",
         "line": {
          "color": "#FF97FF",
          "dash": "solid"
         },
         "marker": {
          "symbol": "circle"
         },
         "mode": "lines",
         "name": "HELPOTH",
         "showlegend": true,
         "type": "scattergl",
         "x": [
          1972,
          1974,
          1976,
          1978,
          1980,
          1982,
          1984,
          1986,
          1988,
          1990,
          1992,
          1994,
          1996,
          1998,
          2000,
          2002,
          2004,
          2006,
          2008,
          2010,
          2012,
          2014,
          2016,
          2018
         ],
         "xaxis": "x",
         "y": [
          0.09698189134808853,
          0.058747160012982795,
          0.058747160012982795,
          0.08215962441314555,
          0.07170143990596532,
          0.07246376811594203,
          0.0518326545723806,
          0.052604698672114404,
          0.054706163401815576,
          0.06666666666666667,
          0.06335204490777867,
          0.0582731889869019,
          0.05912653975363942,
          0.05394736842105263,
          0.055884995507637016,
          0.06707070707070707,
          0.08969298245614035,
          0.08142225962549969,
          0.0682110682110682,
          0.060805860805860805,
          0.0802020202020202,
          0.07436527436527436,
          0.07730364873222016,
          0.07916241062308478
         ],
         "yaxis": "y"
        },
        {
         "hovertemplate": "Variable=NATAID<br>Year=%{x}<br>GED=%{y}<extra></extra>",
         "legendgroup": "NATAID",
         "line": {
          "color": "#FECB52",
          "dash": "solid"
         },
         "marker": {
          "symbol": "circle"
         },
         "mode": "lines",
         "name": "NATAID",
         "showlegend": true,
         "type": "scattergl",
         "x": [
          1972,
          1974,
          1976,
          1978,
          1980,
          1982,
          1984,
          1986,
          1988,
          1990,
          1992,
          1994,
          1996,
          1998,
          2000,
          2002,
          2004,
          2006,
          2008,
          2010,
          2012,
          2014,
          2016,
          2018
         ],
         "xaxis": "x",
         "y": [
          0.1311871227364185,
          0.058747160012982795,
          0.058747160012982795,
          0.10641627543035993,
          0.07170143990596532,
          0.07246376811594203,
          0.0518326545723806,
          0.052604698672114404,
          0.054706163401815576,
          0.06666666666666667,
          0.06335204490777867,
          0.0582731889869019,
          0.05912653975363942,
          0.05394736842105263,
          0.055884995507637016,
          0.06707070707070707,
          0.08969298245614035,
          0.08142225962549969,
          0.0682110682110682,
          0.060805860805860805,
          0.0802020202020202,
          0.07436527436527436,
          0.07730364873222016,
          0.07916241062308478
         ],
         "yaxis": "y"
        },
        {
         "hovertemplate": "Variable=XMARSEX<br>Year=%{x}<br>GED=%{y}<extra></extra>",
         "legendgroup": "XMARSEX",
         "line": {
          "color": "#636efa",
          "dash": "solid"
         },
         "marker": {
          "symbol": "circle"
         },
         "mode": "lines",
         "name": "XMARSEX",
         "showlegend": true,
         "type": "scattergl",
         "x": [
          1972,
          1974,
          1976,
          1978,
          1980,
          1982,
          1984,
          1986,
          1988,
          1990,
          1992,
          1994,
          1996,
          1998,
          2000,
          2002,
          2004,
          2006,
          2008,
          2010,
          2012,
          2014,
          2016,
          2018
         ],
         "xaxis": "x",
         "y": [
          0.08125,
          0.08114248620577734,
          0.08179162609542356,
          0.08942161339421613,
          0.05894736842105263,
          0.08286805759623861,
          0.07523510971786834,
          0.0875893769152196,
          0.0986442262739598,
          0.06666666666666667,
          0.06335204490777867,
          0.08714247527399091,
          0.05912653975363942,
          0.07631578947368421,
          0.055884995507637016,
          0.06707070707070707,
          0.08969298245614035,
          0.08142225962549969,
          0.0682110682110682,
          0.060805860805860805,
          0.0802020202020202,
          0.07861386138613861,
          0.08534653465346535,
          0.07916241062308478
         ],
         "yaxis": "y"
        },
        {
         "hovertemplate": "Variable=SPANKING<br>Year=%{x}<br>GED=%{y}<extra></extra>",
         "legendgroup": "SPANKING",
         "line": {
          "color": "#EF553B",
          "dash": "solid"
         },
         "marker": {
          "symbol": "circle"
         },
         "mode": "lines",
         "name": "SPANKING",
         "showlegend": true,
         "type": "scattergl",
         "x": [
          1972,
          1974,
          1976,
          1978,
          1980,
          1982,
          1984,
          1986,
          1988,
          1990,
          1992,
          1994,
          1996,
          1998,
          2000,
          2002,
          2004,
          2006,
          2008,
          2010,
          2012,
          2014,
          2016,
          2018
         ],
         "xaxis": "x",
         "y": [
          0.08125,
          0.08114248620577734,
          0.08179162609542356,
          0.08942161339421613,
          0.05894736842105263,
          0.08286805759623861,
          0.08589411329137357,
          0.0620253164556962,
          0.06329113924050633,
          0.06491398896462187,
          0.06512345679012346,
          0.052614052614052616,
          0.06106442577030812,
          0.05209397344228805,
          0.05292929292929293,
          0.0768025078369906,
          0.06767109295199183,
          0.06504702194357367,
          0.06772277227722773,
          0.063003663003663,
          0.05860805860805861,
          0.06398046398046398,
          0.07091136079900125,
          0.07814096016343207
         ],
         "yaxis": "y"
        },
        {
         "hovertemplate": "Variable=POPULAR<br>Year=%{x}<br>GED=%{y}<extra></extra>",
         "legendgroup": "POPULAR",
         "line": {
          "color": "#00cc96",
          "dash": "solid"
         },
         "marker": {
          "symbol": "circle"
         },
         "mode": "lines",
         "name": "POPULAR",
         "showlegend": true,
         "type": "scattergl",
         "x": [
          1972,
          1974,
          1976,
          1978,
          1980,
          1982,
          1984,
          1986,
          1988,
          1990,
          1992,
          1994,
          1996,
          1998,
          2000,
          2002,
          2004,
          2006,
          2008,
          2010,
          2012,
          2014,
          2016,
          2018
         ],
         "xaxis": "x",
         "y": [
          0.08125,
          0.08114248620577734,
          0.08179162609542356,
          0.08942161339421613,
          0.05894736842105263,
          0.08286805759623861,
          0.08589411329137357,
          0.0620253164556962,
          0.06329113924050633,
          0.06491398896462187,
          0.06512345679012346,
          0.052614052614052616,
          0.06106442577030812,
          0.05209397344228805,
          0.05292929292929293,
          0.0768025078369906,
          0.06767109295199183,
          0.06504702194357367,
          0.06772277227722773,
          0.063003663003663,
          0.05860805860805861,
          0.06398046398046398,
          0.07091136079900125,
          0.07814096016343207
         ],
         "yaxis": "y"
        },
        {
         "hovertemplate": "Variable=SPKCOM<br>Year=%{x}<br>GED=%{y}<extra></extra>",
         "legendgroup": "SPKCOM",
         "line": {
          "color": "#ab63fa",
          "dash": "solid"
         },
         "marker": {
          "symbol": "circle"
         },
         "mode": "lines",
         "name": "SPKCOM",
         "showlegend": true,
         "type": "scattergl",
         "x": [
          1972,
          1974,
          1976,
          1978,
          1980,
          1982,
          1984,
          1986,
          1988,
          1990,
          1992,
          1994,
          1996,
          1998,
          2000,
          2002,
          2004,
          2006,
          2008,
          2010,
          2012,
          2014,
          2016,
          2018
         ],
         "xaxis": "x",
         "y": [
          0.04662698412698413,
          0.041292041292041295,
          0.04295704295704296,
          0.053208137715179966,
          0.04504504504504504,
          0.04245709123757904,
          0.04063084736701417,
          0.0384012539184953,
          0.03882783882783883,
          0.03945068664169788,
          0.04623803009575923,
          0.035841313269493844,
          0.03583426651735722,
          0.03650615901455767,
          0.04524076147816349,
          0.06634637382749943,
          0.050102951269732326,
          0.04361370716510903,
          0.05400948258091115,
          0.053562653562653564,
          0.05276705276705277,
          0.05148514851485148,
          0.05277262420119563,
          0.06332842415316642
         ],
         "yaxis": "y"
        },
        {
         "hovertemplate": "Variable=FEFAM<br>Year=%{x}<br>GED=%{y}<extra></extra>",
         "legendgroup": "FEFAM",
         "line": {
          "color": "#FFA15A",
          "dash": "solid"
         },
         "marker": {
          "symbol": "circle"
         },
         "mode": "lines",
         "name": "FEFAM",
         "showlegend": true,
         "type": "scattergl",
         "x": [
          1972,
          1974,
          1976,
          1978,
          1980,
          1982,
          1984,
          1986,
          1988,
          1990,
          1992,
          1994,
          1996,
          1998,
          2000,
          2002,
          2004,
          2006,
          2008,
          2010,
          2012,
          2014,
          2016,
          2018
         ],
         "xaxis": "x",
         "y": [
          0.04662698412698413,
          0.055501460564751706,
          0.055501460564751706,
          0.053208137715179966,
          0.04504504504504504,
          0.051759834368530024,
          0.047760088855979266,
          0.03711843711843712,
          0.039240506329113925,
          0.03602726387536514,
          0.047839506172839504,
          0.04648991784914115,
          0.04504504504504504,
          0.04767676767676768,
          0.05030643513789581,
          0.06843718079673136,
          0.05293383270911361,
          0.05745658835546476,
          0.06198019801980198,
          0.06227106227106227,
          0.06930693069306931,
          0.058050645007166744,
          0.0681421083284799,
          0.08747474747474747
         ],
         "yaxis": "y"
        },
        {
         "hovertemplate": "Variable=NATCITY<br>Year=%{x}<br>GED=%{y}<extra></extra>",
         "legendgroup": "NATCITY",
         "line": {
          "color": "#19d3f3",
          "dash": "solid"
         },
         "marker": {
          "symbol": "circle"
         },
         "mode": "lines",
         "name": "NATCITY",
         "showlegend": true,
         "type": "scattergl",
         "x": [
          1972,
          1974,
          1976,
          1978,
          1980,
          1982,
          1984,
          1986,
          1988,
          1990,
          1992,
          1994,
          1996,
          1998,
          2000,
          2002,
          2004,
          2006,
          2008,
          2010,
          2012,
          2014,
          2016,
          2018
         ],
         "xaxis": "x",
         "y": [
          0.08088531187122737,
          0.05627705627705628,
          0.053164556962025315,
          0.061815336463223784,
          0.05730238025271819,
          0.051759834368530024,
          0.047760088855979266,
          0.03711843711843712,
          0.039240506329113925,
          0.03602726387536514,
          0.047839506172839504,
          0.08185798591281172,
          0.04504504504504504,
          0.04767676767676768,
          0.05030643513789581,
          0.06843718079673136,
          0.05293383270911361,
          0.05745658835546476,
          0.06198019801980198,
          0.06227106227106227,
          0.06930693069306931,
          0.058050645007166744,
          0.0681421083284799,
          0.08747474747474747
         ],
         "yaxis": "y"
        },
        {
         "hovertemplate": "Variable=CONEDUC<br>Year=%{x}<br>GED=%{y}<extra></extra>",
         "legendgroup": "CONEDUC",
         "line": {
          "color": "#FF6692",
          "dash": "solid"
         },
         "marker": {
          "symbol": "circle"
         },
         "mode": "lines",
         "name": "CONEDUC",
         "showlegend": true,
         "type": "scattergl",
         "x": [
          1972,
          1974,
          1976,
          1978,
          1980,
          1982,
          1984,
          1986,
          1988,
          1990,
          1992,
          1994,
          1996,
          1998,
          2000,
          2002,
          2004,
          2006,
          2008,
          2010,
          2012,
          2014,
          2016,
          2018
         ],
         "xaxis": "x",
         "y": [
          0.08088531187122737,
          0.06993006993006994,
          0.0680379746835443,
          0.0837245696400626,
          0.06788128122245078,
          0.07715458276333789,
          0.08206361935311414,
          0.03711843711843712,
          0.039240506329113925,
          0.03602726387536514,
          0.08098495212038304,
          0.06812585499316005,
          0.06378404204491162,
          0.058672276764843385,
          0.06556776556776557,
          0.06843718079673136,
          0.08270238788584741,
          0.05745658835546476,
          0.09636019356196086,
          0.06227106227106227,
          0.07952871870397643,
          0.0725604670558799,
          0.07492354740061162,
          0.08747474747474747
         ],
         "yaxis": "y"
        },
        {
         "hovertemplate": "Variable=LIBHOMO<br>Year=%{x}<br>GED=%{y}<extra></extra>",
         "legendgroup": "LIBHOMO",
         "line": {
          "color": "#B6E880",
          "dash": "solid"
         },
         "marker": {
          "symbol": "circle"
         },
         "mode": "lines",
         "name": "LIBHOMO",
         "showlegend": true,
         "type": "scattergl",
         "x": [
          1972,
          1974,
          1976,
          1978,
          1980,
          1982,
          1984,
          1986,
          1988,
          1990,
          1992,
          1994,
          1996,
          1998,
          2000,
          2002,
          2004,
          2006,
          2008,
          2010,
          2012,
          2014,
          2016,
          2018
         ],
         "xaxis": "x",
         "y": [
          0.04513888888888889,
          0.04628704628704629,
          0.04528804528804529,
          0.047339593114241005,
          0.03351351351351351,
          0.038241493526046375,
          0.03421545041432772,
          0.034482758620689655,
          0.03487816531294792,
          0.03745318352059925,
          0.047606019151846785,
          0.037482900136798905,
          0.04053751399776036,
          0.03879386351613472,
          0.04959568733153639,
          0.0658454647256439,
          0.055593685655456415,
          0.04742125302872966,
          0.05730777159348588,
          0.060114660114660115,
          0.056467181467181465,
          0.05465346534653465,
          0.058787878787878785,
          0.09236271828318957
         ],
         "yaxis": "y"
        },
        {
         "hovertemplate": "Variable=DIVLAW<br>Year=%{x}<br>GED=%{y}<extra></extra>",
         "legendgroup": "DIVLAW",
         "line": {
          "color": "#FF97FF",
          "dash": "solid"
         },
         "marker": {
          "symbol": "circle"
         },
         "mode": "lines",
         "name": "DIVLAW",
         "showlegend": true,
         "type": "scattergl",
         "x": [
          1972,
          1974,
          1976,
          1978,
          1980,
          1982,
          1984,
          1986,
          1988,
          1990,
          1992,
          1994,
          1996,
          1998,
          2000,
          2002,
          2004,
          2006,
          2008,
          2010,
          2012,
          2014,
          2016,
          2018
         ],
         "xaxis": "x",
         "y": [
          0.059887005649717516,
          0.05427905427905428,
          0.050949367088607596,
          0.06533575317604355,
          0.06398390342052314,
          0.05030181086519115,
          0.05441400304414003,
          0.0519311911716975,
          0.055501460564751706,
          0.05561105561105561,
          0.061708860759493674,
          0.05194805194805195,
          0.0537280701754386,
          0.05041797283176593,
          0.05806858826004629,
          0.07671745522587543,
          0.07262277951933124,
          0.06101834673263245,
          0.06225520511234797,
          0.07151515151515152,
          0.06307977736549165,
          0.057821782178217825,
          0.06466916354556804,
          0.09729381443298969
         ],
         "yaxis": "y"
        },
        {
         "hovertemplate": "Variable=COLMIL<br>Year=%{x}<br>GED=%{y}<extra></extra>",
         "legendgroup": "COLMIL",
         "line": {
          "color": "#FECB52",
          "dash": "solid"
         },
         "marker": {
          "symbol": "circle"
         },
         "mode": "lines",
         "name": "COLMIL",
         "showlegend": true,
         "type": "scattergl",
         "x": [
          1972,
          1974,
          1976,
          1978,
          1980,
          1982,
          1984,
          1986,
          1988,
          1990,
          1992,
          1994,
          1996,
          1998,
          2000,
          2002,
          2004,
          2006,
          2008,
          2010,
          2012,
          2014,
          2016,
          2018
         ],
         "xaxis": "x",
         "y": [
          0.059887005649717516,
          0.05028305028305028,
          0.05028305028305028,
          0.05985915492957746,
          0.04432432432432432,
          0.04396266184884071,
          0.043571237636995455,
          0.04075235109717868,
          0.04419493549928333,
          0.044194756554307116,
          0.047606019151846785,
          0.035841313269493844,
          0.037030506083583145,
          0.03808852054311409,
          0.042587601078167114,
          0.05788149164950812,
          0.04524076147816349,
          0.04400271831464492,
          0.05691471287801563,
          0.05421785421785422,
          0.05244530244530245,
          0.047722772277227724,
          0.05254378648874062,
          0.05280875236692615
         ],
         "yaxis": "y"
        },
        {
         "hovertemplate": "Variable=WORKHARD<br>Year=%{x}<br>GED=%{y}<extra></extra>",
         "legendgroup": "WORKHARD",
         "line": {
          "color": "#636efa",
          "dash": "solid"
         },
         "marker": {
          "symbol": "circle"
         },
         "mode": "lines",
         "name": "WORKHARD",
         "showlegend": true,
         "type": "scattergl",
         "x": [
          1972,
          1974,
          1976,
          1978,
          1980,
          1982,
          1984,
          1986,
          1988,
          1990,
          1992,
          1994,
          1996,
          1998,
          2000,
          2002,
          2004,
          2006,
          2008,
          2010,
          2012,
          2014,
          2016,
          2018
         ],
         "xaxis": "x",
         "y": [
          0.059887005649717516,
          0.05028305028305028,
          0.05028305028305028,
          0.05985915492957746,
          0.04432432432432432,
          0.04396266184884071,
          0.0564831993403422,
          0.04800817160367722,
          0.050883898709985664,
          0.044194756554307116,
          0.07805399625768511,
          0.05586741512964448,
          0.037030506083583145,
          0.044260271557044616,
          0.06293859649122807,
          0.10482456140350878,
          0.04524076147816349,
          0.04400271831464492,
          0.07441764584621728,
          0.05421785421785422,
          0.05244530244530245,
          0.08217821782178218,
          0.08822923108637394,
          0.05280875236692615
         ],
         "yaxis": "y"
        },
        {
         "hovertemplate": "Variable=COLATH<br>Year=%{x}<br>GED=%{y}<extra></extra>",
         "legendgroup": "COLATH",
         "line": {
          "color": "#EF553B",
          "dash": "solid"
         },
         "marker": {
          "symbol": "circle"
         },
         "mode": "lines",
         "name": "COLATH",
         "showlegend": true,
         "type": "scattergl",
         "x": [
          1972,
          1974,
          1976,
          1978,
          1980,
          1982,
          1984,
          1986,
          1988,
          1990,
          1992,
          1994,
          1996,
          1998,
          2000,
          2002,
          2004,
          2006,
          2008,
          2010,
          2012,
          2014,
          2016,
          2018
         ],
         "xaxis": "x",
         "y": [
          0.05109126984126984,
          0.04795204795204795,
          0.04795204795204795,
          0.05359937402190924,
          0.04144144144144144,
          0.04245709123757904,
          0.03769045709703288,
          0.03970741901776385,
          0.04610606784519828,
          0.0449438202247191,
          0.048974008207934336,
          0.038303693570451436,
          0.03574561403508772,
          0.03471444568868981,
          0.043010752688172046,
          0.055822466254861584,
          0.04959568733153639,
          0.043170103092783504,
          0.05153576582148011,
          0.05192465192465193,
          0.04376237623762376,
          0.048712871287128715,
          0.047474747474747475,
          0.05701662108142226
         ],
         "yaxis": "y"
        },
        {
         "hovertemplate": "Variable=NATCHLD<br>Year=%{x}<br>GED=%{y}<extra></extra>",
         "legendgroup": "NATCHLD",
         "line": {
          "color": "#00cc96",
          "dash": "solid"
         },
         "marker": {
          "symbol": "circle"
         },
         "mode": "lines",
         "name": "NATCHLD",
         "showlegend": true,
         "type": "scattergl",
         "x": [
          1972,
          1974,
          1976,
          1978,
          1980,
          1982,
          1984,
          1986,
          1988,
          1990,
          1992,
          1994,
          1996,
          1998,
          2000,
          2002,
          2004,
          2006,
          2008,
          2010,
          2012,
          2014,
          2016,
          2018
         ],
         "xaxis": "x",
         "y": [
          0.05109126984126984,
          0.04795204795204795,
          0.04795204795204795,
          0.05359937402190924,
          0.04144144144144144,
          0.04245709123757904,
          0.03769045709703288,
          0.03970741901776385,
          0.04610606784519828,
          0.0449438202247191,
          0.048974008207934336,
          0.038303693570451436,
          0.03574561403508772,
          0.03471444568868981,
          0.043010752688172046,
          0.055822466254861584,
          0.04959568733153639,
          0.043170103092783504,
          0.05153576582148011,
          0.05192465192465193,
          0.04376237623762376,
          0.048712871287128715,
          0.047474747474747475,
          0.05701662108142226
         ],
         "yaxis": "y"
        },
        {
         "hovertemplate": "Variable=SUICIDE2<br>Year=%{x}<br>GED=%{y}<extra></extra>",
         "legendgroup": "SUICIDE2",
         "line": {
          "color": "#ab63fa",
          "dash": "solid"
         },
         "marker": {
          "symbol": "circle"
         },
         "mode": "lines",
         "name": "SUICIDE2",
         "showlegend": true,
         "type": "scattergl",
         "x": [
          1972,
          1974,
          1976,
          1978,
          1980,
          1982,
          1984,
          1986,
          1988,
          1990,
          1992,
          1994,
          1996,
          1998,
          2000,
          2002,
          2004,
          2006,
          2008,
          2010,
          2012,
          2014,
          2016,
          2018
         ],
         "xaxis": "x",
         "y": [
          0.05109126984126984,
          0.13286713286713286,
          0.04795204795204795,
          0.15721800116890708,
          0.103420523138833,
          0.08450704225352113,
          0.03769045709703288,
          0.03970741901776385,
          0.04610606784519828,
          0.0449438202247191,
          0.048974008207934336,
          0.038303693570451436,
          0.03574561403508772,
          0.10083594566353186,
          0.12590216519647154,
          0.055822466254861584,
          0.04959568733153639,
          0.043170103092783504,
          0.05153576582148011,
          0.05192465192465193,
          0.04376237623762376,
          0.048712871287128715,
          0.0993939393939394,
          0.05701662108142226
         ],
         "yaxis": "y"
        },
        {
         "hovertemplate": "Variable=NATFARE<br>Year=%{x}<br>GED=%{y}<extra></extra>",
         "legendgroup": "NATFARE",
         "line": {
          "color": "#FFA15A",
          "dash": "solid"
         },
         "marker": {
          "symbol": "circle"
         },
         "mode": "lines",
         "name": "NATFARE",
         "showlegend": true,
         "type": "scattergl",
         "x": [
          1972,
          1974,
          1976,
          1978,
          1980,
          1982,
          1984,
          1986,
          1988,
          1990,
          1992,
          1994,
          1996,
          1998,
          2000,
          2002,
          2004,
          2006,
          2008,
          2010,
          2012,
          2014,
          2016,
          2018
         ],
         "xaxis": "x",
         "y": [
          0.07847082494969819,
          0.06493506493506493,
          0.0670886075949367,
          0.0715962441314554,
          0.06670584778136938,
          0.06991260923845194,
          0.07456140350877193,
          0.076007326007326,
          0.07449589245705751,
          0.0449438202247191,
          0.048974008207934336,
          0.0830001903674091,
          0.03574561403508772,
          0.10083594566353186,
          0.12590216519647154,
          0.055822466254861584,
          0.04959568733153639,
          0.08296460176991151,
          0.08532272325375774,
          0.05192465192465193,
          0.09778794813119755,
          0.048712871287128715,
          0.09145427286356822,
          0.05701662108142226
         ],
         "yaxis": "y"
        },
        {
         "hovertemplate": "Variable=FEPOL<br>Year=%{x}<br>GED=%{y}<extra></extra>",
         "legendgroup": "FEPOL",
         "line": {
          "color": "#19d3f3",
          "dash": "solid"
         },
         "marker": {
          "symbol": "circle"
         },
         "mode": "lines",
         "name": "FEPOL",
         "showlegend": true,
         "type": "scattergl",
         "x": [
          1972,
          1974,
          1976,
          1978,
          1980,
          1982,
          1984,
          1986,
          1988,
          1990,
          1992,
          1994,
          1996,
          1998,
          2000,
          2002,
          2004,
          2006,
          2008,
          2010,
          2012,
          2014,
          2016,
          2018
         ],
         "xaxis": "x",
         "y": [
          0.05706214689265537,
          0.05028305028305028,
          0.051615051615051616,
          0.06370543541788427,
          0.0676056338028169,
          0.05271629778672032,
          0.05289193302891933,
          0.041220382992534894,
          0.045764362220058426,
          0.056943056943056944,
          0.07689873417721518,
          0.05331510594668489,
          0.05126050420168067,
          0.05381400208986416,
          0.06896551724137931,
          0.0863405506549051,
          0.06583072100313479,
          0.06792058516196448,
          0.07313131313131313,
          0.07405940594059406,
          0.08014981273408239,
          0.06642246642246642,
          0.08039950062421973,
          0.05701662108142226
         ],
         "yaxis": "y"
        },
        {
         "hovertemplate": "Variable=NATARMS<br>Year=%{x}<br>GED=%{y}<extra></extra>",
         "legendgroup": "NATARMS",
         "line": {
          "color": "#FF6692",
          "dash": "solid"
         },
         "marker": {
          "symbol": "circle"
         },
         "mode": "lines",
         "name": "NATARMS",
         "showlegend": true,
         "type": "scattergl",
         "x": [
          1972,
          1974,
          1976,
          1978,
          1980,
          1982,
          1984,
          1986,
          1988,
          1990,
          1992,
          1994,
          1996,
          1998,
          2000,
          2002,
          2004,
          2006,
          2008,
          2010,
          2012,
          2014,
          2016,
          2018
         ],
         "xaxis": "x",
         "y": [
          0.09175050301810865,
          0.06726606726606726,
          0.06392405063291139,
          0.08568075117370892,
          0.06229797237731413,
          0.05271629778672032,
          0.05289193302891933,
          0.041220382992534894,
          0.045764362220058426,
          0.056943056943056944,
          0.07689873417721518,
          0.0820483533219113,
          0.0755118755118755,
          0.05381400208986416,
          0.06896551724137931,
          0.0863405506549051,
          0.08343868520859671,
          0.06792058516196448,
          0.07313131313131313,
          0.09085457271364318,
          0.08695652173913043,
          0.07751252578838785,
          0.08039950062421973,
          0.05701662108142226
         ],
         "yaxis": "y"
        },
        {
         "hovertemplate": "Variable=GETAHEAD<br>Year=%{x}<br>GED=%{y}<extra></extra>",
         "legendgroup": "GETAHEAD",
         "line": {
          "color": "#B6E880",
          "dash": "solid"
         },
         "marker": {
          "symbol": "circle"
         },
         "mode": "lines",
         "name": "GETAHEAD",
         "showlegend": true,
         "type": "scattergl",
         "x": [
          1972,
          1974,
          1976,
          1978,
          1980,
          1982,
          1984,
          1986,
          1988,
          1990,
          1992,
          1994,
          1996,
          1998,
          2000,
          2002,
          2004,
          2006,
          2008,
          2010,
          2012,
          2014,
          2016,
          2018
         ],
         "xaxis": "x",
         "y": [
          0.10416666666666667,
          0.08258408258408259,
          0.08558108558108558,
          0.12323943661971831,
          0.06229797237731413,
          0.05271629778672032,
          0.05426356589147287,
          0.06974921630094044,
          0.045764362220058426,
          0.056943056943056944,
          0.07689873417721518,
          0.0820483533219113,
          0.0822814399251987,
          0.05381400208986416,
          0.06896551724137931,
          0.0863405506549051,
          0.08343868520859671,
          0.06792058516196448,
          0.07313131313131313,
          0.09085457271364318,
          0.08695652173913043,
          0.07594291539245668,
          0.07407407407407407,
          0.05701662108142226
         ],
         "yaxis": "y"
        },
        {
         "hovertemplate": "Variable=CONSCI<br>Year=%{x}<br>GED=%{y}<extra></extra>",
         "legendgroup": "CONSCI",
         "line": {
          "color": "#FF97FF",
          "dash": "solid"
         },
         "marker": {
          "symbol": "circle"
         },
         "mode": "lines",
         "name": "CONSCI",
         "showlegend": true,
         "type": "scattergl",
         "x": [
          1972,
          1974,
          1976,
          1978,
          1980,
          1982,
          1984,
          1986,
          1988,
          1990,
          1992,
          1994,
          1996,
          1998,
          2000,
          2002,
          2004,
          2006,
          2008,
          2010,
          2012,
          2014,
          2016,
          2018
         ],
         "xaxis": "x",
         "y": [
          0.10416666666666667,
          0.07659007659007659,
          0.08069620253164557,
          0.10993740219092332,
          0.08228034087569791,
          0.05271629778672032,
          0.07216494845360824,
          0.07654127481713689,
          0.045764362220058426,
          0.056943056943056944,
          0.07689873417721518,
          0.0820483533219113,
          0.0822814399251987,
          0.05381400208986416,
          0.06896551724137931,
          0.0863405506549051,
          0.08343868520859671,
          0.06792058516196448,
          0.07313131313131313,
          0.09085457271364318,
          0.08695652173913043,
          0.07594291539245668,
          0.07407407407407407,
          0.05701662108142226
         ],
         "yaxis": "y"
        },
        {
         "hovertemplate": "Variable=POLMURDR<br>Year=%{x}<br>GED=%{y}<extra></extra>",
         "legendgroup": "POLMURDR",
         "line": {
          "color": "#FECB52",
          "dash": "solid"
         },
         "marker": {
          "symbol": "circle"
         },
         "mode": "lines",
         "name": "POLMURDR",
         "showlegend": true,
         "type": "scattergl",
         "x": [
          1972,
          1974,
          1976,
          1978,
          1980,
          1982,
          1984,
          1986,
          1988,
          1990,
          1992,
          1994,
          1996,
          1998,
          2000,
          2002,
          2004,
          2006,
          2008,
          2010,
          2012,
          2014,
          2016,
          2018
         ],
         "xaxis": "x",
         "y": [
          0.10664682539682539,
          0.09577464788732394,
          0.09014084507042254,
          0.0825508607198748,
          0.09194053208137715,
          0.05271629778672032,
          0.07163859930499866,
          0.06400208986415883,
          0.045764362220058426,
          0.056943056943056944,
          0.07689873417721518,
          0.0820483533219113,
          0.0822814399251987,
          0.05381400208986416,
          0.06896551724137931,
          0.0863405506549051,
          0.08343868520859671,
          0.06792058516196448,
          0.07313131313131313,
          0.08138613861386139,
          0.06945126945126945,
          0.06435643564356436,
          0.05881188118811881,
          0.07490006311803071
         ],
         "yaxis": "y"
        },
        {
         "hovertemplate": "Variable=ABANY<br>Year=%{x}<br>GED=%{y}<extra></extra>",
         "legendgroup": "ABANY",
         "line": {
          "color": "#636efa",
          "dash": "solid"
         },
         "marker": {
          "symbol": "circle"
         },
         "mode": "lines",
         "name": "ABANY",
         "showlegend": true,
         "type": "scattergl",
         "x": [
          1972,
          1974,
          1976,
          1978,
          1980,
          1982,
          1984,
          1986,
          1988,
          1990,
          1992,
          1994,
          1996,
          1998,
          2000,
          2002,
          2004,
          2006,
          2008,
          2010,
          2012,
          2014,
          2016,
          2018
         ],
         "xaxis": "x",
         "y": [
          0.10664682539682539,
          0.06160506160506161,
          0.05927405927405927,
          0.04890453834115806,
          0.041727887158389654,
          0.04094881398252185,
          0.043571237636995455,
          0.04258098223615465,
          0.04491161012900143,
          0.045942571785268414,
          0.04514363885088919,
          0.036662106703146374,
          0.03859649122807018,
          0.03561982013754188,
          0.03879386351613472,
          0.055593685655456415,
          0.05073260073260073,
          0.04460340837365874,
          0.04658833230261802,
          0.0498989898989899,
          0.04938867438867439,
          0.04603836530442035,
          0.04606060606060606,
          0.07363770250368189
         ],
         "yaxis": "y"
        },
        {
         "hovertemplate": "Variable=CONPRESS<br>Year=%{x}<br>GED=%{y}<extra></extra>",
         "legendgroup": "CONPRESS",
         "line": {
          "color": "#EF553B",
          "dash": "solid"
         },
         "marker": {
          "symbol": "circle"
         },
         "mode": "lines",
         "name": "CONPRESS",
         "showlegend": true,
         "type": "scattergl",
         "x": [
          1972,
          1974,
          1976,
          1978,
          1980,
          1982,
          1984,
          1986,
          1988,
          1990,
          1992,
          1994,
          1996,
          1998,
          2000,
          2002,
          2004,
          2006,
          2008,
          2010,
          2012,
          2014,
          2016,
          2018
         ],
         "xaxis": "x",
         "y": [
          0.08610400682011936,
          0.06460206460206461,
          0.0689873417721519,
          0.07198748043818466,
          0.06758742286218043,
          0.08207934336525308,
          0.06709435979684576,
          0.06138975966562173,
          0.06910866910866911,
          0.08764044943820225,
          0.04514363885088919,
          0.07927170868347339,
          0.06868131868131869,
          0.03561982013754188,
          0.03879386351613472,
          0.055593685655456415,
          0.05073260073260073,
          0.04460340837365874,
          0.04658833230261802,
          0.09678098043341048,
          0.04938867438867439,
          0.09040867389491243,
          0.04606060606060606,
          0.10793183252682516
         ],
         "yaxis": "y"
        },
        {
         "hovertemplate": "Variable=NATSCI<br>Year=%{x}<br>GED=%{y}<extra></extra>",
         "legendgroup": "NATSCI",
         "line": {
          "color": "#00cc96",
          "dash": "solid"
         },
         "marker": {
          "symbol": "circle"
         },
         "mode": "lines",
         "name": "NATSCI",
         "showlegend": true,
         "type": "scattergl",
         "x": [
          1972,
          1974,
          1976,
          1978,
          1980,
          1982,
          1984,
          1986,
          1988,
          1990,
          1992,
          1994,
          1996,
          1998,
          2000,
          2002,
          2004,
          2006,
          2008,
          2010,
          2012,
          2014,
          2016,
          2018
         ],
         "xaxis": "x",
         "y": [
          0.08610400682011936,
          0.06460206460206461,
          0.0689873417721519,
          0.07198748043818466,
          0.06758742286218043,
          0.08207934336525308,
          0.06709435979684576,
          0.06138975966562173,
          0.06910866910866911,
          0.08764044943820225,
          0.04514363885088919,
          0.07927170868347339,
          0.06868131868131869,
          0.03561982013754188,
          0.03879386351613472,
          0.055593685655456415,
          0.05073260073260073,
          0.04460340837365874,
          0.04658833230261802,
          0.07634361871650007,
          0.04938867438867439,
          0.07251043530113298,
          0.04606060606060606,
          0.10793183252682516
         ],
         "yaxis": "y"
        },
        {
         "hovertemplate": "Variable=RACDIF3<br>Year=%{x}<br>GED=%{y}<extra></extra>",
         "legendgroup": "RACDIF3",
         "line": {
          "color": "#ab63fa",
          "dash": "solid"
         },
         "marker": {
          "symbol": "circle"
         },
         "mode": "lines",
         "name": "RACDIF3",
         "showlegend": true,
         "type": "scattergl",
         "x": [
          1972,
          1974,
          1976,
          1978,
          1980,
          1982,
          1984,
          1986,
          1988,
          1990,
          1992,
          1994,
          1996,
          1998,
          2000,
          2002,
          2004,
          2006,
          2008,
          2010,
          2012,
          2014,
          2016,
          2018
         ],
         "xaxis": "x",
         "y": [
          0.08610400682011936,
          0.07092907092907093,
          0.07092907092907093,
          0.07198748043818466,
          0.06758742286218043,
          0.0784313725490196,
          0.0563165905631659,
          0.0451152223304122,
          0.05457875457875458,
          0.05414488424197162,
          0.056329113924050635,
          0.05160628844839371,
          0.051096491228070175,
          0.051329622758194186,
          0.047759309909530825,
          0.0727078321304464,
          0.06205311542390194,
          0.06138975966562173,
          0.06424242424242424,
          0.07090909090909091,
          0.06332992849846783,
          0.05787545787545788,
          0.06534653465346535,
          0.07601880877742946
         ],
         "yaxis": "y"
        },
        {
         "hovertemplate": "Variable=CONMEDIC<br>Year=%{x}<br>GED=%{y}<extra></extra>",
         "legendgroup": "CONMEDIC",
         "line": {
          "color": "#FFA15A",
          "dash": "solid"
         },
         "marker": {
          "symbol": "circle"
         },
         "mode": "lines",
         "name": "CONMEDIC",
         "showlegend": true,
         "type": "scattergl",
         "x": [
          1972,
          1974,
          1976,
          1978,
          1980,
          1982,
          1984,
          1986,
          1988,
          1990,
          1992,
          1994,
          1996,
          1998,
          2000,
          2002,
          2004,
          2006,
          2008,
          2010,
          2012,
          2014,
          2016,
          2018
         ],
         "xaxis": "x",
         "y": [
          0.08610400682011936,
          0.08656792645556691,
          0.08037974683544304,
          0.09496981891348089,
          0.06758742286218043,
          0.0784313725490196,
          0.09061748195669607,
          0.0451152223304122,
          0.05457875457875458,
          0.05414488424197162,
          0.08919288645690834,
          0.05160628844839371,
          0.051096491228070175,
          0.051329622758194186,
          0.047759309909530825,
          0.0727078321304464,
          0.07252747252747253,
          0.07547169811320754,
          0.06424242424242424,
          0.0932443703085905,
          0.06332992849846783,
          0.0756545042259328,
          0.06534653465346535,
          0.07601880877742946
         ],
         "yaxis": "y"
        },
        {
         "hovertemplate": "Variable=TEENSEX<br>Year=%{x}<br>GED=%{y}<extra></extra>",
         "legendgroup": "TEENSEX",
         "line": {
          "color": "#19d3f3",
          "dash": "solid"
         },
         "marker": {
          "symbol": "circle"
         },
         "mode": "lines",
         "name": "TEENSEX",
         "showlegend": true,
         "type": "scattergl",
         "x": [
          1972,
          1974,
          1976,
          1978,
          1980,
          1982,
          1984,
          1986,
          1988,
          1990,
          1992,
          1994,
          1996,
          1998,
          2000,
          2002,
          2004,
          2006,
          2008,
          2010,
          2012,
          2014,
          2016,
          2018
         ],
         "xaxis": "x",
         "y": [
          0.08610400682011936,
          0.08656792645556691,
          0.08037974683544304,
          0.09496981891348089,
          0.06758742286218043,
          0.0784313725490196,
          0.08774527952610145,
          0.07278481012658228,
          0.05457875457875458,
          0.05414488424197162,
          0.09567901234567901,
          0.06660006660006661,
          0.06442577030812324,
          0.0702247191011236,
          0.047759309909530825,
          0.0727078321304464,
          0.07252747252747253,
          0.08197139938712972,
          0.07965043695380775,
          0.08364544319600499,
          0.0762958648806057,
          0.06202686202686203,
          0.0749063670411985,
          0.07601880877742946
         ],
         "yaxis": "y"
        },
        {
         "hovertemplate": "Variable=NATHEAL<br>Year=%{x}<br>GED=%{y}<extra></extra>",
         "legendgroup": "NATHEAL",
         "line": {
          "color": "#FF6692",
          "dash": "solid"
         },
         "marker": {
          "symbol": "circle"
         },
         "mode": "lines",
         "name": "NATHEAL",
         "showlegend": true,
         "type": "scattergl",
         "x": [
          1972,
          1974,
          1976,
          1978,
          1980,
          1982,
          1984,
          1986,
          1988,
          1990,
          1992,
          1994,
          1996,
          1998,
          2000,
          2002,
          2004,
          2006,
          2008,
          2010,
          2012,
          2014,
          2016,
          2018
         ],
         "xaxis": "x",
         "y": [
          0.08610400682011936,
          0.08656792645556691,
          0.08512658227848101,
          0.09115805946791862,
          0.0940346752865119,
          0.0784313725490196,
          0.08774527952610145,
          0.07278481012658228,
          0.05457875457875458,
          0.05414488424197162,
          0.09567901234567901,
          0.06660006660006661,
          0.06442577030812324,
          0.0702247191011236,
          0.047759309909530825,
          0.0727078321304464,
          0.07252747252747253,
          0.08197139938712972,
          0.07965043695380775,
          0.08364544319600499,
          0.0762958648806057,
          0.06202686202686203,
          0.0749063670411985,
          0.07601880877742946
         ],
         "yaxis": "y"
        },
        {
         "hovertemplate": "Variable=HELPBLK<br>Year=%{x}<br>GED=%{y}<extra></extra>",
         "legendgroup": "HELPBLK",
         "line": {
          "color": "#B6E880",
          "dash": "solid"
         },
         "marker": {
          "symbol": "circle"
         },
         "mode": "lines",
         "name": "HELPBLK",
         "showlegend": true,
         "type": "scattergl",
         "x": [
          1972,
          1974,
          1976,
          1978,
          1980,
          1982,
          1984,
          1986,
          1988,
          1990,
          1992,
          1994,
          1996,
          1998,
          2000,
          2002,
          2004,
          2006,
          2008,
          2010,
          2012,
          2014,
          2016,
          2018
         ],
         "xaxis": "x",
         "y": [
          0.0814207650273224,
          0.0814207650273224,
          0.08512658227848101,
          0.09115805946791862,
          0.10096153846153846,
          0.08322784810126582,
          0.06201550387596899,
          0.05490296220633299,
          0.07380952380952381,
          0.07710622710622711,
          0.07324244854317027,
          0.06549051055867415,
          0.06096491228070176,
          0.05563853622106049,
          0.06019766397124888,
          0.0727078321304464,
          0.07252747252747253,
          0.07493942540671512,
          0.0817347789824854,
          0.0798999165971643,
          0.0813843236409608,
          0.07616707616707617,
          0.07339449541284404,
          0.08857563644014307
         ],
         "yaxis": "y"
        },
        {
         "hovertemplate": "Variable=LETDIE1<br>Year=%{x}<br>GED=%{y}<extra></extra>",
         "legendgroup": "LETDIE1",
         "line": {
          "color": "#FF97FF",
          "dash": "solid"
         },
         "marker": {
          "symbol": "circle"
         },
         "mode": "lines",
         "name": "LETDIE1",
         "showlegend": true,
         "type": "scattergl",
         "x": [
          1972,
          1974,
          1976,
          1978,
          1980,
          1982,
          1984,
          1986,
          1988,
          1990,
          1992,
          1994,
          1996,
          1998,
          2000,
          2002,
          2004,
          2006,
          2008,
          2010,
          2012,
          2014,
          2016,
          2018
         ],
         "xaxis": "x",
         "y": [
          0.0814207650273224,
          0.06493506493506493,
          0.057942057942057944,
          0.06019871420222092,
          0.041851106639839035,
          0.045875251509054325,
          0.05898021308980213,
          0.05225576111652061,
          0.049983771502758845,
          0.058941058941058944,
          0.06487341772151899,
          0.059466848940533154,
          0.05143638850889193,
          0.05747126436781609,
          0.06629243517775996,
          0.0727078321304464,
          0.07029478458049887,
          0.06484268125854993,
          0.07431052093973442,
          0.07041198501872659,
          0.06930693069306931,
          0.06491885143570537,
          0.06342072409488139,
          0.07654127481713689
         ],
         "yaxis": "y"
        },
        {
         "hovertemplate": "Variable=COLHOMO<br>Year=%{x}<br>GED=%{y}<extra></extra>",
         "legendgroup": "COLHOMO",
         "line": {
          "color": "#FECB52",
          "dash": "solid"
         },
         "marker": {
          "symbol": "circle"
         },
         "mode": "lines",
         "name": "COLHOMO",
         "showlegend": true,
         "type": "scattergl",
         "x": [
          1972,
          1974,
          1976,
          1978,
          1980,
          1982,
          1984,
          1986,
          1988,
          1990,
          1992,
          1994,
          1996,
          1998,
          2000,
          2002,
          2004,
          2006,
          2008,
          2010,
          2012,
          2014,
          2016,
          2018
         ],
         "xaxis": "x",
         "y": [
          0.053075396825396824,
          0.046620046620046623,
          0.04229104229104229,
          0.0528169014084507,
          0.036036036036036036,
          0.04396266184884071,
          0.03581929965249933,
          0.03474399164054336,
          0.0358337314859054,
          0.04544319600499376,
          0.04789518900343643,
          0.04487004103967168,
          0.04649122807017544,
          0.04143337066069429,
          0.05121293800539083,
          0.0727078321304464,
          0.05845464725643897,
          0.048632744894427135,
          0.06019377447948877,
          0.07252525252525252,
          0.06930693069306931,
          0.07603960396039604,
          0.07898989898989899,
          0.07654127481713689
         ],
         "yaxis": "y"
        },
        {
         "hovertemplate": "Variable=NATSPAC<br>Year=%{x}<br>GED=%{y}<extra></extra>",
         "legendgroup": "NATSPAC",
         "line": {
          "color": "#636efa",
          "dash": "solid"
         },
         "marker": {
          "symbol": "circle"
         },
         "mode": "lines",
         "name": "NATSPAC",
         "showlegend": true,
         "type": "scattergl",
         "x": [
          1972,
          1974,
          1976,
          1978,
          1980,
          1982,
          1984,
          1986,
          1988,
          1990,
          1992,
          1994,
          1996,
          1998,
          2000,
          2002,
          2004,
          2006,
          2008,
          2010,
          2012,
          2014,
          2016,
          2018
         ],
         "xaxis": "x",
         "y": [
          0.053075396825396824,
          0.07725607725607726,
          0.07436708860759493,
          0.06298904538341157,
          0.06993828974434323,
          0.08664169787765294,
          0.03581929965249933,
          0.08812546676624347,
          0.0358337314859054,
          0.04544319600499376,
          0.04789518900343643,
          0.04487004103967168,
          0.04649122807017544,
          0.04143337066069429,
          0.05121293800539083,
          0.0727078321304464,
          0.05845464725643897,
          0.048632744894427135,
          0.06019377447948877,
          0.07252525252525252,
          0.06930693069306931,
          0.07603960396039604,
          0.07898989898989899,
          0.07654127481713689
         ],
         "yaxis": "y"
        },
        {
         "hovertemplate": "Variable=NATENVIR<br>Year=%{x}<br>GED=%{y}<extra></extra>",
         "legendgroup": "NATENVIR",
         "line": {
          "color": "#EF553B",
          "dash": "solid"
         },
         "marker": {
          "symbol": "circle"
         },
         "mode": "lines",
         "name": "NATENVIR",
         "showlegend": true,
         "type": "scattergl",
         "x": [
          1972,
          1974,
          1976,
          1978,
          1980,
          1982,
          1984,
          1986,
          1988,
          1990,
          1992,
          1994,
          1996,
          1998,
          2000,
          2002,
          2004,
          2006,
          2008,
          2010,
          2012,
          2014,
          2016,
          2018
         ],
         "xaxis": "x",
         "y": [
          0.09979879275653923,
          0.07459207459207459,
          0.06613924050632912,
          0.07082494969818913,
          0.07846018219218337,
          0.08664169787765294,
          0.03581929965249933,
          0.08812546676624347,
          0.0358337314859054,
          0.04544319600499376,
          0.04789518900343643,
          0.04487004103967168,
          0.04649122807017544,
          0.04143337066069429,
          0.05121293800539083,
          0.0727078321304464,
          0.05845464725643897,
          0.048632744894427135,
          0.06019377447948877,
          0.07252525252525252,
          0.06930693069306931,
          0.07603960396039604,
          0.07898989898989899,
          0.07654127481713689
         ],
         "yaxis": "y"
        },
        {
         "hovertemplate": "Variable=RACDIF2<br>Year=%{x}<br>GED=%{y}<extra></extra>",
         "legendgroup": "RACDIF2",
         "line": {
          "color": "#00cc96",
          "dash": "solid"
         },
         "marker": {
          "symbol": "circle"
         },
         "mode": "lines",
         "name": "RACDIF2",
         "showlegend": true,
         "type": "scattergl",
         "x": [
          1972,
          1974,
          1976,
          1978,
          1980,
          1982,
          1984,
          1986,
          1988,
          1990,
          1992,
          1994,
          1996,
          1998,
          2000,
          2002,
          2004,
          2006,
          2008,
          2010,
          2012,
          2014,
          2016,
          2018
         ],
         "xaxis": "x",
         "y": [
          0.09979879275653923,
          0.06660006660006661,
          0.06660006660006661,
          0.07082494969818913,
          0.07846018219218337,
          0.07971014492753623,
          0.05669710806697108,
          0.05485232067510549,
          0.0358337314859054,
          0.04544319600499376,
          0.04789518900343643,
          0.07518796992481203,
          0.0774281805745554,
          0.07889237199582028,
          0.05121293800539083,
          0.0727078321304464,
          0.10035750766087845,
          0.048632744894427135,
          0.09434343434343434,
          0.07252525252525252,
          0.06930693069306931,
          0.07603960396039604,
          0.07898989898989899,
          0.07654127481713689
         ],
         "yaxis": "y"
        },
        {
         "hovertemplate": "Variable=CONARMY<br>Year=%{x}<br>GED=%{y}<extra></extra>",
         "legendgroup": "CONARMY",
         "line": {
          "color": "#ab63fa",
          "dash": "solid"
         },
         "marker": {
          "symbol": "circle"
         },
         "mode": "lines",
         "name": "CONARMY",
         "showlegend": true,
         "type": "scattergl",
         "x": [
          1972,
          1974,
          1976,
          1978,
          1980,
          1982,
          1984,
          1986,
          1988,
          1990,
          1992,
          1994,
          1996,
          1998,
          2000,
          2002,
          2004,
          2006,
          2008,
          2010,
          2012,
          2014,
          2016,
          2018
         ],
         "xaxis": "x",
         "y": [
          0.0937625754527163,
          0.07825507825507826,
          0.07025316455696203,
          0.07364185110663984,
          0.07081986482515427,
          0.08454172366621067,
          0.07852257181942544,
          0.07340647857889238,
          0.0358337314859054,
          0.04544319600499376,
          0.04789518900343643,
          0.08739495798319327,
          0.08134642356241234,
          0.07197802197802197,
          0.05121293800539083,
          0.0727078321304464,
          0.08943241224794622,
          0.048632744894427135,
          0.09434343434343434,
          0.07252525252525252,
          0.06930693069306931,
          0.07603960396039604,
          0.07898989898989899,
          0.07654127481713689
         ],
         "yaxis": "y"
        },
        {
         "hovertemplate": "Variable=CONCLERG<br>Year=%{x}<br>GED=%{y}<extra></extra>",
         "legendgroup": "CONCLERG",
         "line": {
          "color": "#FFA15A",
          "dash": "solid"
         },
         "marker": {
          "symbol": "circle"
         },
         "mode": "lines",
         "name": "CONCLERG",
         "showlegend": true,
         "type": "scattergl",
         "x": [
          1972,
          1974,
          1976,
          1978,
          1980,
          1982,
          1984,
          1986,
          1988,
          1990,
          1992,
          1994,
          1996,
          1998,
          2000,
          2002,
          2004,
          2006,
          2008,
          2010,
          2012,
          2014,
          2016,
          2018
         ],
         "xaxis": "x",
         "y": [
          0.08322981366459627,
          0.06693306693306693,
          0.07341772151898734,
          0.06729264475743349,
          0.07081986482515427,
          0.0880984952120383,
          0.07511360598770382,
          0.0603448275862069,
          0.06715506715506715,
          0.08039950062421973,
          0.07879616963064295,
          0.06750700280112044,
          0.08134642356241234,
          0.05901766647252961,
          0.0740563784042045,
          0.0727078321304464,
          0.07337565347274085,
          0.07217030114226376,
          0.0817347789824854,
          0.07252525252525252,
          0.07667525773195877,
          0.0677129254099806,
          0.07039473684210526,
          0.08837719298245614
         ],
         "yaxis": "y"
        },
        {
         "hovertemplate": "Variable=NATDRUG<br>Year=%{x}<br>GED=%{y}<extra></extra>",
         "legendgroup": "NATDRUG",
         "line": {
          "color": "#19d3f3",
          "dash": "solid"
         },
         "marker": {
          "symbol": "circle"
         },
         "mode": "lines",
         "name": "NATDRUG",
         "showlegend": true,
         "type": "scattergl",
         "x": [
          1972,
          1974,
          1976,
          1978,
          1980,
          1982,
          1984,
          1986,
          1988,
          1990,
          1992,
          1994,
          1996,
          1998,
          2000,
          2002,
          2004,
          2006,
          2008,
          2010,
          2012,
          2014,
          2016,
          2018
         ],
         "xaxis": "x",
         "y": [
          0.08322981366459627,
          0.06693306693306693,
          0.07341772151898734,
          0.09976525821596244,
          0.08404349103732,
          0.0880984952120383,
          0.07511360598770382,
          0.0603448275862069,
          0.06715506715506715,
          0.08039950062421973,
          0.07879616963064295,
          0.06750700280112044,
          0.08134642356241234,
          0.05901766647252961,
          0.0740563784042045,
          0.0727078321304464,
          0.07337565347274085,
          0.07217030114226376,
          0.0817347789824854,
          0.07252525252525252,
          0.07667525773195877,
          0.0677129254099806,
          0.07039473684210526,
          0.08837719298245614
         ],
         "yaxis": "y"
        },
        {
         "hovertemplate": "Variable=CONLABOR<br>Year=%{x}<br>GED=%{y}<extra></extra>",
         "legendgroup": "CONLABOR",
         "line": {
          "color": "#FF6692",
          "dash": "solid"
         },
         "marker": {
          "symbol": "circle"
         },
         "mode": "lines",
         "name": "CONLABOR",
         "showlegend": true,
         "type": "scattergl",
         "x": [
          1972,
          1974,
          1976,
          1978,
          1980,
          1982,
          1984,
          1986,
          1988,
          1990,
          1992,
          1994,
          1996,
          1998,
          2000,
          2002,
          2004,
          2006,
          2008,
          2010,
          2012,
          2014,
          2016,
          2018
         ],
         "xaxis": "x",
         "y": [
          0.09054325955734406,
          0.06698564593301436,
          0.07140538786108407,
          0.08059467918622848,
          0.07669703203056127,
          0.10177838577291382,
          0.08454172366621067,
          0.07538091419406576,
          0.06715506715506715,
          0.08039950062421973,
          0.07879616963064295,
          0.07170868347338935,
          0.07573632538569425,
          0.0750400366048959,
          0.0740563784042045,
          0.12983770287141075,
          0.08755581440496991,
          0.09447348767737117,
          0.0817347789824854,
          0.07252525252525252,
          0.09149484536082474,
          0.08836524300441827,
          0.09321305841924399,
          0.1094045865768988
         ],
         "yaxis": "y"
        },
        {
         "hovertemplate": "Variable=POLESCAP<br>Year=%{x}<br>GED=%{y}<extra></extra>",
         "legendgroup": "POLESCAP",
         "line": {
          "color": "#B6E880",
          "dash": "solid"
         },
         "marker": {
          "symbol": "circle"
         },
         "mode": "lines",
         "name": "POLESCAP",
         "showlegend": true,
         "type": "scattergl",
         "x": [
          1972,
          1974,
          1976,
          1978,
          1980,
          1982,
          1984,
          1986,
          1988,
          1990,
          1992,
          1994,
          1996,
          1998,
          2000,
          2002,
          2004,
          2006,
          2008,
          2010,
          2012,
          2014,
          2016,
          2018
         ],
         "xaxis": "x",
         "y": [
          0.10466269841269842,
          0.07122736418511066,
          0.0635814889336016,
          0.061815336463223784,
          0.06298904538341157,
          0.07108081791626096,
          0.04891740176423416,
          0.047021943573667714,
          0.0568986568986569,
          0.06117353308364544,
          0.057455540355677154,
          0.0454172366621067,
          0.041615235408217245,
          0.03932287074590019,
          0.044743935309973046,
          0.12983770287141075,
          0.054871220604703244,
          0.056915807560137456,
          0.05153576582148011,
          0.05662805662805663,
          0.05603960396039604,
          0.055692055692055695,
          0.06321934945788157,
          0.055333473595623815
         ],
         "yaxis": "y"
        },
        {
         "hovertemplate": "Variable=PRAYER<br>Year=%{x}<br>GED=%{y}<extra></extra>",
         "legendgroup": "PRAYER",
         "line": {
          "color": "#FF97FF",
          "dash": "solid"
         },
         "marker": {
          "symbol": "circle"
         },
         "mode": "lines",
         "name": "PRAYER",
         "showlegend": true,
         "type": "scattergl",
         "x": [
          1972,
          1974,
          1976,
          1978,
          1980,
          1982,
          1984,
          1986,
          1988,
          1990,
          1992,
          1994,
          1996,
          1998,
          2000,
          2002,
          2004,
          2006,
          2008,
          2010,
          2012,
          2014,
          2016,
          2018
         ],
         "xaxis": "x",
         "y": [
          0.06497175141242938,
          0.06393606393606394,
          0.06859806859806859,
          0.061815336463223784,
          0.051106639839034206,
          0.04668008048289739,
          0.0715372907153729,
          0.049010061668289515,
          0.04316780266147355,
          0.052947052947052944,
          0.060759493670886074,
          0.047163362952836636,
          0.05047250859106529,
          0.0554524840239126,
          0.04909090909090909,
          0.0673616680032077,
          0.06424242424242424,
          0.06353881758889122,
          0.06222222222222222,
          0.06404040404040404,
          0.0696969696969697,
          0.06475247524752475,
          0.06491885143570537,
          0.099171344560278
         ],
         "yaxis": "y"
        },
        {
         "hovertemplate": "Variable=OBEY<br>Year=%{x}<br>GED=%{y}<extra></extra>",
         "legendgroup": "OBEY",
         "line": {
          "color": "#FECB52",
          "dash": "solid"
         },
         "marker": {
          "symbol": "circle"
         },
         "mode": "lines",
         "name": "OBEY",
         "showlegend": true,
         "type": "scattergl",
         "x": [
          1972,
          1974,
          1976,
          1978,
          1980,
          1982,
          1984,
          1986,
          1988,
          1990,
          1992,
          1994,
          1996,
          1998,
          2000,
          2002,
          2004,
          2006,
          2008,
          2010,
          2012,
          2014,
          2016,
          2018
         ],
         "xaxis": "x",
         "y": [
          0.06497175141242938,
          0.06393606393606394,
          0.06859806859806859,
          0.061815336463223784,
          0.051106639839034206,
          0.04668008048289739,
          0.05590386624869383,
          0.04136874361593463,
          0.04324450677886863,
          0.05054945054945055,
          0.05078855920876771,
          0.040096230954290296,
          0.036730123180291153,
          0.03823024054982818,
          0.046176975945017185,
          0.058333333333333334,
          0.06335910652920962,
          0.05820446735395189,
          0.055341055341055344,
          0.055717336439526303,
          0.05711068211068211,
          0.05325537294563843,
          0.056467181467181465,
          0.07789824854045038
         ],
         "yaxis": "y"
        },
        {
         "hovertemplate": "Variable=SPKHOMO<br>Year=%{x}<br>GED=%{y}<extra></extra>",
         "legendgroup": "SPKHOMO",
         "line": {
          "color": "#636efa",
          "dash": "solid"
         },
         "marker": {
          "symbol": "circle"
         },
         "mode": "lines",
         "name": "SPKHOMO",
         "showlegend": true,
         "type": "scattergl",
         "x": [
          1972,
          1974,
          1976,
          1978,
          1980,
          1982,
          1984,
          1986,
          1988,
          1990,
          1992,
          1994,
          1996,
          1998,
          2000,
          2002,
          2004,
          2006,
          2008,
          2010,
          2012,
          2014,
          2016,
          2018
         ],
         "xaxis": "x",
         "y": [
          0.054563492063492064,
          0.044622044622044624,
          0.046620046620046623,
          0.054773082942097026,
          0.03927927927927928,
          0.04908160192713038,
          0.03997475278771302,
          0.03875489589775304,
          0.0451505016722408,
          0.04893882646691636,
          0.060191518467852256,
          0.048974008207934336,
          0.046052631578947366,
          0.04344904815229563,
          0.06606942889137737,
          0.09265614275909403,
          0.06293393057110862,
          0.05820446735395189,
          0.07379921665635951,
          0.055717336439526303,
          0.07335907335907337,
          0.05325537294563843,
          0.07878787878787878,
          0.07789824854045038
         ],
         "yaxis": "y"
        },
        {
         "hovertemplate": "Variable=POLATTAK<br>Year=%{x}<br>GED=%{y}<extra></extra>",
         "legendgroup": "POLATTAK",
         "line": {
          "color": "#EF553B",
          "dash": "solid"
         },
         "marker": {
          "symbol": "circle"
         },
         "mode": "lines",
         "name": "POLATTAK",
         "showlegend": true,
         "type": "scattergl",
         "x": [
          1972,
          1974,
          1976,
          1978,
          1980,
          1982,
          1984,
          1986,
          1988,
          1990,
          1992,
          1994,
          1996,
          1998,
          2000,
          2002,
          2004,
          2006,
          2008,
          2010,
          2012,
          2014,
          2016,
          2018
         ],
         "xaxis": "x",
         "y": [
          0.054563492063492064,
          0.12877263581488935,
          0.046620046620046623,
          0.10954616588419405,
          0.03927927927927928,
          0.04908160192713038,
          0.07321691563223227,
          0.03875489589775304,
          0.0451505016722408,
          0.04893882646691636,
          0.060191518467852256,
          0.048974008207934336,
          0.046052631578947366,
          0.04344904815229563,
          0.06606942889137737,
          0.09265614275909403,
          0.06293393057110862,
          0.05820446735395189,
          0.07379921665635951,
          0.055717336439526303,
          0.07305487305487306,
          0.06868686868686869,
          0.06655546288573812,
          0.08247422680412371
         ],
         "yaxis": "y"
        },
        {
         "hovertemplate": "Variable=HELPNOT<br>Year=%{x}<br>GED=%{y}<extra></extra>",
         "legendgroup": "HELPNOT",
         "line": {
          "color": "#00cc96",
          "dash": "solid"
         },
         "marker": {
          "symbol": "circle"
         },
         "mode": "lines",
         "name": "HELPNOT",
         "showlegend": true,
         "type": "scattergl",
         "x": [
          1972,
          1974,
          1976,
          1978,
          1980,
          1982,
          1984,
          1986,
          1988,
          1990,
          1992,
          1994,
          1996,
          1998,
          2000,
          2002,
          2004,
          2006,
          2008,
          2010,
          2012,
          2014,
          2016,
          2018
         ],
         "xaxis": "x",
         "y": [
          0.07213114754098361,
          0.07213114754098361,
          0.046620046620046623,
          0.10954616588419405,
          0.08076923076923077,
          0.0810126582278481,
          0.05799373040752351,
          0.054647599591419814,
          0.06067845198279981,
          0.06984126984126984,
          0.061213579256883185,
          0.053728949478749,
          0.05375139977603583,
          0.05170441546556852,
          0.061142217245240764,
          0.09451287793952967,
          0.06684636118598383,
          0.05820446735395189,
          0.08513708513708514,
          0.055717336439526303,
          0.08689248895434462,
          0.07406171809841534,
          0.07475365273530411,
          0.09523809523809523
         ],
         "yaxis": "y"
        },
        {
         "hovertemplate": "Variable=HELPPOOR<br>Year=%{x}<br>GED=%{y}<extra></extra>",
         "legendgroup": "HELPPOOR",
         "line": {
          "color": "#ab63fa",
          "dash": "solid"
         },
         "marker": {
          "symbol": "circle"
         },
         "mode": "lines",
         "name": "HELPPOOR",
         "showlegend": true,
         "type": "scattergl",
         "x": [
          1972,
          1974,
          1976,
          1978,
          1980,
          1982,
          1984,
          1986,
          1988,
          1990,
          1992,
          1994,
          1996,
          1998,
          2000,
          2002,
          2004,
          2006,
          2008,
          2010,
          2012,
          2014,
          2016,
          2018
         ],
         "xaxis": "x",
         "y": [
          0.07759562841530054,
          0.07759562841530054,
          0.046620046620046623,
          0.10954616588419405,
          0.07019230769230769,
          0.08386075949367089,
          0.05459770114942529,
          0.05158324821246169,
          0.061872909698996656,
          0.07472527472527472,
          0.06976744186046512,
          0.058002735978112174,
          0.05128205128205128,
          0.045103324348607365,
          0.061814914645103324,
          0.08830931137039578,
          0.07458247540608556,
          0.07474226804123711,
          0.08266336837765409,
          0.055717336439526303,
          0.08101422387136673,
          0.07326732673267326,
          0.08741408934707903,
          0.08990825688073395
         ],
         "yaxis": "y"
        },
        {
         "hovertemplate": "Variable=POSTLIFE<br>Year=%{x}<br>GED=%{y}<extra></extra>",
         "legendgroup": "POSTLIFE",
         "line": {
          "color": "#FFA15A",
          "dash": "solid"
         },
         "marker": {
          "symbol": "circle"
         },
         "mode": "lines",
         "name": "POSTLIFE",
         "showlegend": true,
         "type": "scattergl",
         "x": [
          1972,
          1974,
          1976,
          1978,
          1980,
          1982,
          1984,
          1986,
          1988,
          1990,
          1992,
          1994,
          1996,
          1998,
          2000,
          2002,
          2004,
          2006,
          2008,
          2010,
          2012,
          2014,
          2016,
          2018
         ],
         "xaxis": "x",
         "y": [
          0.06944444444444445,
          0.055533199195171024,
          0.056338028169014086,
          0.08020344287949922,
          0.07550860719874804,
          0.07497565725413827,
          0.05346164127238706,
          0.05238095238095238,
          0.061872909698996656,
          0.07425907425907426,
          0.08449367088607596,
          0.06049213943950786,
          0.05128205128205128,
          0.045103324348607365,
          0.061814914645103324,
          0.08830931137039578,
          0.06845003933910307,
          0.0704647676161919,
          0.06940966010733453,
          0.07520296254094859,
          0.08101422387136673,
          0.06788021139166177,
          0.07128851540616246,
          0.08990825688073395
         ],
         "yaxis": "y"
        },
        {
         "hovertemplate": "Variable=POLVIEWS<br>Year=%{x}<br>GED=%{y}<extra></extra>",
         "legendgroup": "POLVIEWS",
         "line": {
          "color": "#19d3f3",
          "dash": "solid"
         },
         "marker": {
          "symbol": "circle"
         },
         "mode": "lines",
         "name": "POLVIEWS",
         "showlegend": true,
         "type": "scattergl",
         "x": [
          1972,
          1974,
          1976,
          1978,
          1980,
          1982,
          1984,
          1986,
          1988,
          1990,
          1992,
          1994,
          1996,
          1998,
          2000,
          2002,
          2004,
          2006,
          2008,
          2010,
          2012,
          2014,
          2016,
          2018
         ],
         "xaxis": "x",
         "y": [
          0.0715846994535519,
          0.05777345017851347,
          0.05802469135802469,
          0.07420091324200913,
          0.06855995410212277,
          0.06862026862026863,
          0.07425742574257425,
          0.06558849955076371,
          0.060805860805860805,
          0.07014652014652015,
          0.08449367088607596,
          0.05937266616878267,
          0.05554802872239534,
          0.05320634920634921,
          0.06476190476190476,
          0.08830931137039578,
          0.07368421052631578,
          0.06808633927277995,
          0.08075772681954138,
          0.07857142857142857,
          0.0784313725490196,
          0.06682325308279506,
          0.07424903100775193,
          0.08990825688073395
         ],
         "yaxis": "y"
        },
        {
         "hovertemplate": "Variable=SEXEDUC<br>Year=%{x}<br>GED=%{y}<extra></extra>",
         "legendgroup": "SEXEDUC",
         "line": {
          "color": "#FF6692",
          "dash": "solid"
         },
         "marker": {
          "symbol": "circle"
         },
         "mode": "lines",
         "name": "SEXEDUC",
         "showlegend": true,
         "type": "scattergl",
         "x": [
          1972,
          1974,
          1976,
          1978,
          1980,
          1982,
          1984,
          1986,
          1988,
          1990,
          1992,
          1994,
          1996,
          1998,
          2000,
          2002,
          2004,
          2006,
          2008,
          2010,
          2012,
          2014,
          2016,
          2018
         ],
         "xaxis": "x",
         "y": [
          0.06327683615819209,
          0.05228105228105228,
          0.06426906426906427,
          0.07420091324200913,
          0.06599597585513078,
          0.06237424547283702,
          0.08028919330289193,
          0.06558849955076371,
          0.060805860805860805,
          0.10256410256410256,
          0.09715189873417722,
          0.07894736842105263,
          0.07753436426116839,
          0.08019853709508883,
          0.07998350855493713,
          0.08830931137039578,
          0.07368421052631578,
          0.0938354723332632,
          0.08075772681954138,
          0.1001980198019802,
          0.0784313725490196,
          0.06682325308279506,
          0.10217821782178217,
          0.12199582027168233
         ],
         "yaxis": "y"
        },
        {
         "hovertemplate": "Variable=ABRAPE<br>Year=%{x}<br>GED=%{y}<extra></extra>",
         "legendgroup": "ABRAPE",
         "line": {
          "color": "#B6E880",
          "dash": "solid"
         },
         "marker": {
          "symbol": "circle"
         },
         "mode": "lines",
         "name": "ABRAPE",
         "showlegend": true,
         "type": "scattergl",
         "x": [
          1972,
          1974,
          1976,
          1978,
          1980,
          1982,
          1984,
          1986,
          1988,
          1990,
          1992,
          1994,
          1996,
          1998,
          2000,
          2002,
          2004,
          2006,
          2008,
          2010,
          2012,
          2014,
          2016,
          2018
         ],
         "xaxis": "x",
         "y": [
          0.07404426559356136,
          0.05527805527805528,
          0.05981012658227848,
          0.06690140845070422,
          0.05818395533352924,
          0.05368289637952559,
          0.051590483827853514,
          0.052507836990595615,
          0.07047300525561395,
          0.08389513108614233,
          0.0801641586867305,
          0.06429548563611491,
          0.052192982456140354,
          0.05173572228443449,
          0.05912653975363942,
          0.08830931137039578,
          0.06307277628032346,
          0.060652395514780834,
          0.07050092764378478,
          0.059393939393939395,
          0.05696969696969697,
          0.05366336633663366,
          0.06686868686868687,
          0.09067957079739113
         ],
         "yaxis": "y"
        },
        {
         "hovertemplate": "Variable=CONBUS<br>Year=%{x}<br>GED=%{y}<extra></extra>",
         "legendgroup": "CONBUS",
         "line": {
          "color": "#FF97FF",
          "dash": "solid"
         },
         "marker": {
          "symbol": "circle"
         },
         "mode": "lines",
         "name": "CONBUS",
         "showlegend": true,
         "type": "scattergl",
         "x": [
          1972,
          1974,
          1976,
          1978,
          1980,
          1982,
          1984,
          1986,
          1988,
          1990,
          1992,
          1994,
          1996,
          1998,
          2000,
          2002,
          2004,
          2006,
          2008,
          2010,
          2012,
          2014,
          2016,
          2018
         ],
         "xaxis": "x",
         "y": [
          0.09399585921325052,
          0.06893106893106893,
          0.07215189873417721,
          0.08568075117370892,
          0.07552159858947988,
          0.08645690834473324,
          0.08645690834473324,
          0.052507836990595615,
          0.07047300525561395,
          0.08389513108614233,
          0.0801641586867305,
          0.08795518207282914,
          0.0778786430960344,
          0.06996336996336996,
          0.05912653975363942,
          0.08830931137039578,
          0.06307277628032346,
          0.08769092542677448,
          0.09783294761203451,
          0.09894867037724181,
          0.08304668304668304,
          0.08411214953271028,
          0.09342105263157895,
          0.09067957079739113
         ],
         "yaxis": "y"
        },
        {
         "hovertemplate": "Variable=ABDEFECT<br>Year=%{x}<br>GED=%{y}<extra></extra>",
         "legendgroup": "ABDEFECT",
         "line": {
          "color": "#FECB52",
          "dash": "solid"
         },
         "marker": {
          "symbol": "circle"
         },
         "mode": "lines",
         "name": "ABDEFECT",
         "showlegend": true,
         "type": "scattergl",
         "x": [
          1972,
          1974,
          1976,
          1978,
          1980,
          1982,
          1984,
          1986,
          1988,
          1990,
          1992,
          1994,
          1996,
          1998,
          2000,
          2002,
          2004,
          2006,
          2008,
          2010,
          2012,
          2014,
          2016,
          2018
         ],
         "xaxis": "x",
         "y": [
          0.07927565392354124,
          0.06027306027306027,
          0.06234177215189873,
          0.07472613458528951,
          0.05935938877461064,
          0.05518102372034956,
          0.05052125100240577,
          0.05329153605015674,
          0.07047300525561395,
          0.08389513108614233,
          0.08180574555403557,
          0.06320109439124487,
          0.0778786430960344,
          0.047149122807017545,
          0.05845464725643897,
          0.08053077099061999,
          0.06002239641657335,
          0.05722701451714707,
          0.060550458715596334,
          0.0629021879021879,
          0.05515151515151515,
          0.05247524752475247,
          0.0567139282735613,
          0.09067957079739113
         ],
         "yaxis": "y"
        },
        {
         "hovertemplate": "Variable=POLHITOK<br>Year=%{x}<br>GED=%{y}<extra></extra>",
         "legendgroup": "POLHITOK",
         "line": {
          "color": "#636efa",
          "dash": "solid"
         },
         "marker": {
          "symbol": "circle"
         },
         "mode": "lines",
         "name": "POLHITOK",
         "showlegend": true,
         "type": "scattergl",
         "x": [
          1972,
          1974,
          1976,
          1978,
          1980,
          1982,
          1984,
          1986,
          1988,
          1990,
          1992,
          1994,
          1996,
          1998,
          2000,
          2002,
          2004,
          2006,
          2008,
          2010,
          2012,
          2014,
          2016,
          2018
         ],
         "xaxis": "x",
         "y": [
          0.06101190476190476,
          0.059154929577464786,
          0.053923541247484906,
          0.06338028169014084,
          0.06416275430359937,
          0.0655631288542681,
          0.0499866345896819,
          0.04519331243469175,
          0.0485958485958486,
          0.05692883895131086,
          0.057455540355677154,
          0.05034199726402189,
          0.04035087719298246,
          0.035526315789473684,
          0.04232057838123788,
          0.06651735722284434,
          0.05422100205902539,
          0.05302464525765497,
          0.057714762301918264,
          0.05454545454545454,
          0.05913185913185913,
          0.05821782178217822,
          0.06143063285920429,
          0.07538659793814433
         ],
         "yaxis": "y"
        },
        {
         "hovertemplate": "Variable=CONFINAN<br>Year=%{x}<br>GED=%{y}<extra></extra>",
         "legendgroup": "CONFINAN",
         "line": {
          "color": "#EF553B",
          "dash": "solid"
         },
         "marker": {
          "symbol": "circle"
         },
         "mode": "lines",
         "name": "CONFINAN",
         "showlegend": true,
         "type": "scattergl",
         "x": [
          1972,
          1974,
          1976,
          1978,
          1980,
          1982,
          1984,
          1986,
          1988,
          1990,
          1992,
          1994,
          1996,
          1998,
          2000,
          2002,
          2004,
          2006,
          2008,
          2010,
          2012,
          2014,
          2016,
          2018
         ],
         "xaxis": "x",
         "y": [
          0.09994155464640561,
          0.0675990675990676,
          0.07120253164556962,
          0.08370221327967807,
          0.06699970614163973,
          0.0655631288542681,
          0.07778668805132317,
          0.06818181818181818,
          0.0673655600854203,
          0.08364544319600499,
          0.0803921568627451,
          0.06498599439775911,
          0.04035087719298246,
          0.035526315789473684,
          0.07310081223124701,
          0.06651735722284434,
          0.07778540379775795,
          0.08098833218943034,
          0.0897766323024055,
          0.09152752009894867,
          0.07682227682227682,
          0.07586064728921872,
          0.07511045655375552,
          0.08827319587628867
         ],
         "yaxis": "y"
        },
        {
         "hovertemplate": "Variable=CAPPUN<br>Year=%{x}<br>GED=%{y}<extra></extra>",
         "legendgroup": "CAPPUN",
         "line": {
          "color": "#00cc96",
          "dash": "solid"
         },
         "marker": {
          "symbol": "circle"
         },
         "mode": "lines",
         "name": "CAPPUN",
         "showlegend": true,
         "type": "scattergl",
         "x": [
          1972,
          1974,
          1976,
          1978,
          1980,
          1982,
          1984,
          1986,
          1988,
          1990,
          1992,
          1994,
          1996,
          1998,
          2000,
          2002,
          2004,
          2006,
          2008,
          2010,
          2012,
          2014,
          2016,
          2018
         ],
         "xaxis": "x",
         "y": [
          0.07231638418079096,
          0.06593406593406594,
          0.05759493670886076,
          0.06338028169014084,
          0.05877167205406994,
          0.0599250936329588,
          0.05801980198019802,
          0.05567765567765568,
          0.0673655600854203,
          0.06217326362957431,
          0.07115902964959568,
          0.05653912050256996,
          0.04746918436926305,
          0.044825396825396824,
          0.05015873015873016,
          0.06651735722284434,
          0.0540045766590389,
          0.056734453286177426,
          0.0628712154135883,
          0.060246623605402234,
          0.05546218487394958,
          0.0585386697051702,
          0.06106442577030812,
          0.07014441497200118
         ],
         "yaxis": "y"
        },
        {
         "hovertemplate": "Variable=LIBATH<br>Year=%{x}<br>GED=%{y}<extra></extra>",
         "legendgroup": "LIBATH",
         "line": {
          "color": "#ab63fa",
          "dash": "solid"
         },
         "marker": {
          "symbol": "circle"
         },
         "mode": "lines",
         "name": "LIBATH",
         "showlegend": true,
         "type": "scattergl",
         "x": [
          1972,
          1974,
          1976,
          1978,
          1980,
          1982,
          1984,
          1986,
          1988,
          1990,
          1992,
          1994,
          1996,
          1998,
          2000,
          2002,
          2004,
          2006,
          2008,
          2010,
          2012,
          2014,
          2016,
          2018
         ],
         "xaxis": "x",
         "y": [
          0.04662698412698413,
          0.04695304695304695,
          0.04928404928404929,
          0.05046948356807512,
          0.03891891891891892,
          0.044564890093345376,
          0.0408981555733761,
          0.03787878787878788,
          0.042002442002442006,
          0.04094881398252185,
          0.047879616963064295,
          0.03392612859097127,
          0.042767295597484274,
          0.04025157232704402,
          0.04707996406109614,
          0.07481125600549074,
          0.05621500559910415,
          0.0469177361666316,
          0.054215625644197074,
          0.05765765765765766,
          0.05110565110565111,
          0.04910891089108911,
          0.052743652743652746,
          0.06942983378918578
         ],
         "yaxis": "y"
        },
        {
         "hovertemplate": "Variable=CONLEGIS<br>Year=%{x}<br>GED=%{y}<extra></extra>",
         "legendgroup": "CONLEGIS",
         "line": {
          "color": "#FFA15A",
          "dash": "solid"
         },
         "marker": {
          "symbol": "circle"
         },
         "mode": "lines",
         "name": "CONLEGIS",
         "showlegend": true,
         "type": "scattergl",
         "x": [
          1972,
          1974,
          1976,
          1978,
          1980,
          1982,
          1984,
          1986,
          1988,
          1990,
          1992,
          1994,
          1996,
          1998,
          2000,
          2002,
          2004,
          2006,
          2008,
          2010,
          2012,
          2014,
          2016,
          2018
         ],
         "xaxis": "x",
         "y": [
          0.08289738430583501,
          0.05860805860805861,
          0.06772151898734177,
          0.0841046277665996,
          0.07846018219218337,
          0.08782489740082079,
          0.07457898957497995,
          0.06269592476489028,
          0.06935286935286936,
          0.04094881398252185,
          0.047879616963064295,
          0.03392612859097127,
          0.042767295597484274,
          0.06684636118598383,
          0.04707996406109614,
          0.07481125600549074,
          0.05621500559910415,
          0.0469177361666316,
          0.054215625644197074,
          0.05765765765765766,
          0.05110565110565111,
          0.04910891089108911,
          0.052743652743652746,
          0.06942983378918578
         ],
         "yaxis": "y"
        },
        {
         "hovertemplate": "Variable=ABNOMORE<br>Year=%{x}<br>GED=%{y}<extra></extra>",
         "legendgroup": "ABNOMORE",
         "line": {
          "color": "#19d3f3",
          "dash": "solid"
         },
         "marker": {
          "symbol": "circle"
         },
         "mode": "lines",
         "name": "ABNOMORE",
         "showlegend": true,
         "type": "scattergl",
         "x": [
          1972,
          1974,
          1976,
          1978,
          1980,
          1982,
          1984,
          1986,
          1988,
          1990,
          1992,
          1994,
          1996,
          1998,
          2000,
          2002,
          2004,
          2006,
          2008,
          2010,
          2012,
          2014,
          2016,
          2018
         ],
         "xaxis": "x",
         "y": [
          0.055533199195171024,
          0.04229104229104229,
          0.04050632911392405,
          0.0528169014084507,
          0.037613870114604764,
          0.03720349563046192,
          0.03929430633520449,
          0.04231974921630094,
          0.04610606784519828,
          0.04769038701622971,
          0.04979480164158687,
          0.036414565826330535,
          0.039712488769092544,
          0.0405572209486863,
          0.0396330910349602,
          0.05788149164950812,
          0.044568868980963045,
          0.0468213058419244,
          0.04920767306088407,
          0.04888888888888889,
          0.0489060489060489,
          0.0502970297029703,
          0.04242424242424243,
          0.06985062066063538
         ],
         "yaxis": "y"
        },
        {
         "hovertemplate": "Variable=FECHLD<br>Year=%{x}<br>GED=%{y}<extra></extra>",
         "legendgroup": "FECHLD",
         "line": {
          "color": "#FF6692",
          "dash": "solid"
         },
         "marker": {
          "symbol": "circle"
         },
         "mode": "lines",
         "name": "FECHLD",
         "showlegend": true,
         "type": "scattergl",
         "x": [
          1972,
          1974,
          1976,
          1978,
          1980,
          1982,
          1984,
          1986,
          1988,
          1990,
          1992,
          1994,
          1996,
          1998,
          2000,
          2002,
          2004,
          2006,
          2008,
          2010,
          2012,
          2014,
          2016,
          2018
         ],
         "xaxis": "x",
         "y": [
          0.055533199195171024,
          0.05679974034404414,
          0.05679974034404414,
          0.0528169014084507,
          0.037613870114604764,
          0.06335403726708075,
          0.041836356904850054,
          0.03860759493670886,
          0.04208860759493671,
          0.046413502109704644,
          0.06327160493827161,
          0.051344286781179985,
          0.050246568039450885,
          0.047128129602356406,
          0.047242083758937695,
          0.06635318704284221,
          0.05071119356833643,
          0.05721003134796238,
          0.06772277227722773,
          0.05982905982905983,
          0.060805860805860805,
          0.05757286192068801,
          0.057631257631257635,
          0.0822884012539185
         ],
         "yaxis": "y"
        },
        {
         "hovertemplate": "Variable=SPKMIL<br>Year=%{x}<br>GED=%{y}<extra></extra>",
         "legendgroup": "SPKMIL",
         "line": {
          "color": "#B6E880",
          "dash": "solid"
         },
         "marker": {
          "symbol": "circle"
         },
         "mode": "lines",
         "name": "SPKMIL",
         "showlegend": true,
         "type": "scattergl",
         "x": [
          1972,
          1974,
          1976,
          1978,
          1980,
          1982,
          1984,
          1986,
          1988,
          1990,
          1992,
          1994,
          1996,
          1998,
          2000,
          2002,
          2004,
          2006,
          2008,
          2010,
          2012,
          2014,
          2016,
          2018
         ],
         "xaxis": "x",
         "y": [
          0.055533199195171024,
          0.05028305028305028,
          0.05028305028305028,
          0.05242566510172144,
          0.04,
          0.044263775971093045,
          0.03742314889067094,
          0.03814002089864159,
          0.042522694696607743,
          0.04119850187265917,
          0.0454172366621067,
          0.038030095759233926,
          0.036657681940700806,
          0.0380952380952381,
          0.04098544232922732,
          0.0642873484328529,
          0.053992221459620224,
          0.050288820931022764,
          0.050917336631622345,
          0.05308880308880309,
          0.05247524752475247,
          0.04854045037531276,
          0.05337781484570475,
          0.062697243845992
         ],
         "yaxis": "y"
        },
        {
         "hovertemplate": "Variable=CONJUDGE<br>Year=%{x}<br>GED=%{y}<extra></extra>",
         "legendgroup": "CONJUDGE",
         "line": {
          "color": "#FF97FF",
          "dash": "solid"
         },
         "marker": {
          "symbol": "circle"
         },
         "mode": "lines",
         "name": "CONJUDGE",
         "showlegend": true,
         "type": "scattergl",
         "x": [
          1972,
          1974,
          1976,
          1978,
          1980,
          1982,
          1984,
          1986,
          1988,
          1990,
          1992,
          1994,
          1996,
          1998,
          2000,
          2002,
          2004,
          2006,
          2008,
          2010,
          2012,
          2014,
          2016,
          2018
         ],
         "xaxis": "x",
         "y": [
          0.07887323943661972,
          0.06693306693306693,
          0.06582278481012659,
          0.07981220657276995,
          0.06435498089920658,
          0.044263775971093045,
          0.07965784549585672,
          0.06844305120167189,
          0.07912087912087912,
          0.04119850187265917,
          0.0454172366621067,
          0.06974789915966387,
          0.06030619865571322,
          0.05822102425876011,
          0.04098544232922732,
          0.0642873484328529,
          0.053992221459620224,
          0.050288820931022764,
          0.050917336631622345,
          0.05308880308880309,
          0.08505050505050506,
          0.07406171809841534,
          0.07647907647907648,
          0.062697243845992
         ],
         "yaxis": "y"
        },
        {
         "hovertemplate": "Variable=TRUST<br>Year=%{x}<br>GED=%{y}<extra></extra>",
         "legendgroup": "TRUST",
         "line": {
          "color": "#FECB52",
          "dash": "solid"
         },
         "marker": {
          "symbol": "circle"
         },
         "mode": "lines",
         "name": "TRUST",
         "showlegend": true,
         "type": "scattergl",
         "x": [
          1972,
          1974,
          1976,
          1978,
          1980,
          1982,
          1984,
          1986,
          1988,
          1990,
          1992,
          1994,
          1996,
          1998,
          2000,
          2002,
          2004,
          2006,
          2008,
          2010,
          2012,
          2014,
          2016,
          2018
         ],
         "xaxis": "x",
         "y": [
          0.05952380952380952,
          0.05070422535211268,
          0.04788732394366197,
          0.054773082942097026,
          0.054773082942097026,
          0.06361570918532944,
          0.04731355252606255,
          0.04519331243469175,
          0.04835164835164835,
          0.05418227215980025,
          0.05198358413132695,
          0.03912448700410397,
          0.050614250614250615,
          0.05308880308880309,
          0.045283018867924525,
          0.06427771556550951,
          0.05848413322842906,
          0.06008383791336749,
          0.059781488352916926,
          0.06486486486486487,
          0.06339066339066339,
          0.05656565656565657,
          0.05772005772005772,
          0.08181978487039322
         ],
         "yaxis": "y"
        },
        {
         "hovertemplate": "Variable=RACDIF4<br>Year=%{x}<br>GED=%{y}<extra></extra>",
         "legendgroup": "RACDIF4",
         "line": {
          "color": "#636efa",
          "dash": "solid"
         },
         "marker": {
          "symbol": "circle"
         },
         "mode": "lines",
         "name": "RACDIF4",
         "showlegend": true,
         "type": "scattergl",
         "x": [
          1972,
          1974,
          1976,
          1978,
          1980,
          1982,
          1984,
          1986,
          1988,
          1990,
          1992,
          1994,
          1996,
          1998,
          2000,
          2002,
          2004,
          2006,
          2008,
          2010,
          2012,
          2014,
          2016,
          2018
         ],
         "xaxis": "x",
         "y": [
          0.05952380952380952,
          0.07226107226107226,
          0.07226107226107226,
          0.054773082942097026,
          0.054773082942097026,
          0.06734867860187553,
          0.05441400304414003,
          0.04706264199935086,
          0.058424908424908426,
          0.057318894697535476,
          0.05379746835443038,
          0.048530416951469584,
          0.04905335628227195,
          0.049062049062049064,
          0.04586576898800757,
          0.06947021232735519,
          0.05772005772005772,
          0.05479818230419674,
          0.06222222222222222,
          0.06441947565543071,
          0.060674157303370786,
          0.060182488837119005,
          0.06392009987515605,
          0.0822884012539185
         ],
         "yaxis": "y"
        },
        {
         "hovertemplate": "Variable=LIBRAC<br>Year=%{x}<br>GED=%{y}<extra></extra>",
         "legendgroup": "LIBRAC",
         "line": {
          "color": "#EF553B",
          "dash": "solid"
         },
         "marker": {
          "symbol": "circle"
         },
         "mode": "lines",
         "name": "LIBRAC",
         "showlegend": true,
         "type": "scattergl",
         "x": [
          1972,
          1974,
          1976,
          1978,
          1980,
          1982,
          1984,
          1986,
          1988,
          1990,
          1992,
          1994,
          1996,
          1998,
          2000,
          2002,
          2004,
          2006,
          2008,
          2010,
          2012,
          2014,
          2016,
          2018
         ],
         "xaxis": "x",
         "y": [
          0.05952380952380952,
          0.05561105561105561,
          0.05561105561105561,
          0.06025039123630673,
          0.04144144144144144,
          0.04336043360433604,
          0.038492381716118684,
          0.03970741901776385,
          0.04610606784519828,
          0.046192259675405745,
          0.049247606019151846,
          0.038850889192886456,
          0.039194139194139194,
          0.04072294669412034,
          0.04779874213836478,
          0.05934065934065934,
          0.0477043673012318,
          0.044673539518900345,
          0.05204336947456213,
          0.048484848484848485,
          0.05070707070707071,
          0.047524752475247525,
          0.05168316831683168,
          0.06311803071744161
         ],
         "yaxis": "y"
        },
        {
         "hovertemplate": "Variable=FAIR<br>Year=%{x}<br>GED=%{y}<extra></extra>",
         "legendgroup": "FAIR",
         "line": {
          "color": "#00cc96",
          "dash": "solid"
         },
         "marker": {
          "symbol": "circle"
         },
         "mode": "lines",
         "name": "FAIR",
         "showlegend": true,
         "type": "scattergl",
         "x": [
          1972,
          1974,
          1976,
          1978,
          1980,
          1982,
          1984,
          1986,
          1988,
          1990,
          1992,
          1994,
          1996,
          1998,
          2000,
          2002,
          2004,
          2006,
          2008,
          2010,
          2012,
          2014,
          2016,
          2018
         ],
         "xaxis": "x",
         "y": [
          0.0496031746031746,
          0.05070422535211268,
          0.04426559356136821,
          0.04929577464788732,
          0.051251956181533644,
          0.06361570918532944,
          0.04276931301790965,
          0.038923719958202714,
          0.04542124542124542,
          0.05293383270911361,
          0.048426812585499315,
          0.04240766073871409,
          0.04061096136567835,
          0.0374020156774916,
          0.0451419502733204,
          0.05742393045069778,
          0.05768194070080863,
          0.052094150224991344,
          0.05170975813177648,
          0.05733005733005733,
          0.05292929292929293,
          0.05847665847665848,
          0.06101834673263245,
          0.0796123226029768
         ],
         "yaxis": "y"
        },
        {
         "hovertemplate": "Variable=AFFRMACT<br>Year=%{x}<br>GED=%{y}<extra></extra>",
         "legendgroup": "AFFRMACT",
         "line": {
          "color": "#ab63fa",
          "dash": "solid"
         },
         "marker": {
          "symbol": "circle"
         },
         "mode": "lines",
         "name": "AFFRMACT",
         "showlegend": true,
         "type": "scattergl",
         "x": [
          1972,
          1974,
          1976,
          1978,
          1980,
          1982,
          1984,
          1986,
          1988,
          1990,
          1992,
          1994,
          1996,
          1998,
          2000,
          2002,
          2004,
          2006,
          2008,
          2010,
          2012,
          2014,
          2016,
          2018
         ],
         "xaxis": "x",
         "y": [
          0.0496031746031746,
          0.05070422535211268,
          0.04426559356136821,
          0.04929577464788732,
          0.051251956181533644,
          0.06361570918532944,
          0.04276931301790965,
          0.038923719958202714,
          0.04542124542124542,
          0.05293383270911361,
          0.11210418794688458,
          0.08757908757908758,
          0.07282913165266107,
          0.06281920326864147,
          0.0451419502733204,
          0.05742393045069778,
          0.05768194070080863,
          0.08937691521961184,
          0.09313358302122347,
          0.0945054945054945,
          0.0809551543389633,
          0.07481439177612793,
          0.08406134731120171,
          0.0796123226029768
         ],
         "yaxis": "y"
        },
        {
         "hovertemplate": "Variable=PREMARSX<br>Year=%{x}<br>GED=%{y}<extra></extra>",
         "legendgroup": "PREMARSX",
         "line": {
          "color": "#FFA15A",
          "dash": "solid"
         },
         "marker": {
          "symbol": "circle"
         },
         "mode": "lines",
         "name": "PREMARSX",
         "showlegend": true,
         "type": "scattergl",
         "x": [
          1972,
          1974,
          1976,
          1978,
          1980,
          1982,
          1984,
          1986,
          1988,
          1990,
          1992,
          1994,
          1996,
          1998,
          2000,
          2002,
          2004,
          2006,
          2008,
          2010,
          2012,
          2014,
          2016,
          2018
         ],
         "xaxis": "x",
         "y": [
          0.05081967213114754,
          0.04673807205452775,
          0.045764362220058426,
          0.0576271186440678,
          0.03755868544600939,
          0.03286384976525822,
          0.047760088855979266,
          0.041455696202531644,
          0.03322784810126582,
          0.04803635183382019,
          0.0558641975308642,
          0.04329004329004329,
          0.049442457395329265,
          0.0503030303030303,
          0.05642633228840126,
          0.06363636363636363,
          0.05418227215980025,
          0.05772005772005772,
          0.06099009900990099,
          0.061153174140943505,
          0.06202686202686203,
          0.05924510272336359,
          0.05982905982905983,
          0.06557618626584144
         ],
         "yaxis": "y"
        },
        {
         "hovertemplate": "Variable=ABPOOR<br>Year=%{x}<br>GED=%{y}<extra></extra>",
         "legendgroup": "ABPOOR",
         "line": {
          "color": "#19d3f3",
          "dash": "solid"
         },
         "marker": {
          "symbol": "circle"
         },
         "mode": "lines",
         "name": "ABPOOR",
         "showlegend": true,
         "type": "scattergl",
         "x": [
          1972,
          1974,
          1976,
          1978,
          1980,
          1982,
          1984,
          1986,
          1988,
          1990,
          1992,
          1994,
          1996,
          1998,
          2000,
          2002,
          2004,
          2006,
          2008,
          2010,
          2012,
          2014,
          2016,
          2018
         ],
         "xaxis": "x",
         "y": [
          0.055533199195171024,
          0.044622044622044624,
          0.043670886075949364,
          0.050078247261345854,
          0.037613870114604764,
          0.04069912609238452,
          0.04570970328789094,
          0.04467084639498432,
          0.04322344322344322,
          0.054431960049937576,
          0.047332421340629274,
          0.037756497948016415,
          0.04232057838123788,
          0.0405572209486863,
          0.04153686396677051,
          0.0565088080530771,
          0.053548966756513924,
          0.05154639175257732,
          0.05020850708924104,
          0.05131313131313131,
          0.05207920792079208,
          0.05187656380316931,
          0.046464646464646465,
          0.07153376814643383
         ],
         "yaxis": "y"
        },
        {
         "hovertemplate": "Variable=SUICIDE1<br>Year=%{x}<br>GED=%{y}<extra></extra>",
         "legendgroup": "SUICIDE1",
         "line": {
          "color": "#FF6692",
          "dash": "solid"
         },
         "marker": {
          "symbol": "circle"
         },
         "mode": "lines",
         "name": "SUICIDE1",
         "showlegend": true,
         "type": "scattergl",
         "x": [
          1972,
          1974,
          1976,
          1978,
          1980,
          1982,
          1984,
          1986,
          1988,
          1990,
          1992,
          1994,
          1996,
          1998,
          2000,
          2002,
          2004,
          2006,
          2008,
          2010,
          2012,
          2014,
          2016,
          2018
         ],
         "xaxis": "x",
         "y": [
          0.055533199195171024,
          0.05561105561105561,
          0.05228105228105228,
          0.06594071385359952,
          0.04024144869215292,
          0.03903420523138833,
          0.0532724505327245,
          0.04316780266147355,
          0.045764362220058426,
          0.045621045621045624,
          0.060126582278481014,
          0.05092276144907724,
          0.05197594501718213,
          0.05277262420119563,
          0.055658627087198514,
          0.07056936647955092,
          0.05694586312563841,
          0.05800588078053996,
          0.06363636363636363,
          0.06991260923845194,
          0.06970297029702971,
          0.06613861386138614,
          0.07116104868913857,
          0.09117032392894461
         ],
         "yaxis": "y"
        },
        {
         "hovertemplate": "Variable=NATMASS<br>Year=%{x}<br>GED=%{y}<extra></extra>",
         "legendgroup": "NATMASS",
         "line": {
          "color": "#B6E880",
          "dash": "solid"
         },
         "marker": {
          "symbol": "circle"
         },
         "mode": "lines",
         "name": "NATMASS",
         "showlegend": true,
         "type": "scattergl",
         "x": [
          1972,
          1974,
          1976,
          1978,
          1980,
          1982,
          1984,
          1986,
          1988,
          1990,
          1992,
          1994,
          1996,
          1998,
          2000,
          2002,
          2004,
          2006,
          2008,
          2010,
          2012,
          2014,
          2016,
          2018
         ],
         "xaxis": "x",
         "y": [
          0.055533199195171024,
          0.05561105561105561,
          0.05228105228105228,
          0.06594071385359952,
          0.04024144869215292,
          0.03903420523138833,
          0.07861386138613861,
          0.04316780266147355,
          0.045764362220058426,
          0.045621045621045624,
          0.060126582278481014,
          0.05092276144907724,
          0.05197594501718213,
          0.05277262420119563,
          0.055658627087198514,
          0.07056936647955092,
          0.05694586312563841,
          0.05800588078053996,
          0.06363636363636363,
          0.06991260923845194,
          0.06970297029702971,
          0.06613861386138614,
          0.07116104868913857,
          0.09117032392894461
         ],
         "yaxis": "y"
        },
        {
         "hovertemplate": "Variable=COURTS<br>Year=%{x}<br>GED=%{y}<extra></extra>",
         "legendgroup": "COURTS",
         "line": {
          "color": "#FF97FF",
          "dash": "solid"
         },
         "marker": {
          "symbol": "circle"
         },
         "mode": "lines",
         "name": "COURTS",
         "showlegend": true,
         "type": "scattergl",
         "x": [
          1972,
          1974,
          1976,
          1978,
          1980,
          1982,
          1984,
          1986,
          1988,
          1990,
          1992,
          1994,
          1996,
          1998,
          2000,
          2002,
          2004,
          2006,
          2008,
          2010,
          2012,
          2014,
          2016,
          2018
         ],
         "xaxis": "x",
         "y": [
          0.055533199195171024,
          0.05561105561105561,
          0.05228105228105228,
          0.06594071385359952,
          0.04024144869215292,
          0.03903420523138833,
          0.07861386138613861,
          0.04316780266147355,
          0.045764362220058426,
          0.045621045621045624,
          0.060126582278481014,
          0.05092276144907724,
          0.05197594501718213,
          0.07276190476190476,
          0.055658627087198514,
          0.07056936647955092,
          0.05694586312563841,
          0.05800588078053996,
          0.06363636363636363,
          0.06991260923845194,
          0.07100840336134454,
          0.06356589147286822,
          0.06487775790101372,
          0.09117032392894461
         ],
         "yaxis": "y"
        },
        {
         "hovertemplate": "Variable=CONFED<br>Year=%{x}<br>GED=%{y}<extra></extra>",
         "legendgroup": "CONFED",
         "line": {
          "color": "#FECB52",
          "dash": "solid"
         },
         "marker": {
          "symbol": "circle"
         },
         "mode": "lines",
         "name": "CONFED",
         "showlegend": true,
         "type": "scattergl",
         "x": [
          1972,
          1974,
          1976,
          1978,
          1980,
          1982,
          1984,
          1986,
          1988,
          1990,
          1992,
          1994,
          1996,
          1998,
          2000,
          2002,
          2004,
          2006,
          2008,
          2010,
          2012,
          2014,
          2016,
          2018
         ],
         "xaxis": "x",
         "y": [
          0.1006036217303823,
          0.06486210418794688,
          0.06930379746835443,
          0.07668231611893583,
          0.06876285630326183,
          0.07688098495212038,
          0.07003475006682705,
          0.062173458725182866,
          0.07203907203907203,
          0.0749063670411985,
          0.060126582278481014,
          0.0746922024623803,
          0.07320979180965455,
          0.0663003663003663,
          0.06880076445293837,
          0.08456760630673674,
          0.08084391336818521,
          0.08712206047032475,
          0.09174311926605505,
          0.08746928746928746,
          0.09257714762301918,
          0.10014727540500737,
          0.06487775790101372,
          0.09117032392894461
         ],
         "yaxis": "y"
        },
        {
         "hovertemplate": "Variable=CONTV<br>Year=%{x}<br>GED=%{y}<extra></extra>",
         "legendgroup": "CONTV",
         "line": {
          "color": "#636efa",
          "dash": "solid"
         },
         "marker": {
          "symbol": "circle"
         },
         "mode": "lines",
         "name": "CONTV",
         "showlegend": true,
         "type": "scattergl",
         "x": [
          1972,
          1974,
          1976,
          1978,
          1980,
          1982,
          1984,
          1986,
          1988,
          1990,
          1992,
          1994,
          1996,
          1998,
          2000,
          2002,
          2004,
          2006,
          2008,
          2010,
          2012,
          2014,
          2016,
          2018
         ],
         "xaxis": "x",
         "y": [
          0.08853118712273642,
          0.06526806526806526,
          0.07056962025316456,
          0.08098591549295775,
          0.06876285630326183,
          0.08372093023255814,
          0.08072707832130446,
          0.07836990595611286,
          0.07668418537983755,
          0.09063670411985018,
          0.10533515731874145,
          0.0746922024623803,
          0.07320979180965455,
          0.07281553398058252,
          0.0761904761904762,
          0.08456760630673674,
          0.08084391336818521,
          0.08712206047032475,
          0.09174311926605505,
          0.08746928746928746,
          0.09757575757575758,
          0.10014727540500737,
          0.06487775790101372,
          0.09117032392894461
         ],
         "yaxis": "y"
        },
        {
         "hovertemplate": "Variable=NATPARK<br>Year=%{x}<br>GED=%{y}<extra></extra>",
         "legendgroup": "NATPARK",
         "line": {
          "color": "#EF553B",
          "dash": "solid"
         },
         "marker": {
          "symbol": "circle"
         },
         "mode": "lines",
         "name": "NATPARK",
         "showlegend": true,
         "type": "scattergl",
         "x": [
          1972,
          1974,
          1976,
          1978,
          1980,
          1982,
          1984,
          1986,
          1988,
          1990,
          1992,
          1994,
          1996,
          1998,
          2000,
          2002,
          2004,
          2006,
          2008,
          2010,
          2012,
          2014,
          2016,
          2018
         ],
         "xaxis": "x",
         "y": [
          0.08853118712273642,
          0.06526806526806526,
          0.07056962025316456,
          0.08098591549295775,
          0.06876285630326183,
          0.08372093023255814,
          0.08072707832130446,
          0.07836990595611286,
          0.07668418537983755,
          0.09063670411985018,
          0.10533515731874145,
          0.0746922024623803,
          0.07320979180965455,
          0.07281553398058252,
          0.0761904761904762,
          0.08456760630673674,
          0.08084391336818521,
          0.08712206047032475,
          0.09174311926605505,
          0.08746928746928746,
          0.09757575757575758,
          0.10014727540500737,
          0.06487775790101372,
          0.09117032392894461
         ],
         "yaxis": "y"
        },
        {
         "hovertemplate": "Variable=LIBMIL<br>Year=%{x}<br>GED=%{y}<extra></extra>",
         "legendgroup": "LIBMIL",
         "line": {
          "color": "#00cc96",
          "dash": "solid"
         },
         "marker": {
          "symbol": "circle"
         },
         "mode": "lines",
         "name": "LIBMIL",
         "showlegend": true,
         "type": "scattergl",
         "x": [
          1972,
          1974,
          1976,
          1978,
          1980,
          1982,
          1984,
          1986,
          1988,
          1990,
          1992,
          1994,
          1996,
          1998,
          2000,
          2002,
          2004,
          2006,
          2008,
          2010,
          2012,
          2014,
          2016,
          2018
         ],
         "xaxis": "x",
         "y": [
          0.08853118712273642,
          0.046620046620046623,
          0.046620046620046623,
          0.0528169014084507,
          0.04,
          0.04727491719361638,
          0.03368083400160385,
          0.03918495297805643,
          0.04085045389393215,
          0.04244694132334582,
          0.04789518900343643,
          0.038030095759233926,
          0.035972491624052194,
          0.03986562150055991,
          0.04959568733153639,
          0.05890257558790594,
          0.05218365061590145,
          0.0468213058419244,
          0.05256648113790971,
          0.057002457002457,
          0.0502970297029703,
          0.049494949494949494,
          0.05554628857381151,
          0.0664843256890385
         ],
         "yaxis": "y"
        },
        {
         "hovertemplate": "Variable=NATCRIME<br>Year=%{x}<br>GED=%{y}<extra></extra>",
         "legendgroup": "NATCRIME",
         "line": {
          "color": "#ab63fa",
          "dash": "solid"
         },
         "marker": {
          "symbol": "circle"
         },
         "mode": "lines",
         "name": "NATCRIME",
         "showlegend": true,
         "type": "scattergl",
         "x": [
          1972,
          1974,
          1976,
          1978,
          1980,
          1982,
          1984,
          1986,
          1988,
          1990,
          1992,
          1994,
          1996,
          1998,
          2000,
          2002,
          2004,
          2006,
          2008,
          2010,
          2012,
          2014,
          2016,
          2018
         ],
         "xaxis": "x",
         "y": [
          0.08853118712273642,
          0.08824508824508824,
          0.08449367088607596,
          0.0528169014084507,
          0.10314428445489274,
          0.04727491719361638,
          0.03368083400160385,
          0.03918495297805643,
          0.04085045389393215,
          0.04244694132334582,
          0.04789518900343643,
          0.038030095759233926,
          0.035972491624052194,
          0.03986562150055991,
          0.04959568733153639,
          0.05890257558790594,
          0.05218365061590145,
          0.0468213058419244,
          0.05256648113790971,
          0.057002457002457,
          0.0502970297029703,
          0.049494949494949494,
          0.05554628857381151,
          0.0664843256890385
         ],
         "yaxis": "y"
        },
        {
         "hovertemplate": "Variable=COLCOM<br>Year=%{x}<br>GED=%{y}<extra></extra>",
         "legendgroup": "COLCOM",
         "line": {
          "color": "#FFA15A",
          "dash": "solid"
         },
         "marker": {
          "symbol": "circle"
         },
         "mode": "lines",
         "name": "COLCOM",
         "showlegend": true,
         "type": "scattergl",
         "x": [
          1972,
          1974,
          1976,
          1978,
          1980,
          1982,
          1984,
          1986,
          1988,
          1990,
          1992,
          1994,
          1996,
          1998,
          2000,
          2002,
          2004,
          2006,
          2008,
          2010,
          2012,
          2014,
          2016,
          2018
         ],
         "xaxis": "x",
         "y": [
          0.057539682539682536,
          0.04495504495504495,
          0.04595404595404595,
          0.06025039123630673,
          0.04504504504504504,
          0.044263775971093045,
          0.04143277198609997,
          0.042842215256008356,
          0.04395604395604396,
          0.04794007490636704,
          0.049521203830369356,
          0.04186046511627907,
          0.039353099730458224,
          0.036604895904827274,
          0.04779874213836478,
          0.0626858842370167,
          0.04758636467627545,
          0.04707511249567324,
          0.05187656380316931,
          0.05470925470925471,
          0.0504950495049505,
          0.052743652743652746,
          0.05257985257985258,
          0.06017252261729434
         ],
         "yaxis": "y"
        },
        {
         "hovertemplate": "Variable=GUNLAW<br>Year=%{x}<br>GED=%{y}<extra></extra>",
         "legendgroup": "GUNLAW",
         "line": {
          "color": "#19d3f3",
          "dash": "solid"
         },
         "marker": {
          "symbol": "circle"
         },
         "mode": "lines",
         "name": "GUNLAW",
         "showlegend": true,
         "type": "scattergl",
         "x": [
          1972,
          1974,
          1976,
          1978,
          1980,
          1982,
          1984,
          1986,
          1988,
          1990,
          1992,
          1994,
          1996,
          1998,
          2000,
          2002,
          2004,
          2006,
          2008,
          2010,
          2012,
          2014,
          2016,
          2018
         ],
         "xaxis": "x",
         "y": [
          0.06398390342052314,
          0.038295038295038296,
          0.05927405927405927,
          0.06416275430359937,
          0.05189189189189189,
          0.056910569105691054,
          0.049442457395329265,
          0.054075235109717866,
          0.054706163401815576,
          0.06691635455680399,
          0.06210670314637483,
          0.059917920656634746,
          0.06224651736907071,
          0.05175202156334232,
          0.058678611422172455,
          0.07481125600549074,
          0.07099664053751399,
          0.07067618076792388,
          0.05187656380316931,
          0.059393939393939395,
          0.05888030888030888,
          0.05438165438165438,
          0.04929292929292929,
          0.069557964970809
         ],
         "yaxis": "y"
        },
        {
         "hovertemplate": "Variable=NATSOC<br>Year=%{x}<br>GED=%{y}<extra></extra>",
         "legendgroup": "NATSOC",
         "line": {
          "color": "#FF6692",
          "dash": "solid"
         },
         "marker": {
          "symbol": "circle"
         },
         "mode": "lines",
         "name": "NATSOC",
         "showlegend": true,
         "type": "scattergl",
         "x": [
          1972,
          1974,
          1976,
          1978,
          1980,
          1982,
          1984,
          1986,
          1988,
          1990,
          1992,
          1994,
          1996,
          1998,
          2000,
          2002,
          2004,
          2006,
          2008,
          2010,
          2012,
          2014,
          2016,
          2018
         ],
         "xaxis": "x",
         "y": [
          0.06398390342052314,
          0.038295038295038296,
          0.05927405927405927,
          0.06416275430359937,
          0.05189189189189189,
          0.056910569105691054,
          0.049442457395329265,
          0.054075235109717866,
          0.054706163401815576,
          0.06691635455680399,
          0.06210670314637483,
          0.059917920656634746,
          0.06224651736907071,
          0.05175202156334232,
          0.058678611422172455,
          0.07481125600549074,
          0.07099664053751399,
          0.07067618076792388,
          0.05187656380316931,
          0.059393939393939395,
          0.05888030888030888,
          0.05438165438165438,
          0.04929292929292929,
          0.069557964970809
         ],
         "yaxis": "y"
        },
        {
         "hovertemplate": "Variable=THNKSELF<br>Year=%{x}<br>GED=%{y}<extra></extra>",
         "legendgroup": "THNKSELF",
         "line": {
          "color": "#B6E880",
          "dash": "solid"
         },
         "marker": {
          "symbol": "circle"
         },
         "mode": "lines",
         "name": "THNKSELF",
         "showlegend": true,
         "type": "scattergl",
         "x": [
          1972,
          1974,
          1976,
          1978,
          1980,
          1982,
          1984,
          1986,
          1988,
          1990,
          1992,
          1994,
          1996,
          1998,
          2000,
          2002,
          2004,
          2006,
          2008,
          2010,
          2012,
          2014,
          2016,
          2018
         ],
         "xaxis": "x",
         "y": [
          0.06398390342052314,
          0.038295038295038296,
          0.05927405927405927,
          0.06416275430359937,
          0.05189189189189189,
          0.056910569105691054,
          0.07210031347962383,
          0.049029622063329927,
          0.054706163401815576,
          0.060073260073260075,
          0.06415396952686447,
          0.05052125100240577,
          0.06224651736907071,
          0.04254385964912281,
          0.058678611422172455,
          0.07481125600549074,
          0.07617625093353249,
          0.06837786661056175,
          0.053562653562653564,
          0.059393939393939395,
          0.0598019801980198,
          0.056731984829329965,
          0.05089108910891089,
          0.07906588824020017
         ],
         "yaxis": "y"
        },
        {
         "hovertemplate": "Variable=SPKRAC<br>Year=%{x}<br>GED=%{y}<extra></extra>",
         "legendgroup": "SPKRAC",
         "line": {
          "color": "#FF97FF",
          "dash": "solid"
         },
         "marker": {
          "symbol": "circle"
         },
         "mode": "lines",
         "name": "SPKRAC",
         "showlegend": true,
         "type": "scattergl",
         "x": [
          1972,
          1974,
          1976,
          1978,
          1980,
          1982,
          1984,
          1986,
          1988,
          1990,
          1992,
          1994,
          1996,
          1998,
          2000,
          2002,
          2004,
          2006,
          2008,
          2010,
          2012,
          2014,
          2016,
          2018
         ],
         "xaxis": "x",
         "y": [
          0.06398390342052314,
          0.054612054612054615,
          0.054612054612054615,
          0.056338028169014086,
          0.044684684684684686,
          0.045167118337850046,
          0.0363539160652232,
          0.0384012539184953,
          0.047539417104634496,
          0.0449438202247191,
          0.04487004103967168,
          0.04432284541723666,
          0.03701707097933513,
          0.038206360100663465,
          0.04501679731243001,
          0.058567833447723636,
          0.04981684981684982,
          0.04811353409484251,
          0.05029890744176459,
          0.04808080808080808,
          0.0503030303030303,
          0.04649694929518199,
          0.05148514851485148,
          0.05954134231011993
         ],
         "yaxis": "y"
        },
        {
         "hovertemplate": "Variable=RACDIF1<br>Year=%{x}<br>GED=%{y}<extra></extra>",
         "legendgroup": "RACDIF1",
         "line": {
          "color": "#FECB52",
          "dash": "solid"
         },
         "marker": {
          "symbol": "circle"
         },
         "mode": "lines",
         "name": "RACDIF1",
         "showlegend": true,
         "type": "scattergl",
         "x": [
          1972,
          1974,
          1976,
          1978,
          1980,
          1982,
          1984,
          1986,
          1988,
          1990,
          1992,
          1994,
          1996,
          1998,
          2000,
          2002,
          2004,
          2006,
          2008,
          2010,
          2012,
          2014,
          2016,
          2018
         ],
         "xaxis": "x",
         "y": [
          0.06398390342052314,
          0.06693306693306693,
          0.06693306693306693,
          0.056338028169014086,
          0.044684684684684686,
          0.07971014492753623,
          0.05060882800608828,
          0.05030834144758196,
          0.055860805860805864,
          0.05302464525765497,
          0.05443037974683544,
          0.050580997949419004,
          0.04789915966386555,
          0.047046244319700614,
          0.052125100240577385,
          0.07885592087677092,
          0.0575139146567718,
          0.05996212918156953,
          0.06121212121212121,
          0.06277227722772277,
          0.06092384519350812,
          0.06316831683168317,
          0.06991260923845194,
          0.07810867293625914
         ],
         "yaxis": "y"
        },
        {
         "hovertemplate": "Variable=GRASS<br>Year=%{x}<br>GED=%{y}<extra></extra>",
         "legendgroup": "GRASS",
         "line": {
          "color": "#636efa",
          "dash": "solid"
         },
         "marker": {
          "symbol": "circle"
         },
         "mode": "lines",
         "name": "GRASS",
         "showlegend": true,
         "type": "scattergl",
         "x": [
          1972,
          1974,
          1976,
          1978,
          1980,
          1982,
          1984,
          1986,
          1988,
          1990,
          1992,
          1994,
          1996,
          1998,
          2000,
          2002,
          2004,
          2006,
          2008,
          2010,
          2012,
          2014,
          2016,
          2018
         ],
         "xaxis": "x",
         "y": [
          0.0689484126984127,
          0.04426559356136821,
          0.044668008048289735,
          0.05086071987480438,
          0.0528169014084507,
          0.06783511846802986,
          0.04891740176423416,
          0.04885057471264368,
          0.061782661782661785,
          0.06691635455680399,
          0.05581395348837209,
          0.038577291381668946,
          0.03706245710363761,
          0.03939507094846901,
          0.04407894736842105,
          0.05444978265843056,
          0.04232922732362822,
          0.05395873743607829,
          0.04782519068233354,
          0.047474747474747475,
          0.05110565110565111,
          0.04782964782964783,
          0.04707070707070707,
          0.08212039532794249
         ],
         "yaxis": "y"
        },
        {
         "hovertemplate": "Variable=LIBCOM<br>Year=%{x}<br>GED=%{y}<extra></extra>",
         "legendgroup": "LIBCOM",
         "line": {
          "color": "#EF553B",
          "dash": "solid"
         },
         "marker": {
          "symbol": "circle"
         },
         "mode": "lines",
         "name": "LIBCOM",
         "showlegend": true,
         "type": "scattergl",
         "x": [
          1972,
          1974,
          1976,
          1978,
          1980,
          1982,
          1984,
          1986,
          1988,
          1990,
          1992,
          1994,
          1996,
          1998,
          2000,
          2002,
          2004,
          2006,
          2008,
          2010,
          2012,
          2014,
          2016,
          2018
         ],
         "xaxis": "x",
         "y": [
          0.04662698412698413,
          0.04728604728604729,
          0.051615051615051616,
          0.04968701095461659,
          0.0381981981981982,
          0.04305931948208371,
          0.039026998128842555,
          0.03500522466039707,
          0.0380952380952381,
          0.044194756554307116,
          0.048974008207934336,
          0.037756497948016415,
          0.035162374020156775,
          0.040204549462175984,
          0.037625979843225084,
          0.05994051704415466,
          0.049720044792833144,
          0.046176975945017185,
          0.05237698081734779,
          0.055036855036855035,
          0.04732673267326733,
          0.04673267326732673,
          0.05313131313131313,
          0.06858826004628656
         ],
         "yaxis": "y"
        },
        {
         "hovertemplate": "Variable=HELPFUL<br>Year=%{x}<br>GED=%{y}<extra></extra>",
         "legendgroup": "HELPFUL",
         "line": {
          "color": "#00cc96",
          "dash": "solid"
         },
         "marker": {
          "symbol": "circle"
         },
         "mode": "lines",
         "name": "HELPFUL",
         "showlegend": true,
         "type": "scattergl",
         "x": [
          1972,
          1974,
          1976,
          1978,
          1980,
          1982,
          1984,
          1986,
          1988,
          1990,
          1992,
          1994,
          1996,
          1998,
          2000,
          2002,
          2004,
          2006,
          2008,
          2010,
          2012,
          2014,
          2016,
          2018
         ],
         "xaxis": "x",
         "y": [
          0.04712301587301587,
          0.0454728370221328,
          0.04788732394366197,
          0.05359937402190924,
          0.054773082942097026,
          0.055176890619928594,
          0.04330392943063352,
          0.04205851619644723,
          0.0463980463980464,
          0.050436953807740326,
          0.05444596443228454,
          0.03967168262653899,
          0.045283018867924525,
          0.04047619047619048,
          0.04073355669194146,
          0.05218365061590145,
          0.05402930402930403,
          0.047969703345255625,
          0.05196717862402693,
          0.05287128712871287,
          0.059295659295659296,
          0.0585487906588824,
          0.05454545454545454,
          0.07667525773195877
         ],
         "yaxis": "y"
        },
        {
         "hovertemplate": "Variable=EQWLTH<br>Year=%{x}<br>GED=%{y}<extra></extra>",
         "legendgroup": "EQWLTH",
         "line": {
          "color": "#ab63fa",
          "dash": "solid"
         },
         "marker": {
          "symbol": "circle"
         },
         "mode": "lines",
         "name": "EQWLTH",
         "showlegend": true,
         "type": "scattergl",
         "x": [
          1972,
          1974,
          1976,
          1978,
          1980,
          1982,
          1984,
          1986,
          1988,
          1990,
          1992,
          1994,
          1996,
          1998,
          2000,
          2002,
          2004,
          2006,
          2008,
          2010,
          2012,
          2014,
          2016,
          2018
         ],
         "xaxis": "x",
         "y": [
          0.04712301587301587,
          0.0454728370221328,
          0.09661016949152543,
          0.05707762557077625,
          0.05441400304414003,
          0.0689873417721519,
          0.0493730407523511,
          0.045709908069458634,
          0.05303392259913999,
          0.06105006105006105,
          0.056134723336006415,
          0.053728949478749,
          0.048903508771929824,
          0.04961340206185567,
          0.048903508771929824,
          0.06330453182860166,
          0.054553264604811,
          0.06213222568362755,
          0.06545454545454546,
          0.06455445544554456,
          0.06693069306930693,
          0.06445350417394681,
          0.06575963718820861,
          0.07792207792207792
         ],
         "yaxis": "y"
        },
        {
         "hovertemplate": "Variable=SPKATH<br>Year=%{x}<br>GED=%{y}<extra></extra>",
         "legendgroup": "SPKATH",
         "line": {
          "color": "#FFA15A",
          "dash": "solid"
         },
         "marker": {
          "symbol": "circle"
         },
         "mode": "lines",
         "name": "SPKATH",
         "showlegend": true,
         "type": "scattergl",
         "x": [
          1972,
          1974,
          1976,
          1978,
          1980,
          1982,
          1984,
          1986,
          1988,
          1990,
          1992,
          1994,
          1996,
          1998,
          2000,
          2002,
          2004,
          2006,
          2008,
          2010,
          2012,
          2014,
          2016,
          2018
         ],
         "xaxis": "x",
         "y": [
          0.053075396825396824,
          0.047619047619047616,
          0.04895104895104895,
          0.056338028169014086,
          0.04216216216216216,
          0.045769346582354715,
          0.04143277198609997,
          0.03787878787878788,
          0.04395604395604396,
          0.049937578027465665,
          0.0506155950752394,
          0.04131326949384405,
          0.04254385964912281,
          0.04188129899216125,
          0.042777155655095184,
          0.07938686799359414,
          0.05666293393057111,
          0.0496711664935964,
          0.0564831993403422,
          0.057002457002457,
          0.05749385749385749,
          0.0594059405940594,
          0.05717171717171717,
          0.07174416158215864
         ],
         "yaxis": "y"
        },
        {
         "hovertemplate": "Variable=ABSINGLE<br>Year=%{x}<br>GED=%{y}<extra></extra>",
         "legendgroup": "ABSINGLE",
         "line": {
          "color": "#19d3f3",
          "dash": "solid"
         },
         "marker": {
          "symbol": "circle"
         },
         "mode": "lines",
         "name": "ABSINGLE",
         "showlegend": true,
         "type": "scattergl",
         "x": [
          1972,
          1974,
          1976,
          1978,
          1980,
          1982,
          1984,
          1986,
          1988,
          1990,
          1992,
          1994,
          1996,
          1998,
          2000,
          2002,
          2004,
          2006,
          2008,
          2010,
          2012,
          2014,
          2016,
          2018
         ],
         "xaxis": "x",
         "y": [
          0.060362173038229376,
          0.04395604395604396,
          0.04651898734177215,
          0.05046948356807512,
          0.03820158683514546,
          0.04244694132334582,
          0.042502004811547714,
          0.042842215256008356,
          0.04610606784519828,
          0.04943820224719101,
          0.049521203830369356,
          0.04076607387140903,
          0.04144736842105263,
          0.03791218479985893,
          0.043094496365524405,
          0.058796614047128805,
          0.05384615384615385,
          0.04846491228070175,
          0.051329622758194186,
          0.050101010101010104,
          0.04455445544554455,
          0.04217821782178218,
          0.05028665028665029,
          0.070271407532085
         ],
         "yaxis": "y"
        },
        {
         "hovertemplate": "Variable=WRKWAYUP<br>Year=%{x}<br>GED=%{y}<extra></extra>",
         "legendgroup": "WRKWAYUP",
         "line": {
          "color": "#FF6692",
          "dash": "solid"
         },
         "marker": {
          "symbol": "circle"
         },
         "mode": "lines",
         "name": "WRKWAYUP",
         "showlegend": true,
         "type": "scattergl",
         "x": [
          1972,
          1974,
          1976,
          1978,
          1980,
          1982,
          1984,
          1986,
          1988,
          1990,
          1992,
          1994,
          1996,
          1998,
          2000,
          2002,
          2004,
          2006,
          2008,
          2010,
          2012,
          2014,
          2016,
          2018
         ],
         "xaxis": "x",
         "y": [
          0.060362173038229376,
          0.04395604395604396,
          0.04651898734177215,
          0.05046948356807512,
          0.03820158683514546,
          0.04244694132334582,
          0.042502004811547714,
          0.042842215256008356,
          0.04610606784519828,
          0.04943820224719101,
          0.049521203830369356,
          0.07303370786516854,
          0.06572164948453608,
          0.06121212121212121,
          0.043094496365524405,
          0.058796614047128805,
          0.05384615384615385,
          0.09856996935648621,
          0.08868686868686869,
          0.09597069597069598,
          0.0762958648806057,
          0.08406134731120171,
          0.08686868686868687,
          0.1042319749216301
         ],
         "yaxis": "y"
        },
        {
         "hovertemplate": "Variable=COLRAC<br>Year=%{x}<br>GED=%{y}<extra></extra>",
         "legendgroup": "COLRAC",
         "line": {
          "color": "#B6E880",
          "dash": "solid"
         },
         "marker": {
          "symbol": "circle"
         },
         "mode": "lines",
         "name": "COLRAC",
         "showlegend": true,
         "type": "scattergl",
         "x": [
          1972,
          1974,
          1976,
          1978,
          1980,
          1982,
          1984,
          1986,
          1988,
          1990,
          1992,
          1994,
          1996,
          1998,
          2000,
          2002,
          2004,
          2006,
          2008,
          2010,
          2012,
          2014,
          2016,
          2018
         ],
         "xaxis": "x",
         "y": [
          0.060362173038229376,
          0.06060606060606061,
          0.06060606060606061,
          0.06103286384976526,
          0.04576576576576576,
          0.052393857271906055,
          0.05052125100240577,
          0.04258098223615465,
          0.045389393215480175,
          0.04644194756554307,
          0.05280437756497948,
          0.04404924760601915,
          0.04429824561403509,
          0.04468864468864469,
          0.044612943043554926,
          0.058796614047128805,
          0.04692982456140351,
          0.05317703024125042,
          0.0507048180096781,
          0.055353535353535356,
          0.052743652743652746,
          0.05688073394495413,
          0.05280875236692615,
          0.05996212918156953
         ],
         "yaxis": "y"
        },
        {
         "hovertemplate": "Variable=PRESLAST_DEMREP<br>Year=%{x}<br>GED=%{y}<extra></extra>",
         "legendgroup": "PRESLAST_DEMREP",
         "line": {
          "color": "#FF97FF",
          "dash": "solid"
         },
         "marker": {
          "symbol": "circle"
         },
         "mode": "lines",
         "name": "PRESLAST_DEMREP",
         "showlegend": true,
         "type": "scattergl",
         "x": [
          1972,
          1974,
          1976,
          1978,
          1980,
          1982,
          1984,
          1986,
          1988,
          1990,
          1992,
          1994,
          1996,
          1998,
          2000,
          2002,
          2004,
          2006,
          2008,
          2010,
          2012,
          2014,
          2016,
          2018
         ],
         "xaxis": "x",
         "y": [
          0.09045680687471733,
          0.07758031442241968,
          0.06442127773322641,
          0.07002012072434607,
          0.06783511846802986,
          0.059097127222982215,
          0.0575139146567718,
          0.05998835177635411,
          0.06472491909385113,
          0.06624785836664764,
          0.06681896059394632,
          0.0632886818093574,
          0.05454545454545454,
          0.05437824870051979,
          0.0627370417193426,
          0.06810998735777497,
          0.06633906633906633,
          0.06210848993735839,
          0.06416791604197901,
          0.0686656671664168,
          0.06153100775193798,
          0.062257751937984496,
          0.06200787401574803,
          0.08390541571319603
         ],
         "yaxis": "y"
        },
        {
         "hovertemplate": "Variable=PRESLAST_NONCONFORM<br>Year=%{x}<br>GED=%{y}<extra></extra>",
         "legendgroup": "PRESLAST_NONCONFORM",
         "line": {
          "color": "#FECB52",
          "dash": "solid"
         },
         "marker": {
          "symbol": "circle"
         },
         "mode": "lines",
         "name": "PRESLAST_NONCONFORM",
         "showlegend": true,
         "type": "scattergl",
         "x": [
          1972,
          1974,
          1976,
          1978,
          1980,
          1982,
          1984,
          1986,
          1988,
          1990,
          1992,
          1994,
          1996,
          1998,
          2000,
          2002,
          2004,
          2006,
          2008,
          2010,
          2012,
          2014,
          2016,
          2018
         ],
         "xaxis": "x",
         "y": [
          0.09045680687471733,
          0.07758031442241968,
          0.06442127773322641,
          0.07002012072434607,
          0.06783511846802986,
          0.059097127222982215,
          0.0575139146567718,
          0.05998835177635411,
          0.06472491909385113,
          0.06624785836664764,
          0.06681896059394632,
          0.07005520654863888,
          0.06652892561983471,
          0.07143809143009464,
          0.0627370417193426,
          0.06810998735777497,
          0.06633906633906633,
          0.06210848993735839,
          0.06416791604197901,
          0.0686656671664168,
          0.06153100775193798,
          0.062257751937984496,
          0.06200787401574803,
          0.08390541571319603
         ],
         "yaxis": "y"
        },
        {
         "hovertemplate": "Variable=WOULDVOTELAST_NONCONFORM<br>Year=%{x}<br>GED=%{y}<extra></extra>",
         "legendgroup": "WOULDVOTELAST_NONCONFORM",
         "line": {
          "color": "#636efa",
          "dash": "solid"
         },
         "marker": {
          "symbol": "circle"
         },
         "mode": "lines",
         "name": "WOULDVOTELAST_NONCONFORM",
         "showlegend": true,
         "type": "scattergl",
         "x": [
          1972,
          1974,
          1976,
          1978,
          1980,
          1982,
          1984,
          1986,
          1988,
          1990,
          1992,
          1994,
          1996,
          1998,
          2000,
          2002,
          2004,
          2006,
          2008,
          2010,
          2012,
          2014,
          2016,
          2018
         ],
         "xaxis": "x",
         "y": [
          0.09045680687471733,
          0.07758031442241968,
          0.06442127773322641,
          0.07002012072434607,
          0.06783511846802986,
          0.059097127222982215,
          0.0575139146567718,
          0.05998835177635411,
          0.06472491909385113,
          0.06624785836664764,
          0.06681896059394632,
          0.07005520654863888,
          0.06652892561983471,
          0.07143809143009464,
          0.0627370417193426,
          0.06810998735777497,
          0.06633906633906633,
          0.06210848993735839,
          0.06416791604197901,
          0.0686656671664168,
          0.06153100775193798,
          0.062257751937984496,
          0.06200787401574803,
          0.08620689655172414
         ],
         "yaxis": "y"
        },
        {
         "hovertemplate": "Variable=DIDVOTELAST<br>Year=%{x}<br>GED=%{y}<extra></extra>",
         "legendgroup": "DIDVOTELAST",
         "line": {
          "color": "#EF553B",
          "dash": "solid"
         },
         "marker": {
          "symbol": "circle"
         },
         "mode": "lines",
         "name": "DIDVOTELAST",
         "showlegend": true,
         "type": "scattergl",
         "x": [
          1972,
          1974,
          1976,
          1978,
          1980,
          1982,
          1984,
          1986,
          1988,
          1990,
          1992,
          1994,
          1996,
          1998,
          2000,
          2002,
          2004,
          2006,
          2008,
          2010,
          2012,
          2014,
          2016,
          2018
         ],
         "xaxis": "x",
         "y": [
          0.09045680687471733,
          0.05860805860805861,
          0.055379746835443035,
          0.05555555555555555,
          0.053776079929473995,
          0.051935081148564294,
          0.054455445544554455,
          0.05238095238095238,
          0.05054945054945055,
          0.053958177744585514,
          0.05444743935309973,
          0.04518297236743839,
          0.041583366653338664,
          0.046476190476190476,
          0.05034324942791762,
          0.0568215892053973,
          0.05537757437070938,
          0.06210848993735839,
          0.06272635086194409,
          0.06148459383753501,
          0.05712581991651759,
          0.060364145658263306,
          0.06596638655462185,
          0.07854406130268199
         ],
         "yaxis": "y"
        },
        {
         "hovertemplate": "Variable=RELIG_Protestant<br>Year=%{x}<br>GED=%{y}<extra></extra>",
         "legendgroup": "RELIG_Protestant",
         "line": {
          "color": "#00cc96",
          "dash": "solid"
         },
         "marker": {
          "symbol": "circle"
         },
         "mode": "lines",
         "name": "RELIG_Protestant",
         "showlegend": true,
         "type": "scattergl",
         "x": [
          1972,
          1974,
          1976,
          1978,
          1980,
          1982,
          1984,
          1986,
          1988,
          1990,
          1992,
          1994,
          1996,
          1998,
          2000,
          2002,
          2004,
          2006,
          2008,
          2010,
          2012,
          2014,
          2016,
          2018
         ],
         "xaxis": "x",
         "y": [
          0.07203219315895372,
          0.053613053613053616,
          0.05031645569620253,
          0.05868544600938967,
          0.05201292976785189,
          0.050686641697877656,
          0.05465346534653465,
          0.04835164835164835,
          0.04652014652014652,
          0.049663928304705,
          0.050853548966756514,
          0.04416523891109842,
          0.04141935483870968,
          0.04393650793650793,
          0.040179910044977514,
          0.05247376311844078,
          0.04759725400457666,
          0.04939881211067652,
          0.051043530113297556,
          0.050560224089635855,
          0.04635854341736695,
          0.04551820728291316,
          0.048599439775910365,
          0.06395520188623637
         ],
         "yaxis": "y"
        },
        {
         "hovertemplate": "Variable=RELIG_Catholic<br>Year=%{x}<br>GED=%{y}<extra></extra>",
         "legendgroup": "RELIG_Catholic",
         "line": {
          "color": "#ab63fa",
          "dash": "solid"
         },
         "marker": {
          "symbol": "circle"
         },
         "mode": "lines",
         "name": "RELIG_Catholic",
         "showlegend": true,
         "type": "scattergl",
         "x": [
          1972,
          1974,
          1976,
          1978,
          1980,
          1982,
          1984,
          1986,
          1988,
          1990,
          1992,
          1994,
          1996,
          1998,
          2000,
          2002,
          2004,
          2006,
          2008,
          2010,
          2012,
          2014,
          2016,
          2018
         ],
         "xaxis": "x",
         "y": [
          0.06881287726358148,
          0.054612054612054615,
          0.048734177215189876,
          0.05985915492957746,
          0.05730238025271819,
          0.05493133583021224,
          0.05524752475247525,
          0.05036630036630037,
          0.046703296703296704,
          0.052837938760268856,
          0.05678346810422282,
          0.04283266704740148,
          0.04387096774193548,
          0.04711111111111111,
          0.04827586206896552,
          0.05997001499250375,
          0.05446224256292906,
          0.05867014341590613,
          0.062134764460345854,
          0.060784313725490195,
          0.056862745098039215,
          0.05168067226890756,
          0.057703081232493,
          0.06867079280872385
         ],
         "yaxis": "y"
        },
        {
         "hovertemplate": "Variable=RELIG_Jewish<br>Year=%{x}<br>GED=%{y}<extra></extra>",
         "legendgroup": "RELIG_Jewish",
         "line": {
          "color": "#FFA15A",
          "dash": "solid"
         },
         "marker": {
          "symbol": "circle"
         },
         "mode": "lines",
         "name": "RELIG_Jewish",
         "showlegend": true,
         "type": "scattergl",
         "x": [
          1972,
          1974,
          1976,
          1978,
          1980,
          1982,
          1984,
          1986,
          1988,
          1990,
          1992,
          1994,
          1996,
          1998,
          2000,
          2002,
          2004,
          2006,
          2008,
          2010,
          2012,
          2014,
          2016,
          2018
         ],
         "xaxis": "x",
         "y": [
          0.06881287726358148,
          0.054612054612054615,
          0.048734177215189876,
          0.05985915492957746,
          0.05730238025271819,
          0.05493133583021224,
          0.05524752475247525,
          0.05036630036630037,
          0.046703296703296704,
          0.052837938760268856,
          0.05678346810422282,
          0.04283266704740148,
          0.04387096774193548,
          0.04711111111111111,
          0.04827586206896552,
          0.05997001499250375,
          0.05446224256292906,
          0.05867014341590613,
          0.062134764460345854,
          0.060784313725490195,
          0.056862745098039215,
          0.05168067226890756,
          0.057703081232493,
          0.06867079280872385
         ],
         "yaxis": "y"
        },
        {
         "hovertemplate": "Variable=RELIG_None<br>Year=%{x}<br>GED=%{y}<extra></extra>",
         "legendgroup": "RELIG_None",
         "line": {
          "color": "#19d3f3",
          "dash": "solid"
         },
         "marker": {
          "symbol": "circle"
         },
         "mode": "lines",
         "name": "RELIG_None",
         "showlegend": true,
         "type": "scattergl",
         "x": [
          1972,
          1974,
          1976,
          1978,
          1980,
          1982,
          1984,
          1986,
          1988,
          1990,
          1992,
          1994,
          1996,
          1998,
          2000,
          2002,
          2004,
          2006,
          2008,
          2010,
          2012,
          2014,
          2016,
          2018
         ],
         "xaxis": "x",
         "y": [
          0.06881287726358148,
          0.054612054612054615,
          0.048734177215189876,
          0.09115805946791862,
          0.08874522480164561,
          0.05493133583021224,
          0.05524752475247525,
          0.05036630036630037,
          0.046703296703296704,
          0.052837938760268856,
          0.05678346810422282,
          0.04283266704740148,
          0.05729032258064516,
          0.05523809523809524,
          0.04827586206896552,
          0.08095952023988005,
          0.05446224256292906,
          0.05867014341590613,
          0.06583184257602863,
          0.06526610644257703,
          0.059803921568627454,
          0.05588235294117647,
          0.05812324929971989,
          0.07353374594753904
         ],
         "yaxis": "y"
        },
        {
         "hovertemplate": "Variable=RELIG_Other<br>Year=%{x}<br>GED=%{y}<extra></extra>",
         "legendgroup": "RELIG_Other",
         "line": {
          "color": "#FF6692",
          "dash": "solid"
         },
         "marker": {
          "symbol": "circle"
         },
         "mode": "lines",
         "name": "RELIG_Other",
         "showlegend": true,
         "type": "scattergl",
         "x": [
          1972,
          1974,
          1976,
          1978,
          1980,
          1982,
          1984,
          1986,
          1988,
          1990,
          1992,
          1994,
          1996,
          1998,
          2000,
          2002,
          2004,
          2006,
          2008,
          2010,
          2012,
          2014,
          2016,
          2018
         ],
         "xaxis": "x",
         "y": [
          0.06881287726358148,
          0.054612054612054615,
          0.048734177215189876,
          0.09115805946791862,
          0.08874522480164561,
          0.05493133583021224,
          0.05524752475247525,
          0.05036630036630037,
          0.046703296703296704,
          0.052837938760268856,
          0.05678346810422282,
          0.04283266704740148,
          0.05729032258064516,
          0.05523809523809524,
          0.04827586206896552,
          0.08095952023988005,
          0.05446224256292906,
          0.05867014341590613,
          0.06583184257602863,
          0.06526610644257703,
          0.059803921568627454,
          0.05588235294117647,
          0.05812324929971989,
          0.07353374594753904
         ],
         "yaxis": "y"
        },
        {
         "hovertemplate": "Variable=RELIG_Buddhism<br>Year=%{x}<br>GED=%{y}<extra></extra>",
         "legendgroup": "RELIG_Buddhism",
         "line": {
          "color": "#B6E880",
          "dash": "solid"
         },
         "marker": {
          "symbol": "circle"
         },
         "mode": "lines",
         "name": "RELIG_Buddhism",
         "showlegend": true,
         "type": "scattergl",
         "x": [
          1972,
          1974,
          1976,
          1978,
          1980,
          1982,
          1984,
          1986,
          1988,
          1990,
          1992,
          1994,
          1996,
          1998,
          2000,
          2002,
          2004,
          2006,
          2008,
          2010,
          2012,
          2014,
          2016,
          2018
         ],
         "xaxis": "x",
         "y": [
          0.06881287726358148,
          0.054612054612054615,
          0.048734177215189876,
          0.09115805946791862,
          0.08874522480164561,
          0.05493133583021224,
          0.05524752475247525,
          0.05036630036630037,
          0.046703296703296704,
          0.052837938760268856,
          0.05678346810422282,
          0.04283266704740148,
          0.05729032258064516,
          0.05523809523809524,
          0.04827586206896552,
          0.08095952023988005,
          0.05446224256292906,
          0.05867014341590613,
          0.06583184257602863,
          0.06526610644257703,
          0.059803921568627454,
          0.05588235294117647,
          0.05812324929971989,
          0.07353374594753904
         ],
         "yaxis": "y"
        },
        {
         "hovertemplate": "Variable=RELIG_Hinduism<br>Year=%{x}<br>GED=%{y}<extra></extra>",
         "legendgroup": "RELIG_Hinduism",
         "line": {
          "color": "#FF97FF",
          "dash": "solid"
         },
         "marker": {
          "symbol": "circle"
         },
         "mode": "lines",
         "name": "RELIG_Hinduism",
         "showlegend": true,
         "type": "scattergl",
         "x": [
          1972,
          1974,
          1976,
          1978,
          1980,
          1982,
          1984,
          1986,
          1988,
          1990,
          1992,
          1994,
          1996,
          1998,
          2000,
          2002,
          2004,
          2006,
          2008,
          2010,
          2012,
          2014,
          2016,
          2018
         ],
         "xaxis": "x",
         "y": [
          0.06881287726358148,
          0.054612054612054615,
          0.048734177215189876,
          0.09115805946791862,
          0.08874522480164561,
          0.05493133583021224,
          0.05524752475247525,
          0.05036630036630037,
          0.046703296703296704,
          0.052837938760268856,
          0.05678346810422282,
          0.04283266704740148,
          0.05729032258064516,
          0.05523809523809524,
          0.04827586206896552,
          0.08095952023988005,
          0.05446224256292906,
          0.05867014341590613,
          0.06583184257602863,
          0.06526610644257703,
          0.08333333333333333,
          0.08249299719887955,
          0.05812324929971989,
          0.07353374594753904
         ],
         "yaxis": "y"
        },
        {
         "hovertemplate": "Variable=RELIG_Other_eastern_religions<br>Year=%{x}<br>GED=%{y}<extra></extra>",
         "legendgroup": "RELIG_Other_eastern_religions",
         "line": {
          "color": "#FECB52",
          "dash": "solid"
         },
         "marker": {
          "symbol": "circle"
         },
         "mode": "lines",
         "name": "RELIG_Other_eastern_religions",
         "showlegend": true,
         "type": "scattergl",
         "x": [
          1972,
          1974,
          1976,
          1978,
          1980,
          1982,
          1984,
          1986,
          1988,
          1990,
          1992,
          1994,
          1996,
          1998,
          2000,
          2002,
          2004,
          2006,
          2008,
          2010,
          2012,
          2014,
          2016,
          2018
         ],
         "xaxis": "x",
         "y": [
          0.06881287726358148,
          0.054612054612054615,
          0.048734177215189876,
          0.09115805946791862,
          0.08874522480164561,
          0.05493133583021224,
          0.05524752475247525,
          0.05036630036630037,
          0.046703296703296704,
          0.052837938760268856,
          0.05678346810422282,
          0.04283266704740148,
          0.05729032258064516,
          0.10687123000262261,
          0.04827586206896552,
          0.08095952023988005,
          0.05446224256292906,
          0.05867014341590613,
          0.06583184257602863,
          0.06526610644257703,
          0.08333333333333333,
          0.08249299719887955,
          0.05812324929971989,
          0.07353374594753904
         ],
         "yaxis": "y"
        },
        {
         "hovertemplate": "Variable=RELIG_Muslim<br>Year=%{x}<br>GED=%{y}<extra></extra>",
         "legendgroup": "RELIG_Muslim",
         "line": {
          "color": "#636efa",
          "dash": "solid"
         },
         "marker": {
          "symbol": "circle"
         },
         "mode": "lines",
         "name": "RELIG_Muslim",
         "showlegend": true,
         "type": "scattergl",
         "x": [
          1972,
          1974,
          1976,
          1978,
          1980,
          1982,
          1984,
          1986,
          1988,
          1990,
          1992,
          1994,
          1996,
          1998,
          2000,
          2002,
          2004,
          2006,
          2008,
          2010,
          2012,
          2014,
          2016,
          2018
         ],
         "xaxis": "x",
         "y": [
          0.06881287726358148,
          0.054612054612054615,
          0.048734177215189876,
          0.09115805946791862,
          0.08874522480164561,
          0.05493133583021224,
          0.05524752475247525,
          0.05036630036630037,
          0.046703296703296704,
          0.052837938760268856,
          0.05678346810422282,
          0.04283266704740148,
          0.05729032258064516,
          0.10687123000262261,
          0.04827586206896552,
          0.08095952023988005,
          0.05446224256292906,
          0.06761654793150856,
          0.06583184257602863,
          0.06526610644257703,
          0.08333333333333333,
          0.08249299719887955,
          0.05812324929971989,
          0.07353374594753904
         ],
         "yaxis": "y"
        },
        {
         "hovertemplate": "Variable=RELIG_Orthodox_christian<br>Year=%{x}<br>GED=%{y}<extra></extra>",
         "legendgroup": "RELIG_Orthodox_christian",
         "line": {
          "color": "#EF553B",
          "dash": "solid"
         },
         "marker": {
          "symbol": "circle"
         },
         "mode": "lines",
         "name": "RELIG_Orthodox_christian",
         "showlegend": true,
         "type": "scattergl",
         "x": [
          1972,
          1974,
          1976,
          1978,
          1980,
          1982,
          1984,
          1986,
          1988,
          1990,
          1992,
          1994,
          1996,
          1998,
          2000,
          2002,
          2004,
          2006,
          2008,
          2010,
          2012,
          2014,
          2016,
          2018
         ],
         "xaxis": "x",
         "y": [
          0.06881287726358148,
          0.054612054612054615,
          0.048734177215189876,
          0.09115805946791862,
          0.08874522480164561,
          0.05493133583021224,
          0.05524752475247525,
          0.05036630036630037,
          0.046703296703296704,
          0.052837938760268856,
          0.05678346810422282,
          0.04283266704740148,
          0.05729032258064516,
          0.10687123000262261,
          0.04827586206896552,
          0.08095952023988005,
          0.05446224256292906,
          0.06761654793150856,
          0.06583184257602863,
          0.06526610644257703,
          0.08333333333333333,
          0.08249299719887955,
          0.05812324929971989,
          0.07353374594753904
         ],
         "yaxis": "y"
        },
        {
         "hovertemplate": "Variable=RELIG_Christian<br>Year=%{x}<br>GED=%{y}<extra></extra>",
         "legendgroup": "RELIG_Christian",
         "line": {
          "color": "#00cc96",
          "dash": "solid"
         },
         "marker": {
          "symbol": "circle"
         },
         "mode": "lines",
         "name": "RELIG_Christian",
         "showlegend": true,
         "type": "scattergl",
         "x": [
          1972,
          1974,
          1976,
          1978,
          1980,
          1982,
          1984,
          1986,
          1988,
          1990,
          1992,
          1994,
          1996,
          1998,
          2000,
          2002,
          2004,
          2006,
          2008,
          2010,
          2012,
          2014,
          2016,
          2018
         ],
         "xaxis": "x",
         "y": [
          0.06881287726358148,
          0.054612054612054615,
          0.048734177215189876,
          0.09115805946791862,
          0.08874522480164561,
          0.05493133583021224,
          0.05524752475247525,
          0.05036630036630037,
          0.046703296703296704,
          0.052837938760268856,
          0.05678346810422282,
          0.04283266704740148,
          0.05729032258064516,
          0.10687123000262261,
          0.04827586206896552,
          0.08095952023988005,
          0.05446224256292906,
          0.06761654793150856,
          0.06583184257602863,
          0.06526610644257703,
          0.08333333333333333,
          0.08249299719887955,
          0.05812324929971989,
          0.07353374594753904
         ],
         "yaxis": "y"
        },
        {
         "hovertemplate": "Variable=RELIG_Native_american<br>Year=%{x}<br>GED=%{y}<extra></extra>",
         "legendgroup": "RELIG_Native_american",
         "line": {
          "color": "#ab63fa",
          "dash": "solid"
         },
         "marker": {
          "symbol": "circle"
         },
         "mode": "lines",
         "name": "RELIG_Native_american",
         "showlegend": true,
         "type": "scattergl",
         "x": [
          1972,
          1974,
          1976,
          1978,
          1980,
          1982,
          1984,
          1986,
          1988,
          1990,
          1992,
          1994,
          1996,
          1998,
          2000,
          2002,
          2004,
          2006,
          2008,
          2010,
          2012,
          2014,
          2016,
          2018
         ],
         "xaxis": "x",
         "y": [
          0.06881287726358148,
          0.054612054612054615,
          0.048734177215189876,
          0.09115805946791862,
          0.08874522480164561,
          0.05493133583021224,
          0.05524752475247525,
          0.05036630036630037,
          0.046703296703296704,
          0.052837938760268856,
          0.05678346810422282,
          0.04283266704740148,
          0.05729032258064516,
          0.10687123000262261,
          0.04827586206896552,
          0.07361319340329835,
          0.05446224256292906,
          0.06761654793150856,
          0.06583184257602863,
          0.06526610644257703,
          0.08333333333333333,
          0.08249299719887955,
          0.05812324929971989,
          0.07353374594753904
         ],
         "yaxis": "y"
        },
        {
         "hovertemplate": "Variable=RELIG_Inter_nondenominational<br>Year=%{x}<br>GED=%{y}<extra></extra>",
         "legendgroup": "RELIG_Inter_nondenominational",
         "line": {
          "color": "#FFA15A",
          "dash": "solid"
         },
         "marker": {
          "symbol": "circle"
         },
         "mode": "lines",
         "name": "RELIG_Inter_nondenominational",
         "showlegend": true,
         "type": "scattergl",
         "x": [
          1972,
          1974,
          1976,
          1978,
          1980,
          1982,
          1984,
          1986,
          1988,
          1990,
          1992,
          1994,
          1996,
          1998,
          2000,
          2002,
          2004,
          2006,
          2008,
          2010,
          2012,
          2014,
          2016,
          2018
         ],
         "xaxis": "x",
         "y": [
          0.06881287726358148,
          0.054612054612054615,
          0.048734177215189876,
          0.09115805946791862,
          0.08874522480164561,
          0.05493133583021224,
          0.05524752475247525,
          0.05036630036630037,
          0.046703296703296704,
          0.052837938760268856,
          0.05678346810422282,
          0.04283266704740148,
          0.05729032258064516,
          0.10687123000262261,
          0.04827586206896552,
          0.07361319340329835,
          0.05446224256292906,
          0.06761654793150856,
          0.06583184257602863,
          0.06526610644257703,
          0.08333333333333333,
          0.08249299719887955,
          0.05812324929971989,
          0.07353374594753904
         ],
         "yaxis": "y"
        }
       ],
       "layout": {
        "legend": {
         "title": {
          "text": "Variable"
         },
         "tracegroupgap": 0
        },
        "template": {
         "data": {
          "bar": [
           {
            "error_x": {
             "color": "#2a3f5f"
            },
            "error_y": {
             "color": "#2a3f5f"
            },
            "marker": {
             "line": {
              "color": "#E5ECF6",
              "width": 0.5
             },
             "pattern": {
              "fillmode": "overlay",
              "size": 10,
              "solidity": 0.2
             }
            },
            "type": "bar"
           }
          ],
          "barpolar": [
           {
            "marker": {
             "line": {
              "color": "#E5ECF6",
              "width": 0.5
             },
             "pattern": {
              "fillmode": "overlay",
              "size": 10,
              "solidity": 0.2
             }
            },
            "type": "barpolar"
           }
          ],
          "carpet": [
           {
            "aaxis": {
             "endlinecolor": "#2a3f5f",
             "gridcolor": "white",
             "linecolor": "white",
             "minorgridcolor": "white",
             "startlinecolor": "#2a3f5f"
            },
            "baxis": {
             "endlinecolor": "#2a3f5f",
             "gridcolor": "white",
             "linecolor": "white",
             "minorgridcolor": "white",
             "startlinecolor": "#2a3f5f"
            },
            "type": "carpet"
           }
          ],
          "choropleth": [
           {
            "colorbar": {
             "outlinewidth": 0,
             "ticks": ""
            },
            "type": "choropleth"
           }
          ],
          "contour": [
           {
            "colorbar": {
             "outlinewidth": 0,
             "ticks": ""
            },
            "colorscale": [
             [
              0,
              "#0d0887"
             ],
             [
              0.1111111111111111,
              "#46039f"
             ],
             [
              0.2222222222222222,
              "#7201a8"
             ],
             [
              0.3333333333333333,
              "#9c179e"
             ],
             [
              0.4444444444444444,
              "#bd3786"
             ],
             [
              0.5555555555555556,
              "#d8576b"
             ],
             [
              0.6666666666666666,
              "#ed7953"
             ],
             [
              0.7777777777777778,
              "#fb9f3a"
             ],
             [
              0.8888888888888888,
              "#fdca26"
             ],
             [
              1,
              "#f0f921"
             ]
            ],
            "type": "contour"
           }
          ],
          "contourcarpet": [
           {
            "colorbar": {
             "outlinewidth": 0,
             "ticks": ""
            },
            "type": "contourcarpet"
           }
          ],
          "heatmap": [
           {
            "colorbar": {
             "outlinewidth": 0,
             "ticks": ""
            },
            "colorscale": [
             [
              0,
              "#0d0887"
             ],
             [
              0.1111111111111111,
              "#46039f"
             ],
             [
              0.2222222222222222,
              "#7201a8"
             ],
             [
              0.3333333333333333,
              "#9c179e"
             ],
             [
              0.4444444444444444,
              "#bd3786"
             ],
             [
              0.5555555555555556,
              "#d8576b"
             ],
             [
              0.6666666666666666,
              "#ed7953"
             ],
             [
              0.7777777777777778,
              "#fb9f3a"
             ],
             [
              0.8888888888888888,
              "#fdca26"
             ],
             [
              1,
              "#f0f921"
             ]
            ],
            "type": "heatmap"
           }
          ],
          "heatmapgl": [
           {
            "colorbar": {
             "outlinewidth": 0,
             "ticks": ""
            },
            "colorscale": [
             [
              0,
              "#0d0887"
             ],
             [
              0.1111111111111111,
              "#46039f"
             ],
             [
              0.2222222222222222,
              "#7201a8"
             ],
             [
              0.3333333333333333,
              "#9c179e"
             ],
             [
              0.4444444444444444,
              "#bd3786"
             ],
             [
              0.5555555555555556,
              "#d8576b"
             ],
             [
              0.6666666666666666,
              "#ed7953"
             ],
             [
              0.7777777777777778,
              "#fb9f3a"
             ],
             [
              0.8888888888888888,
              "#fdca26"
             ],
             [
              1,
              "#f0f921"
             ]
            ],
            "type": "heatmapgl"
           }
          ],
          "histogram": [
           {
            "marker": {
             "pattern": {
              "fillmode": "overlay",
              "size": 10,
              "solidity": 0.2
             }
            },
            "type": "histogram"
           }
          ],
          "histogram2d": [
           {
            "colorbar": {
             "outlinewidth": 0,
             "ticks": ""
            },
            "colorscale": [
             [
              0,
              "#0d0887"
             ],
             [
              0.1111111111111111,
              "#46039f"
             ],
             [
              0.2222222222222222,
              "#7201a8"
             ],
             [
              0.3333333333333333,
              "#9c179e"
             ],
             [
              0.4444444444444444,
              "#bd3786"
             ],
             [
              0.5555555555555556,
              "#d8576b"
             ],
             [
              0.6666666666666666,
              "#ed7953"
             ],
             [
              0.7777777777777778,
              "#fb9f3a"
             ],
             [
              0.8888888888888888,
              "#fdca26"
             ],
             [
              1,
              "#f0f921"
             ]
            ],
            "type": "histogram2d"
           }
          ],
          "histogram2dcontour": [
           {
            "colorbar": {
             "outlinewidth": 0,
             "ticks": ""
            },
            "colorscale": [
             [
              0,
              "#0d0887"
             ],
             [
              0.1111111111111111,
              "#46039f"
             ],
             [
              0.2222222222222222,
              "#7201a8"
             ],
             [
              0.3333333333333333,
              "#9c179e"
             ],
             [
              0.4444444444444444,
              "#bd3786"
             ],
             [
              0.5555555555555556,
              "#d8576b"
             ],
             [
              0.6666666666666666,
              "#ed7953"
             ],
             [
              0.7777777777777778,
              "#fb9f3a"
             ],
             [
              0.8888888888888888,
              "#fdca26"
             ],
             [
              1,
              "#f0f921"
             ]
            ],
            "type": "histogram2dcontour"
           }
          ],
          "mesh3d": [
           {
            "colorbar": {
             "outlinewidth": 0,
             "ticks": ""
            },
            "type": "mesh3d"
           }
          ],
          "parcoords": [
           {
            "line": {
             "colorbar": {
              "outlinewidth": 0,
              "ticks": ""
             }
            },
            "type": "parcoords"
           }
          ],
          "pie": [
           {
            "automargin": true,
            "type": "pie"
           }
          ],
          "scatter": [
           {
            "fillpattern": {
             "fillmode": "overlay",
             "size": 10,
             "solidity": 0.2
            },
            "type": "scatter"
           }
          ],
          "scatter3d": [
           {
            "line": {
             "colorbar": {
              "outlinewidth": 0,
              "ticks": ""
             }
            },
            "marker": {
             "colorbar": {
              "outlinewidth": 0,
              "ticks": ""
             }
            },
            "type": "scatter3d"
           }
          ],
          "scattercarpet": [
           {
            "marker": {
             "colorbar": {
              "outlinewidth": 0,
              "ticks": ""
             }
            },
            "type": "scattercarpet"
           }
          ],
          "scattergeo": [
           {
            "marker": {
             "colorbar": {
              "outlinewidth": 0,
              "ticks": ""
             }
            },
            "type": "scattergeo"
           }
          ],
          "scattergl": [
           {
            "marker": {
             "colorbar": {
              "outlinewidth": 0,
              "ticks": ""
             }
            },
            "type": "scattergl"
           }
          ],
          "scattermapbox": [
           {
            "marker": {
             "colorbar": {
              "outlinewidth": 0,
              "ticks": ""
             }
            },
            "type": "scattermapbox"
           }
          ],
          "scatterpolar": [
           {
            "marker": {
             "colorbar": {
              "outlinewidth": 0,
              "ticks": ""
             }
            },
            "type": "scatterpolar"
           }
          ],
          "scatterpolargl": [
           {
            "marker": {
             "colorbar": {
              "outlinewidth": 0,
              "ticks": ""
             }
            },
            "type": "scatterpolargl"
           }
          ],
          "scatterternary": [
           {
            "marker": {
             "colorbar": {
              "outlinewidth": 0,
              "ticks": ""
             }
            },
            "type": "scatterternary"
           }
          ],
          "surface": [
           {
            "colorbar": {
             "outlinewidth": 0,
             "ticks": ""
            },
            "colorscale": [
             [
              0,
              "#0d0887"
             ],
             [
              0.1111111111111111,
              "#46039f"
             ],
             [
              0.2222222222222222,
              "#7201a8"
             ],
             [
              0.3333333333333333,
              "#9c179e"
             ],
             [
              0.4444444444444444,
              "#bd3786"
             ],
             [
              0.5555555555555556,
              "#d8576b"
             ],
             [
              0.6666666666666666,
              "#ed7953"
             ],
             [
              0.7777777777777778,
              "#fb9f3a"
             ],
             [
              0.8888888888888888,
              "#fdca26"
             ],
             [
              1,
              "#f0f921"
             ]
            ],
            "type": "surface"
           }
          ],
          "table": [
           {
            "cells": {
             "fill": {
              "color": "#EBF0F8"
             },
             "line": {
              "color": "white"
             }
            },
            "header": {
             "fill": {
              "color": "#C8D4E3"
             },
             "line": {
              "color": "white"
             }
            },
            "type": "table"
           }
          ]
         },
         "layout": {
          "annotationdefaults": {
           "arrowcolor": "#2a3f5f",
           "arrowhead": 0,
           "arrowwidth": 1
          },
          "autotypenumbers": "strict",
          "coloraxis": {
           "colorbar": {
            "outlinewidth": 0,
            "ticks": ""
           }
          },
          "colorscale": {
           "diverging": [
            [
             0,
             "#8e0152"
            ],
            [
             0.1,
             "#c51b7d"
            ],
            [
             0.2,
             "#de77ae"
            ],
            [
             0.3,
             "#f1b6da"
            ],
            [
             0.4,
             "#fde0ef"
            ],
            [
             0.5,
             "#f7f7f7"
            ],
            [
             0.6,
             "#e6f5d0"
            ],
            [
             0.7,
             "#b8e186"
            ],
            [
             0.8,
             "#7fbc41"
            ],
            [
             0.9,
             "#4d9221"
            ],
            [
             1,
             "#276419"
            ]
           ],
           "sequential": [
            [
             0,
             "#0d0887"
            ],
            [
             0.1111111111111111,
             "#46039f"
            ],
            [
             0.2222222222222222,
             "#7201a8"
            ],
            [
             0.3333333333333333,
             "#9c179e"
            ],
            [
             0.4444444444444444,
             "#bd3786"
            ],
            [
             0.5555555555555556,
             "#d8576b"
            ],
            [
             0.6666666666666666,
             "#ed7953"
            ],
            [
             0.7777777777777778,
             "#fb9f3a"
            ],
            [
             0.8888888888888888,
             "#fdca26"
            ],
            [
             1,
             "#f0f921"
            ]
           ],
           "sequentialminus": [
            [
             0,
             "#0d0887"
            ],
            [
             0.1111111111111111,
             "#46039f"
            ],
            [
             0.2222222222222222,
             "#7201a8"
            ],
            [
             0.3333333333333333,
             "#9c179e"
            ],
            [
             0.4444444444444444,
             "#bd3786"
            ],
            [
             0.5555555555555556,
             "#d8576b"
            ],
            [
             0.6666666666666666,
             "#ed7953"
            ],
            [
             0.7777777777777778,
             "#fb9f3a"
            ],
            [
             0.8888888888888888,
             "#fdca26"
            ],
            [
             1,
             "#f0f921"
            ]
           ]
          },
          "colorway": [
           "#636efa",
           "#EF553B",
           "#00cc96",
           "#ab63fa",
           "#FFA15A",
           "#19d3f3",
           "#FF6692",
           "#B6E880",
           "#FF97FF",
           "#FECB52"
          ],
          "font": {
           "color": "#2a3f5f"
          },
          "geo": {
           "bgcolor": "white",
           "lakecolor": "white",
           "landcolor": "#E5ECF6",
           "showlakes": true,
           "showland": true,
           "subunitcolor": "white"
          },
          "hoverlabel": {
           "align": "left"
          },
          "hovermode": "closest",
          "mapbox": {
           "style": "light"
          },
          "paper_bgcolor": "white",
          "plot_bgcolor": "#E5ECF6",
          "polar": {
           "angularaxis": {
            "gridcolor": "white",
            "linecolor": "white",
            "ticks": ""
           },
           "bgcolor": "#E5ECF6",
           "radialaxis": {
            "gridcolor": "white",
            "linecolor": "white",
            "ticks": ""
           }
          },
          "scene": {
           "xaxis": {
            "backgroundcolor": "#E5ECF6",
            "gridcolor": "white",
            "gridwidth": 2,
            "linecolor": "white",
            "showbackground": true,
            "ticks": "",
            "zerolinecolor": "white"
           },
           "yaxis": {
            "backgroundcolor": "#E5ECF6",
            "gridcolor": "white",
            "gridwidth": 2,
            "linecolor": "white",
            "showbackground": true,
            "ticks": "",
            "zerolinecolor": "white"
           },
           "zaxis": {
            "backgroundcolor": "#E5ECF6",
            "gridcolor": "white",
            "gridwidth": 2,
            "linecolor": "white",
            "showbackground": true,
            "ticks": "",
            "zerolinecolor": "white"
           }
          },
          "shapedefaults": {
           "line": {
            "color": "#2a3f5f"
           }
          },
          "ternary": {
           "aaxis": {
            "gridcolor": "white",
            "linecolor": "white",
            "ticks": ""
           },
           "baxis": {
            "gridcolor": "white",
            "linecolor": "white",
            "ticks": ""
           },
           "bgcolor": "#E5ECF6",
           "caxis": {
            "gridcolor": "white",
            "linecolor": "white",
            "ticks": ""
           }
          },
          "title": {
           "x": 0.05
          },
          "xaxis": {
           "automargin": true,
           "gridcolor": "white",
           "linecolor": "white",
           "ticks": "",
           "title": {
            "standoff": 15
           },
           "zerolinecolor": "white",
           "zerolinewidth": 2
          },
          "yaxis": {
           "automargin": true,
           "gridcolor": "white",
           "linecolor": "white",
           "ticks": "",
           "title": {
            "standoff": 15
           },
           "zerolinecolor": "white",
           "zerolinewidth": 2
          }
         }
        },
        "title": {
         "text": "GED Scores Over Time"
        },
        "xaxis": {
         "anchor": "y",
         "domain": [
          0,
          1
         ],
         "title": {
          "text": "Year"
         },
         "type": "linear"
        },
        "yaxis": {
         "anchor": "x",
         "domain": [
          0,
          1
         ],
         "title": {
          "text": "GED"
         }
        }
       }
      }
     },
     "metadata": {},
     "output_type": "display_data"
    }
   ],
   "source": [
    "# Print the top 5 highest GED variables\n",
    "print(ged_df.sort_values(by='GED', ascending=False).head(5))\n",
    "\n",
    "# plot the GED score for a list of variables\n",
    "import plotly.express as px\n",
    "\n",
    "all_variables = ged_df['Variable'].unique()\n",
    "variables_to_plot = all_variables\n",
    "print(all_variables)\n",
    "\n",
    "#variables_to_plot = ['PARTYID', 'HOMOSEX', 'PRESLAST_DEMREP', 'RELIG_None', 'FAIR']\n",
    "\n",
    "# Filter data for plotting\n",
    "plot_df = ged_df[ged_df['Variable'].isin(variables_to_plot)].copy()\n",
    "\n",
    "# Extract first year from Years list and add as a new column\n",
    "plot_df['Year'] = plot_df['Years'].apply(lambda x: x[0])\n",
    "\n",
    "# Create line plot\n",
    "fig = px.line(plot_df,\n",
    "              x='Year',\n",
    "              y='GED',\n",
    "              color='Variable',\n",
    "              title='GED Scores Over Time')\n",
    "\n",
    "# Update x-axis to show as continuous range\n",
    "fig.update_xaxes(type='linear', title='Year')\n",
    "\n",
    "# Save the figure as HTML\n",
    "fig.write_html(\"ged_scores_over_time.html\")\n",
    "\n",
    "# Display the figure\n",
    "fig.show()"
   ]
  },
  {
   "cell_type": "code",
   "execution_count": 21,
   "metadata": {},
   "outputs": [
    {
     "name": "stderr",
     "output_type": "stream",
     "text": [
      "C:\\Users\\timbo\\AppData\\Local\\Temp\\ipykernel_19984\\840934056.py:32: FutureWarning:\n",
      "\n",
      "The behavior of DataFrame concatenation with empty or all-NA entries is deprecated. In a future version, this will no longer exclude empty or all-NA columns when determining the result dtypes. To retain the old behavior, exclude the relevant entries before the concat operation.\n",
      "\n"
     ]
    },
    {
     "data": {
      "application/vnd.plotly.v1+json": {
       "config": {
        "plotlyServerURL": "https://plot.ly"
       },
       "data": [
        {
         "alignmentgroup": "True",
         "bingroup": "x",
         "hovertemplate": "Monotonicity Score=%{x}<br>count=%{y}<extra></extra>",
         "legendgroup": "",
         "marker": {
          "color": "#636efa",
          "pattern": {
           "shape": ""
          }
         },
         "name": "",
         "nbinsx": 50,
         "offsetgroup": "",
         "orientation": "v",
         "showlegend": false,
         "type": "histogram",
         "x": [
          0.43304347826086953,
          0.10434782608695652,
          -0.4382608695652173,
          -0.4626086956521739,
          -0.5965217391304348,
          -0.3643478260869565,
          -0.58,
          0.0778430111900493,
          0.24657534829473715,
          0.2352685422000931,
          -0.1660869565217391,
          -0.33826086956521734,
          -0.33826086956521734,
          0.48,
          0.6059156728047409,
          0.35739130434782607,
          0.11043478260869564,
          0.7165217391304347,
          0.497391304347826,
          0.11002392084403617,
          0.2726679777439157,
          0.21613394727069557,
          0.21613394727069557,
          -0.06956521739130435,
          0.05391304347826086,
          0.5869565217391304,
          0.28086956521739126,
          -0.03565217391304347,
          -0.1217391304347826,
          -0.34695652173913033,
          0.04521739130434782,
          -0.15826086956521737,
          -0.2539130434782608,
          -0.13437704166326947,
          -0.24,
          -0.2713043478260869,
          -0.4060869565217391,
          -0.19178082645146224,
          0.4434782608695652,
          0.6895652173913043,
          0.10173913043478258,
          -0.03652173913043478,
          0.16916721426217415,
          0.0008695652173913043,
          0.11217391304347826,
          -0.14260869565217388,
          0.4165217391304347,
          -0.37652173913043474,
          0.2939130434782608,
          -0.00608695652173913,
          0.6599999999999999,
          0.2869565217391304,
          0.1909110721364896,
          0.20221787823113366,
          0.2817391304347826,
          0.39999999999999997,
          0.6495652173913044,
          0.13999999999999999,
          0.33181127116205367,
          -0.10869565217391304,
          0.03826086956521739,
          0.1878260869565217,
          -0.18,
          0.5391304347826086,
          -0.4547826086956522,
          0.34347826086956523,
          0.47879975039242617,
          0.34137856862675253,
          -0.17391304347826084,
          0.47706024176248085,
          0.15919966708293984,
          0.08480104570983023,
          0.4904347826086956,
          0.6556521739130434,
          0.7513043478260868,
          0.39739130434782605,
          0.6799999999999999,
          0.5947826086956521,
          0.548695652173913,
          0.3817391304347826,
          0.3660869565217391,
          0.3660869565217391,
          0.381387267115493,
          -0.06956521739130435,
          0.35130434782608694,
          0.13478260869565215,
          0.13478260869565215,
          0.1652173913043478,
          0.08741030865474811,
          0.1943900893963801,
          -0.11913043478260868,
          0.39999999999999997,
          0.3921739130434782,
          0.48358339912477555,
          0.5695652173913043,
          0.21739130434782608,
          0.7573913043478261,
          -0.05783866194567909,
          -0.18608695652173912,
          -0.17043478260869566,
          -0.17043478260869566,
          0.3208695652173913,
          -0.35739130434782607,
          0.1869565217391304,
          0.1869565217391304,
          0.19999999999999998,
          0.19999999999999998,
          0.19999999999999998,
          0.2678260869565217,
          0.26086956521739124,
          0.2582608695652174,
          0.2582608695652174,
          0.2582608695652174,
          0.2582608695652174,
          0.2582608695652174
         ],
         "xaxis": "x",
         "yaxis": "y"
        },
        {
         "alignmentgroup": "True",
         "hovertemplate": "Monotonicity Score=%{x}<extra></extra>",
         "legendgroup": "",
         "marker": {
          "color": "#636efa"
         },
         "name": "",
         "notched": true,
         "offsetgroup": "",
         "showlegend": false,
         "type": "box",
         "x": [
          0.43304347826086953,
          0.10434782608695652,
          -0.4382608695652173,
          -0.4626086956521739,
          -0.5965217391304348,
          -0.3643478260869565,
          -0.58,
          0.0778430111900493,
          0.24657534829473715,
          0.2352685422000931,
          -0.1660869565217391,
          -0.33826086956521734,
          -0.33826086956521734,
          0.48,
          0.6059156728047409,
          0.35739130434782607,
          0.11043478260869564,
          0.7165217391304347,
          0.497391304347826,
          0.11002392084403617,
          0.2726679777439157,
          0.21613394727069557,
          0.21613394727069557,
          -0.06956521739130435,
          0.05391304347826086,
          0.5869565217391304,
          0.28086956521739126,
          -0.03565217391304347,
          -0.1217391304347826,
          -0.34695652173913033,
          0.04521739130434782,
          -0.15826086956521737,
          -0.2539130434782608,
          -0.13437704166326947,
          -0.24,
          -0.2713043478260869,
          -0.4060869565217391,
          -0.19178082645146224,
          0.4434782608695652,
          0.6895652173913043,
          0.10173913043478258,
          -0.03652173913043478,
          0.16916721426217415,
          0.0008695652173913043,
          0.11217391304347826,
          -0.14260869565217388,
          0.4165217391304347,
          -0.37652173913043474,
          0.2939130434782608,
          -0.00608695652173913,
          0.6599999999999999,
          0.2869565217391304,
          0.1909110721364896,
          0.20221787823113366,
          0.2817391304347826,
          0.39999999999999997,
          0.6495652173913044,
          0.13999999999999999,
          0.33181127116205367,
          -0.10869565217391304,
          0.03826086956521739,
          0.1878260869565217,
          -0.18,
          0.5391304347826086,
          -0.4547826086956522,
          0.34347826086956523,
          0.47879975039242617,
          0.34137856862675253,
          -0.17391304347826084,
          0.47706024176248085,
          0.15919966708293984,
          0.08480104570983023,
          0.4904347826086956,
          0.6556521739130434,
          0.7513043478260868,
          0.39739130434782605,
          0.6799999999999999,
          0.5947826086956521,
          0.548695652173913,
          0.3817391304347826,
          0.3660869565217391,
          0.3660869565217391,
          0.381387267115493,
          -0.06956521739130435,
          0.35130434782608694,
          0.13478260869565215,
          0.13478260869565215,
          0.1652173913043478,
          0.08741030865474811,
          0.1943900893963801,
          -0.11913043478260868,
          0.39999999999999997,
          0.3921739130434782,
          0.48358339912477555,
          0.5695652173913043,
          0.21739130434782608,
          0.7573913043478261,
          -0.05783866194567909,
          -0.18608695652173912,
          -0.17043478260869566,
          -0.17043478260869566,
          0.3208695652173913,
          -0.35739130434782607,
          0.1869565217391304,
          0.1869565217391304,
          0.19999999999999998,
          0.19999999999999998,
          0.19999999999999998,
          0.2678260869565217,
          0.26086956521739124,
          0.2582608695652174,
          0.2582608695652174,
          0.2582608695652174,
          0.2582608695652174,
          0.2582608695652174
         ],
         "xaxis": "x2",
         "yaxis": "y2"
        }
       ],
       "layout": {
        "bargap": 0.1,
        "barmode": "relative",
        "legend": {
         "tracegroupgap": 0
        },
        "shapes": [
         {
          "line": {
           "color": "red",
           "dash": "dash"
          },
          "type": "line",
          "x0": 0,
          "x1": 0,
          "xref": "x",
          "y0": 0,
          "y1": 1,
          "yref": "y domain"
         },
         {
          "line": {
           "color": "red",
           "dash": "dash"
          },
          "type": "line",
          "x0": 0,
          "x1": 0,
          "xref": "x2",
          "y0": 0,
          "y1": 1,
          "yref": "y2 domain"
         }
        ],
        "showlegend": false,
        "template": {
         "data": {
          "bar": [
           {
            "error_x": {
             "color": "#2a3f5f"
            },
            "error_y": {
             "color": "#2a3f5f"
            },
            "marker": {
             "line": {
              "color": "#E5ECF6",
              "width": 0.5
             },
             "pattern": {
              "fillmode": "overlay",
              "size": 10,
              "solidity": 0.2
             }
            },
            "type": "bar"
           }
          ],
          "barpolar": [
           {
            "marker": {
             "line": {
              "color": "#E5ECF6",
              "width": 0.5
             },
             "pattern": {
              "fillmode": "overlay",
              "size": 10,
              "solidity": 0.2
             }
            },
            "type": "barpolar"
           }
          ],
          "carpet": [
           {
            "aaxis": {
             "endlinecolor": "#2a3f5f",
             "gridcolor": "white",
             "linecolor": "white",
             "minorgridcolor": "white",
             "startlinecolor": "#2a3f5f"
            },
            "baxis": {
             "endlinecolor": "#2a3f5f",
             "gridcolor": "white",
             "linecolor": "white",
             "minorgridcolor": "white",
             "startlinecolor": "#2a3f5f"
            },
            "type": "carpet"
           }
          ],
          "choropleth": [
           {
            "colorbar": {
             "outlinewidth": 0,
             "ticks": ""
            },
            "type": "choropleth"
           }
          ],
          "contour": [
           {
            "colorbar": {
             "outlinewidth": 0,
             "ticks": ""
            },
            "colorscale": [
             [
              0,
              "#0d0887"
             ],
             [
              0.1111111111111111,
              "#46039f"
             ],
             [
              0.2222222222222222,
              "#7201a8"
             ],
             [
              0.3333333333333333,
              "#9c179e"
             ],
             [
              0.4444444444444444,
              "#bd3786"
             ],
             [
              0.5555555555555556,
              "#d8576b"
             ],
             [
              0.6666666666666666,
              "#ed7953"
             ],
             [
              0.7777777777777778,
              "#fb9f3a"
             ],
             [
              0.8888888888888888,
              "#fdca26"
             ],
             [
              1,
              "#f0f921"
             ]
            ],
            "type": "contour"
           }
          ],
          "contourcarpet": [
           {
            "colorbar": {
             "outlinewidth": 0,
             "ticks": ""
            },
            "type": "contourcarpet"
           }
          ],
          "heatmap": [
           {
            "colorbar": {
             "outlinewidth": 0,
             "ticks": ""
            },
            "colorscale": [
             [
              0,
              "#0d0887"
             ],
             [
              0.1111111111111111,
              "#46039f"
             ],
             [
              0.2222222222222222,
              "#7201a8"
             ],
             [
              0.3333333333333333,
              "#9c179e"
             ],
             [
              0.4444444444444444,
              "#bd3786"
             ],
             [
              0.5555555555555556,
              "#d8576b"
             ],
             [
              0.6666666666666666,
              "#ed7953"
             ],
             [
              0.7777777777777778,
              "#fb9f3a"
             ],
             [
              0.8888888888888888,
              "#fdca26"
             ],
             [
              1,
              "#f0f921"
             ]
            ],
            "type": "heatmap"
           }
          ],
          "heatmapgl": [
           {
            "colorbar": {
             "outlinewidth": 0,
             "ticks": ""
            },
            "colorscale": [
             [
              0,
              "#0d0887"
             ],
             [
              0.1111111111111111,
              "#46039f"
             ],
             [
              0.2222222222222222,
              "#7201a8"
             ],
             [
              0.3333333333333333,
              "#9c179e"
             ],
             [
              0.4444444444444444,
              "#bd3786"
             ],
             [
              0.5555555555555556,
              "#d8576b"
             ],
             [
              0.6666666666666666,
              "#ed7953"
             ],
             [
              0.7777777777777778,
              "#fb9f3a"
             ],
             [
              0.8888888888888888,
              "#fdca26"
             ],
             [
              1,
              "#f0f921"
             ]
            ],
            "type": "heatmapgl"
           }
          ],
          "histogram": [
           {
            "marker": {
             "pattern": {
              "fillmode": "overlay",
              "size": 10,
              "solidity": 0.2
             }
            },
            "type": "histogram"
           }
          ],
          "histogram2d": [
           {
            "colorbar": {
             "outlinewidth": 0,
             "ticks": ""
            },
            "colorscale": [
             [
              0,
              "#0d0887"
             ],
             [
              0.1111111111111111,
              "#46039f"
             ],
             [
              0.2222222222222222,
              "#7201a8"
             ],
             [
              0.3333333333333333,
              "#9c179e"
             ],
             [
              0.4444444444444444,
              "#bd3786"
             ],
             [
              0.5555555555555556,
              "#d8576b"
             ],
             [
              0.6666666666666666,
              "#ed7953"
             ],
             [
              0.7777777777777778,
              "#fb9f3a"
             ],
             [
              0.8888888888888888,
              "#fdca26"
             ],
             [
              1,
              "#f0f921"
             ]
            ],
            "type": "histogram2d"
           }
          ],
          "histogram2dcontour": [
           {
            "colorbar": {
             "outlinewidth": 0,
             "ticks": ""
            },
            "colorscale": [
             [
              0,
              "#0d0887"
             ],
             [
              0.1111111111111111,
              "#46039f"
             ],
             [
              0.2222222222222222,
              "#7201a8"
             ],
             [
              0.3333333333333333,
              "#9c179e"
             ],
             [
              0.4444444444444444,
              "#bd3786"
             ],
             [
              0.5555555555555556,
              "#d8576b"
             ],
             [
              0.6666666666666666,
              "#ed7953"
             ],
             [
              0.7777777777777778,
              "#fb9f3a"
             ],
             [
              0.8888888888888888,
              "#fdca26"
             ],
             [
              1,
              "#f0f921"
             ]
            ],
            "type": "histogram2dcontour"
           }
          ],
          "mesh3d": [
           {
            "colorbar": {
             "outlinewidth": 0,
             "ticks": ""
            },
            "type": "mesh3d"
           }
          ],
          "parcoords": [
           {
            "line": {
             "colorbar": {
              "outlinewidth": 0,
              "ticks": ""
             }
            },
            "type": "parcoords"
           }
          ],
          "pie": [
           {
            "automargin": true,
            "type": "pie"
           }
          ],
          "scatter": [
           {
            "fillpattern": {
             "fillmode": "overlay",
             "size": 10,
             "solidity": 0.2
            },
            "type": "scatter"
           }
          ],
          "scatter3d": [
           {
            "line": {
             "colorbar": {
              "outlinewidth": 0,
              "ticks": ""
             }
            },
            "marker": {
             "colorbar": {
              "outlinewidth": 0,
              "ticks": ""
             }
            },
            "type": "scatter3d"
           }
          ],
          "scattercarpet": [
           {
            "marker": {
             "colorbar": {
              "outlinewidth": 0,
              "ticks": ""
             }
            },
            "type": "scattercarpet"
           }
          ],
          "scattergeo": [
           {
            "marker": {
             "colorbar": {
              "outlinewidth": 0,
              "ticks": ""
             }
            },
            "type": "scattergeo"
           }
          ],
          "scattergl": [
           {
            "marker": {
             "colorbar": {
              "outlinewidth": 0,
              "ticks": ""
             }
            },
            "type": "scattergl"
           }
          ],
          "scattermapbox": [
           {
            "marker": {
             "colorbar": {
              "outlinewidth": 0,
              "ticks": ""
             }
            },
            "type": "scattermapbox"
           }
          ],
          "scatterpolar": [
           {
            "marker": {
             "colorbar": {
              "outlinewidth": 0,
              "ticks": ""
             }
            },
            "type": "scatterpolar"
           }
          ],
          "scatterpolargl": [
           {
            "marker": {
             "colorbar": {
              "outlinewidth": 0,
              "ticks": ""
             }
            },
            "type": "scatterpolargl"
           }
          ],
          "scatterternary": [
           {
            "marker": {
             "colorbar": {
              "outlinewidth": 0,
              "ticks": ""
             }
            },
            "type": "scatterternary"
           }
          ],
          "surface": [
           {
            "colorbar": {
             "outlinewidth": 0,
             "ticks": ""
            },
            "colorscale": [
             [
              0,
              "#0d0887"
             ],
             [
              0.1111111111111111,
              "#46039f"
             ],
             [
              0.2222222222222222,
              "#7201a8"
             ],
             [
              0.3333333333333333,
              "#9c179e"
             ],
             [
              0.4444444444444444,
              "#bd3786"
             ],
             [
              0.5555555555555556,
              "#d8576b"
             ],
             [
              0.6666666666666666,
              "#ed7953"
             ],
             [
              0.7777777777777778,
              "#fb9f3a"
             ],
             [
              0.8888888888888888,
              "#fdca26"
             ],
             [
              1,
              "#f0f921"
             ]
            ],
            "type": "surface"
           }
          ],
          "table": [
           {
            "cells": {
             "fill": {
              "color": "#EBF0F8"
             },
             "line": {
              "color": "white"
             }
            },
            "header": {
             "fill": {
              "color": "#C8D4E3"
             },
             "line": {
              "color": "white"
             }
            },
            "type": "table"
           }
          ]
         },
         "layout": {
          "annotationdefaults": {
           "arrowcolor": "#2a3f5f",
           "arrowhead": 0,
           "arrowwidth": 1
          },
          "autotypenumbers": "strict",
          "coloraxis": {
           "colorbar": {
            "outlinewidth": 0,
            "ticks": ""
           }
          },
          "colorscale": {
           "diverging": [
            [
             0,
             "#8e0152"
            ],
            [
             0.1,
             "#c51b7d"
            ],
            [
             0.2,
             "#de77ae"
            ],
            [
             0.3,
             "#f1b6da"
            ],
            [
             0.4,
             "#fde0ef"
            ],
            [
             0.5,
             "#f7f7f7"
            ],
            [
             0.6,
             "#e6f5d0"
            ],
            [
             0.7,
             "#b8e186"
            ],
            [
             0.8,
             "#7fbc41"
            ],
            [
             0.9,
             "#4d9221"
            ],
            [
             1,
             "#276419"
            ]
           ],
           "sequential": [
            [
             0,
             "#0d0887"
            ],
            [
             0.1111111111111111,
             "#46039f"
            ],
            [
             0.2222222222222222,
             "#7201a8"
            ],
            [
             0.3333333333333333,
             "#9c179e"
            ],
            [
             0.4444444444444444,
             "#bd3786"
            ],
            [
             0.5555555555555556,
             "#d8576b"
            ],
            [
             0.6666666666666666,
             "#ed7953"
            ],
            [
             0.7777777777777778,
             "#fb9f3a"
            ],
            [
             0.8888888888888888,
             "#fdca26"
            ],
            [
             1,
             "#f0f921"
            ]
           ],
           "sequentialminus": [
            [
             0,
             "#0d0887"
            ],
            [
             0.1111111111111111,
             "#46039f"
            ],
            [
             0.2222222222222222,
             "#7201a8"
            ],
            [
             0.3333333333333333,
             "#9c179e"
            ],
            [
             0.4444444444444444,
             "#bd3786"
            ],
            [
             0.5555555555555556,
             "#d8576b"
            ],
            [
             0.6666666666666666,
             "#ed7953"
            ],
            [
             0.7777777777777778,
             "#fb9f3a"
            ],
            [
             0.8888888888888888,
             "#fdca26"
            ],
            [
             1,
             "#f0f921"
            ]
           ]
          },
          "colorway": [
           "#636efa",
           "#EF553B",
           "#00cc96",
           "#ab63fa",
           "#FFA15A",
           "#19d3f3",
           "#FF6692",
           "#B6E880",
           "#FF97FF",
           "#FECB52"
          ],
          "font": {
           "color": "#2a3f5f"
          },
          "geo": {
           "bgcolor": "white",
           "lakecolor": "white",
           "landcolor": "#E5ECF6",
           "showlakes": true,
           "showland": true,
           "subunitcolor": "white"
          },
          "hoverlabel": {
           "align": "left"
          },
          "hovermode": "closest",
          "mapbox": {
           "style": "light"
          },
          "paper_bgcolor": "white",
          "plot_bgcolor": "#E5ECF6",
          "polar": {
           "angularaxis": {
            "gridcolor": "white",
            "linecolor": "white",
            "ticks": ""
           },
           "bgcolor": "#E5ECF6",
           "radialaxis": {
            "gridcolor": "white",
            "linecolor": "white",
            "ticks": ""
           }
          },
          "scene": {
           "xaxis": {
            "backgroundcolor": "#E5ECF6",
            "gridcolor": "white",
            "gridwidth": 2,
            "linecolor": "white",
            "showbackground": true,
            "ticks": "",
            "zerolinecolor": "white"
           },
           "yaxis": {
            "backgroundcolor": "#E5ECF6",
            "gridcolor": "white",
            "gridwidth": 2,
            "linecolor": "white",
            "showbackground": true,
            "ticks": "",
            "zerolinecolor": "white"
           },
           "zaxis": {
            "backgroundcolor": "#E5ECF6",
            "gridcolor": "white",
            "gridwidth": 2,
            "linecolor": "white",
            "showbackground": true,
            "ticks": "",
            "zerolinecolor": "white"
           }
          },
          "shapedefaults": {
           "line": {
            "color": "#2a3f5f"
           }
          },
          "ternary": {
           "aaxis": {
            "gridcolor": "white",
            "linecolor": "white",
            "ticks": ""
           },
           "baxis": {
            "gridcolor": "white",
            "linecolor": "white",
            "ticks": ""
           },
           "bgcolor": "#E5ECF6",
           "caxis": {
            "gridcolor": "white",
            "linecolor": "white",
            "ticks": ""
           }
          },
          "title": {
           "x": 0.05
          },
          "xaxis": {
           "automargin": true,
           "gridcolor": "white",
           "linecolor": "white",
           "ticks": "",
           "title": {
            "standoff": 15
           },
           "zerolinecolor": "white",
           "zerolinewidth": 2
          },
          "yaxis": {
           "automargin": true,
           "gridcolor": "white",
           "linecolor": "white",
           "ticks": "",
           "title": {
            "standoff": 15
           },
           "zerolinecolor": "white",
           "zerolinewidth": 2
          }
         }
        },
        "title": {
         "text": "Distribution of Monotonicity Scores"
        },
        "xaxis": {
         "anchor": "y",
         "domain": [
          0,
          1
         ],
         "title": {
          "text": "Monotonicity Score"
         }
        },
        "xaxis2": {
         "anchor": "y2",
         "domain": [
          0,
          1
         ],
         "matches": "x",
         "showgrid": true,
         "showticklabels": false
        },
        "yaxis": {
         "anchor": "x",
         "domain": [
          0,
          0.8316
         ],
         "title": {
          "text": "Count"
         }
        },
        "yaxis2": {
         "anchor": "x2",
         "domain": [
          0.8416,
          1
         ],
         "matches": "y2",
         "showgrid": false,
         "showline": false,
         "showticklabels": false,
         "ticks": ""
        }
       }
      }
     },
     "metadata": {},
     "output_type": "display_data"
    },
    {
     "name": "stdout",
     "output_type": "stream",
     "text": [
      "\n",
      "Top 10 Variables with Strongest Monotonic Trends:\n",
      "    Variable  Monotonicity\n",
      "96  WRKWAYUP      0.757391\n",
      "74  PREMARSX      0.751304\n",
      "17   LIBHOMO      0.716522\n",
      "39   COLHOMO      0.689565\n",
      "76  SUICIDE1      0.680000\n",
      "50   SPKHOMO      0.660000\n",
      "73  AFFRMACT      0.655652\n",
      "56   SEXEDUC      0.649565\n",
      "14     FEFAM      0.605916\n",
      "4    PORNLAW     -0.596522\n"
     ]
    }
   ],
   "source": [
    "# Analyzing Temporal Trends in GED Scores\n",
    "\n",
    "# This section analyzes how GED (Graph Edit Distance) scores change over time for different variables.\n",
    "# We calculate and visualize the monotonicity of these trends to identify which variables show \n",
    "# consistent increases or decreases in network influence over the years.\n",
    "\n",
    "# Key metrics:\n",
    "# - Monotonicity: Measured using Spearman's rank correlation between years and GED scores.\n",
    "#   Values range from -1 to 1:\n",
    "#   * Values close to 1 indicate a strong increasing trend over time\n",
    "#   * Values close to -1 indicate a strong decreasing trend over time\n",
    "#   * Values close to 0 indicate no consistent directional trend\n",
    "# - Absolute monotonicity: The magnitude of the monotonicity score, indicating the strength\n",
    "#   of the trend regardless of direction.\n",
    "\n",
    "# Calculate monotonicity for each variable's GED scores over time\n",
    "monotonicity_df = pd.DataFrame(columns=['Variable', 'Monotonicity'])\n",
    "\n",
    "for var in all_variables:\n",
    "    # Get GED scores for this variable\n",
    "    var_data = ged_df[ged_df['Variable'] == var]\n",
    "    \n",
    "    # Extract first year from each Years list and GED scores\n",
    "    years = var_data['Years'].apply(lambda x: x[0])\n",
    "    ged_scores = var_data['GED']\n",
    "    \n",
    "    # Calculate Spearman correlation between years and GED scores\n",
    "    # This measures monotonicity - values closer to 1 or -1 indicate stronger trends\n",
    "    monotonicity = ged_scores.corr(years, method='spearman')\n",
    "    \n",
    "    # Add to dataframe\n",
    "    monotonicity_df = pd.concat([monotonicity_df, pd.DataFrame({\n",
    "        'Variable': [var],\n",
    "        'Monotonicity': [monotonicity]\n",
    "    })], ignore_index=True)\n",
    "\n",
    "# Filter for negative monotonicity scores and sort by absolute value\n",
    "negative_trends = monotonicity_df[monotonicity_df['Monotonicity'] < 0].sort_values('Monotonicity')\n",
    "\n",
    "# Create histogram of monotonicity scores using plotly express\n",
    "fig = px.histogram(monotonicity_df, \n",
    "                  x='Monotonicity',\n",
    "                  nbins=50,\n",
    "                  title='Distribution of Monotonicity Scores',\n",
    "                  labels={'Monotonicity': 'Monotonicity Score'},\n",
    "                  marginal='box')  # Add box plot on top\n",
    "\n",
    "# Update layout\n",
    "fig.update_layout(\n",
    "    xaxis_title='Monotonicity Score',\n",
    "    yaxis_title='Count',\n",
    "    showlegend=False,\n",
    "    bargap=0.1\n",
    ")\n",
    "\n",
    "# Add vertical line at 0 for reference\n",
    "fig.add_vline(x=0, line_dash=\"dash\", line_color=\"red\")\n",
    "\n",
    "# Save the figure as HTML\n",
    "fig.write_html(\"monotonicity_distribution.html\")\n",
    "\n",
    "fig.show()\n",
    "\n",
    "# Sort and display variables with strongest monotonic trends (both positive and negative)\n",
    "top_trends = monotonicity_df.sort_values('Monotonicity', key=abs, ascending=False).head(10)\n",
    "print(\"\\nTop 10 Variables with Strongest Monotonic Trends:\")\n",
    "print(top_trends)\n"
   ]
  }
 ],
 "metadata": {
  "kernelspec": {
   "display_name": "pythons_beliefs",
   "language": "python",
   "name": "python3"
  },
  "language_info": {
   "codemirror_mode": {
    "name": "ipython",
    "version": 3
   },
   "file_extension": ".py",
   "mimetype": "text/x-python",
   "name": "python",
   "nbconvert_exporter": "python",
   "pygments_lexer": "ipython3",
   "version": "3.9.21"
  }
 },
 "nbformat": 4,
 "nbformat_minor": 2
}
