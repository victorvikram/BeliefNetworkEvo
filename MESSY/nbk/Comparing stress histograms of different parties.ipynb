{
 "cells": [
  {
   "cell_type": "markdown",
   "metadata": {},
   "source": [
    "This notebook generates the stress histograms of different voter types. So, are republicans or democrats more stressed?"
   ]
  },
  {
   "cell_type": "code",
   "execution_count": 1,
   "metadata": {},
   "outputs": [],
   "source": [
    "\"\"\" BORING!!! \"\"\"\n",
    "%load_ext autoreload\n",
    "%autoreload 2\n",
    "import numpy as np\n",
    "import pyreadstat as prs\n",
    "import sys\n",
    "sys.path.append('../src')\n",
    "from clean_data_1 import *\n",
    "from clean_data_2 import transform_dataframe_2\n",
    "from make_belief_network import make_belief_network\n",
    "from calc_stress import stress\n",
    "from interpret_belief_vector import interpret_belief_vector"
   ]
  },
  {
   "cell_type": "code",
   "execution_count": 2,
   "metadata": {},
   "outputs": [],
   "source": [
    "\"\"\" Importing the data!!! \"\"\"\n",
    "import pyreadstat as prs\n",
    "raw_df, meta = prs.read_sas7bdat(\"../dat/gss7222_r3.sas7bdat\")"
   ]
  },
  {
   "cell_type": "code",
   "execution_count": 36,
   "metadata": {},
   "outputs": [],
   "source": [
    "\"\"\" Cleaning the data and setting the replicating core \"\"\"\n",
    "import sys\n",
    "sys.path.append('../src')\n",
    "from clean_data_1 import transform_dataframe_1\n",
    " \n",
    "# Clean data \n",
    "df, original_metadata = transform_dataframe_1(raw_df)    \n",
    "\n",
    "# Set variables of interest\n",
    "variables = [\"PARTYID\",\"POLVIEWS\",\"NATSPAC\",\"NATENVIR\",\"NATHEAL\",\"NATCITY\",\"NATCRIME\",\"NATDRUG\",\"NATEDUC\",\"NATRACE\",\"NATARMS\",\n",
    "\"NATAID\",\"NATFARE\",\"NATROAD\",\"NATSOC\",\"NATMASS\",\"NATPARK\",\"NATCHLD\",\"NATSCI\",\"EQWLTH\",\"SPKATH\",\"COLATH\",\"LIBATH\",\"SPKRAC\",\"COLRAC\",\"LIBRAC\",\"SPKCOM\",\"COLCOM\",\"LIBCOM\",\"SPKMIL\",\"COLMIL\",\"LIBMIL\",\"SPKHOMO\",\n",
    "\"COLHOMO\",\"LIBHOMO\",\"SPKMSLM\",\"COLMSLM\",\"LIBMSLM\",\"CAPPUN\",\"GUNLAW\",\"COURTS\",\"GRASS\",\"ATTEND\",\"RELITEN\",\"POSTLIFE\",\"PRAYER\",\"AFFRMACT\",\"WRKWAYUP\",\"HELPFUL\",\n",
    "\"FAIR\",\"TRUST\",\"CONFINAN\",\"CONBUS\",\"CONCLERG\",\"CONEDUC\",\"CONFED\",\"CONLABOR\",\"CONPRESS\",\"CONMEDIC\",\"CONTV\",\"CONJUDGE\",\"CONSCI\",\"CONLEGIS\",\"CONARMY\",\"GETAHEAD\",\"FEPOL\",\"ABDEFECT\",\"ABNOMORE\",\"ABHLTH\",\"ABPOOR\",\"ABRAPE\",\"ABSINGLE\",\"ABANY\",\"SEXEDUC\",\"DIVLAW\",\"PREMARSX\",\"TEENSEX\",\"XMARSEX\",\"HOMOSEX\",\"PORNLAW\",\n",
    "\"SPANKING\",\"LETDIE1\",\"SUICIDE1\",\"SUICIDE2\",\"POLHITOK\",\"POLABUSE\",\"POLMURDR\",\"POLESCAP\",\"POLATTAK\",\"NEWS\",\"TVHOURS\",\"FECHLD\",\"FEPRESCH\",\"FEFAM\",\"RACDIF1\",\"RACDIF2\",\"RACDIF3\",\n",
    "\"RACDIF4\",\"HELPPOOR\",\"MARHOMO\", \"PRESLAST_NONCONFORM\", \"PRESLAST_DEMREP\", \"VOTELAST\", \"BALLOT\"]\n"
   ]
  },
  {
   "cell_type": "code",
   "execution_count": 62,
   "metadata": {},
   "outputs": [],
   "source": [
    "\n",
    "start_year = 1990\n",
    "timeframe = list(range(start_year, start_year+8))\n",
    "\n",
    "BN, variables_list, correlation_matrix_partial = make_belief_network(df, variables, timeframe, method=\"spearman\", is_partial=True, threshold=0, sample_threshold=0, regularisation=0.2)\n",
    "\n"
   ]
  },
  {
   "cell_type": "code",
   "execution_count": 84,
   "metadata": {},
   "outputs": [],
   "source": [
    "\"\"\" In order to calculate the stress of beleif vectors, we need to belief vectors \"\"\"\n",
    "\"\"\" We first clear the dataset again to implement the median solution \"\"\"\n",
    "\n",
    "df_b_vecs, meta_data_minsmaxs = transform_dataframe_2(df, original_metadata, timeframe)\n",
    "\n",
    "\"\"\" First we replace all NaNs with zero \"\"\"\n",
    "df_b_vecs = df_b_vecs.fillna(0)\n",
    "\n",
    "\"\"\" Then we normalise the data to span -1 and 1 \"\"\"\n",
    "\n",
    "df_b_vecs = normalise_columns(df_b_vecs, meta_data_minsmaxs)\n",
    "\n",
    "\n",
    "\"\"\" We can then cut the data down to only the variables in the belief network \"\"\"\n",
    "\n",
    "df_b_vecs = df_b_vecs[variables_list]\n",
    "\n",
    "\"\"\" And then split into the variables we want to condition on, for example, ballots 1, 2, and 3 \"\"\"\n",
    "\n",
    "\"\"\" Interesting variables: \"SPKATH\",\"COLATH\",\"LIBATH\",\"SPKRAC\",\"COLRAC\",\"LIBRAC\",\"SPKCOM\",\"COLCOM\",\"LIBCOM\",\"SPKMIL\",\"COLMIL\",\"LIBMIL\",\"SPKHOMO\",\n",
    "\"COLHOMO\",\"LIBHOMO\",\"SPKMSLM\",\"COLMSLM\",\"LIBMSLM\" \"\"\"\n",
    "\n",
    "var_for_split = \"BALLOT\"\n",
    "\n",
    "# print(df[var_for_split].value_counts())\n",
    "# print(df_b_vecs[var_for_split].value_counts())\n",
    "\n",
    "df_ballot_1 = df_b_vecs[df_b_vecs[var_for_split] == 1]\n",
    "df_ballot_2 = df_b_vecs[df_b_vecs[var_for_split] == 2]\n",
    "df_ballot_3 = df_b_vecs[df_b_vecs[var_for_split] == 3]\n",
    "\n",
    "\"\"\" And then get arrays for the belief vectors \"\"\"\n",
    "\n",
    "belief_vec_ballot_1 = df_ballot_1.to_numpy()\n",
    "belief_vec_ballot_2 = df_ballot_2.to_numpy()\n",
    "belief_vec_ballot_3 = df_ballot_3.to_numpy()"
   ]
  },
  {
   "cell_type": "code",
   "execution_count": 86,
   "metadata": {},
   "outputs": [
    {
     "data": {
      "image/png": "[encoded data removed]",
      "text/plain": [
       "<Figure size 640x480 with 1 Axes>"
      ]
     },
     "metadata": {},
     "output_type": "display_data"
    }
   ],
   "source": [
    "\"\"\" Okay, and now we calculate the stress of the belief vectors \"\"\"\n",
    "\n",
    "correlation_matrix_noDiag = correlation_matrix_partial - np.eye(correlation_matrix_partial.shape[0])\n",
    "\n",
    "b1_stress_vec = []\n",
    "b2_stress_vec = []\n",
    "b3_stress_vec = []\n",
    "\n",
    "b1_stress_vec = [stress(belief_vec_ballot_1[i,:], correlation_matrix_noDiag) for i in range(belief_vec_ballot_1.shape[0])]\n",
    "b2_stress_vec = [stress(belief_vec_ballot_2[i,:], correlation_matrix_noDiag) for i in range(belief_vec_ballot_2.shape[0])]\n",
    "b3_stress_vec = [stress(belief_vec_ballot_3[i,:], correlation_matrix_noDiag) for i in range(belief_vec_ballot_3.shape[0])]\n",
    "\n",
    "summed_stress_vec = b1_stress_vec + b2_stress_vec + b3_stress_vec \n",
    "\n",
    "# print(\"Number of belief vectors: \", len(summed_stress_vec))\n",
    "\n",
    "\"\"\" We can also compare it to a random set of belief vectors \"\"\"\n",
    "\n",
    "# Generate K random belief vectors\n",
    "# random_belief_vectors = np.random.choice([-1, 0, 1], size=(len(stress_vec), len(variables_list)))\n",
    "# alt_belief_vectors = np.random.rand(len(repub_stress_vec)+len(dem_stress_vec), len(variables_list))*2 - 1\n",
    "# alt_stress_vec = [stress(vector, correlation_matrix_partial) for vector in random_belief_vectors]\n",
    "\n",
    "\"\"\" We can also compare the stress vectors of republican and democrat belief vectors \"\"\"\n",
    "\n",
    "\n",
    "import matplotlib.pyplot as plt\n",
    "bin_resolution = 50\n",
    "# plt.hist(summed_stress_vec, bins=round(len(summed_stress_vec)/bin_resolution), alpha=0.3, label='Summed belief vectors', density=False)\n",
    "# plt.hist(alt_stress_vec, bins=100, alpha=0.3, label='Random belief vectors', density=True)\n",
    "plt.hist(b1_stress_vec, bins=round(len(b1_stress_vec)/bin_resolution), alpha=0.3, label='Ballot 1', density=False)\n",
    "plt.hist(b2_stress_vec, bins=round(len(b2_stress_vec)/bin_resolution), alpha=0.3, label='Ballot 2', density=False)\n",
    "plt.hist(b3_stress_vec, bins=round(len(b3_stress_vec)/bin_resolution), alpha=0.3, label='Ballot 3', density=False)\n",
    "\n",
    "plt.legend(loc='upper right')\n",
    "plt.xlabel('Stress')\n",
    "plt.ylabel('Frequency')\n",
    "plt.show()\n",
    "\n",
    "# print(\"Number of belief vectors: \", len(summed_stress_vec))"
   ]
  }
 ],
 "metadata": {
  "kernelspec": {
   "display_name": "Python 3",
   "language": "python",
   "name": "python3"
  },
  "language_info": {
   "codemirror_mode": {
    "name": "ipython",
    "version": 3
   },
   "file_extension": ".py",
   "mimetype": "text/x-python",
   "name": "python",
   "nbconvert_exporter": "python",
   "pygments_lexer": "ipython3",
   "version": "3.11.2"
  }
 },
 "nbformat": 4,
 "nbformat_minor": 2
}
