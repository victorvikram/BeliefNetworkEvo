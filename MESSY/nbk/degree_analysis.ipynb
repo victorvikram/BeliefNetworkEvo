{
 "cells": [
  {
   "cell_type": "code",
   "execution_count": 1,
   "metadata": {},
   "outputs": [],
   "source": [
    "import os\n",
    "import matplotlib.pyplot as plt\n",
    "\n",
    "import sys\n",
    "sys.path.append('../src')"
   ]
  },
  {
   "cell_type": "code",
   "execution_count": 2,
   "metadata": {},
   "outputs": [
    {
     "name": "stdout",
     "output_type": "stream",
     "text": [
      "1972 66\n",
      "1974 76\n",
      "1976 78\n",
      "1978 70\n",
      "1980 81\n",
      "1982 86\n",
      "1984 93\n",
      "1986 96\n",
      "1988 96\n",
      "1990 95\n",
      "1992 97\n",
      "1994 95\n",
      "1996 97\n",
      "1998 98\n",
      "2000 99\n",
      "2002 99\n",
      "2004 99\n",
      "2006 102\n",
      "2008 102\n",
      "2010 102\n",
      "2012 102\n",
      "2014 102\n"
     ]
    },
    {
     "data": {
      "image/png": "[encoded data removed]",
      "text/plain": [
       "<Figure size 640x480 with 1 Axes>"
      ]
     },
     "metadata": {},
     "output_type": "display_data"
    }
   ],
   "source": [
    "\"\"\" load variable_list from each interval and plot variable count \"\"\"\n",
    "\n",
    "start_year = 1972\n",
    "end_year = 2016\n",
    "step = 2\n",
    "interval_length = 4\n",
    "\n",
    "variable_counts = []\n",
    "\n",
    "for year in range(start_year, end_year, step):\n",
    "    dir_path = f\"../out/belief networks/{year}-{year + interval_length}, R=0.2, Condition=None\"\n",
    "    var_names_path = os.path.join(dir_path, \"variables_list.csv\")\n",
    "    with open(var_names_path) as file:\n",
    "        variables_list = file.read().splitlines()\n",
    "    variable_counts.append(len(variables_list))\n",
    "\n",
    "plt.plot(range(start_year, end_year, step), variable_counts)\n",
    "\n",
    "# print ordered pairs for each point on line graph\n",
    "for year, count in zip(range(start_year, end_year, step), variable_counts):\n",
    "    print(year, count)"
   ]
  },
  {
   "cell_type": "code",
   "execution_count": 3,
   "metadata": {},
   "outputs": [],
   "source": [
    "\"\"\"\n",
    "try making belief networks using only the variables present in 1974 and 1984, respectively\n",
    "\"\"\"\n",
    "\n",
    "dir_path = f\"../out/belief networks/1974-1978, R=0.2, Condition=None\"\n",
    "var_names_path = os.path.join(dir_path, \"variables_list.csv\")\n",
    "with open(var_names_path) as file:\n",
    "        variables_list_1974 = file.read().splitlines()\n",
    "\n",
    "dir_path = f\"../out/belief networks/1984-1988, R=0.2, Condition=None\"\n",
    "var_names_path = os.path.join(dir_path, \"variables_list.csv\")\n",
    "with open(var_names_path) as file:\n",
    "        variables_list_1984 = file.read().splitlines()"
   ]
  },
  {
   "cell_type": "code",
   "execution_count": 4,
   "metadata": {},
   "outputs": [
    {
     "ename": "PyreadstatError",
     "evalue": "File ../dat/gss7222_r3.sas7bdat does not exist!",
     "output_type": "error",
     "traceback": [
      "\u001b[1;31m---------------------------------------------------------------------------\u001b[0m",
      "\u001b[1;31mPyreadstatError\u001b[0m                           Traceback (most recent call last)",
      "Cell \u001b[1;32mIn[4], line 6\u001b[0m\n\u001b[0;32m      3\u001b[0m \u001b[38;5;28;01mimport\u001b[39;00m \u001b[38;5;21;01mpyreadstat\u001b[39;00m \u001b[38;5;28;01mas\u001b[39;00m \u001b[38;5;21;01mprs\u001b[39;00m\n\u001b[0;32m      4\u001b[0m \u001b[38;5;28;01mfrom\u001b[39;00m \u001b[38;5;21;01mclean_data_1\u001b[39;00m \u001b[38;5;28;01mimport\u001b[39;00m transform_dataframe_1\n\u001b[1;32m----> 6\u001b[0m raw_df, meta \u001b[38;5;241m=\u001b[39m prs\u001b[38;5;241m.\u001b[39mread_sas7bdat(\u001b[38;5;124m\"\u001b[39m\u001b[38;5;124m../dat/gss7222_r3.sas7bdat\u001b[39m\u001b[38;5;124m\"\u001b[39m)\n\u001b[0;32m      8\u001b[0m \u001b[38;5;124;03m\"\"\" Cleaning the data. \"\"\"\u001b[39;00m\n\u001b[0;32m     10\u001b[0m df, metadata \u001b[38;5;241m=\u001b[39m transform_dataframe_1(raw_df)\n",
      "File \u001b[1;32mpyreadstat\\\\pyreadstat.pyx:129\u001b[0m, in \u001b[0;36mpyreadstat.pyreadstat.read_sas7bdat\u001b[1;34m()\u001b[0m\n",
      "File \u001b[1;32mpyreadstat\\\\_readstat_parser.pyx:1075\u001b[0m, in \u001b[0;36mpyreadstat._readstat_parser.run_conversion\u001b[1;34m()\u001b[0m\n",
      "\u001b[1;31mPyreadstatError\u001b[0m: File ../dat/gss7222_r3.sas7bdat does not exist!"
     ]
    }
   ],
   "source": [
    "\"\"\" Importing the GSS dataset. \"\"\"\n",
    "\n",
    "import pyreadstat as prs\n",
    "from clean_data_1 import transform_dataframe_1\n",
    "\n",
    "raw_df, meta = prs.read_sas7bdat(\"../dat/gss7222_r3.sas7bdat\")\n",
    "\n",
    "\"\"\" Cleaning the data. \"\"\"\n",
    " \n",
    "df, metadata = transform_dataframe_1(raw_df)    # df contains all our data, metadata contains some other random shit "
   ]
  },
  {
   "cell_type": "code",
   "execution_count": 7,
   "metadata": {},
   "outputs": [
    {
     "ename": "NameError",
     "evalue": "name 'variables_list_1974' is not defined",
     "output_type": "error",
     "traceback": [
      "\u001b[1;31m---------------------------------------------------------------------------\u001b[0m",
      "\u001b[1;31mNameError\u001b[0m                                 Traceback (most recent call last)",
      "Cell \u001b[1;32mIn[7], line 18\u001b[0m\n\u001b[0;32m     14\u001b[0m regularisation \u001b[38;5;241m=\u001b[39m \u001b[38;5;241m0.2\u001b[39m    \u001b[38;5;66;03m# regularisation parameter for partial correlation\u001b[39;00m\n\u001b[0;32m     16\u001b[0m \u001b[38;5;250m\u001b[39m\u001b[38;5;124;03m\"\"\" Note: for now, we keep the threshold and sample threshold at 0. \u001b[39;00m\n\u001b[0;32m     17\u001b[0m \u001b[38;5;124;03mRegularisation can be set between around 1.5 and 2.5. \"\"\"\u001b[39;00m\n\u001b[1;32m---> 18\u001b[0m BN, variables_list, correlation_matrix_partial \u001b[38;5;241m=\u001b[39m make_belief_network(df, variables_list_1974, timeframe, method\u001b[38;5;241m=\u001b[39mmethod, is_partial\u001b[38;5;241m=\u001b[39m\u001b[38;5;28;01mTrue\u001b[39;00m, threshold\u001b[38;5;241m=\u001b[39mthreshold, \n\u001b[0;32m     19\u001b[0m                                                                  sample_threshold\u001b[38;5;241m=\u001b[39msample_threshold, regularisation\u001b[38;5;241m=\u001b[39mregularisation)\n\u001b[0;32m     21\u001b[0m bn_dict[(year, \u001b[38;5;241m1974\u001b[39m)] \u001b[38;5;241m=\u001b[39m (BN, variables_list)\n\u001b[0;32m     23\u001b[0m \u001b[38;5;28;01mif\u001b[39;00m year \u001b[38;5;241m>\u001b[39m\u001b[38;5;241m=\u001b[39m \u001b[38;5;241m1984\u001b[39m:\n",
      "\u001b[1;31mNameError\u001b[0m: name 'variables_list_1974' is not defined"
     ]
    }
   ],
   "source": [
    "from make_belief_network import make_belief_network\n",
    "\n",
    "bn_dict = {}\n",
    "for year in range(1974, 2018, 2):\n",
    "    # Timeframe - specify the start year and duration of the timeframe\n",
    "    start_year = year\n",
    "    duration = 4\n",
    "    timeframe = list(range(start_year, start_year+duration))\n",
    "\n",
    "    # Parameters\n",
    "    method = \"spearman\"     # method for calculating correlation\n",
    "    threshold = 0           # threshold for correlation\n",
    "    sample_threshold = 0    # threshold for sample size\n",
    "    regularisation = 0.2    # regularisation parameter for partial correlation\n",
    "\n",
    "    \"\"\" Note: for now, we keep the threshold and sample threshold at 0. \n",
    "    Regularisation can be set between around 1.5 and 2.5. \"\"\"\n",
    "    BN, variables_list, correlation_matrix_partial = make_belief_network(df, variables_list_1974, timeframe, method=method, is_partial=True, threshold=threshold, \n",
    "                                                                     sample_threshold=sample_threshold, regularisation=regularisation)\n",
    "    \n",
    "    bn_dict[(year, 1974)] = (BN, variables_list)\n",
    "\n",
    "    if year >= 1984:\n",
    "        BN, variables_list, correlation_matrix_partial = make_belief_network(df, variables_list_1984, timeframe, method=method, is_partial=True, threshold=threshold, \n",
    "                                                                     sample_threshold=sample_threshold, regularisation=regularisation)\n",
    "        bn_dict[(year, 1984)] = (BN, variables_list)"
   ]
  },
  {
   "cell_type": "code",
   "execution_count": null,
   "metadata": {},
   "outputs": [],
   "source": []
  }
 ],
 "metadata": {
  "kernelspec": {
   "display_name": "beliefs",
   "language": "python",
   "name": "python3"
  },
  "language_info": {
   "codemirror_mode": {
    "name": "ipython",
    "version": 3
   },
   "file_extension": ".py",
   "mimetype": "text/x-python",
   "name": "python",
   "nbconvert_exporter": "python",
   "pygments_lexer": "ipython3",
   "version": "3.12.3"
  }
 },
 "nbformat": 4,
 "nbformat_minor": 2
}
