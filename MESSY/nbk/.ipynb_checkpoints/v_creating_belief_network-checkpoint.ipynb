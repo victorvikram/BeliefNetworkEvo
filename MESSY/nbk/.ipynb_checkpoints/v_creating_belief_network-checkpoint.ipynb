{
 "cells": [
  {
   "cell_type": "code",
   "execution_count": null,
   "metadata": {},
   "outputs": [],
   "source": [
    "%load_ext autoreload\n",
    "%autoreload 2\n",
    "\n",
    "import pyreadstat as prs\n",
    "\n",
    "raw_df, meta = prs.read_sas7bdat(\"../dat/GSS_sas/gss7222_r3.sas7bdat\")"
   ]
  },
  {
   "cell_type": "code",
   "execution_count": null,
   "metadata": {},
   "outputs": [],
   "source": [
    "meta.column_names_to_labels"
   ]
  },
  {
   "cell_type": "code",
   "execution_count": 4,
   "metadata": {},
   "outputs": [],
   "source": [
    "import pandas as pd\n",
    "import numpy as np\n",
    "import sys\n",
    "sys.path.append('../src')\n",
    "\n",
    "from transform_df_to_our_standard import transform_dataframe, make_variable_summary\n",
    "from corr_networks import corr_mat_to_partial_corr_mat, cov_mat_to_regularized_partial_corr"
   ]
  },
  {
   "cell_type": "code",
   "execution_count": null,
   "metadata": {},
   "outputs": [],
   "source": [
    "df = transform_dataframe(raw_df)"
   ]
  },
  {
   "cell_type": "code",
   "execution_count": null,
   "metadata": {},
   "outputs": [],
   "source": [
    "cols = df.columns.to_list()\n",
    "\"RACOPEN\" in cols"
   ]
  },
  {
   "cell_type": "code",
   "execution_count": null,
   "metadata": {},
   "outputs": [],
   "source": [
    "vars_to_use = [\"PARTYID\",\"POLVIEWS\",\"NATSPAC\",\"NATENVIR\",\"NATHEAL\",\"NATCITY\",\"NATCRIME\",\"NATDRUG\",\"NATEDUC\",\"NATRACE\",\"NATARMS\",\n",
    "\"NATAID\",\"NATFARE\",\"NATROAD\",\"NATSOC\",\"NATMASS\",\"NATPARK\",\"NATCHLD\",\"NATSCI\",\"NATENRGY\",\"NATSPACY\",\"NATENVIY\",\"NATHEALY\",\"NATCITYY\",\"NATCRIMY\",\"NATDRUGY\",\"NATEDUCY\",\n",
    "\"NATRACEY\",\"NATARMSY\",\"NATAIDY\",\"NATFAREY\",\"EQWLTH\",\"SPKATH\",\"COLATH\",\"LIBATH\",\"SPKRAC\",\"COLRAC\",\"LIBRAC\",\"SPKCOM\",\"COLCOM\",\"LIBCOM\",\"SPKMIL\",\"COLMIL\",\"LIBMIL\",\"SPKHOMO\",\n",
    "\"COLHOMO\",\"LIBHOMO\",\"SPKMSLM\",\"COLMSLM\",\"LIBMSLM\",\"CAPPUN\",\"GUNLAW\",\"COURTS\",\"GRASS\",\"ATTEND\",\"RELITEN\",\"POSTLIFE\",\"PRAYER\",\"AFFRMACT\",\"WRKWAYUP\",\"HELPFUL\",\n",
    "\"FAIR\",\"TRUST\",\"CONFINAN\",\"CONBUS\",\"CONCLERG\",\"CONEDUC\",\"CONFED\",\"CONLABOR\",\"CONPRESS\",\"CONMEDIC\",\"CONTV\",\"CONJUDGE\",\"CONSCI\",\"CONLEGIS\",\"CONARMY\",\"GETAHEAD\",\"FEPOL\",\"ABDEFECT\",\"ABNOMORE\",\"ABHLTH\",\"ABPOOR\",\"ABRAPE\",\"ABSINGLE\",\"ABANY\",\"SEXEDUC\",\"DIVLAW\",\"PREMARSX\",\"TEENSEX\",\"XMARSEX\",\"HOMOSEX\",\"PORNLAW\",\n",
    "\"SPANKING\",\"LETDIE1\",\"SUICIDE1\",\"SUICIDE2\",\"POLHITOK\",\"POLABUSE\",\"POLMURDR\",\"POLESCAP\",\"POLATTAK\",\"NEWS\",\"TVHOURS\",\"FECHLD\",\"FEPRESCH\",\"FEFAM\",\"RACDIF1\",\"RACDIF2\",\"RACDIF3\",\n",
    "\"RACDIF4\",\"HELPPOOR\",\"MARHOMO\", \"RACOPEN\", \"HELPNOT\", \"HELPBLK\"]\n",
    "\n",
    "PRES_variables = [\n",
    "    'VOTE68', 'VOTE72', 'VOTE76', 'VOTE80', 'VOTE84', 'VOTE88', 'VOTE92', 'VOTE96', 'VOTE00', 'VOTE04', 'VOTE08', 'VOTE12', 'VOTE16', 'VOTE20',\n",
    "    'VOTE68_ELIGIBLE', 'VOTE72_ELIGIBLE', 'VOTE76_ELIGIBLE', 'VOTE80_ELIGIBLE', 'VOTE84_ELIGIBLE', 'VOTE88_ELIGIBLE', 'VOTE92_ELIGIBLE', 'VOTE96_ELIGIBLE', 'VOTE00_ELIGIBLE', 'VOTE04_ELIGIBLE', 'VOTE08_ELIGIBLE', 'VOTE12_ELIGIBLE', 'VOTE16_ELIGIBLE', 'VOTE20_ELIGIBLE',\n",
    "    'PRES68_HUMPHREY', 'PRES68_NIXON', 'PRES68_WALLACE', 'PRES68_OTHER', 'PRES68_REFUSED',\n",
    "    'PRES72_MCGOVERN', 'PRES72_NIXON', 'PRES72_OTHER', 'PRES72_REFUSED', 'PRES72_WOULDNT_VOTE', 'PRES72_DONT_KNOW',\n",
    "    'PRES76_CARTER', 'PRES76_FORD', 'PRES76_OTHER', 'PRES76_REFUSED', 'PRES76_NO_PRES_VOTE', 'PRES76_DONT_KNOW',\n",
    "    'PRES80_CARTER', 'PRES80_REAGAN', 'PRES80_ANDERSON', 'PRES80_OTHER', 'PRES80_REFUSED', 'PRES80_DIDNT_VOTE', 'PRES80_DONT_KNOW',\n",
    "    'PRES84_MONDALE', 'PRES84_REAGAN', 'PRES84_OTHER', 'PRES84_REFUSED', 'PRES84_NO_PRES_VOTE', 'PRES84_DONT_KNOW',\n",
    "    'PRES88_BUSH', 'PRES88_DUKAKIS', 'PRES88_OTHER', 'PRES88_REFUSED', 'PRES88_NO_PRES_VOTE', 'PRES88_DONT_KNOW',\n",
    "    'PRES92_CLINTON', 'PRES92_BUSH', 'PRES92_PEROT', 'PRES92_OTHER', 'PRES92_NO_PRES_VOTE', 'PRES92_DONT_KNOW',\n",
    "    'PRES96_CLINTON', 'PRES96_DOLE', 'PRES96_PEROT', 'PRES96_OTHER', 'PRES96_DIDNT_VOTE', 'PRES96_DONT_KNOW',\n",
    "    'PRES00_GORE', 'PRES00_BUSH', 'PRES00_NADER', 'PRES00_OTHER', 'PRES00_DIDNT_VOTE', 'PRES00_DONT_KNOW',\n",
    "    'PRES04_KERRY', 'PRES04_BUSH', 'PRES04_NADER', 'PRES04_NO_PRES_VOTE', 'PRES04_DONT_KNOW',\n",
    "    'PRES08_OBAMA', 'PRES08_MCCAIN', 'PRES08_OTHER', 'PRES08_DIDNT_VOTE', 'PRES08_DONT_KNOW',\n",
    "    'PRES12_OBAMA', 'PRES12_ROMNEY', 'PRES12_OTHER', 'PRES12_DIDNT_VOTE', 'PRES12_DONT_KNOW',\n",
    "    'PRES16_CLINTON', 'PRES16_TRUMP', 'PRES16_OTHER', 'PRES16_DIDNT_VOTE', 'PRES16_DONT_KNOW',\n",
    "    'PRES20_BIDEN', 'PRES20_TRUMP', 'PRES20_OTHER', 'PRES20_DIDNT_VOTE', 'PRES20_DONT_KNOW',\n",
    "    'IF68WHO_HUMPHREY', 'IF68WHO_NIXON', 'IF68WHO_WALLACE', 'IF68WHO_OTHER', 'IF68WHO_WLDNT_VT_RELIG', 'IF68WHO_DONT_KNOW',\n",
    "    'IF72WHO_MCGOVERN', 'IF72WHO_NIXON', 'IF72WHO_OTHER', 'IF72WHO_REFUSED', 'IF72WHO_WOULDNT_VOTE', 'IF72WHO_WLDNT_VT_RELIG', 'IF72WHO_DONT_KNOW',\n",
    "    'IF76WHO_CARTER', 'IF76WHO_FORD', 'IF76WHO_OTHER', 'IF76WHO_REFUSED', 'IF76WHO_WOULDNT_VOTE', 'IF76WHO_DONT_KNOW',\n",
    "    'IF80WHO_CARTER', 'IF80WHO_REAGAN', 'IF80WHO_ANDERSON', 'IF80WHO_OTHER', 'IF80WHO_WOULDNT_VOTE', 'IF80WHO_REFUSED', 'IF80WHO_DONT_KNOW',\n",
    "    'IF84WHO_MONDALE', 'IF84WHO_REAGAN', 'IF84WHO_OTHER', 'IF84WHO_WOULDNT_VOTE', 'IF84WHO_DONT_KNOW',\n",
    "    'IF88WHO_DUKAKIS', 'IF88WHO_BUSH', 'IF88WHO_OTHER', 'IF88WHO_DONT_KNOW',\n",
    "    'IF92WHO_CLINTON', 'IF92WHO_BUSH', 'IF92WHO_PEROT', 'IF92WHO_OTHER', 'IF92WHO_DONT_KNOW',\n",
    "    'IF96WHO_CLINTON', 'IF96WHO_DOLE', 'IF96WHO_PEROT', 'IF96WHO_OTHER', 'IF96WHO_DONT_KNOW',\n",
    "    'IF00WHO_GORE', 'IF00WHO_BUSH', 'IF00WHO_NADER', 'IF00WHO_OTHER', 'IF00WHO_DONT_KNOW',\n",
    "    'IF04WHO_KERRY', 'IF04WHO_BUSH', 'IF04WHO_NADER', 'IF04WHO_DONT_KNOW',\n",
    "    'IF08WHO_OBAMA', 'IF08WHO_MCCAIN', 'IF08WHO_OTHER', 'IF08WHO_DONT_KNOW',\n",
    "    'IF12WHO_OBAMA', 'IF12WHO_ROMNEY', 'IF12WHO_OTHER', 'IF12WHO_DONT_KNOW',\n",
    "    'IF16WHO_CLINTON', 'IF16WHO_TRUMP', 'IF16WHO_OTHER', 'IF16WHO_CANT_REMEMBER', 'IF16WHO_DONT_KNOW',\n",
    "    'IF20WHO_BIDEN', 'IF20WHO_TRUMP', 'IF20WHO_OTHER', 'IF20WHO_CANT_REMEMBER', 'IF20WHO_DONT_KNOW'\n",
    "]\n",
    "\n",
    "\n",
    "# BROKEN_VARS = [\"RELIG\",'RACOPEN', 'HELPNOT', 'HELPBLK']\n",
    "# Ommited from this list: \"YEAR\", \"BALLOT\", and \"LETDIE1\" (this one sucks!)\n"
   ]
  },
  {
   "cell_type": "code",
   "execution_count": null,
   "metadata": {},
   "outputs": [],
   "source": [
    "from make_belief_network import make_belief_network\n",
    "import networkx as nx\n",
    "import numpy as np\n",
    "\n",
    "variables_of_interest = vars_to_use\n",
    "\n",
    "years = [2000, 2002, 2004, 2006, 2008, 2010, 2012]\n",
    "thresholds = [0, 0.2, 0.3, 0.5, 0.6, 0.7]\n",
    "\n",
    "outputs = {year: {partial: {} for partial in [True, False]} for year in years}\n",
    "\n",
    "for year in [2000, 2002, 2004, 2006, 2008, 2010, 2012]:\n",
    "    for partial in [True, False]:\n",
    "        for threshold in thresholds:\n",
    "            BN, variables_list, correlation_matrix = make_belief_network(df, variables_of_interest, [year], method=\"spearman\", is_partial=partial, \n",
    "                                                                threshold=None, sample_threshold=threshold)\n",
    "\n",
    "            outputs[year][partial][threshold] = {\"network\": BN, \"variables\": variables_list, \"corr_mat\": correlation_matrix}"
   ]
  },
  {
   "cell_type": "code",
   "execution_count": null,
   "metadata": {},
   "outputs": [],
   "source": [
    "partial = True\n",
    "for year in years:\n",
    "    for threshold in thresholds:\n",
    "        # for partial in [True, False]:\n",
    "            correlation_matrix = outputs[year][partial][threshold][\"corr_mat\"]\n",
    "            BN = outputs[year][partial][threshold][\"network\"]\n",
    "            variables_list = outputs[year][partial][threshold][\"variables\"]\n",
    "\n",
    "            print(f\"{year}, partial corrs: {partial}, threshold: {threshold}\")\n",
    "\n",
    "            correlation_matrix_unique = correlation_matrix[np.triu_indices(correlation_matrix.shape[0], k=1)]\n",
    "\n",
    "            # Print the max and min correlation values\n",
    "            print(f\"Max correlation: {np.max(correlation_matrix_unique)}\")\n",
    "            print(f\"Min correlation: {np.min(correlation_matrix_unique)}\")\n",
    "\n",
    "            # Print num nodes and edges in graph\n",
    "            print(f\"Number of nodes: {len(BN.nodes)}\")\n",
    "            print(f\"Number of edges: {len(BN.edges)}\")\n",
    "        \n",
    "            \"\"\"\n",
    "            # Save the graph as graphml into the folder \"outputs\"\n",
    "            # make the name include the years of interest\n",
    "            years_name = \"_\".join([str(year) for year in years_of_interest])\n",
    "            # filename = f\"{years_name}.graphml\"\n",
    "            filename = \"asdasd.graphml\"\n",
    "            nx.write_graphml(BN, f\"out/{filename}\")\n",
    "            \"\"\""
   ]
  },
  {
   "cell_type": "code",
   "execution_count": null,
   "metadata": {},
   "outputs": [],
   "source": [
    "pd.set_option('display.max_rows', None)  # Show all rows without truncation\n",
    "\n",
    "print(df.loc[(df[\"YEAR\"] == 2002) & df[\"CONEDUC\"].isna() & ((df[\"BALLOT\"] == 2.0) | (df[\"BALLOT\"] == 3.0))].notna().any(axis=0))"
   ]
  },
  {
   "cell_type": "code",
   "execution_count": null,
   "metadata": {},
   "outputs": [],
   "source": [
    "filled_vars, partially_complete = make_variable_summary(df)"
   ]
  },
  {
   "cell_type": "code",
   "execution_count": null,
   "metadata": {},
   "outputs": [],
   "source": [
    "filled_vars"
   ]
  },
  {
   "cell_type": "code",
   "execution_count": null,
   "metadata": {},
   "outputs": [],
   "source": [
    "partially_complete"
   ]
  },
  {
   "cell_type": "code",
   "execution_count": null,
   "metadata": {},
   "outputs": [],
   "source": [
    "years_in_set"
   ]
  },
  {
   "cell_type": "code",
   "execution_count": null,
   "metadata": {},
   "outputs": [],
   "source": []
  },
  {
   "cell_type": "code",
   "execution_count": null,
   "metadata": {},
   "outputs": [],
   "source": []
  },
  {
   "cell_type": "code",
   "execution_count": null,
   "metadata": {},
   "outputs": [],
   "source": [
    "import networkx as nx\n",
    "from itertools import combinations\n",
    "\n",
    "def find_triads(G, threshhold=0):\n",
    "    nodes = G.nodes()\n",
    "    triads = list(combinations(nodes, 3))\n",
    "    positive_triads = []\n",
    "    negative_triads = []\n",
    "\n",
    "    for triad in triads:\n",
    "        edges = [(triad[0], triad[1]), (triad[1], triad[2]), (triad[0], triad[2])]\n",
    "        weights = [G[u][v]['weight'] for u, v in edges if G.has_edge(u, v)]\n",
    "\n",
    "        # Ensure all edges exist, otherwise skip\n",
    "        if len(weights) == 3:\n",
    "            if abs(weights[0]) > threshhold and abs(weights[1]) > threshhold and abs(weights[2]) > threshhold:\n",
    "            \n",
    "                product = weights[0] * weights[1] * weights[2]\n",
    "                if product > 0:\n",
    "                    positive_triads.append(triad)\n",
    "                elif product < 0:\n",
    "                    negative_triads.append(triad)\n",
    "\n",
    "    return positive_triads, negative_triads\n",
    "\n",
    "# Create graph and find the triads, and print the number of triads\n",
    "G = BN\n",
    "positive_triads, negative_triads = find_triads(G, threshhold=0.2)\n",
    "print(f\"Number of balanced triads: {len(positive_triads)}\")\n",
    "print(f\"Number of unbalanced triads: {len(negative_triads)}\")\n",
    "\n",
    "# Print the triads\n",
    "print(\"Balanced triads:\", positive_triads)\n",
    "print(\"Unbalanced triads:\", negative_triads)"
   ]
  },
  {
   "cell_type": "code",
   "execution_count": null,
   "metadata": {},
   "outputs": [],
   "source": [
    "# Print the histogram of the correlation matrix\n",
    "import matplotlib.pyplot as plt\n",
    "plt.hist(correlation_matrix.flatten(), bins=100)\n",
    "plt.xlabel(\"Correlation coefficient\")\n",
    "plt.ylabel(\"Frequency\")\n",
    "plt.title(\"Histogram of correlation coefficients\")\n",
    "\n",
    "plt.yscale('log')\n",
    "plt.show()\n",
    "plt.show()\n"
   ]
  },
  {
   "cell_type": "code",
   "execution_count": 14,
   "metadata": {},
   "outputs": [
    {
     "name": "stdout",
     "output_type": "stream",
     "text": [
      "50, 0: negatives: 0.9085612244897957, positives: 0.09143877551020407\n",
      "50, 0.1: negatives: 0.4066961724541849, positives: 0.593303827545815\n",
      "50, 0.2: negatives: 0.1466443268449485, positives: 0.8533556731550516\n",
      "100, 0: negatives: 0.8615231910946198, positives: 0.13847680890538033\n",
      "100, 0.1: negatives: 0.3687557270077323, positives: 0.6312442729922675\n",
      "100, 0.2: negatives: 0.06392224461303408, positives: 0.9360777553869658\n",
      "200, 0: negatives: 0.8667048119384804, positives: 0.13329518806151974\n",
      "200, 0.1: negatives: 0.30971363922537154, positives: 0.6902863607746283\n"
     ]
    },
    {
     "name": "stderr",
     "output_type": "stream",
     "text": [
      "C:\\Users\\vicvi\\AppData\\Local\\Temp\\ipykernel_23160\\3102570745.py:30: RuntimeWarning: invalid value encountered in scalar divide\n",
      "  neg_counts.append(negative_count / (negative_count + positive_count))\n",
      "C:\\Users\\vicvi\\AppData\\Local\\Temp\\ipykernel_23160\\3102570745.py:31: RuntimeWarning: invalid value encountered in scalar divide\n",
      "  pos_counts.append(positive_count / (negative_count + positive_count))\n",
      "C:\\Users\\vicvi\\AppData\\Local\\Temp\\ipykernel_23160\\3102570745.py:30: RuntimeWarning: invalid value encountered in scalar divide\n",
      "  neg_counts.append(negative_count / (negative_count + positive_count))\n",
      "C:\\Users\\vicvi\\AppData\\Local\\Temp\\ipykernel_23160\\3102570745.py:31: RuntimeWarning: invalid value encountered in scalar divide\n",
      "  pos_counts.append(positive_count / (negative_count + positive_count))\n",
      "C:\\Users\\vicvi\\AppData\\Local\\Temp\\ipykernel_23160\\3102570745.py:30: RuntimeWarning: invalid value encountered in scalar divide\n",
      "  neg_counts.append(negative_count / (negative_count + positive_count))\n",
      "C:\\Users\\vicvi\\AppData\\Local\\Temp\\ipykernel_23160\\3102570745.py:31: RuntimeWarning: invalid value encountered in scalar divide\n",
      "  pos_counts.append(positive_count / (negative_count + positive_count))\n",
      "C:\\Users\\vicvi\\AppData\\Local\\Temp\\ipykernel_23160\\3102570745.py:30: RuntimeWarning: invalid value encountered in scalar divide\n",
      "  neg_counts.append(negative_count / (negative_count + positive_count))\n",
      "C:\\Users\\vicvi\\AppData\\Local\\Temp\\ipykernel_23160\\3102570745.py:31: RuntimeWarning: invalid value encountered in scalar divide\n",
      "  pos_counts.append(positive_count / (negative_count + positive_count))\n",
      "C:\\Users\\vicvi\\AppData\\Local\\Temp\\ipykernel_23160\\3102570745.py:30: RuntimeWarning: invalid value encountered in scalar divide\n",
      "  neg_counts.append(negative_count / (negative_count + positive_count))\n",
      "C:\\Users\\vicvi\\AppData\\Local\\Temp\\ipykernel_23160\\3102570745.py:31: RuntimeWarning: invalid value encountered in scalar divide\n",
      "  pos_counts.append(positive_count / (negative_count + positive_count))\n",
      "C:\\Users\\vicvi\\AppData\\Local\\Temp\\ipykernel_23160\\3102570745.py:30: RuntimeWarning: invalid value encountered in scalar divide\n",
      "  neg_counts.append(negative_count / (negative_count + positive_count))\n",
      "C:\\Users\\vicvi\\AppData\\Local\\Temp\\ipykernel_23160\\3102570745.py:31: RuntimeWarning: invalid value encountered in scalar divide\n",
      "  pos_counts.append(positive_count / (negative_count + positive_count))\n",
      "C:\\Users\\vicvi\\AppData\\Local\\Temp\\ipykernel_23160\\3102570745.py:30: RuntimeWarning: invalid value encountered in scalar divide\n",
      "  neg_counts.append(negative_count / (negative_count + positive_count))\n",
      "C:\\Users\\vicvi\\AppData\\Local\\Temp\\ipykernel_23160\\3102570745.py:31: RuntimeWarning: invalid value encountered in scalar divide\n",
      "  pos_counts.append(positive_count / (negative_count + positive_count))\n",
      "C:\\Users\\vicvi\\AppData\\Local\\Temp\\ipykernel_23160\\3102570745.py:30: RuntimeWarning: invalid value encountered in scalar divide\n",
      "  neg_counts.append(negative_count / (negative_count + positive_count))\n",
      "C:\\Users\\vicvi\\AppData\\Local\\Temp\\ipykernel_23160\\3102570745.py:31: RuntimeWarning: invalid value encountered in scalar divide\n",
      "  pos_counts.append(positive_count / (negative_count + positive_count))\n",
      "C:\\Users\\vicvi\\AppData\\Local\\Temp\\ipykernel_23160\\3102570745.py:30: RuntimeWarning: invalid value encountered in scalar divide\n",
      "  neg_counts.append(negative_count / (negative_count + positive_count))\n",
      "C:\\Users\\vicvi\\AppData\\Local\\Temp\\ipykernel_23160\\3102570745.py:31: RuntimeWarning: invalid value encountered in scalar divide\n",
      "  pos_counts.append(positive_count / (negative_count + positive_count))\n",
      "C:\\Users\\vicvi\\AppData\\Local\\Temp\\ipykernel_23160\\3102570745.py:30: RuntimeWarning: invalid value encountered in scalar divide\n",
      "  neg_counts.append(negative_count / (negative_count + positive_count))\n",
      "C:\\Users\\vicvi\\AppData\\Local\\Temp\\ipykernel_23160\\3102570745.py:31: RuntimeWarning: invalid value encountered in scalar divide\n",
      "  pos_counts.append(positive_count / (negative_count + positive_count))\n",
      "C:\\Users\\vicvi\\AppData\\Local\\Temp\\ipykernel_23160\\3102570745.py:30: RuntimeWarning: invalid value encountered in scalar divide\n",
      "  neg_counts.append(negative_count / (negative_count + positive_count))\n",
      "C:\\Users\\vicvi\\AppData\\Local\\Temp\\ipykernel_23160\\3102570745.py:31: RuntimeWarning: invalid value encountered in scalar divide\n",
      "  pos_counts.append(positive_count / (negative_count + positive_count))\n",
      "C:\\Users\\vicvi\\AppData\\Local\\Temp\\ipykernel_23160\\3102570745.py:30: RuntimeWarning: invalid value encountered in scalar divide\n",
      "  neg_counts.append(negative_count / (negative_count + positive_count))\n",
      "C:\\Users\\vicvi\\AppData\\Local\\Temp\\ipykernel_23160\\3102570745.py:31: RuntimeWarning: invalid value encountered in scalar divide\n",
      "  pos_counts.append(positive_count / (negative_count + positive_count))\n",
      "C:\\Users\\vicvi\\AppData\\Local\\Temp\\ipykernel_23160\\3102570745.py:30: RuntimeWarning: invalid value encountered in scalar divide\n",
      "  neg_counts.append(negative_count / (negative_count + positive_count))\n",
      "C:\\Users\\vicvi\\AppData\\Local\\Temp\\ipykernel_23160\\3102570745.py:31: RuntimeWarning: invalid value encountered in scalar divide\n",
      "  pos_counts.append(positive_count / (negative_count + positive_count))\n",
      "C:\\Users\\vicvi\\AppData\\Local\\Temp\\ipykernel_23160\\3102570745.py:30: RuntimeWarning: invalid value encountered in scalar divide\n",
      "  neg_counts.append(negative_count / (negative_count + positive_count))\n",
      "C:\\Users\\vicvi\\AppData\\Local\\Temp\\ipykernel_23160\\3102570745.py:31: RuntimeWarning: invalid value encountered in scalar divide\n",
      "  pos_counts.append(positive_count / (negative_count + positive_count))\n",
      "C:\\Users\\vicvi\\AppData\\Local\\Temp\\ipykernel_23160\\3102570745.py:30: RuntimeWarning: invalid value encountered in scalar divide\n",
      "  neg_counts.append(negative_count / (negative_count + positive_count))\n",
      "C:\\Users\\vicvi\\AppData\\Local\\Temp\\ipykernel_23160\\3102570745.py:31: RuntimeWarning: invalid value encountered in scalar divide\n",
      "  pos_counts.append(positive_count / (negative_count + positive_count))\n",
      "C:\\Users\\vicvi\\AppData\\Local\\Temp\\ipykernel_23160\\3102570745.py:30: RuntimeWarning: invalid value encountered in scalar divide\n",
      "  neg_counts.append(negative_count / (negative_count + positive_count))\n",
      "C:\\Users\\vicvi\\AppData\\Local\\Temp\\ipykernel_23160\\3102570745.py:31: RuntimeWarning: invalid value encountered in scalar divide\n",
      "  pos_counts.append(positive_count / (negative_count + positive_count))\n"
     ]
    },
    {
     "name": "stdout",
     "output_type": "stream",
     "text": [
      "200, 0.2: negatives: nan, positives: nan\n"
     ]
    }
   ],
   "source": [
    "measurements = {dim: {alpha: {} for alpha in [0, 0.1, 0.2]} for dim in [50, 100, 200]}\n",
    "for dim in [50, 100, 200]:\n",
    "    for alpha in [0, 0.1, 0.2]:\n",
    "        neg_counts = []\n",
    "        pos_counts = []\n",
    "        for i in range(20):\n",
    "            random_matrix = random_mat = 2 * np.random.rand(dim, dim) - 1\n",
    "            random_cov_mat = np.dot(random_matrix, random_matrix.T)\n",
    "\n",
    "            std_deviations = np.sqrt(np.diag(random_cov_mat))\n",
    "            random_corr_mat = random_cov_mat / np.outer(std_deviations, std_deviations)\n",
    "\n",
    "            random_partial_corr_mat = cov_mat_to_regularized_partial_corr(random_corr_mat, alpha=alpha)\n",
    "\n",
    "            negative_count = 0\n",
    "            positive_count = 0\n",
    "            for i in range(dim):\n",
    "                for j in range(i + 1, dim):\n",
    "                    for k in range(j + 1, dim):\n",
    "                        triad_weights_0 = random_partial_corr_mat[i, j]\n",
    "                        triad_weights_1 = random_partial_corr_mat[j, k]\n",
    "                        triad_weights_2 = random_partial_corr_mat[i, k]\n",
    "\n",
    "                        prod_pos = (triad_weights_0 * triad_weights_1 * triad_weights_2 > 0)\n",
    "                        prod_neg = (triad_weights_0 * triad_weights_1 * triad_weights_2 < 0)\n",
    "\n",
    "                        positive_count += prod_pos\n",
    "                        negative_count += prod_neg\n",
    "            \n",
    "            neg_counts.append(negative_count / (negative_count + positive_count))\n",
    "            pos_counts.append(positive_count / (negative_count + positive_count))\n",
    "        \n",
    "        print(f\"{dim}, {alpha}: negatives: {sum(neg_counts) / len(neg_counts)}, positives: {sum(pos_counts) / len(pos_counts)}\")\n",
    "        measurements[dim][alpha][\"neg\"] = sum(neg_counts) / len(neg_counts)\n",
    "        measurements[dim][alpha][\"pos\"] =  sum(pos_counts) / len(pos_counts)"
   ]
  },
  {
   "cell_type": "code",
   "execution_count": null,
   "metadata": {},
   "outputs": [],
   "source": [
    "measurements"
   ]
  },
  {
   "cell_type": "code",
   "execution_count": null,
   "metadata": {},
   "outputs": [],
   "source": []
  }
 ],
 "metadata": {
  "kernelspec": {
   "display_name": "beliefs",
   "language": "python",
   "name": "beliefs"
  },
  "language_info": {
   "codemirror_mode": {
    "name": "ipython",
    "version": 3
   },
   "file_extension": ".py",
   "mimetype": "text/x-python",
   "name": "python",
   "nbconvert_exporter": "python",
   "pygments_lexer": "ipython3",
   "version": "3.12.3"
  }
 },
 "nbformat": 4,
 "nbformat_minor": 2
}
