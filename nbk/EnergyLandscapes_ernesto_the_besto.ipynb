{
 "cells": [
  {
   "cell_type": "code",
   "execution_count": 1,
   "metadata": {},
   "outputs": [],
   "source": [
    "import networkx as nx"
   ]
  },
  {
   "cell_type": "code",
   "execution_count": 2,
   "metadata": {},
   "outputs": [
    {
     "name": "stdout",
     "output_type": "stream",
     "text": [
      "Number of nodes: 101\n"
     ]
    }
   ],
   "source": [
    "# Given an N-node belief network\n",
    "belief_network = nx.read_graphml(\"out/2016_2019.graphml\")\n",
    "print(\"Number of nodes:\", belief_network.number_of_nodes())"
   ]
  },
  {
   "cell_type": "code",
   "execution_count": 3,
   "metadata": {},
   "outputs": [],
   "source": [
    "# And a random binary belief vector of size N\n",
    "import numpy as np\n",
    "belief_vec = np.random.randint(2, size=belief_network.number_of_nodes())"
   ]
  },
  {
   "cell_type": "code",
   "execution_count": 45,
   "metadata": {},
   "outputs": [
    {
     "name": "stdout",
     "output_type": "stream",
     "text": [
      "Stress: -4.8683728520582275\n"
     ]
    },
    {
     "data": {
      "image/png": "[encoded data removed]",
      "text/plain": [
       "<Figure size 640x480 with 1 Axes>"
      ]
     },
     "metadata": {},
     "output_type": "display_data"
    }
   ],
   "source": [
    "# We calculate the \"stress\" of the belief vector i as\n",
    "def stress_slow(belief_vector, interaction_matrix): # Element-wise construction of H (slow)\n",
    "    H = 0\n",
    "    num_nodes = len(belief_vector)\n",
    "    for i in range(num_nodes):\n",
    "        for j in range(num_nodes):\n",
    "            H += - interaction_matrix[i, j] * belief_vector[i] * belief_vector[j] \n",
    "    return H\n",
    "\n",
    "def stress(belief_vector, interaction_matrix): # Matrix multiplication H = - (b dot Jb) (fast)\n",
    "    belief_vector = np.array(belief_vector)\n",
    "    interaction_matrix = np.array(interaction_matrix)\n",
    "    H = - np.dot(belief_vector, np.dot(interaction_matrix, belief_vector))\n",
    "    return H\n",
    "\n",
    "# Example usage for a random belief vector\n",
    "belief_vec = np.random.randint(2, size=belief_network.number_of_nodes())\n",
    "print(\"Stress:\", stress_slow(belief_vec, nx.to_numpy_array(belief_network)))\n",
    "\n",
    "\n",
    "# Make histogram of K random belief vectors\n",
    "K = 10000\n",
    "interaction_matrix = nx.to_numpy_array(belief_network)\n",
    "count = []\n",
    "for i in range(K):\n",
    "    count.append(stress(np.random.randint(3, size=belief_network.number_of_nodes()) - 1, interaction_matrix))\n",
    "\n",
    "import matplotlib.pyplot as plt\n",
    "plt.hist(count, bins=100)\n",
    "plt.xlabel('Stress')\n",
    "plt.ylabel('Frequency')\n",
    "plt.show()\n"
   ]
  },
  {
   "cell_type": "code",
   "execution_count": 6,
   "metadata": {},
   "outputs": [],
   "source": [
    "# Now we want to calculate the stress of actual belief vectors, instead of random ones.\n",
    "import pyreadstat as prs\n",
    "import sys\n",
    "sys.path.append('../src')\n",
    "raw_df, meta = prs.read_sas7bdat(\"data\\gss7222_r3.sas7bdat\")\n",
    "\n",
    "from transform_df_to_our_standard import transform_dataframe\n",
    "original_transformed_df, metadata = transform_dataframe(raw_df)"
   ]
  },
  {
   "cell_type": "code",
   "execution_count": null,
   "metadata": {},
   "outputs": [
    {
     "name": "stdout",
     "output_type": "stream",
     "text": [
      "Row: 56200\n",
      "YEAR                   2012.0\n",
      "ID                     1114.0\n",
      "BALLOT                    1.0\n",
      "PARTYID                   3.0\n",
      "OTHER_PARTY               0.0\n",
      "                        ...  \n",
      "HELPBLK                   NaN\n",
      "MARHOMO                   NaN\n",
      "VOTELAST                  0.0\n",
      "PRESLAST_NONCONFORM       NaN\n",
      "PRESLAST_DEMREP           NaN\n",
      "Name: 56200, Length: 350, dtype: float64\n"
     ]
    }
   ],
   "source": [
    "variables = ['PARTYID', 'POLVIEWS', 'NATSPAC', 'NATENVIR', 'NATHEAL', 'NATCITY', 'NATCRIME', 'NATDRUG', 'NATEDUC', 'NATRACE', \n",
    "             'NATARMS', 'NATAID', 'NATFARE', 'NATROAD', 'NATSOC', 'NATMASS', 'NATPARK', 'NATCHLD', 'NATSCI', 'EQWLTH', \n",
    "             'SPKATH', 'COLATH', 'LIBATH', 'SPKRAC', 'COLRAC', 'LIBRAC', 'SPKCOM', 'COLCOM', 'LIBCOM', 'SPKMIL', 'COLMIL', \n",
    "             'LIBMIL', 'SPKHOMO', 'COLHOMO', 'LIBHOMO', 'SPKMSLM', 'COLMSLM', 'LIBMSLM', 'CAPPUN', 'GUNLAW', 'COURTS', \n",
    "             'GRASS', 'ATTEND', 'RELITEN', 'POSTLIFE', 'PRAYER', 'AFFRMACT', 'WRKWAYUP', 'HELPFUL', 'FAIR', 'TRUST', \n",
    "             'CONFINAN', 'CONBUS', 'CONCLERG', 'CONEDUC', 'CONFED', 'CONLABOR', 'CONPRESS', 'CONMEDIC', 'CONTV', 'CONJUDGE', \n",
    "             'CONSCI', 'CONLEGIS', 'CONARMY', 'GETAHEAD', 'FEPOL', 'ABDEFECT', 'ABNOMORE', 'ABHLTH', 'ABPOOR', 'ABRAPE', \n",
    "             'ABSINGLE', 'ABANY', 'SEXEDUC', 'DIVLAW', 'PREMARSX', 'TEENSEX', 'XMARSEX', 'HOMOSEX', 'PORNLAW', 'SPANKING', \n",
    "             'LETDIE1', 'SUICIDE1', 'SUICIDE2', 'POLHITOK', 'POLABUSE', 'POLMURDR', 'POLESCAP', 'POLATTAK', 'NEWS', 'TVHOURS', \n",
    "             'FECHLD', 'FEPRESCH', 'FEFAM', 'RACDIF1', 'RACDIF2', 'RACDIF3', 'RACDIF4', 'HELPPOOR', 'PRESLAST_NONCONFORM', \n",
    "             'PRESLAST_DEMREP', 'VOTELAST']\n",
    "\n",
    "\n",
    "# Choose a random row in the df\n",
    "import random\n",
    "row = random.choice(range(original_transformed_df.shape[0]))\n",
    "print(\"Row:\", row)\n",
    "# Display the row\n",
    "print(original_transformed_df.iloc[row])"
   ]
  }
 ],
 "metadata": {
  "kernelspec": {
   "display_name": "Python 3",
   "language": "python",
   "name": "python3"
  },
  "language_info": {
   "codemirror_mode": {
    "name": "ipython",
    "version": 3
   },
   "file_extension": ".py",
   "mimetype": "text/x-python",
   "name": "python",
   "nbconvert_exporter": "python",
   "pygments_lexer": "ipython3",
   "version": "3.11.2"
  }
 },
 "nbformat": 4,
 "nbformat_minor": 2
}
