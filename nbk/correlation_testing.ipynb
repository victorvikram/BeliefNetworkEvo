{
 "cells": [
  {
   "cell_type": "code",
   "execution_count": 34,
   "id": "617c44a6",
   "metadata": {},
   "outputs": [
    {
     "name": "stdout",
     "output_type": "stream",
     "text": [
      "The autoreload extension is already loaded. To reload it, use:\n",
      "  %reload_ext autoreload\n"
     ]
    }
   ],
   "source": [
    "%load_ext autoreload\n",
    "%autoreload 2\n",
    "\n",
    "import sys\n",
    "sys.path.append('../src')\n",
    "\n",
    "import numpy as np\n",
    "import pandas as pd\n",
    "from pingouin import partial_corr\n",
    "from pingouin import pairwise_corr\n",
    "\n",
    "from corr_networks import alt_pairwise_correlations\n",
    "from corr_networks import pairwise_polychoric_correlations\n",
    "from corr_networks import precision_mat_to_partial_corr\n",
    "from corr_networks import cov_mat_to_regularized_partial_corr\n",
    "from corr_networks import my_pairwise_correlations\n",
    "from corr_networks import pairwise_polychoric_correlations\n",
    "\n",
    "from data_metadata import load_gss_sas "
   ]
  },
  {
   "cell_type": "code",
   "execution_count": 35,
   "id": "a0b952a2",
   "metadata": {},
   "outputs": [],
   "source": [
    "np.set_printoptions(precision=3, suppress=True)"
   ]
  },
  {
   "cell_type": "code",
   "execution_count": 26,
   "id": "22b1d60b",
   "metadata": {},
   "outputs": [
    {
     "name": "stdout",
     "output_type": "stream",
     "text": [
      "div [[1.936 1.989 1.708 1.938]\n",
      " [1.989 2.043 1.755 1.991]\n",
      " [1.708 1.755 1.507 1.71 ]\n",
      " [1.938 1.991 1.71  1.941]]\n",
      "[[-1.    -0.624 -0.     0.543]\n",
      " [-0.624 -1.    -0.256  0.425]\n",
      " [-0.    -0.256 -1.    -0.363]\n",
      " [ 0.543  0.425 -0.363 -1.   ]]\n",
      "polychoric_partial_corr\n",
      "[[ 1.    -0.624 -0.     0.543]\n",
      " [-0.624  1.    -0.256  0.425]\n",
      " [-0.    -0.256  1.    -0.363]\n",
      " [ 0.543  0.425 -0.363  1.   ]]\n"
     ]
    }
   ],
   "source": [
    "polychoric_corr_mat = pairwise_polychoric_correlations([0, 1, 2, 3], sample_df_ord)\n",
    "polychoric_partial_corr_mat = cov_mat_to_regularized_partial_corr(polychoric_corr_mat, alpha=0.1)\n",
    "print(\"polychoric_partial_corr\")\n",
    "print(polychoric_partial_corr_mat)"
   ]
  },
  {
   "cell_type": "code",
   "execution_count": 5,
   "id": "42182753",
   "metadata": {},
   "outputs": [
    {
     "data": {
      "text/plain": [
       "([0, 1, 2, 3],\n",
       " array([[ 1.   , -0.922, -0.034,  0.894],\n",
       "        [-0.922,  1.   , -0.177,  0.852],\n",
       "        [-0.034, -0.177,  1.   , -0.191],\n",
       "        [ 0.894,  0.852, -0.191,  1.   ]]))"
      ]
     },
     "execution_count": 5,
     "metadata": {},
     "output_type": "execute_result"
    }
   ],
   "source": [
    "# pearson procedure 1 on original data\n",
    "my_pairwise_correlations(list(range(dim)), sample_df, method=\"pearson\")"
   ]
  },
  {
   "cell_type": "code",
   "execution_count": 9,
   "id": "80cd493c",
   "metadata": {},
   "outputs": [
    {
     "data": {
      "text/plain": [
       "array([[ 1.   , -0.922, -0.034,  0.894],\n",
       "       [-0.922,  1.   , -0.177,  0.852],\n",
       "       [-0.034, -0.177,  1.   , -0.191],\n",
       "       [ 0.894,  0.852, -0.191,  1.   ]])"
      ]
     },
     "execution_count": 9,
     "metadata": {},
     "output_type": "execute_result"
    }
   ],
   "source": [
    "# pearson procedure 2 on original data\n",
    "pearson_corr_df, pearson_corr_mat = alt_pairwise_correlations(list(range(dim)), sample_df, \"pearson\")\n",
    "pearson_corr_mat"
   ]
  },
  {
   "cell_type": "code",
   "execution_count": 67,
   "id": "d36cd943",
   "metadata": {},
   "outputs": [],
   "source": [
    "gss_file = \"C:/Users/vicvi/big-datasets/social_values/GSS_sas/gss7222_r3.sas7bdat\"\n",
    "variable_list = [\"YEAR\", \"VOTE68\", \"VOTE72\", \"PARTYID\", \"POLVIEWS\", \"HOMOSEX\", \"NATENRGY\", \"AFFRMACT\", \"CONJUDGE\", \"HELPPOOR\", \"NATSPAC\", \"NATENVIR\", \"NATCITY\", \"NATDRUG\", \"LETDIE1\"]\n",
    "\n",
    "df, meta = load_gss_sas(gss_file, variable_list)"
   ]
  },
  {
   "cell_type": "code",
   "execution_count": 45,
   "id": "5897a93f",
   "metadata": {},
   "outputs": [
    {
     "data": {
      "text/plain": [
       "0        False\n",
       "1        False\n",
       "2        False\n",
       "3        False\n",
       "4        False\n",
       "         ...  \n",
       "72385    False\n",
       "72386    False\n",
       "72387    False\n",
       "72388    False\n",
       "72389    False\n",
       "Name: YEAR, Length: 72390, dtype: bool"
      ]
     },
     "execution_count": 45,
     "metadata": {},
     "output_type": "execute_result"
    }
   ],
   "source": [
    "(df[\"YEAR\"] == 2020) | (df[\"YEAR\"] == 2021)"
   ]
  },
  {
   "cell_type": "code",
   "execution_count": 54,
   "id": "d10eac5f",
   "metadata": {},
   "outputs": [
    {
     "data": {
      "text/plain": [
       "LETDIE1\n",
       "NaN    2371\n",
       "1.0     882\n",
       "2.0     291\n",
       "Name: count, dtype: int64"
      ]
     },
     "execution_count": 54,
     "metadata": {},
     "output_type": "execute_result"
    }
   ],
   "source": [
    "df.loc[(df[\"YEAR\"] == 2022), \"LETDIE1\"].value_counts(dropna=False)"
   ]
  },
  {
   "cell_type": "code",
   "execution_count": 32,
   "id": "ffcaefca",
   "metadata": {},
   "outputs": [
    {
     "name": "stdout",
     "output_type": "stream",
     "text": [
      "[[ 1.     0.393 -0.092  0.273  0.303 -0.025]\n",
      " [ 0.393  1.    -0.35   0.346  0.279 -0.004]\n",
      " [-0.092 -0.35   1.    -0.268 -0.112 -0.036]\n",
      " [ 0.273  0.346 -0.268  1.     0.134 -0.043]\n",
      " [ 0.303  0.279 -0.112  0.134  1.    -0.055]\n",
      " [-0.025 -0.004 -0.036 -0.043 -0.055  1.   ]]\n",
      "in here\n",
      "outer_product [[1.643 1.837 1.518 1.546 1.465 1.291]\n",
      " [1.837 2.054 1.697 1.729 1.638 1.443]\n",
      " [1.518 1.697 1.402 1.428 1.353 1.193]\n",
      " [1.546 1.729 1.428 1.455 1.379 1.215]\n",
      " [1.465 1.638 1.353 1.379 1.306 1.151]\n",
      " [1.291 1.443 1.193 1.215 1.151 1.015]]\n",
      "div [[1.282 1.355 1.232 1.243 1.21  1.136]\n",
      " [1.355 1.433 1.303 1.315 1.28  1.201]\n",
      " [1.232 1.303 1.184 1.195 1.163 1.092]\n",
      " [1.243 1.315 1.195 1.206 1.174 1.102]\n",
      " [1.21  1.28  1.163 1.174 1.143 1.073]\n",
      " [1.136 1.201 1.092 1.102 1.073 1.007]]\n",
      "[[-1.     0.293  0.085  0.166  0.216 -0.003]\n",
      " [ 0.293 -1.    -0.285  0.198  0.159  0.011]\n",
      " [ 0.085 -0.285 -1.    -0.18  -0.03  -0.048]\n",
      " [ 0.166  0.198 -0.18  -1.    -0.001 -0.048]\n",
      " [ 0.216  0.159 -0.03  -0.001 -1.    -0.053]\n",
      " [-0.003  0.011 -0.048 -0.048 -0.053 -1.   ]]\n",
      "['VOTE68', 'VOTE72', 'PARTYID', 'POLVIEWS', 'HOMOSEX', 'NATENRGY', 'AFFRMACT', 'CONJUDGE']\n",
      "['PARTYID', 'POLVIEWS', 'HOMOSEX', 'NATENRGY', 'AFFRMACT', 'CONJUDGE']\n",
      "[[ 1.     0.293  0.085  0.166  0.216 -0.003]\n",
      " [ 0.293  1.    -0.285  0.198  0.159  0.011]\n",
      " [ 0.085 -0.285  1.    -0.18  -0.03  -0.048]\n",
      " [ 0.166  0.198 -0.18   1.    -0.001 -0.048]\n",
      " [ 0.216  0.159 -0.03  -0.001  1.    -0.053]\n",
      " [-0.003  0.011 -0.048 -0.048 -0.053  1.   ]]\n"
     ]
    }
   ],
   "source": [
    "vars, corr_mat = my_pairwise_correlations([\"PARTYID\", \"POLVIEWS\", \"HOMOSEX\", \"NATENRGY\", \"AFFRMACT\", \"CONJUDGE\"], df, method=\"polychoric\")\n",
    "print([\"VOTE68\", \"VOTE72\",  \"PARTYID\", \"POLVIEWS\", \"HOMOSEX\", \"NATENRGY\", \"AFFRMACT\", \"CONJUDGE\"])\n",
    "print(vars)\n",
    "print(corr_mat)"
   ]
  },
  {
   "cell_type": "code",
   "execution_count": 73,
   "id": "4f9543a8",
   "metadata": {},
   "outputs": [
    {
     "name": "stdout",
     "output_type": "stream",
     "text": [
      "[[0.53  0.514 0.478 0.509 0.29 ]\n",
      " [0.514 0.541 0.488 0.52  0.297]\n",
      " [0.478 0.488 0.501 0.485 0.276]\n",
      " [0.509 0.52  0.485 0.537 0.295]\n",
      " [0.29  0.297 0.276 0.295 0.491]]\n",
      "[[38350 37220 34625 36847 20967]\n",
      " [37220 39147 35323 37631 21478]\n",
      " [34625 35323 36245 35091 19997]\n",
      " [36847 37631 35091 38880 21358]\n",
      " [20967 21478 19997 21358 35537]]\n",
      "[[ 1.     0.056 -0.051 -0.062]\n",
      " [ 0.056  1.     0.229  0.137]\n",
      " [-0.051  0.229  1.     0.218]\n",
      " [-0.062  0.137  0.218  1.   ]]\n",
      "[[ 1.     0.075 -0.053 -0.059]\n",
      " [ 0.075  1.     0.209  0.096]\n",
      " [-0.053  0.209  1.     0.19 ]\n",
      " [-0.059  0.096  0.19   1.   ]]\n"
     ]
    }
   ],
   "source": [
    "corr_df, corr_mat = my_pairwise_correlations([\"NATSPAC\", \"NATENVIR\", \"NATCITY\", \"NATDRUG\", \"LETDIE1\"], df, method=\"spearman\", partial=True, sample_threshold=0.4)\n",
    "print(corr_mat)"
   ]
  },
  {
   "cell_type": "code",
   "execution_count": 132,
   "id": "34461898",
   "metadata": {},
   "outputs": [],
   "source": [
    "arr = np.arange(16).reshape(4, 4).astype(float)\n",
    "arr[2, 3] = np.nan\n",
    "arr[1, 1] = np.nan"
   ]
  },
  {
   "cell_type": "code",
   "execution_count": 24,
   "id": "c8d37f67",
   "metadata": {},
   "outputs": [
    {
     "name": "stdout",
     "output_type": "stream",
     "text": [
      "      NATSPAC  NATENVIR\n",
      "1613      3.0       3.0\n",
      "1614      3.0       2.0\n",
      "1615      3.0       1.0\n",
      "1616      3.0       1.0\n",
      "1617      3.0       2.0\n",
      "1618      2.0       3.0\n",
      "1619      3.0       1.0\n",
      "1620      3.0       1.0\n",
      "1621      2.0       2.0\n",
      "1622      1.0       1.0\n",
      "1623      3.0       2.0\n",
      "      NATSPAC  NATENVIR\n",
      "1613      3.0       3.0\n",
      "1614      3.0       2.0\n",
      "1615      3.0       1.0\n",
      "1616      3.0       1.0\n",
      "1617      3.0       2.0\n",
      "1618      2.0       3.0\n",
      "1619      3.0       1.0\n",
      "1620      3.0       1.0\n",
      "1621      2.0       2.0\n",
      "1622      1.0       1.0\n",
      "1623      3.0       2.0\n",
      "      NATSPAC  NATCITY\n",
      "1613      3.0      3.0\n",
      "1614      3.0      1.0\n",
      "1615      3.0      2.0\n",
      "1616      3.0      2.0\n",
      "1617      3.0      2.0\n",
      "1618      2.0      2.0\n",
      "1619      3.0      1.0\n",
      "1620      3.0      1.0\n",
      "1621      2.0      NaN\n",
      "1622      1.0      1.0\n",
      "1623      3.0      1.0\n",
      "      NATSPAC  NATCITY\n",
      "1613      3.0      3.0\n",
      "1614      3.0      1.0\n",
      "1615      3.0      2.0\n",
      "1616      3.0      2.0\n",
      "1617      3.0      2.0\n",
      "1618      2.0      2.0\n",
      "1619      3.0      1.0\n",
      "1620      3.0      1.0\n",
      "1622      1.0      1.0\n",
      "1623      3.0      1.0\n",
      "      NATENVIR  NATCITY\n",
      "1613       3.0      3.0\n",
      "1614       2.0      1.0\n",
      "1615       1.0      2.0\n",
      "1616       1.0      2.0\n",
      "1617       2.0      2.0\n",
      "1618       3.0      2.0\n",
      "1619       1.0      1.0\n",
      "1620       1.0      1.0\n",
      "1621       2.0      NaN\n",
      "1622       1.0      1.0\n",
      "1623       2.0      1.0\n",
      "      NATENVIR  NATCITY\n",
      "1613       3.0      3.0\n",
      "1614       2.0      1.0\n",
      "1615       1.0      2.0\n",
      "1616       1.0      2.0\n",
      "1617       2.0      2.0\n",
      "1618       3.0      2.0\n",
      "1619       1.0      1.0\n",
      "1620       1.0      1.0\n",
      "1622       1.0      1.0\n",
      "1623       2.0      1.0\n"
     ]
    },
    {
     "data": {
      "text/plain": [
       "array([[ 1.        ,  0.07242169, -0.06146199],\n",
       "       [ 0.07242169,  1.        ,  0.33136766],\n",
       "       [-0.06146199,  0.33136766,  1.        ]])"
      ]
     },
     "execution_count": 24,
     "metadata": {},
     "output_type": "execute_result"
    }
   ],
   "source": [
    "pairwise_polychoric_correlations([\"NATSPAC\", \"NATENVIR\", \"NATCITY\"], df)"
   ]
  },
  {
   "cell_type": "code",
   "execution_count": 21,
   "id": "70be22ae",
   "metadata": {},
   "outputs": [
    {
     "name": "stdout",
     "output_type": "stream",
     "text": [
      "      0  1\n",
      "1000  0  6\n",
      "1001  0  4\n",
      "1002  1  2\n",
      "1003  1  5\n",
      "1004  0  6\n",
      "1005  1  3\n",
      "1006  0  4\n",
      "1007  0  4\n",
      "1008  0  6\n",
      "1009  1  7\n",
      "1010  1  5\n",
      "      0  2\n",
      "1000  0  9\n",
      "1001  0  9\n",
      "1002  1  7\n",
      "1003  1  6\n",
      "1004  0  5\n",
      "1005  1  6\n",
      "1006  0  6\n",
      "1007  0  5\n",
      "1008  0  8\n",
      "1009  1  4\n",
      "1010  1  6\n",
      "      0  3\n",
      "1000  0  0\n",
      "1001  0  0\n",
      "1002  1  3\n",
      "1003  1  1\n",
      "1004  0  0\n",
      "1005  1  1\n",
      "1006  0  1\n",
      "1007  0  2\n",
      "1008  0  0\n",
      "1009  1  0\n",
      "1010  1  0\n",
      "      1  2\n",
      "1000  6  9\n",
      "1001  4  9\n",
      "1002  2  7\n",
      "1003  5  6\n",
      "1004  6  5\n",
      "1005  3  6\n",
      "1006  4  6\n",
      "1007  4  5\n",
      "1008  6  8\n",
      "1009  7  4\n",
      "1010  5  6\n",
      "      1  3\n",
      "1000  6  0\n",
      "1001  4  0\n",
      "1002  2  3\n",
      "1003  5  1\n",
      "1004  6  0\n",
      "1005  3  1\n",
      "1006  4  1\n",
      "1007  4  2\n",
      "1008  6  0\n",
      "1009  7  0\n",
      "1010  5  0\n",
      "      2  3\n",
      "1000  9  0\n",
      "1001  9  0\n",
      "1002  7  3\n",
      "1003  6  1\n",
      "1004  5  0\n",
      "1005  6  1\n",
      "1006  6  1\n",
      "1007  5  2\n",
      "1008  8  0\n",
      "1009  4  0\n",
      "1010  6  0\n"
     ]
    },
    {
     "data": {
      "text/plain": [
       "array([[ 1.        , -0.45833325,  0.18715718,  0.26338053],\n",
       "       [-0.45833325,  1.        , -0.1817286 , -0.48963291],\n",
       "       [ 0.18715718, -0.1817286 ,  1.        , -0.43169041],\n",
       "       [ 0.26338053, -0.48963291, -0.43169041,  1.        ]])"
      ]
     },
     "execution_count": 21,
     "metadata": {},
     "output_type": "execute_result"
    }
   ],
   "source": [
    "pairwise_polychoric_correlations([0, 1, 2, 3], sample_df_ord)"
   ]
  },
  {
   "cell_type": "code",
   "execution_count": 147,
   "id": "ba87d09e",
   "metadata": {},
   "outputs": [],
   "source": [
    "rows_to_keep = np.where(~np.bitwise_or.reduce(np.isnan(arr), axis=1))[0].reshape(-1, 1)"
   ]
  },
  {
   "cell_type": "code",
   "execution_count": 146,
   "id": "51f18705",
   "metadata": {},
   "outputs": [],
   "source": [
    "cols_to_keep = np.where(~np.bitwise_or.reduce(np.isnan(arr), axis=1))[0].reshape(1, -1)"
   ]
  },
  {
   "cell_type": "code",
   "execution_count": 148,
   "id": "7fea5067",
   "metadata": {},
   "outputs": [
    {
     "data": {
      "text/plain": [
       "array([[ 0.,  3.],\n",
       "       [12., 15.]])"
      ]
     },
     "execution_count": 148,
     "metadata": {},
     "output_type": "execute_result"
    }
   ],
   "source": [
    "arr[rows_to_keep,cols_to_keep]"
   ]
  },
  {
   "cell_type": "code",
   "execution_count": null,
   "id": "a1d7432f",
   "metadata": {},
   "outputs": [],
   "source": []
  }
 ],
 "metadata": {
  "kernelspec": {
   "display_name": "beliefs",
   "language": "python",
   "name": "beliefs"
  }
 },
 "nbformat": 4,
 "nbformat_minor": 5
}
