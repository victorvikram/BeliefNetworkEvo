{
 "cells": [
  {
   "cell_type": "markdown",
   "metadata": {},
   "source": [
    "Here, we want to find triads that are persistent across all, or a large share, of the years.\n",
    "\n",
    "Our approach will be simple: first, produce a dataframe of triad existence for each year (using the main networks in out/belief_networks), then, search through the dataframe for persistent structure. \n",
    "\n",
    "We'll compare the neighbourhood of these triads to real-word events or paradigmatic issues and see if it tracks."
   ]
  },
  {
   "cell_type": "code",
   "execution_count": 41,
   "metadata": {},
   "outputs": [],
   "source": [
    "\"\"\" First we import adj matrices and variables names from ../out/belief_networks/year_start-year_end, R=_, Condition=None\"\"\"\n",
    "import numpy as np\n",
    "import pandas as pd\n",
    "import csv\n",
    "\n",
    "def get_adj_matrix(year_start, year_end, R):\n",
    "    ' import csv '\n",
    "    with open(f\"../out/belief networks/{year_start}-{year_end}, R={R}, Condition=None/correlation_matrix_partial.csv\", \"r\") as f:\n",
    "        reader = csv.reader(f)\n",
    "        data = list(reader)\n",
    "    ' convert to numpy array '\n",
    "    data = np.array(data)\n",
    "    ' set diagonal to zero '\n",
    "    np.fill_diagonal(data, 0)\n",
    "    ' convert to float '\n",
    "    data = data.astype(float)\n",
    "    ' return '\n",
    "\n",
    "    with open(f\"../out/belief networks/{year_start}-{year_end}, R={R}, Condition=None/variables_list.csv\", \"r\") as f:\n",
    "        reader = csv.reader(f)\n",
    "        variables_list = list(reader)\n",
    "    ' convert list of lists to list of strings'\n",
    "    variables_list = [item for sublist in variables_list for item in sublist]\n",
    "    return data, variables_list\n",
    "\n",
    "def get_triads(mat, var):\n",
    "    ' Get all non-zero triads and store them in a pandas DataFrame. '\n",
    "    triad_data = []\n",
    "    for i in range(len(mat)):\n",
    "        for j in range(len(mat)):\n",
    "            for k in range(len(mat)):\n",
    "                if mat[i][j] != 0 and mat[j][k] != 0 and mat[i][k] != 0:\n",
    "                    triad_data.append({\n",
    "                        'Triad_names': (var[i], var[j], var[k]),\n",
    "                        'Triad_nodes': (i, j, k),\n",
    "                        'Triad_strength': (mat[i][j], mat[j][k], mat[i][k]),\n",
    "                        'Triad_abs_sum': abs(mat[i][j]) + abs(mat[j][k]) + abs(mat[i][k]),\n",
    "                        'Balance': np.sign(mat[i][j] * mat[j][k] * mat[i][k]) \n",
    "                    })\n",
    "    triads_df = pd.DataFrame(triad_data)    \n",
    "    return triads_df\n",
    "\n",
    "def get_triads(mat, var):\n",
    "    \"\"\"Get all unique non-zero triads and store them in a pandas DataFrame.\"\"\"\n",
    "    triad_data = []\n",
    "    seen_triads = set()\n",
    "\n",
    "    for i in range(len(mat)):\n",
    "        for j in range(i + 1, len(mat)):\n",
    "            for k in range(j + 1, len(mat)):\n",
    "                if mat[i][j] != 0 and mat[j][k] != 0 and mat[i][k] != 0:\n",
    "                    # Sort the nodes to ensure all equiv. triads are recognised\n",
    "                    triad = tuple(sorted((var[i], var[j], var[k])))\n",
    "                    if triad not in seen_triads:\n",
    "                        seen_triads.add(triad)\n",
    "                        triad_data.append({\n",
    "                            'Triad_names': triad,\n",
    "                            'Triad_nodes': tuple(sorted((i, j, k))),\n",
    "                            'Triad_strength': (mat[i][j], mat[j][k], mat[i][k]),\n",
    "                            'Triad_abs_sum': abs(mat[i][j]) + abs(mat[j][k]) + abs(mat[i][k]),\n",
    "                            'Balance': np.sign(mat[i][j] * mat[j][k] * mat[i][k])\n",
    "                        })\n",
    "\n",
    "    triads_df = pd.DataFrame(triad_data)\n",
    "    return triads_df"
   ]
  },
  {
   "cell_type": "code",
   "execution_count": 83,
   "metadata": {},
   "outputs": [
    {
     "name": "stdout",
     "output_type": "stream",
     "text": [
      "   Year                  Triad_names  Triad_nodes  \\\n",
      "0  1972    (COLCOM, GRASS, POLVIEWS)  (1, 17, 25)   \n",
      "1  1972  (COLCOM, POLVIEWS, XMARSEX)  (1, 17, 56)   \n",
      "2  1972  (COLCOM, HOMOSEX, POLVIEWS)  (1, 17, 57)   \n",
      "3  1972  (GRASS, POLVIEWS, PREMARSX)  (1, 25, 55)   \n",
      "4  1972   (GRASS, POLVIEWS, XMARSEX)  (1, 25, 56)   \n",
      "\n",
      "                                      Triad_strength  Triad_abs_sum  Balance  \n",
      "0  (0.03864719758865619, -0.05847463237616479, -0...       0.107256      1.0  \n",
      "1  (0.03864719758865619, 0.021754681401402364, 0....       0.075098      1.0  \n",
      "2  (0.03864719758865619, 0.024624036985684505, 0....       0.066955      1.0  \n",
      "3  (-0.010134269241189353, -0.10121227793574408, ...       0.131828      1.0  \n",
      "4  (-0.010134269241189353, -0.09975218506631944, ...       0.124582      1.0  \n"
     ]
    }
   ],
   "source": [
    "' Now we can append the year of each triad to the DataFrame '\n",
    "start_year = 1972\n",
    "for year in range(start_year, 2018, 2):\n",
    "    mat, var = get_adj_matrix(year, year+4, 0.2)\n",
    "    triads_df = get_triads(mat, var)\n",
    "    triads_df['Year'] = year\n",
    "    if year == start_year:\n",
    "        all_triads_df = triads_df\n",
    "    else:\n",
    "        all_triads_df = pd.concat([all_triads_df, triads_df])\n",
    "' make year the first column '\n",
    "cols = all_triads_df.columns.tolist()\n",
    "cols = cols[-1:] + cols[:-1]\n",
    "all_triads_df = all_triads_df[cols]\n",
    "print(all_triads_df.head())\n"
   ]
  },
  {
   "cell_type": "code",
   "execution_count": 72,
   "metadata": {},
   "outputs": [],
   "source": [
    "' Basic tool: find all instances of a triad '\n",
    "triad = ('ABDEFECT', 'ABNOMORE', 'ABSINGLE')\n",
    "all_triads_df = all_triads_df.sort_values(by='Year')\n",
    "\n",
    "' Try all permutations of the triad '\n",
    "triad_instances = []\n",
    "for i in range(3):\n",
    "    for j in range(3):\n",
    "        for k in range(3):\n",
    "            ' do not append empty dataframes '\n",
    "            if not all_triads_df[all_triads_df['Triad_names'] == (triad[i], triad[j], triad[k])].empty:\n",
    "                triad_instances.append(all_triads_df[all_triads_df['Triad_names'] == (triad[i], triad[j], triad[k])])\n",
    "# print(triad_instances)"
   ]
  },
  {
   "cell_type": "code",
   "execution_count": 102,
   "metadata": {},
   "outputs": [
    {
     "data": {
      "text/plain": [
       "' Print triad frequencies '"
      ]
     },
     "execution_count": 102,
     "metadata": {},
     "output_type": "execute_result"
    },
    {
     "data": {
      "image/png": "[encoded data removed]",
      "text/plain": [
       "<Figure size 640x480 with 1 Axes>"
      ]
     },
     "metadata": {},
     "output_type": "display_data"
    }
   ],
   "source": [
    "' Basic tool: find most common triads across all years (and plot frequency distribution) '\n",
    "\n",
    "'order df by sum of abs. value triad strengths' \n",
    "all_triads_df = all_triads_df.sort_values(by='Triad_abs_sum', ascending=False)\n",
    "\n",
    "\n",
    "most_common_triads = all_triads_df['Triad_names'].value_counts()\n",
    "most_common_triads.plot(kind='line', logy=False)\n",
    "\n",
    "' Print triad frequencies '\n",
    "# print(most_common_triads[:50])"
   ]
  },
  {
   "cell_type": "code",
   "execution_count": 192,
   "metadata": {},
   "outputs": [],
   "source": [
    "import pandas as pd\n",
    "import plotly.graph_objs as go\n",
    "import plotly.express as px\n",
    "\n",
    "# Set triads to all unique triads in the DataFrame\n",
    "triads = all_triads_df['Triad_names'].unique()\n",
    "\n",
    "# Delete triads with less than 20 instances\n",
    "triad_counts = all_triads_df['Triad_names'].value_counts()\n",
    "triads = triad_counts[triad_counts > 2].index\n",
    "\n",
    "# Initialize a list to hold traces for each triad\n",
    "traces = []\n",
    "\n",
    "# Loop through each triad in the list of triads\n",
    "for triad in triads:\n",
    "    triad_strengths = pd.DataFrame()\n",
    "\n",
    "    # Extract the strength for each combination within the triad\n",
    "    for i in range(3):\n",
    "        for j in range(3):\n",
    "            for k in range(3):\n",
    "                filtered_df = all_triads_df[all_triads_df['Triad_names'] == (triad[i], triad[j], triad[k])]\n",
    "                if not filtered_df.empty:\n",
    "                    triad_strengths = pd.concat([triad_strengths, filtered_df[['Year', 'Triad_abs_sum']]])\n",
    "\n",
    "    # Sort by year\n",
    "    triad_strengths = triad_strengths.sort_values(by='Year', ascending=True)\n",
    "    \n",
    "    # Check if there is any Triad_abs_sum value >= 0.5\n",
    "    if (triad_strengths['Triad_abs_sum'] >= 0.5).any():\n",
    "        # Sort by year\n",
    "        triad_strengths = triad_strengths.sort_values(by='Year', ascending=True)\n",
    "        \n",
    "        # Add a trace for the current triad\n",
    "        traces.append(go.Scatter(\n",
    "            x=triad_strengths['Year'],\n",
    "            y=triad_strengths['Triad_abs_sum'],\n",
    "            mode='lines+markers',\n",
    "            name=f'{triad[0]}-{triad[1]}-{triad[2]}',\n",
    "            hovertemplate=f'{triad[0]}-{triad[1]}-{triad[2]}<extra></extra>'\n",
    "        ))"
   ]
  },
  {
   "cell_type": "code",
   "execution_count": 194,
   "metadata": {},
   "outputs": [
    {
     "data": {
      "application/vnd.plotly.v1+json": {
       "config": {
        "plotlyServerURL": "https://plot.ly"
       },
       "data": [
        {
         "hovertemplate": "ABNOMORE-ABPOOR-ABSINGLE<extra></extra>",
         "mode": "lines+markers",
         "name": "ABNOMORE-ABPOOR-ABSINGLE",
         "type": "scatter",
         "x": [
          1972,
          1974,
          1976,
          1978,
          1980,
          1982,
          1984,
          1986,
          1988,
          1990,
          1992,
          1994,
          1996,
          1998,
          2000,
          2002,
          2004,
          2006,
          2008,
          2010,
          2012,
          2014,
          2016
         ],
         "y": [
          1.0043206364082011,
          0.7999487605610731,
          0.7967911729573395,
          0.8027079840572263,
          0.7931475733967572,
          0.7871608663270191,
          0.7738215476016908,
          0.7809181202957245,
          0.7976101251404142,
          0.791285161660249,
          0.81450055513154,
          0.8293204395019036,
          0.825109873095889,
          0.8416321109694496,
          0.8400527575522918,
          0.8117498357581394,
          0.8143417132954661,
          0.8295466858311247,
          0.8388763034074578,
          0.8487756753746403,
          0.8361064511493282,
          0.8238945547874525,
          0.8496441291498675
         ]
        },
        {
         "hovertemplate": "ABPOOR-ABRAPE-ABSINGLE<extra></extra>",
         "mode": "lines+markers",
         "name": "ABPOOR-ABRAPE-ABSINGLE",
         "type": "scatter",
         "x": [
          1972,
          1974,
          1976,
          1978,
          1980,
          1982,
          1984,
          1986,
          1988,
          1990,
          1992,
          1994,
          1996,
          1998,
          2000,
          2002,
          2004,
          2006,
          2008,
          2010,
          2012,
          2014,
          2016
         ],
         "y": [
          0.5030409459005134,
          0.45189113074864995,
          0.42506664140156625,
          0.3832856301756521,
          0.3664940956759114,
          0.3779133607631121,
          0.38288204667292025,
          0.3471131186625671,
          0.3476122001812687,
          0.3486474929889158,
          0.3682636174506836,
          0.3621385427253957,
          0.366627437780928,
          0.3743791142141019,
          0.38168789202390996,
          0.3731937272616419,
          0.3596437162692322,
          0.3778987967615322,
          0.380119958977292,
          0.36373360322230464,
          0.38785737202501747,
          0.40262781468805897,
          0.416694351656947
         ]
        },
        {
         "hovertemplate": "CONFED-CONJUDGE-CONLEGIS<extra></extra>",
         "mode": "lines+markers",
         "name": "CONFED-CONJUDGE-CONLEGIS",
         "type": "scatter",
         "x": [
          1972,
          1974,
          1976,
          1978,
          1980,
          1982,
          1984,
          1986,
          1988,
          1990,
          1992,
          1994,
          1996,
          1998,
          2000,
          2002,
          2004,
          2006,
          2008,
          2010,
          2012,
          2014,
          2016
         ],
         "y": [
          0.38422364299368705,
          0.40434897285234583,
          0.46686702270022074,
          0.5120403503293627,
          0.4692419908020411,
          0.44991366068446187,
          0.38453965535279766,
          0.39312141408230317,
          0.4674243831039215,
          0.4651708608987141,
          0.4214101406770376,
          0.46319513118225797,
          0.4510184383038377,
          0.44356160108000786,
          0.47757031968517105,
          0.5014506208108587,
          0.5024474344027337,
          0.45801773213273284,
          0.45565708749875217,
          0.4235568145835169,
          0.4033222207086915,
          0.4103176275001792,
          0.396609925332131
         ]
        },
        {
         "hovertemplate": "COLCOM-LIBCOM-SPKCOM<extra></extra>",
         "mode": "lines+markers",
         "name": "COLCOM-LIBCOM-SPKCOM",
         "type": "scatter",
         "x": [
          1972,
          1974,
          1976,
          1978,
          1980,
          1982,
          1984,
          1986,
          1988,
          1990,
          1992,
          1994,
          1996,
          1998,
          2000,
          2002,
          2004,
          2006,
          2008,
          2010,
          2012,
          2014,
          2016
         ],
         "y": [
          0.5002510760313823,
          0.459449077800378,
          0.46140373946440516,
          0.4706253396396145,
          0.5019566741344875,
          0.5147044461318431,
          0.5023895208237279,
          0.48927997019659875,
          0.485781835617463,
          0.47849659400631056,
          0.46439411306130174,
          0.4671253011808856,
          0.46459969717671823,
          0.4461958591802895,
          0.5079546954661422,
          0.5850059558679679,
          0.5423396834203476,
          0.4993579153958468,
          0.554499903227542,
          0.5676878546697889,
          0.5481312391901327,
          0.5786740285423856,
          0.5983816866824443
         ]
        },
        {
         "hovertemplate": "LIBATH-LIBCOM-LIBHOMO<extra></extra>",
         "mode": "lines+markers",
         "name": "LIBATH-LIBCOM-LIBHOMO",
         "type": "scatter",
         "x": [
          1972,
          1974,
          1976,
          1978,
          1980,
          1982,
          1984,
          1986,
          1988,
          1990,
          1992,
          1994,
          1996,
          1998,
          2000,
          2002,
          2004,
          2006,
          2008,
          2010,
          2012,
          2014,
          2016
         ],
         "y": [
          0.6734131086432014,
          0.48815436043340327,
          0.4764500957527331,
          0.46363171583014656,
          0.4657801468905861,
          0.4714665722688844,
          0.4758973185401436,
          0.474662263650717,
          0.46883703190616693,
          0.4814440559823559,
          0.4945296499993837,
          0.4792374131713045,
          0.45908563429346444,
          0.47583481536282635,
          0.4359541995537423,
          0.3664633296998862,
          0.43394574506204053,
          0.4094705917302036,
          0.3969508500084135,
          0.38169173459586303,
          0.3898431247677464,
          0.42592725847406604,
          0.42198111696455864
         ]
        },
        {
         "hovertemplate": "ABDEFECT-ABHLTH-ABRAPE<extra></extra>",
         "mode": "lines+markers",
         "name": "ABDEFECT-ABHLTH-ABRAPE",
         "type": "scatter",
         "x": [
          1972,
          1974,
          1976,
          1978,
          1980,
          1982,
          1984,
          1986,
          1988,
          1990,
          1992,
          1994,
          1996,
          1998,
          2000,
          2002,
          2004,
          2006,
          2008,
          2010,
          2012,
          2014,
          2016
         ],
         "y": [
          0.7445186250027063,
          0.7236345488533376,
          0.7550582222496529,
          0.7877026379310501,
          0.767050346332348,
          0.7594290874875201,
          0.7501631377257628,
          0.777343642661126,
          0.772656124360555,
          0.7770659561227545,
          0.8023977401089898,
          0.7918174898335752,
          0.7922551617279701,
          0.765965855368224,
          0.7048197544283192,
          0.7024685233493084,
          0.7296875593918216,
          0.7121627257455698,
          0.6827337641265627,
          0.7053056210666855,
          0.710630760413631,
          0.6947103857502359,
          0.6669860530754246
         ]
        },
        {
         "hovertemplate": "COLHOMO-LIBHOMO-SPKHOMO<extra></extra>",
         "mode": "lines+markers",
         "name": "COLHOMO-LIBHOMO-SPKHOMO",
         "type": "scatter",
         "x": [
          1972,
          1974,
          1976,
          1978,
          1980,
          1982,
          1984,
          1986,
          1988,
          1990,
          1992,
          1994,
          1996,
          1998,
          2000,
          2002,
          2004,
          2006,
          2008,
          2010,
          2012,
          2014,
          2016
         ],
         "y": [
          0.6220595500329738,
          0.6519606996462297,
          0.6721458302526636,
          0.7295560180827824,
          0.6989287299286687,
          0.683993750895058,
          0.6734750720633118,
          0.6723822029317994,
          0.6816146616417695,
          0.6741979004436073,
          0.6638942300167661,
          0.6529460679607181,
          0.6266884791076411,
          0.6648861620921683,
          0.7110208958017836,
          0.6726208882215928,
          0.6164055750463244,
          0.6882080188736107,
          0.7496055501649265,
          0.716276934221239,
          0.7365216961221682,
          0.763494132225178,
          0.7695894828208514
         ]
        },
        {
         "hovertemplate": "ABANY-ABNOMORE-ABSINGLE<extra></extra>",
         "mode": "lines+markers",
         "name": "ABANY-ABNOMORE-ABSINGLE",
         "type": "scatter",
         "x": [
          1974,
          1976,
          1978,
          1980,
          1982,
          1984,
          1986,
          1988,
          1990,
          1992,
          1994,
          1996,
          1998,
          2000,
          2002,
          2004,
          2006,
          2008,
          2010,
          2012,
          2014,
          2016
         ],
         "y": [
          0.7691949834234926,
          0.7798208751079643,
          0.816816622074491,
          0.8038356797055375,
          0.8263575184516764,
          0.8417499157610362,
          0.8425094803573772,
          0.8533677616484466,
          0.8433653502935228,
          0.8197070236127788,
          0.8077767959022539,
          0.8251995370339027,
          0.8289037504797575,
          0.8209178803745278,
          0.8378377558466761,
          0.8367624496990601,
          0.812577301513639,
          0.7783383700926186,
          0.7952095204620986,
          0.7977905201901712,
          0.7779465563845351,
          0.7386991957292206
         ]
        },
        {
         "hovertemplate": "LIBATH-LIBMIL-LIBRAC<extra></extra>",
         "mode": "lines+markers",
         "name": "LIBATH-LIBMIL-LIBRAC",
         "type": "scatter",
         "x": [
          1974,
          1976,
          1978,
          1980,
          1982,
          1984,
          1986,
          1988,
          1990,
          1992,
          1994,
          1996,
          1998,
          2000,
          2002,
          2004,
          2006,
          2008,
          2010,
          2012,
          2014,
          2016
         ],
         "y": [
          0.45819852753046036,
          0.4644137849079421,
          0.4071224975662283,
          0.4776775255145094,
          0.46963367684751717,
          0.4401957252441355,
          0.4411843985538268,
          0.44784019410325593,
          0.47511437280551794,
          0.47775231919821254,
          0.504946940274672,
          0.49417898923085113,
          0.4577150772084737,
          0.4638273553152146,
          0.4338194435204418,
          0.4284079885640032,
          0.37155249243087596,
          0.3872642414464532,
          0.39153195357567594,
          0.340822215627164,
          0.3463121512047632,
          0.34414040970019255
         ]
        },
        {
         "hovertemplate": "COLRAC-LIBRAC-SPKRAC<extra></extra>",
         "mode": "lines+markers",
         "name": "COLRAC-LIBRAC-SPKRAC",
         "type": "scatter",
         "x": [
          1974,
          1976,
          1978,
          1980,
          1982,
          1984,
          1986,
          1988,
          1990,
          1992,
          1994,
          1996,
          1998,
          2000,
          2002,
          2004,
          2006,
          2008,
          2010,
          2012,
          2014,
          2016
         ],
         "y": [
          0.4158585908897816,
          0.41768816757554805,
          0.4910543186255645,
          0.457585791465966,
          0.4632449485526877,
          0.4776328459032151,
          0.4459383880073846,
          0.42914386705613433,
          0.41578070348193774,
          0.41620859809769595,
          0.41615590101538424,
          0.42810905744243594,
          0.49396401614056396,
          0.5122646378892024,
          0.4163055706427432,
          0.3793642884303945,
          0.37129998125892044,
          0.4067699876609593,
          0.42759849127094,
          0.46841809700799264,
          0.4823419363121708,
          0.4925031981123557
         ]
        },
        {
         "hovertemplate": "LIBCOM-LIBMIL-LIBRAC<extra></extra>",
         "mode": "lines+markers",
         "name": "LIBCOM-LIBMIL-LIBRAC",
         "type": "scatter",
         "x": [
          1974,
          1976,
          1978,
          1980,
          1982,
          1984,
          1986,
          1988,
          1990,
          1992,
          1994,
          1996,
          1998,
          2000,
          2002,
          2004,
          2006,
          2008,
          2010,
          2012,
          2014,
          2016
         ],
         "y": [
          0.4311284723173324,
          0.4365308780852649,
          0.5151683541192092,
          0.5032906975381466,
          0.47387235319916515,
          0.4513532945286068,
          0.46202611943933175,
          0.5067291729860218,
          0.5116537318192707,
          0.4838688949676021,
          0.5007485438290035,
          0.5175443147558755,
          0.5007400211632672,
          0.49189916111700355,
          0.5252119145222385,
          0.4941313981969149,
          0.40631739148164525,
          0.419165574210247,
          0.43126807398840283,
          0.4194161177182708,
          0.3719242493399464,
          0.33642373173898643
         ]
        },
        {
         "hovertemplate": "ABANY-ABPOOR-ABSINGLE<extra></extra>",
         "mode": "lines+markers",
         "name": "ABANY-ABPOOR-ABSINGLE",
         "type": "scatter",
         "x": [
          1974,
          1976,
          1978,
          1980,
          1982,
          1984,
          1986,
          1988,
          1990,
          1992,
          1994,
          1996,
          1998,
          2000,
          2002,
          2004,
          2006,
          2008,
          2010,
          2012,
          2014,
          2016
         ],
         "y": [
          0.6509992565472891,
          0.6375681249874465,
          0.6464714624033889,
          0.6760788435554458,
          0.7115485274626951,
          0.7500332534960279,
          0.752451309614147,
          0.7256873785305584,
          0.711535469786612,
          0.7672337713396187,
          0.7999146524818381,
          0.7954623872860264,
          0.7769387113569824,
          0.7866614403667939,
          0.804087144142007,
          0.7866686667275461,
          0.7564045410638146,
          0.7497815902313748,
          0.7561273575472982,
          0.7855454046255842,
          0.8086628601581958,
          0.7833875290337455
         ]
        },
        {
         "hovertemplate": "ABANY-ABNOMORE-ABPOOR<extra></extra>",
         "mode": "lines+markers",
         "name": "ABANY-ABNOMORE-ABPOOR",
         "type": "scatter",
         "x": [
          1974,
          1976,
          1978,
          1980,
          1982,
          1984,
          1986,
          1988,
          1990,
          1992,
          1994,
          1996,
          1998,
          2000,
          2002,
          2004,
          2006,
          2008,
          2010,
          2012,
          2014,
          2016
         ],
         "y": [
          0.6861944490129364,
          0.6746196623219463,
          0.6955463892932404,
          0.7003752754874544,
          0.701432540187526,
          0.7047069648677402,
          0.7009523586391304,
          0.6965265783857427,
          0.7126427219690441,
          0.7577729922334302,
          0.744008879110736,
          0.7386909593046146,
          0.7443846323478407,
          0.7204104039796576,
          0.6805282733864164,
          0.6773895515799164,
          0.6774739919008532,
          0.6559716968176331,
          0.6333909576760068,
          0.6724211743799766,
          0.6534161238335894,
          0.6322203561718557
         ]
        },
        {
         "hovertemplate": "COLATH-COLMIL-COLRAC<extra></extra>",
         "mode": "lines+markers",
         "name": "COLATH-COLMIL-COLRAC",
         "type": "scatter",
         "x": [
          1974,
          1976,
          1978,
          1980,
          1982,
          1984,
          1986,
          1988,
          1990,
          1992,
          1994,
          1996,
          1998,
          2000,
          2002,
          2004,
          2006,
          2008,
          2010,
          2012,
          2014,
          2016
         ],
         "y": [
          0.5459165219047551,
          0.5488348069108124,
          0.5277918312987832,
          0.5547027136257694,
          0.5723722415516579,
          0.5728321093496356,
          0.5786334690441609,
          0.5911822604945354,
          0.607893959333811,
          0.6153009960235436,
          0.6144711491151343,
          0.5986730643714675,
          0.5701786178783741,
          0.5759754896873185,
          0.5906875816506758,
          0.5763539541800574,
          0.5247363822177111,
          0.5052958058340875,
          0.4714375539559116,
          0.4330496217013823,
          0.4195363289736632,
          0.4301736041116443
         ]
        },
        {
         "hovertemplate": "COLMIL-LIBMIL-SPKMIL<extra></extra>",
         "mode": "lines+markers",
         "name": "COLMIL-LIBMIL-SPKMIL",
         "type": "scatter",
         "x": [
          1974,
          1976,
          1978,
          1980,
          1982,
          1984,
          1986,
          1988,
          1990,
          1992,
          1994,
          1996,
          1998,
          2000,
          2002,
          2004,
          2006,
          2008,
          2010,
          2012,
          2014,
          2016
         ],
         "y": [
          0.5508503178420963,
          0.5542304244436165,
          0.5546305276765184,
          0.5338854537481129,
          0.5474017000635536,
          0.5564479442190443,
          0.527106460732641,
          0.5237791736280475,
          0.5393057820532181,
          0.5442096664240315,
          0.5327090012870599,
          0.5437645260617122,
          0.5756842026981465,
          0.5684327194451697,
          0.5006488733181025,
          0.4868121349301522,
          0.4690167843557639,
          0.5370465561160835,
          0.5703223135763654,
          0.5997809746068034,
          0.6062790725539607,
          0.5969942243395173
         ]
        },
        {
         "hovertemplate": "LIBATH-LIBCOM-LIBRAC<extra></extra>",
         "mode": "lines+markers",
         "name": "LIBATH-LIBCOM-LIBRAC",
         "type": "scatter",
         "x": [
          1974,
          1976,
          1978,
          1980,
          1982,
          1984,
          1986,
          1988,
          1990,
          1992,
          1994,
          1996,
          1998,
          2000,
          2002,
          2004,
          2006,
          2008,
          2010,
          2012,
          2014,
          2016
         ],
         "y": [
          0.5686960781203503,
          0.5743749191991104,
          0.5482563752942435,
          0.5623192494770716,
          0.545613173930513,
          0.5212592529459399,
          0.5038690793510433,
          0.4954043549678444,
          0.5298609179627463,
          0.5669550610355969,
          0.5351484710295387,
          0.5477044114713967,
          0.58634126455043,
          0.5519706435350424,
          0.4973609345090732,
          0.5499504137891957,
          0.5164241241914398,
          0.5110173646714695,
          0.476291485564135,
          0.4635111158839196,
          0.4607594075809617,
          0.43271115338952426
         ]
        },
        {
         "hovertemplate": "LIBCOM-LIBHOMO-LIBMIL<extra></extra>",
         "mode": "lines+markers",
         "name": "LIBCOM-LIBHOMO-LIBMIL",
         "type": "scatter",
         "x": [
          1974,
          1976,
          1978,
          1980,
          1982,
          1984,
          1986,
          1988,
          1990,
          1992,
          1994,
          1996,
          1998,
          2000,
          2002,
          2004,
          2006,
          2008,
          2010,
          2012,
          2014,
          2016
         ],
         "y": [
          0.5421504792936556,
          0.534487346562899,
          0.5277273318323046,
          0.5321317164911363,
          0.5251583616448581,
          0.5438746740367526,
          0.5719229689337788,
          0.5403689342892322,
          0.5146235677716606,
          0.5250063075812591,
          0.5157759563873989,
          0.5177609823899317,
          0.5234822873850009,
          0.5032418952525859,
          0.5161582305846628,
          0.5237839247245945,
          0.43749746228044367,
          0.41677590534073494,
          0.41466542131657425,
          0.4034378823548158,
          0.40176825559195595,
          0.39126401191899074
         ]
        },
        {
         "hovertemplate": "ATTEND-PREMARSX-RELITEN<extra></extra>",
         "mode": "lines+markers",
         "name": "ATTEND-PREMARSX-RELITEN",
         "type": "scatter",
         "x": [
          1972,
          1974,
          1976,
          1980,
          1982,
          1984,
          1986,
          1988,
          1990,
          1992,
          1994,
          1996,
          1998,
          2000,
          2002,
          2004,
          2006,
          2008,
          2010,
          2012,
          2014,
          2016
         ],
         "y": [
          0.4734837657765563,
          0.4729363105003759,
          0.4921135073513781,
          0.4976050891698621,
          0.506451321352037,
          0.5055955048161513,
          0.47540769820753304,
          0.4755334693968599,
          0.49127326242822567,
          0.4955657466244259,
          0.4929813674450829,
          0.5014289292003616,
          0.5236376247828363,
          0.5117505777345406,
          0.5390411969775977,
          0.5350310478690744,
          0.5268839975412318,
          0.5501956499412897,
          0.5658717565325011,
          0.5533560437994001,
          0.5445780570125864,
          0.5173435414731566
         ]
        },
        {
         "hovertemplate": "LIBATH-LIBCOM-LIBMIL<extra></extra>",
         "mode": "lines+markers",
         "name": "LIBATH-LIBCOM-LIBMIL",
         "type": "scatter",
         "x": [
          1974,
          1976,
          1978,
          1980,
          1982,
          1984,
          1986,
          1988,
          1990,
          1992,
          1994,
          1996,
          1998,
          2000,
          2002,
          2004,
          2006,
          2008,
          2010,
          2012,
          2014,
          2016
         ],
         "y": [
          0.5298642408431602,
          0.5389701940957372,
          0.5425076780443523,
          0.5371831486116714,
          0.5413330227376136,
          0.5260350760650774,
          0.5192308842506738,
          0.557438349766134,
          0.5564994519787546,
          0.5455703032148931,
          0.5649035544659357,
          0.5541245321192805,
          0.5414259378736765,
          0.501378461086189,
          0.3915713332900523,
          0.45554940897605345,
          0.44345511434756635,
          0.4722473240081565,
          0.4667792810462111,
          0.44330153929351385,
          0.4614367013557934,
          0.48048638026967855
         ]
        },
        {
         "hovertemplate": "FAIR-HELPFUL-TRUST<extra></extra>",
         "mode": "lines+markers",
         "name": "FAIR-HELPFUL-TRUST",
         "type": "scatter",
         "x": [
          1972,
          1976,
          1978,
          1980,
          1982,
          1984,
          1986,
          1988,
          1990,
          1992,
          1994,
          1996,
          1998,
          2000,
          2002,
          2004,
          2006,
          2008,
          2010,
          2012,
          2014,
          2016
         ],
         "y": [
          0.5424800821542342,
          0.5201091399393024,
          0.49303350563418724,
          0.5127637772237761,
          0.48680327010153435,
          0.47720015628586954,
          0.48351526947411716,
          0.4902650975069237,
          0.47112146112633996,
          0.46903497231858454,
          0.48047916740222807,
          0.4883404762248348,
          0.49527185694589065,
          0.483686939609682,
          0.4979555870882614,
          0.49640520241030256,
          0.49373777293248766,
          0.49816839508533584,
          0.5178531287049528,
          0.4911597089471559,
          0.46296129597132174,
          0.47228579553417194
         ]
        },
        {
         "hovertemplate": "LETDIE1-PREMARSX-SUICIDE1<extra></extra>",
         "mode": "lines+markers",
         "name": "LETDIE1-PREMARSX-SUICIDE1",
         "type": "scatter",
         "x": [
          1974,
          1976,
          1980,
          1982,
          1984,
          1986,
          1988,
          1990,
          1992,
          1994,
          1996,
          1998,
          2000,
          2002,
          2004,
          2006,
          2008,
          2010,
          2012,
          2014,
          2016
         ],
         "y": [
          0.34864447723999525,
          0.3109399415534764,
          0.3342430508992745,
          0.34599718592013934,
          0.35602040032894916,
          0.38392489016128645,
          0.3788836933450487,
          0.3962398380267982,
          0.5081732489826142,
          0.49530679261884947,
          0.4644561179460324,
          0.47692825225229807,
          0.45446793599568036,
          0.42911603933421244,
          0.41769768799986606,
          0.40358825787892316,
          0.3874491806054075,
          0.3732338246189188,
          0.4040124014190802,
          0.42412775818837906,
          0.39471283035156407
         ]
        },
        {
         "hovertemplate": "POLATTAK-POLESCAP-POLHITOK<extra></extra>",
         "mode": "lines+markers",
         "name": "POLATTAK-POLESCAP-POLHITOK",
         "type": "scatter",
         "x": [
          1976,
          1978,
          1980,
          1982,
          1984,
          1986,
          1988,
          1990,
          1992,
          1994,
          1996,
          1998,
          2000,
          2002,
          2004,
          2006,
          2008,
          2010,
          2012,
          2014,
          2016
         ],
         "y": [
          0.31406559463009803,
          0.26484370067870666,
          0.3073622522871566,
          0.3079312493574945,
          0.3063608687352527,
          0.3223155740914143,
          0.3760384968960835,
          0.43150272307078913,
          0.43257644346392693,
          0.43536850199748567,
          0.44537025280581577,
          0.44015552848038275,
          0.43828188754716474,
          0.5129725328470844,
          0.4858112749869072,
          0.473990040885104,
          0.4861522943773697,
          0.5025425863511421,
          0.5390175589932542,
          0.501633305377551,
          0.45136286432967027
         ]
        },
        {
         "hovertemplate": "ATTEND-CONCLERG-RELITEN<extra></extra>",
         "mode": "lines+markers",
         "name": "ATTEND-CONCLERG-RELITEN",
         "type": "scatter",
         "x": [
          1972,
          1974,
          1976,
          1978,
          1980,
          1982,
          1988,
          1992,
          1994,
          1996,
          1998,
          2000,
          2002,
          2004,
          2006,
          2008,
          2010,
          2012,
          2014,
          2016
         ],
         "y": [
          0.374047025161555,
          0.34294096085948256,
          0.3086602688350401,
          0.3907331205368049,
          0.3839058092754314,
          0.3726516353681463,
          0.405217388198307,
          0.4057040564324006,
          0.40779554466597556,
          0.4166467335959511,
          0.43612319868666993,
          0.42186266683848256,
          0.4460905785766849,
          0.4800421992988535,
          0.5003768601602125,
          0.5335163059187199,
          0.5167010627307186,
          0.49955933931793756,
          0.5213033678780026,
          0.513128735394426
         ]
        },
        {
         "hovertemplate": "FECHLD-FEFAM-FEPRESCH<extra></extra>",
         "mode": "lines+markers",
         "name": "FECHLD-FEFAM-FEPRESCH",
         "type": "scatter",
         "x": [
          1974,
          1984,
          1986,
          1988,
          1990,
          1992,
          1994,
          1996,
          1998,
          2000,
          2002,
          2004,
          2006,
          2008,
          2010,
          2012,
          2014,
          2016
         ],
         "y": [
          0.6936687312843737,
          0.6814259636553293,
          0.6924287553414579,
          0.6917389956261033,
          0.6968527431488147,
          0.6780260419322213,
          0.6591017322311625,
          0.642174509515653,
          0.6119502911581214,
          0.5543001456653798,
          0.5361123654451144,
          0.596607670950893,
          0.5851508015335056,
          0.5602349039893055,
          0.5564234773543838,
          0.566660100856492,
          0.5827079760953565,
          0.5485609662775024
         ]
        },
        {
         "hovertemplate": "PARTYID-POLVIEWS-PRESLAST_DEMREP<extra></extra>",
         "mode": "lines+markers",
         "name": "PARTYID-POLVIEWS-PRESLAST_DEMREP",
         "type": "scatter",
         "x": [
          1982,
          1984,
          1986,
          1988,
          1990,
          1992,
          1996,
          1998,
          2000,
          2002,
          2004,
          2006,
          2008,
          2010,
          2012,
          2014,
          2016
         ],
         "y": [
          0.5309143112433062,
          0.579536012337433,
          0.6082010273403533,
          0.6034283291479157,
          0.6194928035223051,
          0.7171539992423713,
          0.6972209722223329,
          0.693059857075094,
          0.6978582848103607,
          0.7363741178609959,
          0.7674567068249356,
          0.7709111523490322,
          0.7604733492995268,
          0.7435030084396695,
          0.7470431623278271,
          0.7428664618230639,
          0.7414168099870768
         ]
        },
        {
         "hovertemplate": "ABDEFECT-LETDIE1-SUICIDE1<extra></extra>",
         "mode": "lines+markers",
         "name": "ABDEFECT-LETDIE1-SUICIDE1",
         "type": "scatter",
         "x": [
          1982,
          1984,
          1986,
          1988,
          1990,
          1992,
          1994,
          1996,
          1998,
          2000,
          2002,
          2008,
          2012,
          2014,
          2016
         ],
         "y": [
          0.347852728444341,
          0.39662965078870205,
          0.3798009276958888,
          0.37277757111505394,
          0.4090324632380721,
          0.5399160259678635,
          0.5304102162663829,
          0.5348212103518086,
          0.5013875550896084,
          0.4385285759080827,
          0.42979745996802415,
          0.34609451037313527,
          0.4000759569213322,
          0.39382867827844376,
          0.42330623309454185
         ]
        },
        {
         "hovertemplate": "EQWLTH-PARTYID-PRESLAST_DEMREP<extra></extra>",
         "mode": "lines+markers",
         "name": "EQWLTH-PARTYID-PRESLAST_DEMREP",
         "type": "scatter",
         "x": [
          1982,
          1984,
          1986,
          1990,
          1992,
          1996,
          2000,
          2002,
          2004,
          2006,
          2008,
          2010,
          2012,
          2014,
          2016
         ],
         "y": [
          0.5120374107306481,
          0.5290568954366133,
          0.5166482645457962,
          0.5229362629720081,
          0.5556652785341469,
          0.5344627317793992,
          0.565400255022332,
          0.5558968123065248,
          0.5611733930552909,
          0.548145781464195,
          0.546814122884333,
          0.5945326635573946,
          0.6222714459239749,
          0.6181026514234302,
          0.5805146476727635
         ]
        },
        {
         "hovertemplate": "HELPPOOR-PARTYID-PRESLAST_DEMREP<extra></extra>",
         "mode": "lines+markers",
         "name": "HELPPOOR-PARTYID-PRESLAST_DEMREP",
         "type": "scatter",
         "x": [
          1982,
          1984,
          1990,
          1992,
          1996,
          2000,
          2002,
          2004,
          2006,
          2008,
          2010,
          2012,
          2014,
          2016
         ],
         "y": [
          0.5246720345746562,
          0.5253094569624583,
          0.5245618989680297,
          0.5521658754039942,
          0.5001207616723456,
          0.5526347162086338,
          0.5705192924962343,
          0.5380765210928247,
          0.5499605820282214,
          0.5408605942528353,
          0.5196050982244991,
          0.558076468259805,
          0.5682857554249975,
          0.5644345880287384
         ]
        },
        {
         "hovertemplate": "NATRACE-PARTYID-PRESLAST_DEMREP<extra></extra>",
         "mode": "lines+markers",
         "name": "NATRACE-PARTYID-PRESLAST_DEMREP",
         "type": "scatter",
         "x": [
          1980,
          1996,
          2000,
          2002,
          2004,
          2006,
          2008,
          2010,
          2012,
          2014,
          2016
         ],
         "y": [
          0.4736003302915509,
          0.5321300570587807,
          0.5508816400594696,
          0.5512295788474271,
          0.5749960371934131,
          0.5848321739049681,
          0.5565516616033365,
          0.562974590717366,
          0.5461232479676592,
          0.5149590407015476,
          0.514490560517418
         ]
        },
        {
         "hovertemplate": "LIBATH-LIBCOM-SPKCOM<extra></extra>",
         "mode": "lines+markers",
         "name": "LIBATH-LIBCOM-SPKCOM",
         "type": "scatter",
         "x": [
          1972,
          1974,
          1978,
          1992,
          1994,
          2014,
          2016
         ],
         "y": [
          0.5188849829194547,
          0.4172296405297964,
          0.41379360071479954,
          0.4155453281871374,
          0.386419460634974,
          0.42083244437953843,
          0.40878226696794306
         ]
        },
        {
         "hovertemplate": "CAPPUN-PARTYID-PRESLAST_DEMREP<extra></extra>",
         "mode": "lines+markers",
         "name": "CAPPUN-PARTYID-PRESLAST_DEMREP",
         "type": "scatter",
         "x": [
          2002,
          2008,
          2010,
          2012,
          2014,
          2016
         ],
         "y": [
          0.5181913533010828,
          0.47201327110293306,
          0.48420044511087057,
          0.5151388222891375,
          0.509062597900575,
          0.502443604854123
         ]
        },
        {
         "hovertemplate": "COLMSLM-LIBMSLM-SPKMSLM<extra></extra>",
         "mode": "lines+markers",
         "name": "COLMSLM-LIBMSLM-SPKMSLM",
         "type": "scatter",
         "x": [
          2006,
          2008,
          2010,
          2012,
          2014,
          2016
         ],
         "y": [
          0.718138621692832,
          0.7335385519288006,
          0.7376489015416916,
          0.7456335392067313,
          0.7364155713437252,
          0.7114642481812156
         ]
        },
        {
         "hovertemplate": "CONFED-PARTYID-PRESLAST_DEMREP<extra></extra>",
         "mode": "lines+markers",
         "name": "CONFED-PARTYID-PRESLAST_DEMREP",
         "type": "scatter",
         "x": [
          2002,
          2004,
          2010,
          2012,
          2014
         ],
         "y": [
          0.6202905128073323,
          0.6480673125572936,
          0.5511462628319738,
          0.5535597722745891,
          0.5546353292968655
         ]
        },
        {
         "hovertemplate": "COLHOMO-SPKCOM-SPKHOMO<extra></extra>",
         "mode": "lines+markers",
         "name": "COLHOMO-SPKCOM-SPKHOMO",
         "type": "scatter",
         "x": [
          1972,
          1974,
          1976,
          2008
         ],
         "y": [
          0.5243009509450369,
          0.5116512516720421,
          0.503344895591455,
          0.492499440842679
         ]
        },
        {
         "hovertemplate": "NATFARE-PARTYID-PRESLAST_DEMREP<extra></extra>",
         "mode": "lines+markers",
         "name": "NATFARE-PARTYID-PRESLAST_DEMREP",
         "type": "scatter",
         "x": [
          2004,
          2006,
          2008
         ],
         "y": [
          0.5028533067252603,
          0.4771607741104287,
          0.46887224041196446
         ]
        }
       ],
       "layout": {
        "hovermode": "closest",
        "legend": {
         "orientation": "v",
         "title": {
          "text": "Triads"
         },
         "x": 1.05,
         "y": 1
        },
        "template": {
         "data": {
          "bar": [
           {
            "error_x": {
             "color": "#2a3f5f"
            },
            "error_y": {
             "color": "#2a3f5f"
            },
            "marker": {
             "line": {
              "color": "#E5ECF6",
              "width": 0.5
             },
             "pattern": {
              "fillmode": "overlay",
              "size": 10,
              "solidity": 0.2
             }
            },
            "type": "bar"
           }
          ],
          "barpolar": [
           {
            "marker": {
             "line": {
              "color": "#E5ECF6",
              "width": 0.5
             },
             "pattern": {
              "fillmode": "overlay",
              "size": 10,
              "solidity": 0.2
             }
            },
            "type": "barpolar"
           }
          ],
          "carpet": [
           {
            "aaxis": {
             "endlinecolor": "#2a3f5f",
             "gridcolor": "white",
             "linecolor": "white",
             "minorgridcolor": "white",
             "startlinecolor": "#2a3f5f"
            },
            "baxis": {
             "endlinecolor": "#2a3f5f",
             "gridcolor": "white",
             "linecolor": "white",
             "minorgridcolor": "white",
             "startlinecolor": "#2a3f5f"
            },
            "type": "carpet"
           }
          ],
          "choropleth": [
           {
            "colorbar": {
             "outlinewidth": 0,
             "ticks": ""
            },
            "type": "choropleth"
           }
          ],
          "contour": [
           {
            "colorbar": {
             "outlinewidth": 0,
             "ticks": ""
            },
            "colorscale": [
             [
              0,
              "#0d0887"
             ],
             [
              0.1111111111111111,
              "#46039f"
             ],
             [
              0.2222222222222222,
              "#7201a8"
             ],
             [
              0.3333333333333333,
              "#9c179e"
             ],
             [
              0.4444444444444444,
              "#bd3786"
             ],
             [
              0.5555555555555556,
              "#d8576b"
             ],
             [
              0.6666666666666666,
              "#ed7953"
             ],
             [
              0.7777777777777778,
              "#fb9f3a"
             ],
             [
              0.8888888888888888,
              "#fdca26"
             ],
             [
              1,
              "#f0f921"
             ]
            ],
            "type": "contour"
           }
          ],
          "contourcarpet": [
           {
            "colorbar": {
             "outlinewidth": 0,
             "ticks": ""
            },
            "type": "contourcarpet"
           }
          ],
          "heatmap": [
           {
            "colorbar": {
             "outlinewidth": 0,
             "ticks": ""
            },
            "colorscale": [
             [
              0,
              "#0d0887"
             ],
             [
              0.1111111111111111,
              "#46039f"
             ],
             [
              0.2222222222222222,
              "#7201a8"
             ],
             [
              0.3333333333333333,
              "#9c179e"
             ],
             [
              0.4444444444444444,
              "#bd3786"
             ],
             [
              0.5555555555555556,
              "#d8576b"
             ],
             [
              0.6666666666666666,
              "#ed7953"
             ],
             [
              0.7777777777777778,
              "#fb9f3a"
             ],
             [
              0.8888888888888888,
              "#fdca26"
             ],
             [
              1,
              "#f0f921"
             ]
            ],
            "type": "heatmap"
           }
          ],
          "heatmapgl": [
           {
            "colorbar": {
             "outlinewidth": 0,
             "ticks": ""
            },
            "colorscale": [
             [
              0,
              "#0d0887"
             ],
             [
              0.1111111111111111,
              "#46039f"
             ],
             [
              0.2222222222222222,
              "#7201a8"
             ],
             [
              0.3333333333333333,
              "#9c179e"
             ],
             [
              0.4444444444444444,
              "#bd3786"
             ],
             [
              0.5555555555555556,
              "#d8576b"
             ],
             [
              0.6666666666666666,
              "#ed7953"
             ],
             [
              0.7777777777777778,
              "#fb9f3a"
             ],
             [
              0.8888888888888888,
              "#fdca26"
             ],
             [
              1,
              "#f0f921"
             ]
            ],
            "type": "heatmapgl"
           }
          ],
          "histogram": [
           {
            "marker": {
             "pattern": {
              "fillmode": "overlay",
              "size": 10,
              "solidity": 0.2
             }
            },
            "type": "histogram"
           }
          ],
          "histogram2d": [
           {
            "colorbar": {
             "outlinewidth": 0,
             "ticks": ""
            },
            "colorscale": [
             [
              0,
              "#0d0887"
             ],
             [
              0.1111111111111111,
              "#46039f"
             ],
             [
              0.2222222222222222,
              "#7201a8"
             ],
             [
              0.3333333333333333,
              "#9c179e"
             ],
             [
              0.4444444444444444,
              "#bd3786"
             ],
             [
              0.5555555555555556,
              "#d8576b"
             ],
             [
              0.6666666666666666,
              "#ed7953"
             ],
             [
              0.7777777777777778,
              "#fb9f3a"
             ],
             [
              0.8888888888888888,
              "#fdca26"
             ],
             [
              1,
              "#f0f921"
             ]
            ],
            "type": "histogram2d"
           }
          ],
          "histogram2dcontour": [
           {
            "colorbar": {
             "outlinewidth": 0,
             "ticks": ""
            },
            "colorscale": [
             [
              0,
              "#0d0887"
             ],
             [
              0.1111111111111111,
              "#46039f"
             ],
             [
              0.2222222222222222,
              "#7201a8"
             ],
             [
              0.3333333333333333,
              "#9c179e"
             ],
             [
              0.4444444444444444,
              "#bd3786"
             ],
             [
              0.5555555555555556,
              "#d8576b"
             ],
             [
              0.6666666666666666,
              "#ed7953"
             ],
             [
              0.7777777777777778,
              "#fb9f3a"
             ],
             [
              0.8888888888888888,
              "#fdca26"
             ],
             [
              1,
              "#f0f921"
             ]
            ],
            "type": "histogram2dcontour"
           }
          ],
          "mesh3d": [
           {
            "colorbar": {
             "outlinewidth": 0,
             "ticks": ""
            },
            "type": "mesh3d"
           }
          ],
          "parcoords": [
           {
            "line": {
             "colorbar": {
              "outlinewidth": 0,
              "ticks": ""
             }
            },
            "type": "parcoords"
           }
          ],
          "pie": [
           {
            "automargin": true,
            "type": "pie"
           }
          ],
          "scatter": [
           {
            "fillpattern": {
             "fillmode": "overlay",
             "size": 10,
             "solidity": 0.2
            },
            "type": "scatter"
           }
          ],
          "scatter3d": [
           {
            "line": {
             "colorbar": {
              "outlinewidth": 0,
              "ticks": ""
             }
            },
            "marker": {
             "colorbar": {
              "outlinewidth": 0,
              "ticks": ""
             }
            },
            "type": "scatter3d"
           }
          ],
          "scattercarpet": [
           {
            "marker": {
             "colorbar": {
              "outlinewidth": 0,
              "ticks": ""
             }
            },
            "type": "scattercarpet"
           }
          ],
          "scattergeo": [
           {
            "marker": {
             "colorbar": {
              "outlinewidth": 0,
              "ticks": ""
             }
            },
            "type": "scattergeo"
           }
          ],
          "scattergl": [
           {
            "marker": {
             "colorbar": {
              "outlinewidth": 0,
              "ticks": ""
             }
            },
            "type": "scattergl"
           }
          ],
          "scattermapbox": [
           {
            "marker": {
             "colorbar": {
              "outlinewidth": 0,
              "ticks": ""
             }
            },
            "type": "scattermapbox"
           }
          ],
          "scatterpolar": [
           {
            "marker": {
             "colorbar": {
              "outlinewidth": 0,
              "ticks": ""
             }
            },
            "type": "scatterpolar"
           }
          ],
          "scatterpolargl": [
           {
            "marker": {
             "colorbar": {
              "outlinewidth": 0,
              "ticks": ""
             }
            },
            "type": "scatterpolargl"
           }
          ],
          "scatterternary": [
           {
            "marker": {
             "colorbar": {
              "outlinewidth": 0,
              "ticks": ""
             }
            },
            "type": "scatterternary"
           }
          ],
          "surface": [
           {
            "colorbar": {
             "outlinewidth": 0,
             "ticks": ""
            },
            "colorscale": [
             [
              0,
              "#0d0887"
             ],
             [
              0.1111111111111111,
              "#46039f"
             ],
             [
              0.2222222222222222,
              "#7201a8"
             ],
             [
              0.3333333333333333,
              "#9c179e"
             ],
             [
              0.4444444444444444,
              "#bd3786"
             ],
             [
              0.5555555555555556,
              "#d8576b"
             ],
             [
              0.6666666666666666,
              "#ed7953"
             ],
             [
              0.7777777777777778,
              "#fb9f3a"
             ],
             [
              0.8888888888888888,
              "#fdca26"
             ],
             [
              1,
              "#f0f921"
             ]
            ],
            "type": "surface"
           }
          ],
          "table": [
           {
            "cells": {
             "fill": {
              "color": "#EBF0F8"
             },
             "line": {
              "color": "white"
             }
            },
            "header": {
             "fill": {
              "color": "#C8D4E3"
             },
             "line": {
              "color": "white"
             }
            },
            "type": "table"
           }
          ]
         },
         "layout": {
          "annotationdefaults": {
           "arrowcolor": "#2a3f5f",
           "arrowhead": 0,
           "arrowwidth": 1
          },
          "autotypenumbers": "strict",
          "coloraxis": {
           "colorbar": {
            "outlinewidth": 0,
            "ticks": ""
           }
          },
          "colorscale": {
           "diverging": [
            [
             0,
             "#8e0152"
            ],
            [
             0.1,
             "#c51b7d"
            ],
            [
             0.2,
             "#de77ae"
            ],
            [
             0.3,
             "#f1b6da"
            ],
            [
             0.4,
             "#fde0ef"
            ],
            [
             0.5,
             "#f7f7f7"
            ],
            [
             0.6,
             "#e6f5d0"
            ],
            [
             0.7,
             "#b8e186"
            ],
            [
             0.8,
             "#7fbc41"
            ],
            [
             0.9,
             "#4d9221"
            ],
            [
             1,
             "#276419"
            ]
           ],
           "sequential": [
            [
             0,
             "#0d0887"
            ],
            [
             0.1111111111111111,
             "#46039f"
            ],
            [
             0.2222222222222222,
             "#7201a8"
            ],
            [
             0.3333333333333333,
             "#9c179e"
            ],
            [
             0.4444444444444444,
             "#bd3786"
            ],
            [
             0.5555555555555556,
             "#d8576b"
            ],
            [
             0.6666666666666666,
             "#ed7953"
            ],
            [
             0.7777777777777778,
             "#fb9f3a"
            ],
            [
             0.8888888888888888,
             "#fdca26"
            ],
            [
             1,
             "#f0f921"
            ]
           ],
           "sequentialminus": [
            [
             0,
             "#0d0887"
            ],
            [
             0.1111111111111111,
             "#46039f"
            ],
            [
             0.2222222222222222,
             "#7201a8"
            ],
            [
             0.3333333333333333,
             "#9c179e"
            ],
            [
             0.4444444444444444,
             "#bd3786"
            ],
            [
             0.5555555555555556,
             "#d8576b"
            ],
            [
             0.6666666666666666,
             "#ed7953"
            ],
            [
             0.7777777777777778,
             "#fb9f3a"
            ],
            [
             0.8888888888888888,
             "#fdca26"
            ],
            [
             1,
             "#f0f921"
            ]
           ]
          },
          "colorway": [
           "#636efa",
           "#EF553B",
           "#00cc96",
           "#ab63fa",
           "#FFA15A",
           "#19d3f3",
           "#FF6692",
           "#B6E880",
           "#FF97FF",
           "#FECB52"
          ],
          "font": {
           "color": "#2a3f5f"
          },
          "geo": {
           "bgcolor": "white",
           "lakecolor": "white",
           "landcolor": "#E5ECF6",
           "showlakes": true,
           "showland": true,
           "subunitcolor": "white"
          },
          "hoverlabel": {
           "align": "left"
          },
          "hovermode": "closest",
          "mapbox": {
           "style": "light"
          },
          "paper_bgcolor": "white",
          "plot_bgcolor": "#E5ECF6",
          "polar": {
           "angularaxis": {
            "gridcolor": "white",
            "linecolor": "white",
            "ticks": ""
           },
           "bgcolor": "#E5ECF6",
           "radialaxis": {
            "gridcolor": "white",
            "linecolor": "white",
            "ticks": ""
           }
          },
          "scene": {
           "xaxis": {
            "backgroundcolor": "#E5ECF6",
            "gridcolor": "white",
            "gridwidth": 2,
            "linecolor": "white",
            "showbackground": true,
            "ticks": "",
            "zerolinecolor": "white"
           },
           "yaxis": {
            "backgroundcolor": "#E5ECF6",
            "gridcolor": "white",
            "gridwidth": 2,
            "linecolor": "white",
            "showbackground": true,
            "ticks": "",
            "zerolinecolor": "white"
           },
           "zaxis": {
            "backgroundcolor": "#E5ECF6",
            "gridcolor": "white",
            "gridwidth": 2,
            "linecolor": "white",
            "showbackground": true,
            "ticks": "",
            "zerolinecolor": "white"
           }
          },
          "shapedefaults": {
           "line": {
            "color": "#2a3f5f"
           }
          },
          "ternary": {
           "aaxis": {
            "gridcolor": "white",
            "linecolor": "white",
            "ticks": ""
           },
           "baxis": {
            "gridcolor": "white",
            "linecolor": "white",
            "ticks": ""
           },
           "bgcolor": "#E5ECF6",
           "caxis": {
            "gridcolor": "white",
            "linecolor": "white",
            "ticks": ""
           }
          },
          "title": {
           "x": 0.05
          },
          "xaxis": {
           "automargin": true,
           "gridcolor": "white",
           "linecolor": "white",
           "ticks": "",
           "title": {
            "standoff": 15
           },
           "zerolinecolor": "white",
           "zerolinewidth": 2
          },
          "yaxis": {
           "automargin": true,
           "gridcolor": "white",
           "linecolor": "white",
           "ticks": "",
           "title": {
            "standoff": 15
           },
           "zerolinecolor": "white",
           "zerolinewidth": 2
          }
         }
        },
        "title": {
         "text": "Triad Absolute Strength Over Time"
        },
        "xaxis": {
         "title": {
          "text": "Year"
         }
        },
        "yaxis": {
         "range": [
          -0.05,
          1.05
         ],
         "title": {
          "text": "Triad Absolute Sum"
         }
        }
       }
      }
     },
     "metadata": {},
     "output_type": "display_data"
    }
   ],
   "source": [
    "# Define the layout of the plot\n",
    "layout = go.Layout(\n",
    "    title='Triad Absolute Strength Over Time',\n",
    "    xaxis=dict(title='Year'),\n",
    "    yaxis=dict(title='Triad Absolute Sum', range=[-0.05, 1.05]),\n",
    "    legend=dict(title='Triads', orientation='v', x=1.05, y=1),\n",
    "    hovermode='closest'\n",
    ")\n",
    "\n",
    "# Create the figure\n",
    "fig = go.Figure(data=traces, layout=layout)\n",
    "\n",
    "# Show the plot\n",
    "fig.show()\n",
    "\n",
    "\n",
    "fig = go.Figure(data=traces, layout=layout)\n",
    "fig.write_html('interactive_plot_triads.html')"
   ]
  },
  {
   "cell_type": "code",
   "execution_count": null,
   "metadata": {},
   "outputs": [],
   "source": [
    "' Next we want to pick some strong triads and plots '\n",
    "\n"
   ]
  }
 ],
 "metadata": {
  "kernelspec": {
   "display_name": "Python 3",
   "language": "python",
   "name": "python3"
  },
  "language_info": {
   "codemirror_mode": {
    "name": "ipython",
    "version": 3
   },
   "file_extension": ".py",
   "mimetype": "text/x-python",
   "name": "python",
   "nbconvert_exporter": "python",
   "pygments_lexer": "ipython3",
   "version": "3.11.2"
  }
 },
 "nbformat": 4,
 "nbformat_minor": 2
}
