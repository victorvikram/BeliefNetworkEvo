{
 "cells": [
  {
   "cell_type": "code",
   "execution_count": 1,
   "metadata": {},
   "outputs": [],
   "source": [
    "\"\"\" Import data!!! \"\"\"\n",
    "import numpy as np\n",
    "import pyreadstat as prs\n",
    "\n",
    "raw_df, meta = prs.read_sas7bdat(\"data\\gss7222_r3.sas7bdat\")"
   ]
  },
  {
   "cell_type": "code",
   "execution_count": null,
   "metadata": {},
   "outputs": [],
   "source": [
    "import sys\n",
    "sys.path.append('../src')\n",
    "from clean_data_1 import transform_dataframe_1\n",
    " \n",
    "# Clean data \n",
    "df, metadata = transform_dataframe_1(raw_df)    \n",
    "\n",
    "# Set variables of interest\n",
    "variables = [\"PARTYID\",\"POLVIEWS\",\"NATSPAC\",\"NATENVIR\",\"NATHEAL\",\"NATCITY\",\"NATCRIME\",\"NATDRUG\",\"NATEDUC\",\"NATRACE\",\"NATARMS\",\n",
    "\"NATAID\",\"NATFARE\",\"NATROAD\",\"NATSOC\",\"NATMASS\",\"NATPARK\",\"NATCHLD\",\"NATSCI\",\"EQWLTH\",\"SPKATH\",\"COLATH\",\"LIBATH\",\"SPKRAC\",\"COLRAC\",\"LIBRAC\",\"SPKCOM\",\"COLCOM\",\"LIBCOM\",\"SPKMIL\",\"COLMIL\",\"LIBMIL\",\"SPKHOMO\",\n",
    "\"COLHOMO\",\"LIBHOMO\",\"SPKMSLM\",\"COLMSLM\",\"LIBMSLM\",\"CAPPUN\",\"GUNLAW\",\"COURTS\",\"GRASS\",\"ATTEND\",\"RELITEN\",\"POSTLIFE\",\"PRAYER\",\"AFFRMACT\",\"WRKWAYUP\",\"HELPFUL\",\n",
    "\"FAIR\",\"TRUST\",\"CONFINAN\",\"CONBUS\",\"CONCLERG\",\"CONEDUC\",\"CONFED\",\"CONLABOR\",\"CONPRESS\",\"CONMEDIC\",\"CONTV\",\"CONJUDGE\",\"CONSCI\",\"CONLEGIS\",\"CONARMY\",\"GETAHEAD\",\"FEPOL\",\"ABDEFECT\",\"ABNOMORE\",\"ABHLTH\",\"ABPOOR\",\"ABRAPE\",\"ABSINGLE\",\"ABANY\",\"SEXEDUC\",\"DIVLAW\",\"PREMARSX\",\"TEENSEX\",\"XMARSEX\",\"HOMOSEX\",\"PORNLAW\",\n",
    "\"SPANKING\",\"LETDIE1\",\"SUICIDE1\",\"SUICIDE2\",\"POLHITOK\",\"POLABUSE\",\"POLMURDR\",\"POLESCAP\",\"POLATTAK\",\"NEWS\",\"TVHOURS\",\"FECHLD\",\"FEPRESCH\",\"FEFAM\",\"RACDIF1\",\"RACDIF2\",\"RACDIF3\",\n",
    "\"RACDIF4\",\"HELPPOOR\",\"MARHOMO\", \"PRESLAST_NONCONFORM\", \"PRESLAST_DEMREP\", \"VOTELAST\"]"
   ]
  },
  {
   "cell_type": "code",
   "execution_count": null,
   "metadata": {},
   "outputs": [
    {
     "ename": "SyntaxError",
     "evalue": "invalid syntax (belief_to_stress_histogram.py, line 10)",
     "output_type": "error",
     "traceback": [
      "Traceback \u001b[1;36m(most recent call last)\u001b[0m:\n",
      "\u001b[0m  File \u001b[0;32mc:\\Users\\timbo\\AppData\\Local\\Programs\\Python\\Python311\\Lib\\site-packages\\IPython\\core\\interactiveshell.py:3505\u001b[0m in \u001b[0;35mrun_code\u001b[0m\n    exec(code_obj, self.user_global_ns, self.user_ns)\u001b[0m\n",
      "\u001b[1;36m  Cell \u001b[1;32mIn[4], line 1\u001b[1;36m\n\u001b[1;33m    from belief_to_stress_histogram import belief_to_stress_histogram\u001b[1;36m\n",
      "\u001b[1;36m  File \u001b[1;32mc:\\Users\\timbo\\Documents\\GitHub\\BeliefNetworkEvo\\nbk\\../src\\belief_to_stress_histogram.py:10\u001b[1;36m\u001b[0m\n\u001b[1;33m    def belief_to_stress_histogram(df, variables, start_year, duration, plot-True):\u001b[0m\n\u001b[1;37m                                                                            ^\u001b[0m\n\u001b[1;31mSyntaxError\u001b[0m\u001b[1;31m:\u001b[0m invalid syntax\n"
     ]
    }
   ],
   "source": [
    "from belief_to_stress_histogram import belief_to_stress_histogram\n",
    "\n",
    "start_year = 1980\n",
    "duration = 4\n",
    "\n",
    "belief_to_stress_histogram(df, variables, start_year, duration, plot=True)\n"
   ]
  }
 ],
 "metadata": {
  "kernelspec": {
   "display_name": "Python 3",
   "language": "python",
   "name": "python3"
  },
  "language_info": {
   "codemirror_mode": {
    "name": "ipython",
    "version": 3
   },
   "file_extension": ".py",
   "mimetype": "text/x-python",
   "name": "python",
   "nbconvert_exporter": "python",
   "pygments_lexer": "ipython3",
   "version": "3.11.2"
  }
 },
 "nbformat": 4,
 "nbformat_minor": 2
}
