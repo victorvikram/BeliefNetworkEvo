{
 "cells": [
  {
   "cell_type": "code",
   "execution_count": 28,
   "metadata": {},
   "outputs": [
    {
     "name": "stdout",
     "output_type": "stream",
     "text": [
      "The autoreload extension is already loaded. To reload it, use:\n",
      "  %reload_ext autoreload\n"
     ]
    }
   ],
   "source": [
    "%load_ext autoreload\n",
    "%autoreload 2"
   ]
  },
  {
   "cell_type": "code",
   "execution_count": 41,
   "metadata": {},
   "outputs": [],
   "source": [
    "import numpy as np\n",
    "import networkx as nx\n",
    "import os \n",
    "import sys\n",
    "sys.path.append('../src')\n",
    "\n",
    "from display_network import add_node_values_to_graph\n",
    "from display_network import display_graph_pyvis"
   ]
  },
  {
   "cell_type": "code",
   "execution_count": 60,
   "metadata": {},
   "outputs": [
    {
     "name": "stdout",
     "output_type": "stream",
     "text": [
      "..\\out\\belief networks\\2016-2020, R=0.2, Condition=None\\visual.html\n"
     ]
    },
    {
     "data": {
      "text/html": [
       "\n",
       "        <iframe\n",
       "            width=\"1000px\"\n",
       "            height=\"1000px\"\n",
       "            src=\"..\\out\\belief networks\\2016-2020, R=0.2, Condition=None\\visual.html\"\n",
       "            frameborder=\"0\"\n",
       "            allowfullscreen\n",
       "            \n",
       "        ></iframe>\n",
       "        "
      ],
      "text/plain": [
       "<IPython.lib.display.IFrame at 0x22531faef30>"
      ]
     },
     "execution_count": 60,
     "metadata": {},
     "output_type": "execute_result"
    }
   ],
   "source": [
    "graph_directory = '..\\\\out\\\\belief networks\\\\2016-2020, R=0.2, Condition=None'\n",
    "graph_name = 'visual.html'\n",
    "\n",
    "G = nx.read_graphml(os.path.join(graph_directory, \"graph_object.graphml\"))\n",
    "G = add_node_values_to_graph(G, np.arange(101)/50.5 - 1)\n",
    "\n",
    "\n",
    "for u, v, d in G.edges(data=True):\n",
    "    d['type'] = d['weight']\n",
    "\n",
    "net = display_graph_pyvis(G)\n",
    "\n",
    "net.show(os.path.join(graph_directory, graph_name))"
   ]
  },
  {
   "cell_type": "code",
   "execution_count": 51,
   "metadata": {},
   "outputs": [
    {
     "data": {
      "text/plain": [
       "-0.0024768681694408174"
      ]
     },
     "execution_count": 51,
     "metadata": {},
     "output_type": "execute_result"
    }
   ],
   "source": [
    "arr = edge_values.todense()\n",
    "arr[10][4]"
   ]
  },
  {
   "cell_type": "code",
   "execution_count": null,
   "metadata": {},
   "outputs": [],
   "source": []
  }
 ],
 "metadata": {
  "kernelspec": {
   "display_name": "Python [conda env:.conda-beliefs]",
   "language": "python",
   "name": "conda-env-.conda-beliefs-py"
  },
  "language_info": {
   "codemirror_mode": {
    "name": "ipython",
    "version": 3
   },
   "file_extension": ".py",
   "mimetype": "text/x-python",
   "name": "python",
   "nbconvert_exporter": "python",
   "pygments_lexer": "ipython3",
   "version": "3.12.3"
  }
 },
 "nbformat": 4,
 "nbformat_minor": 2
}
