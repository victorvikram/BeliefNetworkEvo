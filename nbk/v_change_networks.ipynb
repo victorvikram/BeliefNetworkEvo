{
 "cells": [
  {
   "cell_type": "code",
   "execution_count": 2,
   "metadata": {},
   "outputs": [],
   "source": [
    "%load_ext autoreload\n",
    "%autoreload 2"
   ]
  },
  {
   "cell_type": "code",
   "execution_count": 3,
   "metadata": {},
   "outputs": [],
   "source": [
    "import os\n",
    "import numpy as np\n",
    "import networkx as nx\n",
    "import matplotlib.pyplot as plt\n",
    "\n",
    "import importlib\n",
    "import sys\n",
    "sys.path.append('../src')\n",
    "\n",
    "from display_network import display_graph_pyvis"
   ]
  },
  {
   "cell_type": "code",
   "execution_count": 4,
   "metadata": {},
   "outputs": [],
   "source": [
    "def merge_sorted_lists(list1, list2):\n",
    "\n",
    "    def safe_index(lst, i):\n",
    "        if (i >= 0 and i < len(lst)) or (i < 0 and i >= -len(lst)):\n",
    "            return lst[i].lower()\n",
    "        else:\n",
    "            return chr(1114111)\n",
    "    \n",
    "    # Initialize pointers for both lists\n",
    "    i, j = 0, 0\n",
    "    merged_list = []\n",
    "    list1_inds = []\n",
    "    list2_inds = []\n",
    "    \n",
    "    curr_ind = -1\n",
    "    # Traverse both lists and insert smaller value from either list into the merged list\n",
    "    while i < len(list1) or j < len(list2):\n",
    "\n",
    "        # print(merged_list)\n",
    "        # print(\"1\", safe_index(list1, i), i)\n",
    "        # print(\"2\", safe_index(list2, j), j)\n",
    "        \n",
    "        # never repeat an entry\n",
    "        # you're only ever at risk of doing this if the last entry is the same as your current one\n",
    "        if safe_index(list1, i) == safe_index(merged_list, -1):\n",
    "            # print(\"1 repeat\")\n",
    "            list1_inds.append(curr_ind)\n",
    "            i += 1\n",
    "        elif safe_index(list2, j) == safe_index(merged_list, -1):\n",
    "            # print(\"2 repeat\")\n",
    "            list2_inds.append(curr_ind)\n",
    "            j += 1\n",
    "        elif safe_index(list1, i) < safe_index(list2, j):\n",
    "            # print(\"1 add\")\n",
    "            curr_ind += 1\n",
    "            list1_inds.append(curr_ind)\n",
    "            merged_list.append(list1[i])\n",
    "            i += 1\n",
    "        else:\n",
    "            curr_ind += 1\n",
    "            list2_inds.append(curr_ind)\n",
    "            merged_list.append(list2[j])\n",
    "            # print(\"2 add\")\n",
    "            j += 1\n",
    "\n",
    "    return merged_list, list1_inds, list2_inds"
   ]
  },
  {
   "cell_type": "code",
   "execution_count": 5,
   "metadata": {},
   "outputs": [
    {
     "name": "stdout",
     "output_type": "stream",
     "text": [
      "[0, 1, 1, 1, 2, 2, 2, 3, 8, 9, 10, 10, 11] [0, 1, 1, 1, 2, 2, 2, 3, 8, 9, 10, 10, 11]\n",
      "[0, 0, 1, 4, 4, 5, 6, 6, 7, 8, 8] [0, 0, 1, 4, 4, 5, 6, 6, 7, 8, 8]\n"
     ]
    }
   ],
   "source": [
    "# list 2 is a subset\n",
    "lst1 = [\"a\", \"b\", \"d\", \"d\", \"e\", \"f\"]\n",
    "lst2 = [\"b\", \"d\"]\n",
    "exp_merge = [\"a\", \"b\", \"d\", \"e\", \"f\"]\n",
    "\n",
    "exp_l1_inds = [0, 1, 2, 2, 3, 4]\n",
    "exp_l2_inds = [1, 2]\n",
    "\n",
    "merge_list, l1_inds, l2_inds = merge_sorted_lists(lst1, lst2)\n",
    "assert merge_list == exp_merge\n",
    "assert exp_l1_inds == l1_inds\n",
    "assert exp_l2_inds == l2_inds\n",
    "\n",
    "# completely disjoint\n",
    "lst1 = [\"a\", \"b\", \"c\", \"c\"]\n",
    "lst2 = [\"d\", \"e\", \"f\", \"f\"]\n",
    "exp_merge = [\"a\", \"b\", \"c\", \"d\", \"e\", \"f\"]\n",
    "\n",
    "exp_l1_inds = [0, 1, 2, 2]\n",
    "exp_l2_inds = [3, 4, 5, 5]\n",
    "\n",
    "merge_list, l1_inds, l2_inds = merge_sorted_lists(lst1, lst2)\n",
    "assert merge_list == exp_merge\n",
    "assert exp_l1_inds == l1_inds\n",
    "assert exp_l2_inds == l2_inds\n",
    "\n",
    "# finish list 1 first\n",
    "lst1 = [\"a\", \"b\", \"d\"]\n",
    "lst2 = [\"b\", \"c\", \"e\", \"f\", \"g\"]\n",
    "exp_merge = list(\"abcdefg\")\n",
    "\n",
    "exp_l1_inds = [0, 1, 3]\n",
    "exp_l2_inds = [1, 2, 4, 5, 6]\n",
    "\n",
    "merge_list, l1_inds, l2_inds = merge_sorted_lists(lst1, lst2)\n",
    "assert merge_list == exp_merge\n",
    "assert exp_l1_inds == l1_inds\n",
    "assert exp_l2_inds == l2_inds\n",
    "\n",
    "# finish list 2 first\n",
    "lst1 = list(\"abdeg\")\n",
    "lst2 = list(\"abc\")\n",
    "exp_merge = list(\"abcdeg\")\n",
    "\n",
    "exp_l1_inds = [0, 1, 3, 4, 5]\n",
    "exp_l2_inds = [0, 1, 2]\n",
    "\n",
    "merge_list, l1_inds, l2_inds = merge_sorted_lists(lst1, lst2)\n",
    "assert merge_list == exp_merge\n",
    "assert exp_l1_inds == l1_inds\n",
    "assert exp_l2_inds == l2_inds\n",
    "\n",
    "# add from list 2 and then get to an equal entry in list 1\n",
    "lst1 = list(\"abcd\")\n",
    "lst2 = list(\"be\")\n",
    "exp_merge = list(\"abcde\")\n",
    "\n",
    "exp_l1_inds = [0, 1, 2, 3]\n",
    "exp_l2_inds = [1, 4]\n",
    "\n",
    "merge_list, l1_inds, l2_inds = merge_sorted_lists(lst1, lst2)\n",
    "assert merge_list == exp_merge\n",
    "assert exp_l1_inds == l1_inds\n",
    "assert exp_l2_inds == l2_inds\n",
    "\n",
    "# get to an equal entry at hte same time\n",
    "lst1 = list(\"abcd\")\n",
    "lst2 = list(\"bbe\")\n",
    "exp_merge = list(\"abcde\")\n",
    "\n",
    "exp_l1_inds = [0, 1, 2, 3]\n",
    "exp_l2_inds = [1, 1, 4]\n",
    "\n",
    "merge_list, l1_inds, l2_inds = merge_sorted_lists(lst1, lst2)\n",
    "assert merge_list == exp_merge\n",
    "assert exp_l1_inds == l1_inds\n",
    "assert exp_l2_inds == l2_inds\n",
    "\n",
    "# add and then get multiple equal entries in both\n",
    "lst1 = list(\"abbbcccd\")\n",
    "lst2 = list(\"bbee\")\n",
    "exp_merge = list(\"abcde\")\n",
    "\n",
    "exp_l1_inds = [0, 1, 1, 1, 2, 2, 2, 3]\n",
    "exp_l2_inds = [1, 1, 4, 4]\n",
    "\n",
    "merge_list, l1_inds, l2_inds = merge_sorted_lists(lst1, lst2)\n",
    "assert merge_list == exp_merge\n",
    "assert exp_l1_inds == l1_inds\n",
    "assert exp_l2_inds == l2_inds\n",
    "\n",
    "# multiple equal entries and list 2 finishes last\n",
    "lst1 = list(\"abbbcccd\")\n",
    "lst2 = list(\"beefggh\")\n",
    "exp_merge = list(\"abcdefgh\")\n",
    "\n",
    "exp_l1_inds = [0, 1, 1, 1, 2, 2, 2, 3]\n",
    "exp_l2_inds = [1, 4, 4, 5, 6, 6, 7]\n",
    "\n",
    "merge_list, l1_inds, l2_inds = merge_sorted_lists(lst1, lst2)\n",
    "assert merge_list == exp_merge\n",
    "assert exp_l1_inds == l1_inds\n",
    "assert exp_l2_inds == l2_inds\n",
    "\n",
    "# multiple equal entries and list 1 finishes last\n",
    "lst1 = list(\"abbbcccdijkkl\")\n",
    "lst2 = list(\"beefgghii\")\n",
    "exp_merge = list(\"abcdefghijkl\")\n",
    "\n",
    "exp_l1_inds = [0, 1, 1, 1, 2, 2, 2, 3, 8, 9, 10, 10, 11]\n",
    "exp_l2_inds = [1, 4, 4, 5, 6, 6, 7, 8, 8]\n",
    "\n",
    "merge_list, l1_inds, l2_inds = merge_sorted_lists(lst1, lst2)\n",
    "assert merge_list == exp_merge\n",
    "assert exp_l1_inds == l1_inds\n",
    "assert exp_l2_inds == l2_inds\n",
    "\n",
    "# repeats at the beginning\n",
    "lst1 = list(\"abbbcccdijkkl\")\n",
    "lst2 = list(\"aabeefgghii\")\n",
    "exp_merge = list(\"abcdefghijkl\")\n",
    "\n",
    "exp_l1_inds = [0, 1, 1, 1, 2, 2, 2, 3, 8, 9, 10, 10, 11]\n",
    "exp_l2_inds = [0, 0, 1, 4, 4, 5, 6, 6, 7, 8, 8]\n",
    "\n",
    "merge_list, l1_inds, l2_inds = merge_sorted_lists(lst1, lst2)\n",
    "assert merge_list == exp_merge\n",
    "assert exp_l1_inds == l1_inds\n",
    "assert exp_l2_inds == l2_inds\n",
    "\n",
    "print(exp_l1_inds, l1_inds)\n",
    "print(exp_l2_inds, l2_inds)"
   ]
  },
  {
   "cell_type": "code",
   "execution_count": 6,
   "metadata": {},
   "outputs": [],
   "source": [
    "def combine_variable_matrix_stacks(var_list_1, var_list_2, var_mat_1, var_mat_2):\n",
    "    var_list, l1_indices, l2_indices = merge_sorted_lists(var_list_1, var_list_2)\n",
    "    \n",
    "    def make_super_matrix_stack(old_mat, submat_indices, new_size):\n",
    "        new_matrix_stack = np.full((old_mat.shape[0], new_size, new_size), np.nan)\n",
    "        dim1 = np.ix_(submat_indices, submat_indices)[0]\n",
    "        dim2 = np.ix_(submat_indices, submat_indices)[1]\n",
    "        new_matrix_stack[:, dim1, dim2] = old_mat\n",
    "\n",
    "        return new_matrix_stack\n",
    "\n",
    "    new_var_mat_1 = make_super_matrix_stack(var_mat_1, l1_indices, len(var_list))\n",
    "    new_var_mat_2 = make_super_matrix_stack(var_mat_2, l2_indices, len(var_list))\n",
    "\n",
    "    new_var_mat = np.concatenate((new_var_mat_1, new_var_mat_2), axis=0)\n",
    "\n",
    "    return var_list, new_var_mat"
   ]
  },
  {
   "cell_type": "code",
   "execution_count": 7,
   "metadata": {},
   "outputs": [],
   "source": [
    "variables_test_1 = [\"ant\", \"bee\", \"dog\"]\n",
    "variables_test_2 = [\"ant\", \"cat\", \"dog\"]\n",
    "\n",
    "var_arr_1 = np.array([[[1, 2, 4],\n",
    "                       [2, 4, 8],\n",
    "                       [4, 8, 16]],\n",
    "                      [[0.5, 1, 2],\n",
    "                       [1, 2, 4],\n",
    "                       [2, 4, 8]]])\n",
    "\n",
    "var_arr_2 = np.array([[[1, 3, 4],\n",
    "                       [3, 9, 12],\n",
    "                       [4, 12, 16]]])\n",
    "\n",
    "exp_merge = np.array([[[1, 2, np.nan, 4],\n",
    "                       [2, 4, np.nan, 8],\n",
    "                       [np.nan, np.nan, np.nan, np.nan],\n",
    "                       [4, 8, np.nan, 16]],\n",
    "                      [[0.5, 1, np.nan, 2],\n",
    "                       [1, 2, np.nan, 4],\n",
    "                       [np.nan, np.nan, np.nan, np.nan],\n",
    "                       [2, 4, np.nan, 8]],\n",
    "                      [[1, np.nan, 3, 4],\n",
    "                       [np.nan, np.nan, np.nan, np.nan],\n",
    "                       [3, np.nan, 9, 12],\n",
    "                       [4, np.nan, 12, 16]]])\n",
    "\n",
    "var_list, var_mat = combine_variable_matrix_stacks(variables_test_1, variables_test_2, var_arr_1, var_arr_2)\n",
    "\n",
    "assert var_list == [\"ant\", \"bee\", \"cat\", \"dog\"]\n",
    "assert ((var_mat == exp_merge) | (np.isnan(var_mat) & np.isnan(exp_merge))).all()"
   ]
  },
  {
   "cell_type": "code",
   "execution_count": 8,
   "metadata": {},
   "outputs": [],
   "source": [
    "variables_test_1 = [\"apple\", \"balfour\", \"danube\", \"epcot\", \"gobbledygook\"]\n",
    "variables_test_2 = [\"apple\", \"cobra\", \"epcot\", \"fantasia\", \"hedonic\"]\n",
    "\n",
    "var_arr_1 = np.arange(25).reshape(1, 5, 5)\n",
    "var_arr_2 = np.arange(25, 50).reshape(1, 5, 5)\n",
    "\n",
    "exp_merge = np.array([[[0, 1, np.nan, 2, 3, np.nan, 4, np.nan],\n",
    "                       [5, 6, np.nan, 7, 8, np.nan, 9, np.nan],\n",
    "                       [np.nan, np.nan, np.nan, np.nan, np.nan, np.nan, np.nan, np.nan],\n",
    "                       [10, 11, np.nan, 12, 13, np.nan, 14, np.nan],\n",
    "                       [15, 16, np.nan, 17, 18, np.nan, 19, np.nan],\n",
    "                       [np.nan, np.nan, np.nan, np.nan, np.nan, np.nan, np.nan, np.nan],\n",
    "                       [20, 21, np.nan, 22, 23, np.nan, 24, np.nan],\n",
    "                       [np.nan, np.nan, np.nan, np.nan, np.nan, np.nan, np.nan, np.nan]],\n",
    "                      [[25, np.nan, 26, np.nan, 27, 28, np.nan, 29],\n",
    "                       [np.nan, np.nan, np.nan, np.nan, np.nan, np.nan, np.nan, np.nan],\n",
    "                       [30, np.nan, 31, np.nan, 32, 33, np.nan, 34], \n",
    "                       [np.nan, np.nan, np.nan, np.nan, np.nan, np.nan, np.nan, np.nan],\n",
    "                       [35, np.nan, 36, np.nan, 37, 38, np.nan, 39], \n",
    "                       [40, np.nan, 41, np.nan, 42, 43, np.nan, 44],\n",
    "                       [np.nan, np.nan, np.nan, np.nan, np.nan, np.nan, np.nan, np.nan],\n",
    "                       [45, np.nan, 46, np.nan, 47, 48, np.nan, 49]]])\n",
    "\n",
    "var_list, var_mat = combine_variable_matrix_stacks(variables_test_1, variables_test_2, var_arr_1, var_arr_2)\n",
    "assert ((var_mat == exp_merge) | (np.isnan(var_mat) & np.isnan(exp_merge))).all()"
   ]
  },
  {
   "cell_type": "code",
   "execution_count": 9,
   "metadata": {},
   "outputs": [],
   "source": [
    "def csv_to_list(path):\n",
    "    # Initialize an empty list to store the strings\n",
    "    lines = []\n",
    "\n",
    "    # Open the CSV file and read it\n",
    "    with open(path, mode='r') as file:\n",
    "        reader = csv.reader(file)\n",
    "        for row in reader:\n",
    "            # Join the row into a single string separated by commas\n",
    "            line = ','.join(row)\n",
    "            lines.append(line)\n",
    "    \n",
    "    return sorted(lines)"
   ]
  },
  {
   "cell_type": "code",
   "execution_count": 10,
   "metadata": {},
   "outputs": [
    {
     "name": "stdout",
     "output_type": "stream",
     "text": [
      "66\n",
      "76\n"
     ]
    }
   ],
   "source": [
    "import csv\n",
    "\n",
    "vars_1 = csv_to_list(\"../out/belief networks/1972-1976, R=0.2, Condition=None/variables_list.csv\")\n",
    "print(len(vars_1))\n",
    "vars_2 = csv_to_list(\"../out/belief networks/1974-1978, R=0.2, Condition=None/variables_list.csv\")\n",
    "print(len(vars_2))\n",
    "\n",
    "var_mat_1 = np.genfromtxt(\"../out/belief networks/1972-1976, R=0.2, Condition=None/correlation_matrix_partial.csv\", delimiter=',').reshape(1, len(vars_1), len(vars_1))\n",
    "var_mat_2 = np.genfromtxt(\"../out/belief networks/1974-1978, R=0.2, Condition=None/correlation_matrix_partial.csv\", delimiter=',').reshape(1, len(vars_2), len(vars_2))\n",
    "\n",
    "var_list, var_mat = combine_variable_matrix_stacks(vars_1, vars_2, var_mat_1, var_mat_2)\n"
   ]
  },
  {
   "cell_type": "code",
   "execution_count": 103,
   "metadata": {},
   "outputs": [],
   "source": [
    "def make_edge_time_series_from_graph(start_year, end_year, interval, overlap, node1, node2):\n",
    "    curr_year = start_year\n",
    "    edge_weights = []\n",
    "    years = []\n",
    "    while curr_year + interval <= end_year:\n",
    "        path = f\"../out/belief networks/{curr_year}-{curr_year + interval}, R=0.2, Condition=None\"\n",
    "        G = nx.read_graphml(os.path.join(path, \"graph_object.graphml\"))\n",
    "        var_list = csv_to_list(os.path.join(path, \"variables_list.csv\"))\n",
    "        print(curr_year)\n",
    "        print(node1, node1 in G, node2, node2 in G)\n",
    "        print(node1, node1 in var_list, node2, node2 in var_list)\n",
    "        \n",
    "        if node1 in G and node2 in G:\n",
    "            edge_data = G.get_edge_data(node1, node2)\n",
    "\n",
    "            if edge_data is None:\n",
    "                edge_val = 0\n",
    "            else:\n",
    "                edge_val = edge_data.get('weight')\n",
    "        else:\n",
    "            edge_val = None\n",
    "\n",
    "        years.append(curr_year)\n",
    "        edge_weights.append(edge_val)\n",
    "        curr_year = curr_year + interval - overlap\n",
    "  \n",
    "\n",
    "    return edge_weights, years"
   ]
  },
  {
   "cell_type": "code",
   "execution_count": 12,
   "metadata": {},
   "outputs": [],
   "source": [
    "def make_edge_time_series(start_year, end_year, interval, overlap):\n",
    "    curr_year = start_year\n",
    "    years = []\n",
    "    while curr_year + interval <= end_year:\n",
    "        path = f\"../out/belief networks/{curr_year}-{curr_year + interval}, R=0.2, Condition=None\"\n",
    "        print(path)\n",
    "        new_var_list = csv_to_list(os.path.join(path, \"variables_list.csv\"))\n",
    "        l = len(new_var_list)\n",
    "        new_data = np.genfromtxt(os.path.join(path, \"correlation_matrix_partial.csv\"), delimiter=',').reshape(1, l, l) - np.identity(l).reshape(1, l, l)\n",
    "\n",
    "        if start_year != curr_year:\n",
    "            curr_var_list, curr_data = combine_variable_matrix_stacks(curr_var_list, new_var_list, curr_data, new_data)\n",
    "        else:\n",
    "            curr_var_list = new_var_list\n",
    "            curr_data = new_data\n",
    "\n",
    "        years.append(curr_year)\n",
    "        curr_year = curr_year + interval - overlap\n",
    "  \n",
    "\n",
    "    return curr_var_list, curr_data, years"
   ]
  },
  {
   "cell_type": "code",
   "execution_count": 13,
   "metadata": {},
   "outputs": [
    {
     "name": "stdout",
     "output_type": "stream",
     "text": [
      "../out/belief networks/1972-1976, R=0.2, Condition=None\n",
      "../out/belief networks/1974-1978, R=0.2, Condition=None\n",
      "../out/belief networks/1976-1980, R=0.2, Condition=None\n",
      "../out/belief networks/1978-1982, R=0.2, Condition=None\n",
      "../out/belief networks/1980-1984, R=0.2, Condition=None\n",
      "../out/belief networks/1982-1986, R=0.2, Condition=None\n",
      "../out/belief networks/1984-1988, R=0.2, Condition=None\n",
      "../out/belief networks/1986-1990, R=0.2, Condition=None\n",
      "../out/belief networks/1988-1992, R=0.2, Condition=None\n",
      "../out/belief networks/1990-1994, R=0.2, Condition=None\n",
      "../out/belief networks/1992-1996, R=0.2, Condition=None\n",
      "../out/belief networks/1994-1998, R=0.2, Condition=None\n",
      "../out/belief networks/1996-2000, R=0.2, Condition=None\n",
      "../out/belief networks/1998-2002, R=0.2, Condition=None\n",
      "../out/belief networks/2000-2004, R=0.2, Condition=None\n",
      "../out/belief networks/2002-2006, R=0.2, Condition=None\n",
      "../out/belief networks/2004-2008, R=0.2, Condition=None\n",
      "../out/belief networks/2006-2010, R=0.2, Condition=None\n",
      "../out/belief networks/2008-2012, R=0.2, Condition=None\n",
      "../out/belief networks/2010-2014, R=0.2, Condition=None\n",
      "../out/belief networks/2012-2016, R=0.2, Condition=None\n",
      "../out/belief networks/2014-2018, R=0.2, Condition=None\n"
     ]
    }
   ],
   "source": [
    "comp_var_list, comp_data, years = make_edge_time_series(1972, 2018, 4, 2)"
   ]
  },
  {
   "cell_type": "code",
   "execution_count": 14,
   "metadata": {},
   "outputs": [
    {
     "name": "stderr",
     "output_type": "stream",
     "text": [
      "C:\\Users\\vicvi\\AppData\\Local\\Temp\\ipykernel_21208\\3274859293.py:1: RuntimeWarning: Mean of empty slice\n",
      "  avgs = np.nanmean(comp_data, axis=0)\n"
     ]
    }
   ],
   "source": [
    "avgs = np.nanmean(comp_data, axis=0)"
   ]
  },
  {
   "cell_type": "code",
   "execution_count": 91,
   "metadata": {},
   "outputs": [
    {
     "name": "stdout",
     "output_type": "stream",
     "text": [
      "['NATCITY - NATAID']\n"
     ]
    }
   ],
   "source": [
    "nonzero_entries = np.where(avgs > 0)\n",
    "lines_to_draw = np.random.randint(0, len(nonzero_entries[0]), size=(1,))\n",
    "coordinates_to_draw = (nonzero_entries[0][lines_to_draw], nonzero_entries[1][lines_to_draw])\n",
    "edge_names = [f\"{comp_var_list[ind_1]} - {comp_var_list[ind_2]}\" for ind_1, ind_2 in zip(coordinates_to_draw[0], coordinates_to_draw[1])]\n",
    "rows_of_line_graph = comp_data[:, coordinates_to_draw[0], coordinates_to_draw[1]]\n",
    "\n",
    "print(edge_names)"
   ]
  },
  {
   "cell_type": "code",
   "execution_count": 92,
   "metadata": {},
   "outputs": [
    {
     "data": {
      "image/png": "[encoded data removed]",
      "text/plain": [
       "<Figure size 1000x600 with 1 Axes>"
      ]
     },
     "metadata": {},
     "output_type": "display_data"
    }
   ],
   "source": [
    "# Generate x-axis values (assuming time series are sampled at the same time points)\n",
    "x_values = years\n",
    "\n",
    "# Plot each time series\n",
    "plt.figure(figsize=(10, 6))\n",
    "for i, row in enumerate(rows_of_line_graph.T):\n",
    "    plt.plot(x_values, row, label=f'{edge_names[i]}')\n",
    "\n",
    "# Add labels and title\n",
    "# plt.yscale(\"log\")\n",
    "plt.xlabel('Time')\n",
    "plt.ylabel('Value')\n",
    "plt.title('Multiple Time Series')\n",
    "# plt.legend()\n",
    "\n",
    "# Show the plot\n",
    "plt.show()"
   ]
  },
  {
   "cell_type": "code",
   "execution_count": 104,
   "metadata": {},
   "outputs": [
    {
     "name": "stdout",
     "output_type": "stream",
     "text": [
      "1972\n",
      "NATCITY True NATAID False\n",
      "NATCITY True NATAID True\n",
      "1974\n",
      "NATCITY True NATAID False\n",
      "NATCITY True NATAID True\n",
      "1976\n",
      "NATCITY True NATAID True\n",
      "NATCITY True NATAID True\n",
      "1978\n",
      "NATCITY True NATAID True\n",
      "NATCITY True NATAID True\n",
      "1980\n",
      "NATCITY True NATAID False\n",
      "NATCITY True NATAID True\n",
      "1982\n",
      "NATCITY True NATAID False\n",
      "NATCITY True NATAID True\n",
      "1984\n",
      "NATCITY True NATAID False\n",
      "NATCITY True NATAID True\n",
      "1986\n",
      "NATCITY True NATAID False\n",
      "NATCITY True NATAID True\n",
      "1988\n",
      "NATCITY True NATAID False\n",
      "NATCITY True NATAID True\n",
      "1990\n",
      "NATCITY True NATAID False\n",
      "NATCITY True NATAID True\n",
      "1992\n",
      "NATCITY True NATAID False\n",
      "NATCITY True NATAID True\n",
      "1994\n",
      "NATCITY True NATAID False\n",
      "NATCITY True NATAID True\n",
      "1996\n",
      "NATCITY True NATAID False\n",
      "NATCITY True NATAID True\n",
      "1998\n",
      "NATCITY True NATAID False\n",
      "NATCITY True NATAID True\n",
      "2000\n",
      "NATCITY True NATAID False\n",
      "NATCITY True NATAID True\n",
      "2002\n",
      "NATCITY True NATAID True\n",
      "NATCITY True NATAID True\n",
      "2004\n",
      "NATCITY True NATAID False\n",
      "NATCITY True NATAID True\n",
      "2006\n",
      "NATCITY True NATAID True\n",
      "NATCITY True NATAID True\n",
      "2008\n",
      "NATCITY True NATAID True\n",
      "NATCITY True NATAID True\n",
      "2010\n",
      "NATCITY True NATAID True\n",
      "NATCITY True NATAID True\n",
      "2012\n",
      "NATCITY True NATAID True\n",
      "NATCITY True NATAID True\n",
      "2014\n",
      "NATCITY True NATAID True\n",
      "NATCITY True NATAID True\n"
     ]
    },
    {
     "data": {
      "text/plain": [
       "[None,\n",
       " None,\n",
       " 0,\n",
       " 0,\n",
       " None,\n",
       " None,\n",
       " None,\n",
       " None,\n",
       " None,\n",
       " None,\n",
       " None,\n",
       " None,\n",
       " None,\n",
       " None,\n",
       " None,\n",
       " 0,\n",
       " None,\n",
       " 0,\n",
       " 0,\n",
       " 0,\n",
       " 0,\n",
       " 0]"
      ]
     },
     "execution_count": 104,
     "metadata": {},
     "output_type": "execute_result"
    }
   ],
   "source": [
    "weights, years = make_edge_time_series_from_graph(1972, 2018, 4, 2, \"NATCITY\", \"NATAID\")\n",
    "weights"
   ]
  },
  {
   "cell_type": "code",
   "execution_count": 94,
   "metadata": {},
   "outputs": [
    {
     "data": {
      "text/plain": [
       "array([ 0.02469233,  0.        ,  0.        ,  0.        ,  0.        ,\n",
       "        0.00565135,  0.00515589,  0.        ,  0.        ,  0.        ,\n",
       "        0.        ,  0.        ,  0.        ,  0.        ,  0.        ,\n",
       "        0.        ,  0.        ,  0.        ,  0.        , -0.        ,\n",
       "        0.        ,  0.        ])"
      ]
     },
     "execution_count": 94,
     "metadata": {},
     "output_type": "execute_result"
    }
   ],
   "source": [
    "comp_data[:, coordinates_to_draw[0][0], coordinates_to_draw[1][0]]"
   ]
  },
  {
   "cell_type": "code",
   "execution_count": 102,
   "metadata": {},
   "outputs": [
    {
     "data": {
      "text/plain": [
       "'NATAID'"
      ]
     },
     "execution_count": 102,
     "metadata": {},
     "output_type": "execute_result"
    }
   ],
   "source": [
    "comp_var_list[51]"
   ]
  },
  {
   "cell_type": "code",
   "execution_count": 15,
   "metadata": {},
   "outputs": [],
   "source": [
    "def merge_graphs_with_weight_diff(before_graph, after_graph, pct_change=False):\n",
    "    # Create a new empty graph\n",
    "    merged_graph = nx.Graph()\n",
    "\n",
    "    # Add nodes from both graphs to the new graph\n",
    "    merged_graph.add_nodes_from(before_graph.nodes())\n",
    "    merged_graph.add_nodes_from(after_graph.nodes())\n",
    "\n",
    "    # Get the union of edges from both graphs\n",
    "    all_edges = set(before_graph.edges()).union(set(after_graph.edges()))\n",
    "\n",
    "    # Add edges with the sum of weights\n",
    "    for edge in all_edges:\n",
    "        # Get the weight of the edge in graph1 (0 if the edge doesn't exist)\n",
    "        \n",
    "        before_weight = before_graph[edge[0]].get(edge[1], {}).get('weight', 0) if edge[0] in before_graph and edge[1] in before_graph else 0\n",
    "        \n",
    "        # Get the weight of the edge in graph2 (0 if the edge doesn't exist)\n",
    "        after_weight = after_graph[edge[0]].get(edge[1], {}).get('weight', 0) if edge[0] in after_graph and edge[1] in after_graph else 0\n",
    "        \n",
    "        # Add the edge with the summed weight to the new graph\n",
    "        change = (after_weight - before_weight)/((before_weight + after_weight)/2) if pct_change else after_weight - before_weight\n",
    "        merged_graph.add_edge(edge[0], edge[1], weight=after_weight, type=change)\n",
    "\n",
    "    return merged_graph"
   ]
  },
  {
   "cell_type": "code",
   "execution_count": 17,
   "metadata": {},
   "outputs": [
    {
     "name": "stdout",
     "output_type": "stream",
     "text": [
      "[{'weight': 0.1311082764930741}, {'weight': 0.029541663554264703}, {'weight': -0.03439463428140959}, {'weight': 0.019616557257829566}, {'weight': -0.007338891283974845}, {'weight': -0.023375322702839808}, {'weight': 0.41921445292477727}, {'weight': 0.02657307661023439}, {'weight': -0.03187243668731505}, {'weight': -0.05909564115126111}]\n",
      "{'type': -0.0014565635023631729, 'width': 8.355157788448281, 'from': 'PARTYID', 'to': 'PRESLAST_DEMREP', 'color': '#f5f7f2'}\n",
      "{'type': 0.004617070099174757, 'width': 0.09234140198349514, 'from': 'GRASS', 'to': 'ABNOMORE', 'color': '#faedf3'}\n",
      "{'type': -0.02587859856260849, 'width': 0.5175719712521698, 'from': 'HOMOSEX', 'to': 'CONSCI', 'color': '#9ccf64'}\n",
      "{'type': -0.02604321732742776, 'width': 3.7655509300905288, 'from': 'SPKCOM', 'to': 'COLCOM', 'color': '#9ccf64'}\n",
      "graph.html\n"
     ]
    },
    {
     "data": {
      "text/html": [
       "\n",
       "        <iframe\n",
       "            width=\"1000px\"\n",
       "            height=\"1000px\"\n",
       "            src=\"graph.html\"\n",
       "            frameborder=\"0\"\n",
       "            allowfullscreen\n",
       "            \n",
       "        ></iframe>\n",
       "        "
      ],
      "text/plain": [
       "<IPython.lib.display.IFrame at 0x1dc34032fc0>"
      ]
     },
     "execution_count": 17,
     "metadata": {},
     "output_type": "execute_result"
    }
   ],
   "source": [
    "before_graph = nx.read_graphml(\"../out/belief networks/2012-2016, R=0.2, Condition=None/graph_object.graphml\")\n",
    "after_graph = nx.read_graphml(\"../out/belief networks/2014-2018, R=0.2, Condition=None/graph_object.graphml\")\n",
    "\n",
    "print([d for i, (u, v, d) in enumerate(before_graph.edges(data=True)) if i < 10])\n",
    "\n",
    "\n",
    "merged_graph = merge_graphs_with_weight_diff(before_graph, after_graph, pct_change=False)\n",
    "\n",
    "net = display_graph_pyvis(merged_graph, equal_edge_weights=False)\n",
    "net.show(\"graph.html\")"
   ]
  },
  {
   "cell_type": "code",
   "execution_count": 20,
   "metadata": {},
   "outputs": [
    {
     "name": "stdout",
     "output_type": "stream",
     "text": [
      "(zero, one) - weight: 2\n",
      "(one, two) - weight: 4\n",
      "(two, three) - weight: 6\n",
      "(three, four) - weight: 0\n",
      "(four, five) - weight: 0\n",
      "(zero, one) - type: 2\n",
      "(one, two) - type: 4\n",
      "(two, three) - type: 1\n",
      "(three, four) - type: -7\n",
      "(four, five) - type: -9\n"
     ]
    }
   ],
   "source": [
    "# test \n",
    "\n",
    "G1 = nx.Graph()\n",
    "G1.add_edge(\"zero\", \"one\", weight=2)\n",
    "G1.add_edge(\"one\", \"two\", weight=4)\n",
    "G1.add_edge(\"two\", \"three\", weight=6)\n",
    "\n",
    "G2 = nx.Graph()\n",
    "G2.add_edge(\"two\", \"three\", weight=5)\n",
    "G2.add_edge(\"three\", \"four\", weight=7)\n",
    "G2.add_edge(\"four\", \"five\", weight=9)\n",
    "\n",
    "# Merge the graphs\n",
    "merged_G = merge_graphs_with_weight_diff(G1, G2)\n",
    "\n",
    "# Print edges with weights of the merged graph\n",
    "for u, v, data in merged_G.edges(data=True):\n",
    "    print(f\"({u}, {v}) - weight: {data['weight']}\")\n",
    "\n",
    "for u, v, data in merged_G.edges(data=True):\n",
    "    print(f\"({u}, {v}) - type: {data['type']}\")"
   ]
  },
  {
   "cell_type": "code",
   "execution_count": 21,
   "metadata": {},
   "outputs": [
    {
     "name": "stdout",
     "output_type": "stream",
     "text": [
      "[{'weight': 2, 'type': 2}, {'weight': 4, 'type': 4}, {'weight': 6, 'type': 1}, {'weight': 0, 'type': -7}, {'weight': 0, 'type': -9}]\n",
      "graph.html\n"
     ]
    },
    {
     "data": {
      "text/html": [
       "\n",
       "        <iframe\n",
       "            width=\"1000px\"\n",
       "            height=\"1000px\"\n",
       "            src=\"graph.html\"\n",
       "            frameborder=\"0\"\n",
       "            allowfullscreen\n",
       "            \n",
       "        ></iframe>\n",
       "        "
      ],
      "text/plain": [
       "<IPython.lib.display.IFrame at 0x1405130ede0>"
      ]
     },
     "execution_count": 21,
     "metadata": {},
     "output_type": "execute_result"
    }
   ],
   "source": [
    "from pyvis.network import Network\n",
    "\n",
    "net = Network('1000px', '1000px', notebook=True, cdn_resources='remote')\n",
    "\n",
    "for e in net.edges:\n",
    "    print(e[\"type\"])\n",
    "\n",
    "\n",
    "print([d for u, v, d in merged_G.edges(data=True)])\n"
   ]
  },
  {
   "cell_type": "code",
   "execution_count": null,
   "metadata": {},
   "outputs": [],
   "source": []
  }
 ],
 "metadata": {
  "kernelspec": {
   "display_name": "beliefs",
   "language": "python",
   "name": "python3"
  },
  "language_info": {
   "codemirror_mode": {
    "name": "ipython",
    "version": 3
   },
   "file_extension": ".py",
   "mimetype": "text/x-python",
   "name": "python",
   "nbconvert_exporter": "python",
   "pygments_lexer": "ipython3",
   "version": "3.12.3"
  }
 },
 "nbformat": 4,
 "nbformat_minor": 2
}
