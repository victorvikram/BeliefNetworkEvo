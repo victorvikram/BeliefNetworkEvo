{
 "cells": [
  {
   "cell_type": "markdown",
   "metadata": {},
   "source": [
    "This notebook generates the stress histograms of different voter types. So, are republicans or democrats more stressed?"
   ]
  },
  {
   "cell_type": "code",
   "execution_count": 130,
   "metadata": {},
   "outputs": [],
   "source": [
    "\"\"\" BORING!!! \"\"\"\n",
    "import numpy as np\n",
    "import pyreadstat as prs\n",
    "import sys\n",
    "sys.path.append('../src')\n",
    "from clean_data_1 import transform_dataframe_1\n",
    "from clean_data_2 import transform_dataframe_2\n",
    "from make_belief_network import make_belief_network\n",
    "from calc_stress import stress\n",
    "from interpret_belief_vector import interpret_belief_vector"
   ]
  },
  {
   "cell_type": "code",
   "execution_count": 131,
   "metadata": {},
   "outputs": [],
   "source": [
    "\"\"\" Importing the data!!! \"\"\"\n",
    "import pyreadstat as prs\n",
    "raw_df, meta = prs.read_sas7bdat(\"../dat/gss7222_r3.sas7bdat\")"
   ]
  },
  {
   "cell_type": "code",
   "execution_count": 132,
   "metadata": {},
   "outputs": [
    {
     "name": "stdout",
     "output_type": "stream",
     "text": [
      "The autoreload extension is already loaded. To reload it, use:\n",
      "  %reload_ext autoreload\n"
     ]
    }
   ],
   "source": [
    "\"\"\" Cleaning the data and setting the replicating core \"\"\"\n",
    "%load_ext autoreload\n",
    "%autoreload 2\n",
    "import sys\n",
    "sys.path.append('../src')\n",
    "from clean_data_1 import transform_dataframe_1\n",
    " \n",
    "# Clean data \n",
    "df, metadata = transform_dataframe_1(raw_df)    \n",
    "\n",
    "# Set variables of interest\n",
    "variables = [\"PARTYID\",\"POLVIEWS\",\"NATSPAC\",\"NATENVIR\",\"NATHEAL\",\"NATCITY\",\"NATCRIME\",\"NATDRUG\",\"NATEDUC\",\"NATRACE\",\"NATARMS\",\n",
    "\"NATAID\",\"NATFARE\",\"NATROAD\",\"NATSOC\",\"NATMASS\",\"NATPARK\",\"NATCHLD\",\"NATSCI\",\"EQWLTH\",\"SPKATH\",\"COLATH\",\"LIBATH\",\"SPKRAC\",\"COLRAC\",\"LIBRAC\",\"SPKCOM\",\"COLCOM\",\"LIBCOM\",\"SPKMIL\",\"COLMIL\",\"LIBMIL\",\"SPKHOMO\",\n",
    "\"COLHOMO\",\"LIBHOMO\",\"SPKMSLM\",\"COLMSLM\",\"LIBMSLM\",\"CAPPUN\",\"GUNLAW\",\"COURTS\",\"GRASS\",\"ATTEND\",\"RELITEN\",\"POSTLIFE\",\"PRAYER\",\"AFFRMACT\",\"WRKWAYUP\",\"HELPFUL\",\n",
    "\"FAIR\",\"TRUST\",\"CONFINAN\",\"CONBUS\",\"CONCLERG\",\"CONEDUC\",\"CONFED\",\"CONLABOR\",\"CONPRESS\",\"CONMEDIC\",\"CONTV\",\"CONJUDGE\",\"CONSCI\",\"CONLEGIS\",\"CONARMY\",\"GETAHEAD\",\"FEPOL\",\"ABDEFECT\",\"ABNOMORE\",\"ABHLTH\",\"ABPOOR\",\"ABRAPE\",\"ABSINGLE\",\"ABANY\",\"SEXEDUC\",\"DIVLAW\",\"PREMARSX\",\"TEENSEX\",\"XMARSEX\",\"HOMOSEX\",\"PORNLAW\",\n",
    "\"SPANKING\",\"LETDIE1\",\"SUICIDE1\",\"SUICIDE2\",\"POLHITOK\",\"POLABUSE\",\"POLMURDR\",\"POLESCAP\",\"POLATTAK\",\"NEWS\",\"TVHOURS\",\"FECHLD\",\"FEPRESCH\",\"FEFAM\",\"RACDIF1\",\"RACDIF2\",\"RACDIF3\",\n",
    "\"RACDIF4\",\"HELPPOOR\",\"MARHOMO\", \"PRESLAST_NONCONFORM\", \"PRESLAST_DEMREP\", \"VOTELAST\"]"
   ]
  },
  {
   "cell_type": "code",
   "execution_count": 216,
   "metadata": {},
   "outputs": [],
   "source": [
    "\n",
    "start_year = 1990\n",
    "timeframe = list(range(start_year, start_year+8))\n",
    "\n",
    "BN, variables_list, correlation_matrix_partial = make_belief_network(df, variables, timeframe, method=\"spearman\", is_partial=True, threshold=0, sample_threshold=0, regularisation=0.2)\n",
    "\n"
   ]
  },
  {
   "cell_type": "code",
   "execution_count": 249,
   "metadata": {},
   "outputs": [
    {
     "name": "stdout",
     "output_type": "stream",
     "text": [
      "LIBRAC\n",
      "-1.0    24588\n",
      " 1.0    13462\n",
      "Name: count, dtype: int64\n",
      "LIBRAC\n",
      "-1.0    4469\n",
      " 1.0    2185\n",
      "Name: count, dtype: int64\n",
      "0\n",
      "0\n"
     ]
    }
   ],
   "source": [
    "\"\"\" In order to calculate the stress of beleif vectors, we need to belief vectors \"\"\"\n",
    "\"\"\" We first clear the dataset again to implement the median solution \"\"\"\n",
    "\n",
    "df_b_vecs, _ = transform_dataframe_2(df, timeframe)\n",
    "\n",
    "\"\"\" We can then cut the data down to only the variables in the belief network \"\"\"\n",
    "\n",
    "df_b_vecs = df_b_vecs[variables_list]\n",
    "\n",
    "\"\"\" And then split into republicans and democrats via the PARTYID variable \"\"\"\n",
    "\n",
    "\"\"\" Interesting variables: \"SPKATH\",\"COLATH\",\"LIBATH\",\"SPKRAC\",\"COLRAC\",\"LIBRAC\",\"SPKCOM\",\"COLCOM\",\"LIBCOM\",\"SPKMIL\",\"COLMIL\",\"LIBMIL\",\"SPKHOMO\",\n",
    "\"COLHOMO\",\"LIBHOMO\",\"SPKMSLM\",\"COLMSLM\",\"LIBMSLM\" \"\"\"\n",
    "\n",
    "var_for_split = \"LIBRAC\"\n",
    "\n",
    "print(df[var_for_split].value_counts())\n",
    "print(df_b_vecs[var_for_split].value_counts())\n",
    "\n",
    "df_repub_vecs = df_b_vecs[df_b_vecs[var_for_split] < 0]\n",
    "df_demo_vecs = df_b_vecs[df_b_vecs[var_for_split] > 0]\n",
    "\n",
    "\n",
    "\"\"\" And then get arrays for the belief vectors \"\"\"\n",
    "\n",
    "belief_vectors_repub = df_repub_vecs.to_numpy()\n",
    "belief_vectors_dem = df_demo_vecs.to_numpy()\n",
    "\n",
    "\"\"\" Finally we want to set the NaNs to zero, and normalise the vectors such that they span -1 and 1 \"\"\"\n",
    "belief_vectors_repub[np.isnan(belief_vectors_repub)] = 0\n",
    "belief_vectors_dem[np.isnan(belief_vectors_dem)] = 0\n",
    "\n",
    "\n",
    "epsilon = 1e-10\n",
    "belief_vectors_repub = 2 * (belief_vectors_repub - np.min(belief_vectors_repub, axis=0)) / (np.max(belief_vectors_repub, axis=0) - np.min(belief_vectors_repub, axis=0) + epsilon) - 1\n",
    "belief_vectors_dem = 2 * (belief_vectors_dem - np.min(belief_vectors_dem, axis=0)) / (np.max(belief_vectors_dem, axis=0) - np.min(belief_vectors_dem, axis=0) + epsilon) - 1\n",
    "\n",
    "# Check for any NaNs and print them\n",
    "print(np.isnan(belief_vectors_repub).sum())\n",
    "print(np.isnan(belief_vectors_dem).sum())\n",
    "\n"
   ]
  },
  {
   "cell_type": "code",
   "execution_count": 257,
   "metadata": {},
   "outputs": [
    {
     "data": {
      "image/png": "[encoded data removed]",
      "text/plain": [
       "<Figure size 640x480 with 1 Axes>"
      ]
     },
     "metadata": {},
     "output_type": "display_data"
    },
    {
     "name": "stdout",
     "output_type": "stream",
     "text": [
      "Number of belief vectors:  6654\n"
     ]
    }
   ],
   "source": [
    "\"\"\" Okay, and now we calculate the stress of the belief vectors \"\"\"\n",
    "\n",
    "correlation_matrix_noDiag = correlation_matrix_partial - np.eye(correlation_matrix_partial.shape[0])\n",
    "\n",
    "repub_stress_vec = []\n",
    "dem_stress_vec = []\n",
    "\n",
    "repub_stress_vec = [stress(belief_vectors_repub[i,:], correlation_matrix_noDiag) for i in range(belief_vectors_repub.shape[0])]\n",
    "dem_stress_vec = [stress(belief_vectors_dem[i,:], correlation_matrix_noDiag) for i in range(belief_vectors_dem.shape[0])]\n",
    "\n",
    "summed_stress_vec = repub_stress_vec + dem_stress_vec\n",
    "\n",
    "\"\"\" We can also compare it to a random set of belief vectors \"\"\"\n",
    "\n",
    "# Generate K random belief vectors\n",
    "# random_belief_vectors = np.random.choice([-1, 0, 1], size=(len(stress_vec), len(variables_list)))\n",
    "# alt_belief_vectors = np.random.rand(len(repub_stress_vec)+len(dem_stress_vec), len(variables_list))*2 - 1\n",
    "# alt_stress_vec = [stress(vector, correlation_matrix_partial) for vector in random_belief_vectors]\n",
    "\n",
    "\"\"\" We can also compare the stress vectors of republican and democrat belief vectors \"\"\"\n",
    "\n",
    "\n",
    "\n",
    "import matplotlib.pyplot as plt\n",
    "# plt.hist(summed_stress_vec, bins=100, alpha=0.3, label='Summed belief vectors')\n",
    "plt.hist(repub_stress_vec, bins=100, alpha=0.5, label='Republican belief vectors', density=True)\n",
    "plt.hist(dem_stress_vec, bins=100, alpha=0.5, label='Democrat belief vectors', density=True)\n",
    "plt.legend(loc='upper right')\n",
    "plt.xlabel('Stress')\n",
    "plt.ylabel('Frequency')\n",
    "plt.show()\n",
    "\n",
    "print(\"Number of belief vectors: \", len(summed_stress_vec))"
   ]
  }
 ],
 "metadata": {
  "kernelspec": {
   "display_name": "Python 3",
   "language": "python",
   "name": "python3"
  },
  "language_info": {
   "codemirror_mode": {
    "name": "ipython",
    "version": 3
   },
   "file_extension": ".py",
   "mimetype": "text/x-python",
   "name": "python",
   "nbconvert_exporter": "python",
   "pygments_lexer": "ipython3",
   "version": "3.11.2"
  }
 },
 "nbformat": 4,
 "nbformat_minor": 2
}
