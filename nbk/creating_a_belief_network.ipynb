{
 "cells": [
  {
   "cell_type": "code",
   "execution_count": 1,
   "metadata": {},
   "outputs": [
    {
     "name": "stderr",
     "output_type": "stream",
     "text": [
      "<>:3: SyntaxWarning: invalid escape sequence '\\g'\n",
      "<>:3: SyntaxWarning: invalid escape sequence '\\g'\n",
      "C:\\Users\\vicvi\\AppData\\Local\\Temp\\ipykernel_33880\\1964282669.py:3: SyntaxWarning: invalid escape sequence '\\g'\n",
      "  df, meta = prs.read_sas7bdat(\"data\\gss7222_r3.sas7bdat\")\n",
      "C:\\Users\\vicvi\\AppData\\Local\\Temp\\ipykernel_33880\\1964282669.py:3: SyntaxWarning: invalid escape sequence '\\g'\n",
      "  df, meta = prs.read_sas7bdat(\"data\\gss7222_r3.sas7bdat\")\n"
     ]
    },
    {
     "ename": "PyreadstatError",
     "evalue": "File data\\gss7222_r3.sas7bdat does not exist!",
     "output_type": "error",
     "traceback": [
      "\u001b[1;31m---------------------------------------------------------------------------\u001b[0m",
      "\u001b[1;31mPyreadstatError\u001b[0m                           Traceback (most recent call last)",
      "Cell \u001b[1;32mIn[1], line 3\u001b[0m\n\u001b[0;32m      1\u001b[0m \u001b[38;5;28;01mimport\u001b[39;00m \u001b[38;5;21;01mpyreadstat\u001b[39;00m \u001b[38;5;28;01mas\u001b[39;00m \u001b[38;5;21;01mprs\u001b[39;00m\n\u001b[1;32m----> 3\u001b[0m df, meta \u001b[38;5;241m=\u001b[39m prs\u001b[38;5;241m.\u001b[39mread_sas7bdat(\u001b[38;5;124m\"\u001b[39m\u001b[38;5;124mdata\u001b[39m\u001b[38;5;124m\\\u001b[39m\u001b[38;5;124mgss7222_r3.sas7bdat\u001b[39m\u001b[38;5;124m\"\u001b[39m)\n",
      "File \u001b[1;32mpyreadstat\\\\pyreadstat.pyx:129\u001b[0m, in \u001b[0;36mpyreadstat.pyreadstat.read_sas7bdat\u001b[1;34m()\u001b[0m\n",
      "File \u001b[1;32mpyreadstat\\\\_readstat_parser.pyx:1075\u001b[0m, in \u001b[0;36mpyreadstat._readstat_parser.run_conversion\u001b[1;34m()\u001b[0m\n",
      "\u001b[1;31mPyreadstatError\u001b[0m: File data\\gss7222_r3.sas7bdat does not exist!"
     ]
    }
   ],
   "source": [
    "import pyreadstat as prs\n",
    "\n",
    "df, meta = prs.read_sas7bdat(\"data\\gss7222_r3.sas7bdat\")"
   ]
  },
  {
   "cell_type": "code",
   "execution_count": null,
   "metadata": {},
   "outputs": [],
   "source": [
    "from transform_df_to_our_standard import transform_dataframe\n",
    "\n",
    "df = transform_dataframe(df)"
   ]
  },
  {
   "cell_type": "code",
   "execution_count": null,
   "metadata": {},
   "outputs": [],
   "source": [
    "# our_variables = [\"YEAR\",\"PARTYID\",\"VOTE68\",\"PRES68\",\"IF68WHO\",\"VOTE72\",\"PRES72\",\"IF72WHO\",\"VOTE76\",\"PRES76\",\"IF76WHO\",\"VOTE80\",\"PRES80\",\"IF80WHO\",\"VOTE84\",\"PRES84\",\n",
    "# \"IF84WHO\",\"VOTE88\",\"PRES88\",\"IF88WHO\",\"VOTE92\",\"PRES92\",\"IF92WHO\",\"VOTE96\",\"PRES96\",\"IF96WHO\",\"VOTE00\",\"PRES00\",\"IF00WHO\",\"VOTE04\",\"PRES04\",\"IF04WHO\",\"VOTE08\",\"PRES08\",\n",
    "# \"IF08WHO\",\"VOTE12\",\"PRES12\",\"IF12WHO\",\"VOTE16\",\"PRES16\",\"IF16WHO\",\"POLVIEWS\",\"NATSPAC\",\"NATENVIR\",\"NATHEAL\",\"NATCITY\",\"NATCRIME\",\"NATDRUG\",\"NATEDUC\",\"NATRACE\",\"NATARMS\",\n",
    "# \"NATAID\",\"NATFARE\",\"NATROAD\",\"NATSOC\",\"NATMASS\",\"NATPARK\",\"NATCHLD\",\"NATSCI\",\"NATENRGY\",\"NATSPACY\",\"NATENVIY\",\"NATHEALY\",\"NATCITYY\",\"NATCRIMY\",\"NATDRUGY\",\"NATEDUCY\",\n",
    "# \"NATRACEY\",\"NATARMSY\",\"NATAIDY\",\"NATFAREY\",\"EQWLTH\",\"SPKATH\",\"COLATH\",\"LIBATH\",\"SPKRAC\",\"COLRAC\",\"LIBRAC\",\"SPKCOM\",\"COLCOM\",\"LIBCOM\",\"SPKMIL\",\"COLMIL\",\"LIBMIL\",\"SPKHOMO\",\n",
    "# \"COLHOMO\",\"LIBHOMO\",\"SPKMSLM\",\"COLMSLM\",\"LIBMSLM\",\"CAPPUN\",\"GUNLAW\",\"COURTS\",\"GRASS\",\"RELIG\",\"ATTEND\",\"RELITEN\",\"POSTLIFE\",\"PRAYER\",\"RACOPEN\",\"AFFRMACT\",\"WRKWAYUP\",\"HELPFUL\",\n",
    "# \"FAIR\",\"TRUST\",\"CONFINAN\",\"CONBUS\",\"CONCLERG\",\"CONEDUC\",\"CONFED\",\"CONLABOR\",\"CONPRESS\",\"CONMEDIC\",\"CONTV\",\"CONJUDGE\",\"CONSCI\",\"CONLEGIS\",\"CONARMY\",\"OBEY\",\"POPULAR\",\"THNKSELF\",\n",
    "# \"WORKHARD\",\"HELPOTH\",\"GETAHEAD\",\"FEPOL\",\"ABDEFECT\",\"ABNOMORE\",\"ABHLTH\",\"ABPOOR\",\"ABRAPE\",\"ABSINGLE\",\"ABANY\",\"SEXEDUC\",\"DIVLAW\",\"PREMARSX\",\"TEENSEX\",\"XMARSEX\",\"HOMOSEX\",\"PORNLAW\",\n",
    "# \"SPANKING\",\"LETDIE1\",\"SUICIDE1\",\"SUICIDE2\",\"POLHITOK\",\"POLABUSE\",\"POLMURDR\",\"POLESCAP\",\"POLATTAK\",\"NEWS\",\"TVHOURS\",\"FECHLD\",\"FEPRESCH\",\"FEFAM\",\"RACDIF1\",\"RACDIF2\",\"RACDIF3\",\n",
    "# \"RACDIF4\",\"HELPPOOR\",\"HELPNOT\",\"HELPBLK\",\"MARHOMO\",\"BALLOT\"]"
   ]
  },
  {
   "cell_type": "code",
   "execution_count": null,
   "metadata": {},
   "outputs": [],
   "source": [
    "from make_belief_network import make_belief_network\n",
    "import networkx as nx\n",
    "\n",
    "variables_of_interest = [\"GRASS (mapped)\", \"POLVIEWS (mapped)\", \"POSTLIFE (mapped)\"]\n",
    "years_of_interest = [2000, 2001, 2002, 2003, 2004, 2005]\n",
    "BN, corr_info, corr_mat = make_belief_network(df, variables_of_interest, years_of_interest, method=\"spearman\", is_partial=True, threshold=None)\n",
    "print(corr_mat)\n",
    "\n",
    "# Save the graph as graphml\n",
    "# make the name include the years of interest\n",
    "years_name = \"_\".join([str(year) for year in years_of_interest])\n",
    "filename = f\"{years_name}.graphml\"\n",
    "nx.write_graphml(BN, filename)\n"
   ]
  },
  {
   "cell_type": "code",
   "execution_count": 2,
   "metadata": {},
   "outputs": [
    {
     "ename": "NameError",
     "evalue": "name 'np' is not defined",
     "output_type": "error",
     "traceback": [
      "\u001b[1;31m---------------------------------------------------------------------------\u001b[0m",
      "\u001b[1;31mNameError\u001b[0m                                 Traceback (most recent call last)",
      "Cell \u001b[1;32mIn[2], line 1\u001b[0m\n\u001b[1;32m----> 1\u001b[0m np\u001b[38;5;241m.\u001b[39mzeros((\u001b[38;5;241m3\u001b[39m, \u001b[38;5;241m3\u001b[39m))\n",
      "\u001b[1;31mNameError\u001b[0m: name 'np' is not defined"
     ]
    }
   ],
   "source": []
  },
  {
   "cell_type": "code",
   "execution_count": null,
   "metadata": {},
   "outputs": [],
   "source": []
  }
 ],
 "metadata": {
  "kernelspec": {
   "display_name": "beliefs",
   "language": "python",
   "name": "beliefs"
  }
 },
 "nbformat": 4,
 "nbformat_minor": 2
}
