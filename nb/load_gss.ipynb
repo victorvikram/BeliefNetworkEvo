{
 "cells": [
  {
   "cell_type": "code",
   "execution_count": 1,
   "id": "81b5583f",
   "metadata": {},
   "outputs": [],
   "source": [
    "import sys\n",
    "sys.path.append(\"../src\")\n",
    "\n",
    "%load_ext autoreload\n",
    "%autoreload 2"
   ]
  },
  {
   "cell_type": "code",
   "execution_count": 6,
   "id": "168d83cd",
   "metadata": {},
   "outputs": [],
   "source": [
    "import pandas as pd\n",
    "from load_data import load_gss\n",
    "\n",
    "gss_file = \"C:/Users/vicvi/big-datasets/social_values/GSS_sav/gss7222_r3.dta\"\n",
    "C:\\Users\\vicvi\\big-datasets\\social_values\\GSS_sas"
   ]
  },
  {
   "cell_type": "code",
   "execution_count": 7,
   "id": "7ce1af3b",
   "metadata": {},
   "outputs": [
    {
     "ename": "PyreadstatError",
     "evalue": "File C:/Users/vicvi/big-datasets/social_values/GSS_sav/gss7222_r3.dta does not exist!",
     "output_type": "error",
     "traceback": [
      "\u001b[1;31m---------------------------------------------------------------------------\u001b[0m",
      "\u001b[1;31mPyreadstatError\u001b[0m                           Traceback (most recent call last)",
      "\u001b[1;32m<ipython-input-7-a0ffc54375a2>\u001b[0m in \u001b[0;36m<module>\u001b[1;34m\u001b[0m\n\u001b[0;32m      1\u001b[0m \u001b[0mcolumns_to_load\u001b[0m \u001b[1;33m=\u001b[0m \u001b[1;33m[\u001b[0m\u001b[1;34m\"year\"\u001b[0m\u001b[1;33m,\u001b[0m \u001b[1;34m\"ballot\"\u001b[0m\u001b[1;33m,\u001b[0m \u001b[1;34m\"natcrime\"\u001b[0m\u001b[1;33m,\u001b[0m \u001b[1;34m\"natheal\"\u001b[0m\u001b[1;33m,\u001b[0m \u001b[1;34m\"nateduc\"\u001b[0m\u001b[1;33m,\u001b[0m \u001b[1;34m\"natrace\"\u001b[0m\u001b[1;33m]\u001b[0m\u001b[1;33m\u001b[0m\u001b[1;33m\u001b[0m\u001b[0m\n\u001b[1;32m----> 2\u001b[1;33m \u001b[0mgss_df\u001b[0m \u001b[1;33m=\u001b[0m \u001b[0mload_gss\u001b[0m\u001b[1;33m(\u001b[0m\u001b[0mgss_file\u001b[0m\u001b[1;33m,\u001b[0m \u001b[0mcolumns_to_load\u001b[0m\u001b[1;33m)\u001b[0m\u001b[1;33m\u001b[0m\u001b[1;33m\u001b[0m\u001b[0m\n\u001b[0m",
      "\u001b[1;32m~\\OneDrive\\active\\politics\\belief-networks\\BeliefNetworkEvo\\src\\load_data.py\u001b[0m in \u001b[0;36mload_gss\u001b[1;34m(filename, vars_to_load, filetype)\u001b[0m\n\u001b[0;32m      4\u001b[0m \u001b[1;32mdef\u001b[0m \u001b[0mload_gss\u001b[0m\u001b[1;33m(\u001b[0m\u001b[0mfilename\u001b[0m\u001b[1;33m,\u001b[0m \u001b[0mvars_to_load\u001b[0m\u001b[1;33m,\u001b[0m \u001b[0mfiletype\u001b[0m\u001b[1;33m=\u001b[0m\u001b[1;34m\"sav\"\u001b[0m\u001b[1;33m)\u001b[0m\u001b[1;33m:\u001b[0m\u001b[1;33m\u001b[0m\u001b[1;33m\u001b[0m\u001b[0m\n\u001b[0;32m      5\u001b[0m     \u001b[1;32mif\u001b[0m \u001b[0mfiletype\u001b[0m \u001b[1;33m==\u001b[0m \u001b[1;34m\"sav\"\u001b[0m\u001b[1;33m:\u001b[0m\u001b[1;33m\u001b[0m\u001b[1;33m\u001b[0m\u001b[0m\n\u001b[1;32m----> 6\u001b[1;33m         \u001b[0mdf\u001b[0m\u001b[1;33m,\u001b[0m \u001b[0mmeta\u001b[0m \u001b[1;33m=\u001b[0m \u001b[0mprs\u001b[0m\u001b[1;33m.\u001b[0m\u001b[0mread_sav\u001b[0m\u001b[1;33m(\u001b[0m\u001b[0mfilename\u001b[0m\u001b[1;33m,\u001b[0m \u001b[0musecols\u001b[0m\u001b[1;33m=\u001b[0m\u001b[0mvars_to_load\u001b[0m\u001b[1;33m)\u001b[0m\u001b[1;33m\u001b[0m\u001b[1;33m\u001b[0m\u001b[0m\n\u001b[0m\u001b[0;32m      7\u001b[0m \u001b[1;33m\u001b[0m\u001b[0m\n\u001b[0;32m      8\u001b[0m     \u001b[1;32mreturn\u001b[0m \u001b[0mdf\u001b[0m\u001b[1;33m,\u001b[0m \u001b[0mmeta\u001b[0m\u001b[1;33m\u001b[0m\u001b[1;33m\u001b[0m\u001b[0m\n",
      "\u001b[1;32mpyreadstat\\\\pyreadstat.pyx\u001b[0m in \u001b[0;36mpyreadstat.pyreadstat.read_sav\u001b[1;34m()\u001b[0m\n",
      "\u001b[1;32mpyreadstat\\\\_readstat_parser.pyx\u001b[0m in \u001b[0;36mpyreadstat._readstat_parser.run_conversion\u001b[1;34m()\u001b[0m\n",
      "\u001b[1;31mPyreadstatError\u001b[0m: File C:/Users/vicvi/big-datasets/social_values/GSS_sav/gss7222_r3.dta does not exist!"
     ]
    }
   ],
   "source": [
    "columns_to_load = [\"year\", \"ballot\", \"natcrime\", \"natheal\", \"nateduc\", \"natrace\"]\n",
    "gss_df = load_gss(gss_file, columns_to_load)"
   ]
  },
  {
   "cell_type": "code",
   "execution_count": null,
   "id": "5cc933f3",
   "metadata": {},
   "outputs": [],
   "source": [
    "gss_df.natcrime.value_counts()"
   ]
  },
  {
   "cell_type": "code",
   "execution_count": null,
   "id": "7e1f547e",
   "metadata": {},
   "outputs": [],
   "source": []
  }
 ],
 "metadata": {
  "kernelspec": {
   "display_name": "Python 3",
   "language": "python",
   "name": "python3"
  },
  "language_info": {
   "codemirror_mode": {
    "name": "ipython",
    "version": 3
   },
   "file_extension": ".py",
   "mimetype": "text/x-python",
   "name": "python",
   "nbconvert_exporter": "python",
   "pygments_lexer": "ipython3",
   "version": "3.8.8"
  }
 },
 "nbformat": 4,
 "nbformat_minor": 5
}
