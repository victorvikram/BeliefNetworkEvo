{
 "cells": [
  {
   "cell_type": "code",
   "execution_count": 1,
   "id": "617c44a6",
   "metadata": {},
   "outputs": [
    {
     "ename": "ModuleNotFoundError",
     "evalue": "No module named 'pingouin'",
     "output_type": "error",
     "traceback": [
      "\u001b[1;31m---------------------------------------------------------------------------\u001b[0m",
      "\u001b[1;31mModuleNotFoundError\u001b[0m                       Traceback (most recent call last)",
      "\u001b[1;32m<ipython-input-1-8c1dc050b3e0>\u001b[0m in \u001b[0;36m<module>\u001b[1;34m\u001b[0m\n\u001b[0;32m      1\u001b[0m \u001b[1;32mimport\u001b[0m \u001b[0mnumpy\u001b[0m \u001b[1;32mas\u001b[0m \u001b[0mnp\u001b[0m\u001b[1;33m\u001b[0m\u001b[1;33m\u001b[0m\u001b[0m\n\u001b[0;32m      2\u001b[0m \u001b[1;32mimport\u001b[0m \u001b[0mpandas\u001b[0m \u001b[1;32mas\u001b[0m \u001b[0mpd\u001b[0m\u001b[1;33m\u001b[0m\u001b[1;33m\u001b[0m\u001b[0m\n\u001b[1;32m----> 3\u001b[1;33m \u001b[1;32mfrom\u001b[0m \u001b[0mpingouin\u001b[0m \u001b[1;32mimport\u001b[0m \u001b[0mpairwise_corr\u001b[0m\u001b[1;33m\u001b[0m\u001b[1;33m\u001b[0m\u001b[0m\n\u001b[0m",
      "\u001b[1;31mModuleNotFoundError\u001b[0m: No module named 'pingouin'"
     ]
    }
   ],
   "source": [
    "import numpy as np\n",
    "import pandas as pd\n",
    "from pingouin import pairwise_corr"
   ]
  },
  {
   "cell_type": "code",
   "execution_count": 28,
   "id": "cd5a991f",
   "metadata": {},
   "outputs": [
    {
     "name": "stdout",
     "output_type": "stream",
     "text": [
      "Random samples from the multivariate normal distribution:\n",
      "[[-0.07464074  0.21633025  0.79693891]\n",
      " [-1.21055723 -0.65268682  0.37882928]\n",
      " [-0.28134027 -0.27351811  0.51689067]\n",
      " [ 0.14016713  0.12896742 -0.21984168]\n",
      " [ 0.51306943  0.38670271 -0.98921774]\n",
      " [ 0.01777306  0.17813426 -0.43028066]\n",
      " [ 0.47276642  0.69003334 -0.9682118 ]\n",
      " [ 0.07424205 -0.39311179  0.10105897]\n",
      " [-0.24562421  0.07370235 -0.49710117]\n",
      " [-0.46068502 -0.83874483  0.33351535]]\n"
     ]
    }
   ],
   "source": [
    "# Define mean vector and covariance matrix\n",
    "dim = 3\n",
    "random_mat = 2 * np.random.rand(dim, dim) - 1 # get a matrix\n",
    "random_cov_mat = np.dot(random_mat, random_mat.T) # make it pos semi-definite\n",
    "\n",
    "std_deviations = np.sqrt(np.diag(random_cov_mat))\n",
    "random_cor_mat = random_cov_mat / np.outer(std_deviations, std_deviations)\n",
    "    \n",
    "mean = np.zeros((dim,))  # Mean vector\n",
    "\n",
    "# Generate random samples from the multivariate normal distribution\n",
    "num_samples = 1000\n",
    "samples = np.random.multivariate_normal(mean, random_cov_mat, size=num_samples)\n",
    "\n",
    "sample_df = pd.DataFrame(samples)\n",
    "\n",
    "# Print the first few samples\n",
    "print(\"Random samples from the multivariate normal distribution:\")\n",
    "print(samples[:10])"
   ]
  },
  {
   "cell_type": "code",
   "execution_count": 29,
   "id": "c192698c",
   "metadata": {},
   "outputs": [
    {
     "data": {
      "text/plain": [
       "array([[ 1.        ,  0.90505139, -0.24259799],\n",
       "       [ 0.90505139,  1.        , -0.39434873],\n",
       "       [-0.24259799, -0.39434873,  1.        ]])"
      ]
     },
     "execution_count": 29,
     "metadata": {},
     "output_type": "execute_result"
    }
   ],
   "source": [
    "random_cor_mat"
   ]
  },
  {
   "cell_type": "code",
   "execution_count": 30,
   "id": "0e6e2753",
   "metadata": {},
   "outputs": [
    {
     "data": {
      "text/plain": [
       "array([[ 0.45950213,  0.45607845, -0.13109308],\n",
       "       [ 0.45607845,  0.55264355, -0.23369628],\n",
       "       [-0.13109308, -0.23369628,  0.63547374]])"
      ]
     },
     "execution_count": 30,
     "metadata": {},
     "output_type": "execute_result"
    }
   ],
   "source": [
    "random_cov_mat"
   ]
  },
  {
   "cell_type": "code",
   "execution_count": 33,
   "id": "a06a0d7b",
   "metadata": {},
   "outputs": [
    {
     "data": {
      "text/plain": [
       "array([[ 1.        ,  0.90788033,  0.2924701 ],\n",
       "       [ 0.90788033,  1.        , -0.42362166],\n",
       "       [ 0.2924701 , -0.42362166,  1.        ]])"
      ]
     },
     "execution_count": 33,
     "metadata": {},
     "output_type": "execute_result"
    }
   ],
   "source": [
    "precision_matrix = np.linalg.inv(random_cov_mat)\n",
    "    \n",
    "# Calculate the partial correlation matrix\n",
    "partial_correlation_matrix = - precision_matrix / np.sqrt(np.outer(np.diag(precision_matrix), np.diag(precision_matrix)))\n",
    "    \n",
    "    # Set diagonal elements to 1\n",
    "np.fill_diagonal(partial_correlation_matrix, 1)\n",
    "\n",
    "partial_correlation_matrix"
   ]
  },
  {
   "cell_type": "code",
   "execution_count": 35,
   "id": "4306d1df",
   "metadata": {},
   "outputs": [
    {
     "data": {
      "text/plain": [
       "array([[ 1.        ,  0.90505139, -0.24259799],\n",
       "       [ 0.90505139,  1.        , -0.39434873],\n",
       "       [-0.24259799, -0.39434873,  1.        ]])"
      ]
     },
     "execution_count": 35,
     "metadata": {},
     "output_type": "execute_result"
    }
   ],
   "source": [
    "random_cor_mat"
   ]
  },
  {
   "cell_type": "code",
   "execution_count": 36,
   "id": "61bb17ff",
   "metadata": {},
   "outputs": [
    {
     "ename": "NameError",
     "evalue": "name 'pingouin' is not defined",
     "output_type": "error",
     "traceback": [
      "\u001b[1;31m---------------------------------------------------------------------------\u001b[0m",
      "\u001b[1;31mNameError\u001b[0m                                 Traceback (most recent call last)",
      "\u001b[1;32m<ipython-input-36-c3d8470e4338>\u001b[0m in \u001b[0;36m<module>\u001b[1;34m\u001b[0m\n\u001b[1;32m----> 1\u001b[1;33m \u001b[0mpingouin\u001b[0m\u001b[1;33m.\u001b[0m\u001b[0mpairwise_corr\u001b[0m\u001b[1;33m(\u001b[0m\u001b[0msample_df\u001b[0m\u001b[1;33m,\u001b[0m \u001b[0mcolumns\u001b[0m\u001b[1;33m=\u001b[0m\u001b[1;32mNone\u001b[0m\u001b[1;33m,\u001b[0m \u001b[0mcovar\u001b[0m\u001b[1;33m=\u001b[0m\u001b[1;32mNone\u001b[0m\u001b[1;33m,\u001b[0m \u001b[0malternative\u001b[0m\u001b[1;33m=\u001b[0m\u001b[1;34m'two-sided'\u001b[0m\u001b[1;33m,\u001b[0m \u001b[0mmethod\u001b[0m\u001b[1;33m=\u001b[0m\u001b[1;34m'pearson'\u001b[0m\u001b[1;33m,\u001b[0m \u001b[0mpadjust\u001b[0m\u001b[1;33m=\u001b[0m\u001b[1;34m'none'\u001b[0m\u001b[1;33m,\u001b[0m \u001b[0mnan_policy\u001b[0m\u001b[1;33m=\u001b[0m\u001b[1;34m'pairwise'\u001b[0m\u001b[1;33m)\u001b[0m\u001b[1;33m\u001b[0m\u001b[1;33m\u001b[0m\u001b[0m\n\u001b[0m",
      "\u001b[1;31mNameError\u001b[0m: name 'pingouin' is not defined"
     ]
    }
   ],
   "source": [
    "pingouin.pairwise_corr(sample_df, columns=None, covar=None, alternative='two-sided', method='pearson', padjust='none', nan_policy='pairwise')"
   ]
  },
  {
   "cell_type": "code",
   "execution_count": null,
   "id": "2077c1ae",
   "metadata": {},
   "outputs": [],
   "source": []
  }
 ],
 "metadata": {
  "kernelspec": {
   "display_name": "Python 3",
   "language": "python",
   "name": "python3"
  },
  "language_info": {
   "codemirror_mode": {
    "name": "ipython",
    "version": 3
   },
   "file_extension": ".py",
   "mimetype": "text/x-python",
   "name": "python",
   "nbconvert_exporter": "python",
   "pygments_lexer": "ipython3",
   "version": "3.8.8"
  }
 },
 "nbformat": 4,
 "nbformat_minor": 5
}
