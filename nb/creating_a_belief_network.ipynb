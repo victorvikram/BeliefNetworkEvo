{
 "cells": [
  {
   "cell_type": "code",
   "execution_count": 4,
   "metadata": {},
   "outputs": [],
   "source": [
    "import pyreadstat as prs\n",
    "\n",
    "df, meta = prs.read_sas7bdat(\"data\\gss7222_r3.sas7bdat\")"
   ]
  },
  {
   "cell_type": "code",
   "execution_count": null,
   "metadata": {},
   "outputs": [],
   "source": [
    "from transform_df_to_our_standard import transform_dataframe\n",
    "\n",
    "df = transform_dataframe(df)"
   ]
  },
  {
   "cell_type": "code",
   "execution_count": null,
   "metadata": {},
   "outputs": [],
   "source": [
    "# our_variables = [\"YEAR\",\"PARTYID\",\"VOTE68\",\"PRES68\",\"IF68WHO\",\"VOTE72\",\"PRES72\",\"IF72WHO\",\"VOTE76\",\"PRES76\",\"IF76WHO\",\"VOTE80\",\"PRES80\",\"IF80WHO\",\"VOTE84\",\"PRES84\",\n",
    "# \"IF84WHO\",\"VOTE88\",\"PRES88\",\"IF88WHO\",\"VOTE92\",\"PRES92\",\"IF92WHO\",\"VOTE96\",\"PRES96\",\"IF96WHO\",\"VOTE00\",\"PRES00\",\"IF00WHO\",\"VOTE04\",\"PRES04\",\"IF04WHO\",\"VOTE08\",\"PRES08\",\n",
    "# \"IF08WHO\",\"VOTE12\",\"PRES12\",\"IF12WHO\",\"VOTE16\",\"PRES16\",\"IF16WHO\",\"POLVIEWS\",\"NATSPAC\",\"NATENVIR\",\"NATHEAL\",\"NATCITY\",\"NATCRIME\",\"NATDRUG\",\"NATEDUC\",\"NATRACE\",\"NATARMS\",\n",
    "# \"NATAID\",\"NATFARE\",\"NATROAD\",\"NATSOC\",\"NATMASS\",\"NATPARK\",\"NATCHLD\",\"NATSCI\",\"NATENRGY\",\"NATSPACY\",\"NATENVIY\",\"NATHEALY\",\"NATCITYY\",\"NATCRIMY\",\"NATDRUGY\",\"NATEDUCY\",\n",
    "# \"NATRACEY\",\"NATARMSY\",\"NATAIDY\",\"NATFAREY\",\"EQWLTH\",\"SPKATH\",\"COLATH\",\"LIBATH\",\"SPKRAC\",\"COLRAC\",\"LIBRAC\",\"SPKCOM\",\"COLCOM\",\"LIBCOM\",\"SPKMIL\",\"COLMIL\",\"LIBMIL\",\"SPKHOMO\",\n",
    "# \"COLHOMO\",\"LIBHOMO\",\"SPKMSLM\",\"COLMSLM\",\"LIBMSLM\",\"CAPPUN\",\"GUNLAW\",\"COURTS\",\"GRASS\",\"RELIG\",\"ATTEND\",\"RELITEN\",\"POSTLIFE\",\"PRAYER\",\"RACOPEN\",\"AFFRMACT\",\"WRKWAYUP\",\"HELPFUL\",\n",
    "# \"FAIR\",\"TRUST\",\"CONFINAN\",\"CONBUS\",\"CONCLERG\",\"CONEDUC\",\"CONFED\",\"CONLABOR\",\"CONPRESS\",\"CONMEDIC\",\"CONTV\",\"CONJUDGE\",\"CONSCI\",\"CONLEGIS\",\"CONARMY\",\"OBEY\",\"POPULAR\",\"THNKSELF\",\n",
    "# \"WORKHARD\",\"HELPOTH\",\"GETAHEAD\",\"FEPOL\",\"ABDEFECT\",\"ABNOMORE\",\"ABHLTH\",\"ABPOOR\",\"ABRAPE\",\"ABSINGLE\",\"ABANY\",\"SEXEDUC\",\"DIVLAW\",\"PREMARSX\",\"TEENSEX\",\"XMARSEX\",\"HOMOSEX\",\"PORNLAW\",\n",
    "# \"SPANKING\",\"LETDIE1\",\"SUICIDE1\",\"SUICIDE2\",\"POLHITOK\",\"POLABUSE\",\"POLMURDR\",\"POLESCAP\",\"POLATTAK\",\"NEWS\",\"TVHOURS\",\"FECHLD\",\"FEPRESCH\",\"FEFAM\",\"RACDIF1\",\"RACDIF2\",\"RACDIF3\",\n",
    "# \"RACDIF4\",\"HELPPOOR\",\"HELPNOT\",\"HELPBLK\",\"MARHOMO\",\"BALLOT\"]"
   ]
  },
  {
   "cell_type": "code",
   "execution_count": null,
   "metadata": {},
   "outputs": [],
   "source": [
    "from make_belief_network import make_belief_network\n",
    "import networkx as nx\n",
    "\n",
    "variables_of_interest = [\"GRASS (mapped)\", \"POLVIEWS (mapped)\", \"POSTLIFE (mapped)\"]\n",
    "years_of_interest = [2000, 2001, 2002, 2003, 2004, 2005]\n",
    "BN, corr_info, corr_mat = make_belief_network(df, variables_of_interest, years_of_interest, method=\"spearman\", is_partial=True, threshold=None)\n",
    "print(corr_mat)\n",
    "\n",
    "# Save the graph as graphml\n",
    "# make the name include the years of interest\n",
    "years_name = \"_\".join([str(year) for year in years_of_interest])\n",
    "filename = f\"{years_name}.graphml\"\n",
    "nx.write_graphml(BN, filename)\n"
   ]
  }
 ],
 "metadata": {
  "kernelspec": {
   "display_name": "Python 3",
   "language": "python",
   "name": "python3"
  },
  "language_info": {
   "codemirror_mode": {
    "name": "ipython",
    "version": 3
   },
   "file_extension": ".py",
   "mimetype": "text/x-python",
   "name": "python",
   "nbconvert_exporter": "python",
   "pygments_lexer": "ipython3",
   "version": "3.11.2"
  }
 },
 "nbformat": 4,
 "nbformat_minor": 2
}
