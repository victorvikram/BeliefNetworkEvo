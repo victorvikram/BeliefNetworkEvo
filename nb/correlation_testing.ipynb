{
 "cells": [
  {
   "cell_type": "code",
   "execution_count": 24,
   "id": "617c44a6",
   "metadata": {},
   "outputs": [
    {
     "name": "stdout",
     "output_type": "stream",
     "text": [
      "The autoreload extension is already loaded. To reload it, use:\n",
      "  %reload_ext autoreload\n"
     ]
    }
   ],
   "source": [
    "%load_ext autoreload\n",
    "%autoreload 2\n",
    "\n",
    "import sys\n",
    "sys.path.append('../src')\n",
    "\n",
    "import numpy as np\n",
    "import pandas as pd\n",
    "from pingouin import partial_corr\n",
    "from pingouin import pairwise_corr\n",
    "from corr_networks import partial_correlations"
   ]
  },
  {
   "cell_type": "code",
   "execution_count": 25,
   "id": "2e67d9e4",
   "metadata": {},
   "outputs": [],
   "source": [
    "def partial_correlations(vars, data, method):\n",
    "    corr_dfs = []\n",
    "    corr_mat = np.zeros((len(vars), len(vars)))\n",
    "\n",
    "    for i in range(len(vars)):\n",
    "        for j in range(i+1, len(vars)):\n",
    "            covar_list = vars[:i] + vars[i+1:j] + vars[j+1:]\n",
    "            corr_df = partial_corr(data=data, x=vars[i], y=vars[j], covar=covar_list, alternative='two-sided', method=method)\n",
    "            corr_df[\"x\"] = i\n",
    "            corr_df[\"y\"] = j\n",
    "            corr_mat[i, j] = corr_df.loc[method, \"r\"]\n",
    "            corr_mat[j, i] = corr_df.loc[method, \"r\"]\n",
    "            corr_dfs.append(corr_df)\n",
    "\n",
    "    corr_info = pd.concat(corr_dfs)\n",
    "    np.fill_diagonal(corr_mat, 1)\n",
    "    return corr_info, corr_mat  "
   ]
  },
  {
   "cell_type": "code",
   "execution_count": null,
   "id": "d36cd943",
   "metadata": {},
   "outputs": [],
   "source": [
    "gss_file = \"C:/Users/vicvi/big-datasets/social_values/GSS_sas/gss7222_r3.sas7bdat\"\n",
    "variable_list = [\"VOTE68\", \"PARTYID\", \"POLVIEWS\"]\n",
    "\n",
    "df = make_variable_df(gss_file, variable_list)"
   ]
  },
  {
   "cell_type": "code",
   "execution_count": null,
   "id": "c28889be",
   "metadata": {},
   "outputs": [],
   "source": []
  },
  {
   "cell_type": "code",
   "execution_count": 3,
   "id": "cd5a991f",
   "metadata": {},
   "outputs": [
    {
     "name": "stdout",
     "output_type": "stream",
     "text": [
      "Cov mat\n",
      "[[1.55660147 0.9113298  1.55170456 1.20734355]\n",
      " [0.9113298  1.31098807 0.57686224 0.60363693]\n",
      " [1.55170456 0.57686224 1.85921498 1.22803975]\n",
      " [1.20734355 0.60363693 1.22803975 1.13586251]]\n",
      "Corr mat\n",
      "[[1.         0.63795123 0.91212742 0.90798624]\n",
      " [0.63795123 1.         0.36949447 0.49466769]\n",
      " [0.91212742 0.36949447 1.         0.84505453]\n",
      " [0.90798624 0.49466769 0.84505453 1.        ]]\n",
      "Partial corr mat\n",
      "[[ 1.          0.77228542  0.82384801  0.58900551]\n",
      " [ 0.77228542  1.         -0.67384914 -0.26638182]\n",
      " [ 0.82384801 -0.67384914  1.         -0.10960967]\n",
      " [ 0.58900551 -0.26638182 -0.10960967  1.        ]]\n"
     ]
    },
    {
     "data": {
      "text/html": [
       "<div>\n",
       "<style scoped>\n",
       "    .dataframe tbody tr th:only-of-type {\n",
       "        vertical-align: middle;\n",
       "    }\n",
       "\n",
       "    .dataframe tbody tr th {\n",
       "        vertical-align: top;\n",
       "    }\n",
       "\n",
       "    .dataframe thead th {\n",
       "        text-align: right;\n",
       "    }\n",
       "</style>\n",
       "<table border=\"1\" class=\"dataframe\">\n",
       "  <thead>\n",
       "    <tr style=\"text-align: right;\">\n",
       "      <th></th>\n",
       "      <th>0</th>\n",
       "      <th>1</th>\n",
       "      <th>2</th>\n",
       "      <th>3</th>\n",
       "    </tr>\n",
       "  </thead>\n",
       "  <tbody>\n",
       "    <tr>\n",
       "      <th>0</th>\n",
       "      <td>0.175278</td>\n",
       "      <td>0.798412</td>\n",
       "      <td>-0.288480</td>\n",
       "      <td>0.018721</td>\n",
       "    </tr>\n",
       "    <tr>\n",
       "      <th>1</th>\n",
       "      <td>-0.667435</td>\n",
       "      <td>0.421628</td>\n",
       "      <td>-0.002318</td>\n",
       "      <td>-0.581811</td>\n",
       "    </tr>\n",
       "    <tr>\n",
       "      <th>2</th>\n",
       "      <td>-0.291943</td>\n",
       "      <td>0.455635</td>\n",
       "      <td>0.045810</td>\n",
       "      <td>-0.378361</td>\n",
       "    </tr>\n",
       "    <tr>\n",
       "      <th>3</th>\n",
       "      <td>-1.328126</td>\n",
       "      <td>-1.597854</td>\n",
       "      <td>-0.724473</td>\n",
       "      <td>-0.618510</td>\n",
       "    </tr>\n",
       "    <tr>\n",
       "      <th>4</th>\n",
       "      <td>1.291938</td>\n",
       "      <td>0.000038</td>\n",
       "      <td>1.421131</td>\n",
       "      <td>1.708675</td>\n",
       "    </tr>\n",
       "  </tbody>\n",
       "</table>\n",
       "</div>"
      ],
      "text/plain": [
       "          0         1         2         3\n",
       "0  0.175278  0.798412 -0.288480  0.018721\n",
       "1 -0.667435  0.421628 -0.002318 -0.581811\n",
       "2 -0.291943  0.455635  0.045810 -0.378361\n",
       "3 -1.328126 -1.597854 -0.724473 -0.618510\n",
       "4  1.291938  0.000038  1.421131  1.708675"
      ]
     },
     "execution_count": 3,
     "metadata": {},
     "output_type": "execute_result"
    }
   ],
   "source": [
    "# Define mean vector and covariance matrix\n",
    "dim = 4\n",
    "random_mat = 2 * np.random.rand(dim, dim) - 1 # get a matrix\n",
    "random_cov_mat = np.dot(random_mat, random_mat.T) # make it pos semi-definite\n",
    "\n",
    "std_deviations = np.sqrt(np.diag(random_cov_mat))\n",
    "random_cor_mat = random_cov_mat / np.outer(std_deviations, std_deviations)\n",
    "    \n",
    "mean = np.zeros((dim,))  # Mean vector\n",
    "\n",
    "# Generate random samples from the multivariate normal distribution\n",
    "num_samples = 5000\n",
    "samples = np.random.multivariate_normal(mean, random_cov_mat, size=num_samples)\n",
    "\n",
    "sample_df = pd.DataFrame(samples)\n",
    "\n",
    "# Print the first few samples\n",
    "\n",
    "precision_matrix = np.linalg.inv(random_cov_mat)\n",
    "    \n",
    "# Calculate the partial correlation matrix\n",
    "partial_cor_mat = - precision_matrix / np.sqrt(np.outer(np.diag(precision_matrix), np.diag(precision_matrix)))\n",
    "    \n",
    "# Set diagonal elements to 1\n",
    "np.fill_diagonal(partial_cor_mat, 1)\n",
    "\n",
    "\n",
    "print(\"Cov mat\")\n",
    "print(random_cov_mat)\n",
    "\n",
    "print(\"Corr mat\")\n",
    "print(random_cor_mat)\n",
    "\n",
    "print(\"Partial corr mat\")\n",
    "print(partial_cor_mat)\n",
    "\n",
    "sample_df.head()"
   ]
  },
  {
   "cell_type": "code",
   "execution_count": 11,
   "id": "2077c1ae",
   "metadata": {},
   "outputs": [
    {
     "name": "stdout",
     "output_type": "stream",
     "text": [
      "[[ 1.          0.77289132  0.82567284  0.5860598 ]\n",
      " [ 0.77289132  1.         -0.67569273 -0.26306476]\n",
      " [ 0.82567284 -0.67569273  1.         -0.10943745]\n",
      " [ 0.5860598  -0.26306476 -0.10943745  1.        ]]\n"
     ]
    }
   ],
   "source": [
    "pearson_corr_df, pearson_corr_mat = partial_correlations(list(range(dim)), sample_df, \"pearson\")\n",
    "print(pearson_corr_mat)"
   ]
  },
  {
   "cell_type": "code",
   "execution_count": 12,
   "id": "b0568022",
   "metadata": {},
   "outputs": [
    {
     "name": "stdout",
     "output_type": "stream",
     "text": [
      "7\n",
      "[       -inf -1.33249301 -0.91784874 -0.50320447 -0.0885602   0.32608407\n",
      "  0.74072834         inf]\n",
      "9\n",
      "[       -inf -4.03282245 -2.98433953 -1.9358566  -0.88737368  0.16110925\n",
      "  1.20959217  2.2580751   3.30655802         inf]\n",
      "2\n",
      "[      -inf 0.49778988        inf]\n",
      "5\n",
      "[       -inf -0.28341825 -0.19380304 -0.10418783 -0.01457262         inf]\n"
     ]
    }
   ],
   "source": [
    "sample_df_ord = pd.DataFrame()\n",
    "\n",
    "for var in list(range(dim)):\n",
    "    num_ordinal_values = np.random.randint(2, 11)\n",
    "    # signed = np.random.rand() > 0.5\n",
    "    var_std = np.sqrt(random_cov_mat[var, var])\n",
    "\n",
    "    interval_spread = np.random.rand() * var_std\n",
    "    leftmost_border = interval_spread * ((num_ordinal_values - 2)/ 2) + (np.random.rand() - 0.5)\n",
    "    \n",
    "    print(num_ordinal_values)\n",
    "    cutoffs = interval_spread * np.arange(num_ordinal_values - 1) - leftmost_border\n",
    "    cutoffs = np.concatenate(([-np.inf], cutoffs, [np.inf]))\n",
    "    print(cutoffs)\n",
    "\n",
    "    sample_df_ord[var] = pd.cut(sample_df[var], bins=cutoffs, labels=np.arange(num_ordinal_values)).cat.codes"
   ]
  },
  {
   "cell_type": "code",
   "execution_count": 17,
   "id": "33f76e01",
   "metadata": {},
   "outputs": [
    {
     "data": {
      "text/plain": [
       "array([[ 1.        ,  0.53125325,  0.58348842,  0.63130475],\n",
       "       [ 0.53125325,  1.        , -0.27885483, -0.14230966],\n",
       "       [ 0.58348842, -0.27885483,  1.        , -0.01317824],\n",
       "       [ 0.63130475, -0.14230966, -0.01317824,  1.        ]])"
      ]
     },
     "execution_count": 17,
     "metadata": {},
     "output_type": "execute_result"
    }
   ],
   "source": [
    "spearman_corr_df, spearman_corr_mat = partial_correlations(list(range(dim)), sample_df_ord, \"spearman\")\n",
    "spearman_corr_mat"
   ]
  },
  {
   "cell_type": "code",
   "execution_count": 18,
   "id": "096e9083",
   "metadata": {},
   "outputs": [
    {
     "name": "stdout",
     "output_type": "stream",
     "text": [
      "[[ 1.          0.77289132  0.82567284  0.5860598 ]\n",
      " [ 0.77289132  1.         -0.67569273 -0.26306476]\n",
      " [ 0.82567284 -0.67569273  1.         -0.10943745]\n",
      " [ 0.5860598  -0.26306476 -0.10943745  1.        ]]\n"
     ]
    },
    {
     "data": {
      "text/plain": [
       "array([[ 1.        ,  0.77289132,  0.82567284,  0.5860598 ],\n",
       "       [ 0.77289132,  1.        , -0.67569273, -0.26306476],\n",
       "       [ 0.82567284, -0.67569273,  1.        , -0.10943745],\n",
       "       [ 0.5860598 , -0.26306476, -0.10943745,  1.        ]])"
      ]
     },
     "execution_count": 18,
     "metadata": {},
     "output_type": "execute_result"
    }
   ],
   "source": [
    "print(pearson_corr_mat)\n",
    "pearson_corr_mat"
   ]
  },
  {
   "cell_type": "code",
   "execution_count": 21,
   "id": "b3cea2ba",
   "metadata": {},
   "outputs": [
    {
     "data": {
      "text/plain": [
       "array([[1.        , 0.63795123, 0.91212742, 0.90798624],\n",
       "       [0.63795123, 1.        , 0.36949447, 0.49466769],\n",
       "       [0.91212742, 0.36949447, 1.        , 0.84505453],\n",
       "       [0.90798624, 0.49466769, 0.84505453, 1.        ]])"
      ]
     },
     "execution_count": 21,
     "metadata": {},
     "output_type": "execute_result"
    }
   ],
   "source": [
    "random_cor_mat"
   ]
  },
  {
   "cell_type": "code",
   "execution_count": 61,
   "id": "a8292b4f",
   "metadata": {},
   "outputs": [
    {
     "name": "stdout",
     "output_type": "stream",
     "text": [
      "0, 1 [2, 3]\n",
      "0, 2 [1, 3]\n",
      "0, 3 [1, 2]\n",
      "1, 2 [0, 3]\n",
      "1, 3 [0, 2]\n",
      "2, 3 [0, 1]\n"
     ]
    }
   ],
   "source": [
    "corr_dfs = []\n",
    "for i in range(len(vars)):\n",
    "    for j in range(i+1, len(vars)):\n",
    "        covar_list = vars[:i] + vars[i+1:j] + vars[j+1:]\n",
    "        print(f\"{vars[i]}, {vars[j]}\", covar_list)\n",
    "        corr_df = partial_corr(data=sample_df_ord, x=vars[i], y=vars[j], covar=covar_list, alternative='two-sided', method='spearman')\n",
    "        corr_df[\"x\"] = vars[i]\n",
    "        corr_df[\"y\"] = vars[j]\n",
    "        corr_dfs.append(corr_df)"
   ]
  },
  {
   "cell_type": "code",
   "execution_count": 51,
   "id": "1e1558ae",
   "metadata": {},
   "outputs": [],
   "source": [
    "corr_df = pd.concat(corr_dfs)"
   ]
  },
  {
   "cell_type": "code",
   "execution_count": 62,
   "id": "1fd768a2",
   "metadata": {},
   "outputs": [
    {
     "data": {
      "text/html": [
       "<div>\n",
       "<style scoped>\n",
       "    .dataframe tbody tr th:only-of-type {\n",
       "        vertical-align: middle;\n",
       "    }\n",
       "\n",
       "    .dataframe tbody tr th {\n",
       "        vertical-align: top;\n",
       "    }\n",
       "\n",
       "    .dataframe thead th {\n",
       "        text-align: right;\n",
       "    }\n",
       "</style>\n",
       "<table border=\"1\" class=\"dataframe\">\n",
       "  <thead>\n",
       "    <tr style=\"text-align: right;\">\n",
       "      <th></th>\n",
       "      <th>n</th>\n",
       "      <th>r</th>\n",
       "      <th>CI95%</th>\n",
       "      <th>p-val</th>\n",
       "      <th>x</th>\n",
       "      <th>y</th>\n",
       "    </tr>\n",
       "  </thead>\n",
       "  <tbody>\n",
       "    <tr>\n",
       "      <th>spearman</th>\n",
       "      <td>5000</td>\n",
       "      <td>-0.033487</td>\n",
       "      <td>[-0.06, -0.01]</td>\n",
       "      <td>0.017909</td>\n",
       "      <td>2</td>\n",
       "      <td>3</td>\n",
       "    </tr>\n",
       "  </tbody>\n",
       "</table>\n",
       "</div>"
      ],
      "text/plain": [
       "             n         r           CI95%     p-val  x  y\n",
       "spearman  5000 -0.033487  [-0.06, -0.01]  0.017909  2  3"
      ]
     },
     "execution_count": 62,
     "metadata": {},
     "output_type": "execute_result"
    }
   ],
   "source": [
    "corr_df"
   ]
  },
  {
   "cell_type": "code",
   "execution_count": null,
   "id": "b2d20f7d",
   "metadata": {},
   "outputs": [],
   "source": [
    "from data_metadata import load_gss_sas\n",
    "\n",
    "\n",
    "\n",
    "load_gss_sas(filename, vars_to_load, metadataonly=False)"
   ]
  }
 ],
 "metadata": {
  "kernelspec": {
   "display_name": "beliefs",
   "language": "python",
   "name": "beliefs"
  },
  "language_info": {
   "codemirror_mode": {
    "name": "ipython",
    "version": 3
   },
   "file_extension": ".py",
   "mimetype": "text/x-python",
   "name": "python",
   "nbconvert_exporter": "python",
   "pygments_lexer": "ipython3",
   "version": "3.12.3"
  }
 },
 "nbformat": 4,
 "nbformat_minor": 5
}
