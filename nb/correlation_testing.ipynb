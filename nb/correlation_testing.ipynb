{
 "cells": [
  {
   "cell_type": "code",
   "execution_count": 2,
   "id": "617c44a6",
   "metadata": {},
   "outputs": [],
   "source": [
    "%load_ext autoreload\n",
    "%autoreload 2\n",
    "\n",
    "import sys\n",
    "sys.path.append('../src')\n",
    "\n",
    "import numpy as np\n",
    "import pandas as pd\n",
    "from pingouin import partial_corr\n",
    "from pingouin import pairwise_corr\n",
    "\n",
    "from corr_networks import pairwise_correlations\n",
    "from corr_networks import pairwise_polychoric_correlations\n",
    "from corr_networks import precision_mat_to_partial_corr\n",
    "from corr_networks import cov_mat_to_regularized_partial_corr\n",
    "from corr_networks import my_pairwise_correlations\n",
    "\n",
    "from data_metadata import load_gss_sas "
   ]
  },
  {
   "cell_type": "code",
   "execution_count": 109,
   "id": "a0b952a2",
   "metadata": {},
   "outputs": [],
   "source": [
    "np.set_printoptions(precision=3)"
   ]
  },
  {
   "cell_type": "code",
   "execution_count": 81,
   "id": "cd5a991f",
   "metadata": {},
   "outputs": [
    {
     "name": "stdout",
     "output_type": "stream",
     "text": [
      "          0         1         2         3\n",
      "0  1.628361 -0.259324 -1.050410 -0.527896\n",
      "1  3.205095 -0.699433 -0.934915 -0.493218\n",
      "2  1.279144 -0.314402  0.753300  0.314517\n",
      "3  0.191228  0.125083  0.773049 -0.384813\n",
      "4  2.365126 -0.484185 -0.996463 -0.869565\n",
      "   0  1  2  3\n",
      "0  4  0  4  0\n",
      "1  4  0  4  0\n",
      "2  4  0  6  1\n",
      "3  4  4  6  0\n",
      "4  4  0  4  0\n",
      "Cov mat\n",
      "[[ 1.54695214 -0.26597986 -0.30160722 -0.3323204 ]\n",
      " [-0.26597986  0.09889098 -0.03375579 -0.10324549]\n",
      " [-0.30160722 -0.03375579  0.87176609  0.49419805]\n",
      " [-0.3323204  -0.10324549  0.49419805  0.76987995]]\n",
      "Corr mat\n",
      "[[ 1.         -0.68003609 -0.25971876 -0.30451385]\n",
      " [-0.68003609  1.         -0.11496614 -0.37418058]\n",
      " [-0.25971876 -0.11496614  1.          0.60323918]\n",
      " [-0.30451385 -0.37418058  0.60323918  1.        ]]\n",
      "Partial corr mat\n",
      "[[ 1.         -0.89846877  0.07968497 -0.76784893]\n",
      " [-0.89846877  1.          0.13712877 -0.79810409]\n",
      " [ 0.07968497  0.13712877  1.          0.44953927]\n",
      " [-0.76784893 -0.79810409  0.44953927  1.        ]]\n"
     ]
    }
   ],
   "source": [
    "# Define mean vector and covariance matrix\n",
    "dim = 4\n",
    "random_mat = 2 * np.random.rand(dim, dim) - 1 # get a matrix\n",
    "random_cov_mat = np.dot(random_mat, random_mat.T) # make it pos semi-definite\n",
    "\n",
    "std_deviations = np.sqrt(np.diag(random_cov_mat))\n",
    "random_cor_mat = random_cov_mat / np.outer(std_deviations, std_deviations)\n",
    "    \n",
    "mean = np.zeros((dim,))  # Mean vector\n",
    "\n",
    "# Generate random samples from the multivariate normal distribution\n",
    "num_samples = 5000\n",
    "samples = np.random.multivariate_normal(mean, random_cov_mat, size=num_samples)\n",
    "\n",
    "sample_df = pd.DataFrame(samples)\n",
    "\n",
    "# Print the first few samples\n",
    "\n",
    "precision_matrix = np.linalg.inv(random_cov_mat)\n",
    "partial_corr_mat = precision_mat_to_partial_corr(precision_matrix)\n",
    "\n",
    "sample_df_ord = pd.DataFrame()\n",
    "\n",
    "for var in list(range(dim)):\n",
    "    num_ordinal_values = np.random.randint(2, 11)\n",
    "    # signed = np.random.rand() > 0.5\n",
    "    var_std = np.sqrt(random_cov_mat[var, var])\n",
    "\n",
    "    interval_spread = np.random.rand() * var_std\n",
    "    leftmost_border = interval_spread * ((num_ordinal_values - 2)/ 2) + (np.random.rand() - 0.5)\n",
    "    \n",
    "    cutoffs = interval_spread * np.arange(num_ordinal_values - 1) - leftmost_border\n",
    "    cutoffs = np.concatenate(([-np.inf], cutoffs, [np.inf]))\n",
    "    sample_df_ord[var] = pd.cut(sample_df[var], bins=cutoffs, labels=np.arange(num_ordinal_values)).cat.codes\n",
    "\n",
    "\n",
    "print(sample_df.head())\n",
    "print(sample_df_ord.head())\n",
    "\n",
    "print(\"Cov mat\")\n",
    "print(random_cov_mat)\n",
    "\n",
    "print(\"Corr mat\")\n",
    "print(random_cor_mat)\n",
    "\n",
    "print(\"Partial corr mat\")\n",
    "print(partial_corr_mat)"
   ]
  },
  {
   "cell_type": "code",
   "execution_count": 101,
   "id": "126ea062",
   "metadata": {},
   "outputs": [
    {
     "name": "stdout",
     "output_type": "stream",
     "text": [
      "polychoric_partial_corr\n",
      "[[ 1.         -0.68614763 -0.06857862 -0.39751576]\n",
      " [-0.68614763  1.         -0.         -0.44634694]\n",
      " [-0.06857862 -0.          1.          0.43508295]\n",
      " [-0.39751576 -0.44634694  0.43508295  1.        ]]\n"
     ]
    }
   ],
   "source": [
    "# polychoric procedure \n",
    "polychoric_corr_mat = pairwise_polychoric_correlations([0, 1, 2, 3], sample_df_ord)\n",
    "polychoric_partial_corr_mat = cov_mat_to_regularized_partial_corr(polychoric_corr_mat, alpha=0.1)\n",
    "print(\"polychoric_partial_corr\")\n",
    "print(polychoric_partial_corr_mat)"
   ]
  },
  {
   "cell_type": "code",
   "execution_count": 96,
   "id": "42182753",
   "metadata": {},
   "outputs": [
    {
     "data": {
      "text/plain": [
       "array([[ 1.        , -0.8978681 ,  0.06998312, -0.7674722 ],\n",
       "       [-0.8978681 ,  1.        ,  0.12756936, -0.79385832],\n",
       "       [ 0.06998312,  0.12756936,  1.        ,  0.44069435],\n",
       "       [-0.7674722 , -0.79385832,  0.44069435,  1.        ]])"
      ]
     },
     "execution_count": 96,
     "metadata": {},
     "output_type": "execute_result"
    }
   ],
   "source": [
    "# pearson procedure 1 on original data\n",
    "my_pairwise_correlations(list(range(dim)), sample_df, method=\"pearson\")"
   ]
  },
  {
   "cell_type": "code",
   "execution_count": 98,
   "id": "80cd493c",
   "metadata": {},
   "outputs": [
    {
     "data": {
      "text/plain": [
       "array([[ 1.        , -0.8978681 ,  0.06998312, -0.7674722 ],\n",
       "       [-0.8978681 ,  1.        ,  0.12756936, -0.79385832],\n",
       "       [ 0.06998312,  0.12756936,  1.        ,  0.44069435],\n",
       "       [-0.7674722 , -0.79385832,  0.44069435,  1.        ]])"
      ]
     },
     "execution_count": 98,
     "metadata": {},
     "output_type": "execute_result"
    }
   ],
   "source": [
    "# pearson procedure 2 on original data\n",
    "pearson_corr_df, pearson_corr_mat = pairwise_correlations(list(range(dim)), sample_df, \"pearson\")\n",
    "pearson_corr_mat"
   ]
  },
  {
   "cell_type": "code",
   "execution_count": 89,
   "id": "c8981f89",
   "metadata": {},
   "outputs": [
    {
     "data": {
      "text/plain": [
       "array([[ 1.        , -0.85919144,  0.01690616, -0.69490074],\n",
       "       [-0.85919144,  1.        ,  0.079675  , -0.72644659],\n",
       "       [ 0.01690616,  0.079675  ,  1.        ,  0.42953566],\n",
       "       [-0.69490074, -0.72644659,  0.42953566,  1.        ]])"
      ]
     },
     "execution_count": 89,
     "metadata": {},
     "output_type": "execute_result"
    }
   ],
   "source": [
    "# spearman procedure 1 on original data\n",
    "my_pairwise_correlations(list(range(dim)), sample_df, method=\"spearman\")"
   ]
  },
  {
   "cell_type": "code",
   "execution_count": 93,
   "id": "e5277032",
   "metadata": {},
   "outputs": [
    {
     "data": {
      "text/plain": [
       "array([[ 1.        , -0.85919144,  0.01690616, -0.69490074],\n",
       "       [-0.85919144,  1.        ,  0.079675  , -0.72644659],\n",
       "       [ 0.01690616,  0.079675  ,  1.        ,  0.42953566],\n",
       "       [-0.69490074, -0.72644659,  0.42953566,  1.        ]])"
      ]
     },
     "execution_count": 93,
     "metadata": {},
     "output_type": "execute_result"
    }
   ],
   "source": [
    "# spearman procedure 2 on original data\n",
    "spearman_corr_df, spearman_corr_mat = pairwise_correlations(list(range(dim)), sample_df, \"spearman\")\n",
    "spearman_corr_mat"
   ]
  },
  {
   "cell_type": "code",
   "execution_count": 91,
   "id": "7991b81d",
   "metadata": {},
   "outputs": [
    {
     "data": {
      "text/plain": [
       "array([[ 1.        , -0.6166378 , -0.10222241, -0.36117204],\n",
       "       [-0.6166378 ,  1.        , -0.00269639, -0.4182649 ],\n",
       "       [-0.10222241, -0.00269639,  1.        ,  0.4415108 ],\n",
       "       [-0.36117204, -0.4182649 ,  0.4415108 ,  1.        ]])"
      ]
     },
     "execution_count": 91,
     "metadata": {},
     "output_type": "execute_result"
    }
   ],
   "source": [
    "# spearman procedure 1 on ordinalized data\n",
    "my_pairwise_correlations(list(range(dim)), sample_df_ord, method=\"spearman\")"
   ]
  },
  {
   "cell_type": "code",
   "execution_count": 92,
   "id": "10263133",
   "metadata": {},
   "outputs": [
    {
     "data": {
      "text/plain": [
       "array([[ 1.        , -0.6166378 , -0.10222241, -0.36117204],\n",
       "       [-0.6166378 ,  1.        , -0.00269639, -0.4182649 ],\n",
       "       [-0.10222241, -0.00269639,  1.        ,  0.4415108 ],\n",
       "       [-0.36117204, -0.4182649 ,  0.4415108 ,  1.        ]])"
      ]
     },
     "execution_count": 92,
     "metadata": {},
     "output_type": "execute_result"
    }
   ],
   "source": [
    "# spearman procedure 2 on ordinalized data\n",
    "spearman_corr_df, spearman_corr_mat = pairwise_correlations(list(range(dim)), sample_df_ord, \"spearman\")\n",
    "spearman_corr_mat\n"
   ]
  },
  {
   "cell_type": "code",
   "execution_count": 3,
   "id": "d36cd943",
   "metadata": {},
   "outputs": [],
   "source": [
    "gss_file = \"C:/Users/vicvi/big-datasets/social_values/GSS_sas/gss7222_r3.sas7bdat\"\n",
    "variable_list = [\"VOTE68\", \"VOTE72\", \"PARTYID\", \"POLVIEWS\", \"HOMOSEX\", \"NATENRGY\", \"AFFRMACT\", \"CONJUDGE\", \"HELPPOOR\", \"NATSPAC\", \"NATENVIR\", \"NATCITY\", \"NATDRUG\"]\n",
    "\n",
    "df, meta = load_gss_sas(gss_file, variable_list)"
   ]
  },
  {
   "cell_type": "code",
   "execution_count": 157,
   "id": "a8d5543f",
   "metadata": {},
   "outputs": [
    {
     "name": "stdout",
     "output_type": "stream",
     "text": [
      "            VOTE68   PARTYID  POLVIEWS   HOMOSEX  NATENRGY  AFFRMACT  \\\n",
      "VOTE68    1.000000  0.051568       NaN  0.080867       NaN       NaN   \n",
      "PARTYID   0.051568  1.000000  0.387075 -0.083713  0.226117  0.262673   \n",
      "POLVIEWS       NaN  0.387075  1.000000 -0.282770  0.280324  0.237890   \n",
      "HOMOSEX   0.080867 -0.083713 -0.282770  1.000000 -0.187196 -0.089864   \n",
      "NATENRGY       NaN  0.226117  0.280324 -0.187196  1.000000  0.095734   \n",
      "AFFRMACT       NaN  0.262673  0.237890 -0.089864  0.095734  1.000000   \n",
      "CONJUDGE -0.054491 -0.026190 -0.003245 -0.029414 -0.038925 -0.038012   \n",
      "HELPPOOR       NaN  0.306078  0.283892 -0.093198  0.188198  0.269168   \n",
      "NATSPAC   0.057836 -0.117738 -0.004816 -0.201215  0.095704 -0.024902   \n",
      "NATENVIR -0.074510  0.157388  0.230077 -0.183861  0.398716  0.132512   \n",
      "NATCITY  -0.106682  0.151537  0.166147 -0.091848  0.213761  0.135285   \n",
      "NATDRUG   0.049842  0.099848  0.057658  0.036699  0.124395  0.098139   \n",
      "\n",
      "          CONJUDGE  HELPPOOR   NATSPAC  NATENVIR   NATCITY   NATDRUG  \n",
      "VOTE68   -0.054491       NaN  0.057836 -0.074510 -0.106682  0.049842  \n",
      "PARTYID  -0.026190  0.306078 -0.117738  0.157388  0.151537  0.099848  \n",
      "POLVIEWS -0.003245  0.283892 -0.004816  0.230077  0.166147  0.057658  \n",
      "HOMOSEX  -0.029414 -0.093198 -0.201215 -0.183861 -0.091848  0.036699  \n",
      "NATENRGY -0.038925  0.188198  0.095704  0.398716  0.213761  0.124395  \n",
      "AFFRMACT -0.038012  0.269168 -0.024902  0.132512  0.135285  0.098139  \n",
      "CONJUDGE  1.000000 -0.057360  0.079916  0.010957  0.005599 -0.022827  \n",
      "HELPPOOR -0.057360  1.000000 -0.089800  0.192018  0.201156  0.134800  \n",
      "NATSPAC   0.079916 -0.089800  1.000000  0.056216 -0.051055 -0.061980  \n",
      "NATENVIR  0.010957  0.192018  0.056216  1.000000  0.229288  0.137154  \n",
      "NATCITY   0.005599  0.201156 -0.051055  0.229288  1.000000  0.218186  \n",
      "NATDRUG  -0.022827  0.134800 -0.061980  0.137154  0.218186  1.000000  \n",
      "[4 0 1 0 1 1 0 1 0 0 0 0]\n",
      "0\n",
      "['VOTE68', 'PARTYID', 'POLVIEWS', 'HOMOSEX', 'NATENRGY', 'AFFRMACT', 'CONJUDGE', 'HELPPOOR', 'NATSPAC', 'NATENVIR', 'NATCITY', 'NATDRUG']\n",
      "['VOTE68', 'PARTYID', 'POLVIEWS', 'HOMOSEX', 'NATENRGY', 'AFFRMACT', 'CONJUDGE', 'HELPPOOR', 'NATSPAC', 'NATENVIR', 'NATCITY', 'NATDRUG']\n",
      "[[ 1.     0.273  0.026  0.111  0.147  0.003  0.158 -0.112  0.003  0.025\n",
      "   0.025]\n",
      " [ 0.273  1.    -0.223  0.126  0.104  0.015  0.124 -0.02   0.064  0.036\n",
      "  -0.021]\n",
      " [ 0.026 -0.223  1.    -0.064 -0.024 -0.017 -0.015 -0.192 -0.086 -0.039\n",
      "   0.072]\n",
      " [ 0.111  0.126 -0.064  1.    -0.041 -0.053  0.046  0.103  0.31   0.097\n",
      "   0.054]\n",
      " [ 0.147  0.104 -0.024 -0.041  1.    -0.029  0.165  0.014  0.043  0.047\n",
      "   0.044]\n",
      " [ 0.003  0.015 -0.017 -0.053 -0.029  1.    -0.044  0.073  0.028  0.025\n",
      "  -0.011]\n",
      " [ 0.158  0.124 -0.015  0.046  0.165 -0.044  1.    -0.07   0.068  0.094\n",
      "   0.059]\n",
      " [-0.112 -0.02  -0.192  0.103  0.014  0.073 -0.07   1.     0.027 -0.056\n",
      "  -0.037]\n",
      " [ 0.003  0.064 -0.086  0.31   0.043  0.028  0.068  0.027  1.     0.117\n",
      "   0.067]\n",
      " [ 0.025  0.036 -0.039  0.097  0.047  0.025  0.094 -0.056  0.117  1.\n",
      "   0.17 ]\n",
      " [ 0.025 -0.021  0.072  0.054  0.044 -0.011  0.059 -0.037  0.067  0.17\n",
      "   1.   ]]\n"
     ]
    }
   ],
   "source": [
    "vars, corr_mat = my_pairwise_correlations(variable_list, df, method=\"spearman\")\n",
    "print(variable_list)\n",
    "print(vars)\n",
    "print(corr_mat)"
   ]
  },
  {
   "cell_type": "code",
   "execution_count": 5,
   "id": "ffcaefca",
   "metadata": {},
   "outputs": [
    {
     "name": "stdout",
     "output_type": "stream",
     "text": [
      "[[ 1.          0.49947949  0.05156841         nan  0.080867           nan\n",
      "          nan -0.05449085]\n",
      " [ 0.49947949  1.         -0.00756989 -0.05765403 -0.03853483         nan\n",
      "          nan  0.00397666]\n",
      " [ 0.05156841 -0.00756989  1.          0.38707504 -0.08371342  0.2261172\n",
      "   0.26267347 -0.02618952]\n",
      " [        nan -0.05765403  0.38707504  1.         -0.28277007  0.28032371\n",
      "   0.23788984 -0.00324458]\n",
      " [ 0.080867   -0.03853483 -0.08371342 -0.28277007  1.         -0.18719565\n",
      "  -0.0898642  -0.02941421]\n",
      " [        nan         nan  0.2261172   0.28032371 -0.18719565  1.\n",
      "   0.09573424 -0.0389247 ]\n",
      " [        nan         nan  0.26267347  0.23788984 -0.0898642   0.09573424\n",
      "   1.         -0.03801178]\n",
      " [-0.05449085  0.00397666 -0.02618952 -0.00324458 -0.02941421 -0.0389247\n",
      "  -0.03801178  1.        ]]\n",
      "['VOTE68', 'VOTE72', 'PARTYID', 'POLVIEWS', 'HOMOSEX', 'NATENRGY', 'AFFRMACT', 'CONJUDGE']\n",
      "['PARTYID', 'POLVIEWS', 'HOMOSEX', 'NATENRGY', 'AFFRMACT', 'CONJUDGE']\n",
      "[[ 1.00000000e+00  3.11129040e-01  4.96732056e-02  1.33713132e-01\n",
      "   1.88681490e-01 -1.34369578e-02]\n",
      " [ 3.11129040e-01  1.00000000e+00 -2.37532971e-01  1.74978850e-01\n",
      "   1.37215352e-01  1.06595568e-02]\n",
      " [ 4.96732056e-02 -2.37532971e-01  1.00000000e+00 -1.23397173e-01\n",
      "  -3.10904939e-02 -3.66331720e-02]\n",
      " [ 1.33713132e-01  1.74978850e-01 -1.23397173e-01  1.00000000e+00\n",
      "   9.07698388e-04 -4.03835289e-02]\n",
      " [ 1.88681490e-01  1.37215352e-01 -3.10904939e-02  9.07698388e-04\n",
      "   1.00000000e+00 -3.47258679e-02]\n",
      " [-1.34369578e-02  1.06595568e-02 -3.66331720e-02 -4.03835289e-02\n",
      "  -3.47258679e-02  1.00000000e+00]]\n"
     ]
    }
   ],
   "source": [
    "vars, corr_mat = my_pairwise_correlations([\"VOTE68\", \"VOTE72\", \"PARTYID\", \"POLVIEWS\", \"HOMOSEX\", \"NATENRGY\", \"AFFRMACT\", \"CONJUDGE\"], df, method=\"spearman\")\n",
    "print([\"VOTE68\", \"VOTE72\",  \"PARTYID\", \"POLVIEWS\", \"HOMOSEX\", \"NATENRGY\", \"AFFRMACT\", \"CONJUDGE\"])\n",
    "print(vars)\n",
    "print(corr_mat)"
   ]
  },
  {
   "cell_type": "code",
   "execution_count": 118,
   "id": "4f9543a8",
   "metadata": {},
   "outputs": [
    {
     "name": "stdout",
     "output_type": "stream",
     "text": [
      "[[ 1.     0.07  -0.057 -0.061]\n",
      " [ 0.07   1.     0.209  0.095]\n",
      " [-0.057  0.209  1.     0.186]\n",
      " [-0.061  0.095  0.186  1.   ]]\n"
     ]
    }
   ],
   "source": [
    "corr_df, corr_mat = pairwise_correlations([\"NATSPAC\", \"NATENVIR\", \"NATCITY\", \"NATDRUG\"], df, method=\"spearman\")\n",
    "print(corr_mat)"
   ]
  },
  {
   "cell_type": "code",
   "execution_count": 132,
   "id": "34461898",
   "metadata": {},
   "outputs": [],
   "source": [
    "arr = np.arange(16).reshape(4, 4).astype(float)\n",
    "arr[2, 3] = np.nan\n",
    "arr[1, 1] = np.nan"
   ]
  },
  {
   "cell_type": "code",
   "execution_count": 133,
   "id": "c8d37f67",
   "metadata": {},
   "outputs": [
    {
     "data": {
      "text/plain": [
       "array([[ 0.,  1.,  2.,  3.],\n",
       "       [ 4., nan,  6.,  7.],\n",
       "       [ 8.,  9., 10., nan],\n",
       "       [12., 13., 14., 15.]])"
      ]
     },
     "execution_count": 133,
     "metadata": {},
     "output_type": "execute_result"
    }
   ],
   "source": [
    "arr"
   ]
  },
  {
   "cell_type": "code",
   "execution_count": 147,
   "id": "ba87d09e",
   "metadata": {},
   "outputs": [],
   "source": [
    "rows_to_keep = np.where(~np.bitwise_or.reduce(np.isnan(arr), axis=1))[0].reshape(-1, 1)"
   ]
  },
  {
   "cell_type": "code",
   "execution_count": 146,
   "id": "51f18705",
   "metadata": {},
   "outputs": [],
   "source": [
    "cols_to_keep = np.where(~np.bitwise_or.reduce(np.isnan(arr), axis=1))[0].reshape(1, -1)"
   ]
  },
  {
   "cell_type": "code",
   "execution_count": 148,
   "id": "7fea5067",
   "metadata": {},
   "outputs": [
    {
     "data": {
      "text/plain": [
       "array([[ 0.,  3.],\n",
       "       [12., 15.]])"
      ]
     },
     "execution_count": 148,
     "metadata": {},
     "output_type": "execute_result"
    }
   ],
   "source": [
    "arr[rows_to_keep,cols_to_keep]"
   ]
  },
  {
   "cell_type": "code",
   "execution_count": null,
   "id": "a1d7432f",
   "metadata": {},
   "outputs": [],
   "source": []
  }
 ],
 "metadata": {
  "kernelspec": {
   "display_name": "beliefs",
   "language": "python",
   "name": "beliefs"
  },
  "language_info": {
   "codemirror_mode": {
    "name": "ipython",
    "version": 3
   },
   "file_extension": ".py",
   "mimetype": "text/x-python",
   "name": "python",
   "nbconvert_exporter": "python",
   "pygments_lexer": "ipython3",
   "version": "3.12.3"
  }
 },
 "nbformat": 4,
 "nbformat_minor": 5
}
